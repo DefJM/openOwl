{
 "cells": [
  {
   "cell_type": "markdown",
   "metadata": {},
   "source": [
    "# Github comments sentiment analysis\n",
    "\n",
    "- Option 1: Use [Detoxify model](https://github.com/unitaryai/detoxify)\n",
    "- Option 2: Use LLM (Claude 3.5 Haiku) to assess toxicity\n",
    "- Option 3: Use multi-step LLM assessment, i.e. first toxicity assessment, then sequentially review the toxicity and validate accross batch? "
   ]
  },
  {
   "cell_type": "code",
   "execution_count": 3,
   "metadata": {},
   "outputs": [
    {
     "data": {
      "text/plain": [
       "True"
      ]
     },
     "execution_count": 3,
     "metadata": {},
     "output_type": "execute_result"
    }
   ],
   "source": [
    "import os\n",
    "from pathlib import Path\n",
    "\n",
    "import matplotlib.pyplot as plt\n",
    "import pandas as pd\n",
    "import plotly.graph_objects as go\n",
    "from dotenv import load_dotenv\n",
    "from tinydb import Query, TinyDB\n",
    "from tqdm import tqdm\n",
    "\n",
    "from openowl.clients import OpenOwlClient\n",
    "from openowl.gh_llm import get_issue_summarization\n",
    "from openowl.gh_sentiment_analysis import get_toxicity_scores_detoxify, filter_issues_by_dependency, update_toxicity_scores_llm, create_toxicity_dataframe\n",
    "\n",
    "from openowl.logger_config import setup_logger\n",
    "from openowl.utils import extract_github_info, sort_version_list\n",
    "\n",
    "logger = setup_logger(__name__)\n",
    "load_dotenv()"
   ]
  },
  {
   "cell_type": "code",
   "execution_count": 4,
   "metadata": {},
   "outputs": [],
   "source": [
    "PROJECT_ROOT = Path().absolute().parent"
   ]
  },
  {
   "cell_type": "code",
   "execution_count": 6,
   "metadata": {},
   "outputs": [
    {
     "name": "stderr",
     "output_type": "stream",
     "text": [
      "2024-12-22 22:09:32,643 - __main__ - INFO - No version provided, took the latest version: 2.10.4\n"
     ]
    }
   ],
   "source": [
    "# Define package info\n",
    "package_manager=\"pypi\"\n",
    "github_url=\"https://github.com/pydantic/pydantic\"\n",
    "package_version=None\n",
    "debug=True\n",
    "\n",
    "# extract package info from github url\n",
    "package_owner, package_name = extract_github_info(github_url)\n",
    "\n",
    "# if no version is provided, get latest version\n",
    "if package_version is None:\n",
    "    oowl_client = OpenOwlClient()\n",
    "    package_versions = oowl_client.get_package_versions(\n",
    "        package_manager, package_name\n",
    "    )\n",
    "    package_versions = sort_version_list(package_versions)\n",
    "    package_version = package_versions[0]\n",
    "    logger.info(f\"No version provided, took the latest version: {package_version}\")\n",
    "\n",
    "dependency = {\n",
    "    \"package_manager\": package_manager,\n",
    "    \"owner\": package_owner,\n",
    "    \"name\": package_name,\n",
    "    \"version\": package_version,\n",
    "}\n",
    "\n",
    "# Initialize/load TinyDB\n",
    "if PROJECT_ROOT:\n",
    "    db = TinyDB(Path(PROJECT_ROOT / os.environ.get(\"PATH_DB\")))\n",
    "else:\n",
    "    db = TinyDB(Path(os.environ.get(\"PATH_DB\")))\n",
    "dependencies_table = db.table(\"dependencies\")\n",
    "issues_table = db.table(\"issues\")\n",
    "issue_dependency_table = db.table(\"issue_dependency\")"
   ]
  },
  {
   "cell_type": "markdown",
   "metadata": {},
   "source": [
    "## Option 1: Use Detoxify model\n",
    "\n",
    "- We use the [Detoxify model \"original\"](https://github.com/unitaryai/detoxify) to assess the toxicity of the comments."
   ]
  },
  {
   "cell_type": "code",
   "execution_count": 7,
   "metadata": {},
   "outputs": [
    {
     "name": "stderr",
     "output_type": "stream",
     "text": [
      "Analyzing comment toxicity: 100%|██████████| 78/78 [00:05<00:00, 15.43it/s]\n"
     ]
    }
   ],
   "source": [
    "# get toxicity scores, add them to the issues table and obtain dataframe\n",
    "comments_df = get_toxicity_scores_detoxify(issues_table)"
   ]
  },
  {
   "cell_type": "code",
   "execution_count": 8,
   "metadata": {},
   "outputs": [
    {
     "name": "stdout",
     "output_type": "stream",
     "text": [
      "Number of comments: 78\n",
      "Time range: 2024-12-01 13:05 to 2024-12-08 05:58\n"
     ]
    }
   ],
   "source": [
    "print(f\"Number of comments: {len(comments_df)}\")\n",
    "\n",
    "comments_df['datetime'] = pd.to_datetime(comments_df['datetime'])\n",
    "print(f\"Time range: {comments_df['datetime'].min().strftime(\n",
    "    '%Y-%m-%d %H:%M')} to {comments_df['datetime'].max().strftime('%Y-%m-%d %H:%M')}\")"
   ]
  },
  {
   "cell_type": "code",
   "execution_count": 9,
   "metadata": {},
   "outputs": [
    {
     "data": {
      "text/html": [
       "<div>\n",
       "<style scoped>\n",
       "    .dataframe tbody tr th:only-of-type {\n",
       "        vertical-align: middle;\n",
       "    }\n",
       "\n",
       "    .dataframe tbody tr th {\n",
       "        vertical-align: top;\n",
       "    }\n",
       "\n",
       "    .dataframe thead th {\n",
       "        text-align: right;\n",
       "    }\n",
       "</style>\n",
       "<table border=\"1\" class=\"dataframe\">\n",
       "  <thead>\n",
       "    <tr style=\"text-align: right;\">\n",
       "      <th></th>\n",
       "      <th>datetime</th>\n",
       "      <th>issue_id</th>\n",
       "      <th>comment_details</th>\n",
       "      <th>author_association</th>\n",
       "      <th>user</th>\n",
       "      <th>toxicity</th>\n",
       "      <th>severe_toxicity</th>\n",
       "      <th>obscene</th>\n",
       "      <th>threat</th>\n",
       "      <th>insult</th>\n",
       "      <th>identity_attack</th>\n",
       "    </tr>\n",
       "  </thead>\n",
       "  <tbody>\n",
       "    <tr>\n",
       "      <th>43</th>\n",
       "      <td>2024-12-01 13:05:40+00:00</td>\n",
       "      <td>2709132946</td>\n",
       "      <td>## [CodSpeed Performance Report](https://codsp...</td>\n",
       "      <td>NONE</td>\n",
       "      <td>codspeed-hq[bot]</td>\n",
       "      <td>0.000805</td>\n",
       "      <td>0.000107</td>\n",
       "      <td>0.000187</td>\n",
       "      <td>0.000113</td>\n",
       "      <td>0.000178</td>\n",
       "      <td>0.000136</td>\n",
       "    </tr>\n",
       "    <tr>\n",
       "      <th>44</th>\n",
       "      <td>2024-12-01 13:08:37+00:00</td>\n",
       "      <td>2709132946</td>\n",
       "      <td>## Coverage report\\n\\n\\n&lt;img title=\"Coverage f...</td>\n",
       "      <td>CONTRIBUTOR</td>\n",
       "      <td>github-actions[bot]</td>\n",
       "      <td>0.001093</td>\n",
       "      <td>0.000105</td>\n",
       "      <td>0.000222</td>\n",
       "      <td>0.000114</td>\n",
       "      <td>0.000185</td>\n",
       "      <td>0.000137</td>\n",
       "    </tr>\n",
       "    <tr>\n",
       "      <th>45</th>\n",
       "      <td>2024-12-01 14:47:25+00:00</td>\n",
       "      <td>2709132946</td>\n",
       "      <td>please review (and thank you ❤️ )</td>\n",
       "      <td>NONE</td>\n",
       "      <td>thejcannon</td>\n",
       "      <td>0.000547</td>\n",
       "      <td>0.000132</td>\n",
       "      <td>0.000187</td>\n",
       "      <td>0.000135</td>\n",
       "      <td>0.000175</td>\n",
       "      <td>0.000142</td>\n",
       "    </tr>\n",
       "    <tr>\n",
       "      <th>46</th>\n",
       "      <td>2024-12-01 19:04:06+00:00</td>\n",
       "      <td>2709128734</td>\n",
       "      <td>Thanks for the report. While we can accept the...</td>\n",
       "      <td>MEMBER</td>\n",
       "      <td>Viicos</td>\n",
       "      <td>0.000696</td>\n",
       "      <td>0.000118</td>\n",
       "      <td>0.000199</td>\n",
       "      <td>0.000115</td>\n",
       "      <td>0.000172</td>\n",
       "      <td>0.000138</td>\n",
       "    </tr>\n",
       "    <tr>\n",
       "      <th>47</th>\n",
       "      <td>2024-12-01 19:14:37+00:00</td>\n",
       "      <td>2709128734</td>\n",
       "      <td>&gt; We first generate the JSON Schema for the in...</td>\n",
       "      <td>NONE</td>\n",
       "      <td>thejcannon</td>\n",
       "      <td>0.000739</td>\n",
       "      <td>0.000115</td>\n",
       "      <td>0.000189</td>\n",
       "      <td>0.000120</td>\n",
       "      <td>0.000176</td>\n",
       "      <td>0.000139</td>\n",
       "    </tr>\n",
       "  </tbody>\n",
       "</table>\n",
       "</div>"
      ],
      "text/plain": [
       "                    datetime    issue_id  \\\n",
       "43 2024-12-01 13:05:40+00:00  2709132946   \n",
       "44 2024-12-01 13:08:37+00:00  2709132946   \n",
       "45 2024-12-01 14:47:25+00:00  2709132946   \n",
       "46 2024-12-01 19:04:06+00:00  2709128734   \n",
       "47 2024-12-01 19:14:37+00:00  2709128734   \n",
       "\n",
       "                                      comment_details author_association  \\\n",
       "43  ## [CodSpeed Performance Report](https://codsp...               NONE   \n",
       "44  ## Coverage report\\n\\n\\n<img title=\"Coverage f...        CONTRIBUTOR   \n",
       "45                  please review (and thank you ❤️ )               NONE   \n",
       "46  Thanks for the report. While we can accept the...             MEMBER   \n",
       "47  > We first generate the JSON Schema for the in...               NONE   \n",
       "\n",
       "                   user  toxicity  severe_toxicity   obscene    threat  \\\n",
       "43     codspeed-hq[bot]  0.000805         0.000107  0.000187  0.000113   \n",
       "44  github-actions[bot]  0.001093         0.000105  0.000222  0.000114   \n",
       "45           thejcannon  0.000547         0.000132  0.000187  0.000135   \n",
       "46               Viicos  0.000696         0.000118  0.000199  0.000115   \n",
       "47           thejcannon  0.000739         0.000115  0.000189  0.000120   \n",
       "\n",
       "      insult  identity_attack  \n",
       "43  0.000178         0.000136  \n",
       "44  0.000185         0.000137  \n",
       "45  0.000175         0.000142  \n",
       "46  0.000172         0.000138  \n",
       "47  0.000176         0.000139  "
      ]
     },
     "execution_count": 9,
     "metadata": {},
     "output_type": "execute_result"
    }
   ],
   "source": [
    "comments_df.head()"
   ]
  },
  {
   "cell_type": "code",
   "execution_count": 13,
   "metadata": {},
   "outputs": [
    {
     "data": {
      "text/plain": [
       "<matplotlib.colorbar.Colorbar at 0x1627a9070>"
      ]
     },
     "execution_count": 13,
     "metadata": {},
     "output_type": "execute_result"
    },
    {
     "data": {
      "image/png": "[encoded data removed]",
      "text/plain": [
       "<Figure size 1500x500 with 2 Axes>"
      ]
     },
     "metadata": {},
     "output_type": "display_data"
    }
   ],
   "source": [
    "# plot toxicity over time\n",
    "\n",
    "plt.figure(figsize=(15,5))\n",
    "plt.scatter(comments_df[\"datetime\"], comments_df[\"toxicity\"], \n",
    "           c=comments_df[\"toxicity\"], cmap='RdYlGn_r', \n",
    "           marker='o')\n",
    "plt.colorbar(label='Toxicity Score')"
   ]
  },
  {
   "cell_type": "markdown",
   "metadata": {},
   "source": [
    "hmm. the above graph and assessment doesn't really look right. Way too noisy and it's unclear what the threshold for toxic commetents should be. \n",
    "\n",
    "---"
   ]
  },
  {
   "cell_type": "markdown",
   "metadata": {},
   "source": [
    "## Option 2: Use LLM based toxicity assessment"
   ]
  },
  {
   "cell_type": "code",
   "execution_count": 16,
   "metadata": {},
   "outputs": [
    {
     "name": "stderr",
     "output_type": "stream",
     "text": [
      "Analyzing comment toxicity:   0%|          | 0/78 [00:00<?, ?it/s]2024-12-21 23:01:18,735 - openowl.gh_sentiment_analysis - INFO - {'toxicity_score': '1', 'toxicity_rationale': 'The comment \"/preview\" appears to be a neutral command or request, likely related to a technical function or preview feature. There are no negative, hostile, or inflammatory elements present. It seems to be a standard, professional interaction without any toxic language or intent.'}\n",
      "Analyzing comment toxicity:   1%|▏         | 1/78 [00:02<02:50,  2.21s/it]2024-12-21 23:01:21,742 - openowl.gh_sentiment_analysis - INFO - {'toxicity_score': '1', 'toxicity_rationale': 'The comment is a polite, constructive inquiry about code design. It shows collaborative intent, asks for input, and uses a respectful tone without any negative language or hostility. This is a typical example of professional, helpful communication in a software development context.'}\n",
      "Analyzing comment toxicity:   3%|▎         | 2/78 [00:05<03:23,  2.68s/it]2024-12-21 23:01:23,747 - openowl.gh_sentiment_analysis - INFO - {'toxicity_score': '1', 'toxicity_rationale': 'The comment \"take\" is extremely short and lacks context, but does not appear to contain any inherently toxic language or hostile intent. It seems like an incomplete or fragment comment that cannot be definitively classified as toxic.'}\n",
      "Analyzing comment toxicity:   4%|▍         | 3/78 [00:07<02:57,  2.37s/it]2024-12-21 23:01:26,834 - openowl.gh_sentiment_analysis - INFO - {'toxicity_score': '1', 'toxicity_rationale': 'This is a completely neutral, technical deployment status update from a CI/CD system. The comment contains purely informational content about a successful documentation deployment, with commit details, status, and preview URLs. There is no negative language, hostility, or toxic elements present.'}\n",
      "Analyzing comment toxicity:   5%|▌         | 4/78 [00:10<03:16,  2.65s/it]2024-12-21 23:01:29,804 - openowl.gh_sentiment_analysis - INFO - {'toxicity_score': '1', 'toxicity_rationale': 'This is a completely neutral, professional performance report comment containing technical information about benchmark results. The comment uses clear formatting, provides objective data, and shows no signs of negativity, hostility, or personal attacks. It appears to be a standard technical update about code performance comparison.'}\n",
      "Analyzing comment toxicity:   6%|▋         | 5/78 [00:13<03:22,  2.77s/it]2024-12-21 23:01:32,779 - openowl.gh_sentiment_analysis - INFO - {'toxicity_score': '1', 'toxicity_rationale': 'The comment is a highly constructive, detailed technical explanation providing clear problem description, code example, and solution for a Pydantic validation issue. It is professional, informative, and helpful without any negative language or hostile tone.'}\n",
      "Analyzing comment toxicity:   8%|▊         | 6/78 [00:16<03:24,  2.84s/it]2024-12-21 23:01:35,991 - openowl.gh_sentiment_analysis - INFO - {'toxicity_score': '1', 'toxicity_rationale': 'The comment is a detailed, technical explanation providing clear guidance and solution to a specific Pydantic validation issue. It is professional, constructive, and offers helpful code examples without any negative language or hostility. The response appears to be a genuine attempt to assist another developer in resolving a technical problem.'}\n",
      "Analyzing comment toxicity:   9%|▉         | 7/78 [00:19<03:30,  2.96s/it]2024-12-21 23:01:39,231 - openowl.gh_sentiment_analysis - INFO - {'toxicity_score': '1', 'toxicity_rationale': 'The comment is a professional, constructive technical explanation that provides clear insight into the issue, offers a specific solution, and maintains a respectful, helpful tone. It demonstrates expertise without any negative language, personal attacks, or hostile sentiment.'}\n",
      "Analyzing comment toxicity:  10%|█         | 8/78 [00:22<03:33,  3.05s/it]2024-12-21 23:01:42,553 - openowl.gh_sentiment_analysis - INFO - {'toxicity_score': '1', 'toxicity_rationale': 'This is a highly technical, constructive comment that provides detailed explanation, code examples, and helpful context about Pydantic type implementation. The comment is professional, informative, and aims to clarify potential misunderstandings without any negative language or hostile tone. It offers specific technical insights and even suggests a potential solution to an implementation issue.'}\n",
      "Analyzing comment toxicity:  12%|█▏        | 9/78 [00:26<03:36,  3.13s/it]2024-12-21 23:01:46,902 - openowl.gh_sentiment_analysis - INFO - {'toxicity_score': '1', 'toxicity_rationale': 'The comment is a clear, professional, and constructive technical discussion. The user is providing a detailed code example to explain a specific validation issue, referencing an RFC document, and seeking clarification. The language is respectful, precise, and focused on technical problem-solving without any hostile or negative undertones.'}\n",
      "Analyzing comment toxicity:  13%|█▎        | 10/78 [00:30<03:58,  3.51s/it]2024-12-21 23:01:50,316 - openowl.gh_sentiment_analysis - INFO - {'toxicity_score': '1', 'toxicity_rationale': 'This is a clean, professional code snippet demonstrating a custom validation approach for name and email using Pydantic in Python. The comment contains no negative language, is purely technical, and appears to be a helpful code example shared to assist other developers. It shows a constructive approach to solving a validation problem with clear, well-structured code.'}\n",
      "Analyzing comment toxicity:  14%|█▍        | 11/78 [00:33<03:53,  3.48s/it]2024-12-21 23:01:55,378 - openowl.gh_sentiment_analysis - INFO - {'toxicity_score': '4', 'toxicity_rationale': 'The comment contains direct criticism that is dismissive and potentially demeaning. While not using overtly aggressive language, it criticizes the user\\'s contributions as \"irrelevant and poorly formatted\", and explicitly states they were marked as \"off topic\". The tone is confrontational and lacks constructive feedback, which makes it moderately toxic.'}\n",
      "Analyzing comment toxicity:  15%|█▌        | 12/78 [00:38<04:21,  3.96s/it]2024-12-21 23:02:00,104 - openowl.gh_sentiment_analysis - INFO - {'toxicity_score': '1', 'toxicity_rationale': \"This is a highly technical, constructive code review comment that provides detailed, specific feedback about a potential implementation issue in Pydantic's type validation. The comment is professional, includes code examples, references specific lines of code, mentions a colleague respectfully, and provides technical reasoning. There are no personal attacks, inflammatory language, or negative tone - just a precise, analytical critique of a potential software design flaw.\"}\n",
      "Analyzing comment toxicity:  17%|█▋        | 13/78 [00:43<04:32,  4.19s/it]2024-12-21 23:02:06,005 - openowl.gh_sentiment_analysis - INFO - {'toxicity_score': '3', 'toxicity_rationale': \"The comment contains mixed tones - an initial critical and somewhat dismissive statement about AI-generated answers, followed by a more constructive and defensive response. While the first part is somewhat negative and potentially condescending (criticizing the quality of answers), the latter part attempts to be balanced and promotes constructive dialogue. The language is not overtly hostile, but there's an underlying tension and mild criticism that prevents it from being completely neutral.\"}\n",
      "Analyzing comment toxicity:  18%|█▊        | 14/78 [00:49<05:01,  4.71s/it]2024-12-21 23:02:09,964 - openowl.gh_sentiment_analysis - INFO - {'toxicity_score': '4', 'toxicity_rationale': 'The comment is dismissive and contains a passive-aggressive tone. While not overtly aggressive, it includes a direct criticism of the recipient\\'s work quality, suggesting their answers are \"really poor\". The phrase \"Thanks but no thanks\" is a curt rejection, and the comment implies incompetence by pointing to a specific example of perceived low-quality work. The language is confrontational and lacks constructive feedback, making it moderately toxic.'}\n",
      "Analyzing comment toxicity:  19%|█▉        | 15/78 [00:53<04:42,  4.48s/it]2024-12-21 23:02:12,840 - openowl.gh_sentiment_analysis - INFO - {'toxicity_score': '1', 'toxicity_rationale': 'This is a purely technical comment providing a code solution/workaround. The comment contains a code snippet demonstrating a programming technique, uses professional language, and shows no signs of negativity, hostility, or personal attacks. It appears to be a constructive contribution to a technical discussion.'}\n",
      "Analyzing comment toxicity:  21%|██        | 16/78 [00:56<04:07,  4.00s/it]2024-12-21 23:02:15,984 - openowl.gh_sentiment_analysis - INFO - {'toxicity_score': '1', 'toxicity_rationale': 'This is a completely neutral, technical comment describing a specific version issue with software dependencies. The comment is professional, provides specific version details, and asks a constructive question about potential changes between library versions. There are no negative, hostile, or inflammatory elements present.'}\n",
      "Analyzing comment toxicity:  22%|██▏       | 17/78 [00:59<03:48,  3.74s/it]2024-12-21 23:02:19,032 - openowl.gh_sentiment_analysis - INFO - {'toxicity_score': '1', 'toxicity_rationale': 'The comment is entirely constructive and helpful. It provides specific, actionable suggestions for debugging, offers assistance by mentioning willingness to test on multiple platforms, and suggests concrete tools (py-spy) to help diagnose the issue. The language is professional, respectful, and aimed at problem-solving.'}\n",
      "Analyzing comment toxicity:  23%|██▎       | 18/78 [01:02<03:32,  3.53s/it]2024-12-21 23:02:22,554 - openowl.gh_sentiment_analysis - INFO - {'toxicity_score': '1', 'toxicity_rationale': 'The comment is a clear, professional, and constructive communication about a technical issue. The user provides specific details about a bug, shares a repository with instructions, describes their observations, and politely requests insight into the problem. The language is neutral, respectful, and focused on problem-solving without any hostile or negative undertones.'}\n",
      "Analyzing comment toxicity:  24%|██▍       | 19/78 [01:06<03:28,  3.53s/it]2024-12-21 23:02:24,684 - openowl.gh_sentiment_analysis - INFO - {'toxicity_score': '1', 'toxicity_rationale': 'The comment is polite, apologetic, and shows genuine concern by asking for confirmation about potential ongoing issues. It demonstrates a helpful and considerate tone with no negative language or hostile intent.'}\n",
      "Analyzing comment toxicity:  26%|██▌       | 20/78 [01:08<03:00,  3.11s/it]2024-12-21 23:02:27,637 - openowl.gh_sentiment_analysis - INFO - {'toxicity_score': '1', 'toxicity_rationale': 'This is a completely neutral, technical deployment status report from a CI/CD system. The comment contains only factual information about a successful website deployment, including commit hash, status, and preview URLs. There are no negative, hostile, or toxic elements present.'}\n",
      "Analyzing comment toxicity:  27%|██▋       | 21/78 [01:11<02:54,  3.06s/it]2024-12-21 23:02:30,658 - openowl.gh_sentiment_analysis - INFO - {'toxicity_score': '1', 'toxicity_rationale': 'This is a neutral, technical performance report comment containing benchmark information. It appears to be an objective, professional update about code performance with no negative language, personal attacks, or hostile content. The comment is purely informative and constructive.'}\n",
      "Analyzing comment toxicity:  28%|██▊       | 22/78 [01:14<02:50,  3.05s/it]2024-12-21 23:02:34,578 - openowl.gh_sentiment_analysis - INFO - {'toxicity_score': '1', 'toxicity_rationale': 'This is a completely neutral, technical comment providing a coverage report for a code repository. It contains objective information about code coverage, uses badges to display metrics, and includes an automated comment from a coverage reporting tool. There are no negative, hostile, or inflammatory elements in the text.'}\n",
      "Analyzing comment toxicity:  29%|██▉       | 23/78 [01:18<03:02,  3.31s/it]2024-12-21 23:02:37,596 - openowl.gh_sentiment_analysis - INFO - {'toxicity_score': '1', 'toxicity_rationale': 'This is a clean, professional code snippet demonstrating a FastAPI endpoint implementation. The comment contains only technical code with no negative language, personal attacks, or hostile content. It appears to be a straightforward, constructive code example shared for educational or collaborative purposes.'}\n",
      "Analyzing comment toxicity:  31%|███       | 24/78 [01:21<02:54,  3.22s/it]2024-12-21 23:02:40,561 - openowl.gh_sentiment_analysis - INFO - {'toxicity_score': '1', 'toxicity_rationale': 'This is a completely neutral, professional performance report comment containing technical details about a code branch comparison. The comment uses clear formatting, provides objective benchmark information, and shows no signs of negativity, hostility, or personal attacks. It appears to be a standard, factual GitHub performance report.'}\n",
      "Analyzing comment toxicity:  32%|███▏      | 25/78 [01:24<02:46,  3.15s/it]2024-12-21 23:02:43,870 - openowl.gh_sentiment_analysis - INFO - {'toxicity_score': '1', 'toxicity_rationale': 'This is a purely technical, automated coverage report comment containing detailed code coverage statistics. The comment is completely neutral, professional, and provides objective information about code coverage for a GitHub pull request. There are no negative, hostile, or inflammatory elements present.'}\n",
      "Analyzing comment toxicity:  33%|███▎      | 26/78 [01:27<02:46,  3.19s/it]2024-12-21 23:02:47,245 - openowl.gh_sentiment_analysis - INFO - {'toxicity_score': '1', 'toxicity_rationale': 'The comment is a neutral, constructive technical observation. It suggests a potential issue by referencing a specific code location and raising a potential problem with schema handling. The language is professional, speculative, and aimed at problem-solving without any negative or hostile tone.'}\n",
      "Analyzing comment toxicity:  35%|███▍      | 27/78 [01:30<02:45,  3.25s/it]2024-12-21 23:02:49,065 - openowl.gh_sentiment_analysis - INFO - {'toxicity_score': '1', 'toxicity_rationale': \"This is a neutral, standard GitHub mention/tagging comment with no negative language or hostile intent. It appears to be a simple way of drawing a specific user's attention to a discussion or issue.\"}\n",
      "Analyzing comment toxicity:  36%|███▌      | 28/78 [01:32<02:21,  2.82s/it]2024-12-21 23:02:52,565 - openowl.gh_sentiment_analysis - INFO - {'toxicity_score': '1', 'toxicity_rationale': 'This is a purely technical, neutral comment discussing code schema and implementation details. The language is professional, direct, and focused on explaining a technical concept about recursive schema resolution. There are no negative, hostile, or inflammatory elements present.'}\n",
      "Analyzing comment toxicity:  37%|███▋      | 29/78 [01:36<02:28,  3.02s/it]2024-12-21 23:02:55,719 - openowl.gh_sentiment_analysis - INFO - {'toxicity_score': '1', 'toxicity_rationale': 'The comment appears to be a lighthearted technical suggestion with a laughing emoji, indicating a playful and constructive tone. It seems to be proposing a technical solution with a hint of humor, without any negative or hostile language. The comment appears to be a genuine, friendly contribution to a technical discussion.'}\n",
      "Analyzing comment toxicity:  38%|███▊      | 30/78 [01:39<02:27,  3.06s/it]2024-12-21 23:02:59,066 - openowl.gh_sentiment_analysis - INFO - {'toxicity_score': '1', 'toxicity_rationale': 'The comment is a professional, technical discussion about a potential implementation approach. It contains specific technical suggestions, references to other contributors (@thejcannon, @sydney-runkle), and shows collaborative problem-solving. The language is neutral, respectful, and focused on finding a technical solution. There are no signs of hostility, personal attacks, or negative sentiment.'}\n",
      "Analyzing comment toxicity:  40%|███▉      | 31/78 [01:42<02:27,  3.15s/it]2024-12-21 23:03:02,727 - openowl.gh_sentiment_analysis - INFO - {'toxicity_score': '1', 'toxicity_rationale': 'The comment is entirely constructive, friendly, and collaborative. It shows active engagement with the discussion, uses a light-hearted emoji, offers to help with the task, and demonstrates a positive, professional tone of communication. There are no negative, hostile, or toxic elements present.'}\n",
      "Analyzing comment toxicity:  41%|████      | 32/78 [01:46<02:31,  3.30s/it]2024-12-21 23:03:05,770 - openowl.gh_sentiment_analysis - INFO - {'toxicity_score': '1', 'toxicity_rationale': 'This is a technical, constructive comment demonstrating a code example with a specific Pydantic type validation issue. The comment is purely informative, provides a clear code snippet, shows the error encountered, and appears to be aimed at helping other developers understand a potential programming challenge. There is no negativity, hostility, or harmful language present.'}\n",
      "Analyzing comment toxicity:  42%|████▏     | 33/78 [01:49<02:25,  3.22s/it]2024-12-21 23:03:08,933 - openowl.gh_sentiment_analysis - INFO - {'toxicity_score': '1', 'toxicity_rationale': 'The comment is professional, polite, and constructive. It acknowledges the user who reported an issue, expresses gratitude, and commits to addressing the problem in a future patch. There are no negative, hostile, or inappropriate elements in the communication.'}\n",
      "Analyzing comment toxicity:  44%|████▎     | 34/78 [01:52<02:21,  3.21s/it]2024-12-21 23:03:11,489 - openowl.gh_sentiment_analysis - INFO - {'toxicity_score': '1', 'toxicity_rationale': 'The comment appears to be a neutral, professional communication mentioning another user and suggesting a potential connection to a technical topic (mro). There are no negative, hostile, or inflammatory elements. It seems like a constructive attempt to collaborate or provide insight.'}\n",
      "Analyzing comment toxicity:  45%|████▍     | 35/78 [01:54<02:09,  3.01s/it]2024-12-21 23:03:14,643 - openowl.gh_sentiment_analysis - INFO - {'toxicity_score': '1', 'toxicity_rationale': 'This is a technical, professional bug report describing a specific software issue with code details. The comment is purely informative, provides clear technical context, and shows no signs of negativity, hostility, or personal attacks. It appears to be a constructive contribution to troubleshooting a software problem.'}\n",
      "Analyzing comment toxicity:  46%|████▌     | 36/78 [01:58<02:08,  3.05s/it]2024-12-21 23:03:17,639 - openowl.gh_sentiment_analysis - INFO - {'toxicity_score': '1', 'toxicity_rationale': \"The comment is polite, professional, and constructive. It's a courteous request for additional information, using respectful language and a clear, neutral tone. There are no negative or hostile elements present.\"}\n",
      "Analyzing comment toxicity:  47%|████▋     | 37/78 [02:01<02:04,  3.04s/it]2024-12-21 23:03:20,965 - openowl.gh_sentiment_analysis - INFO - {'toxicity_score': '1', 'toxicity_rationale': 'This is a technical GitHub comment sharing a code snippet demonstrating a potential bug or issue with Python type hinting and Pydantic generics. The comment is purely technical, professional, and constructive, providing a clear code example and explaining the specific test scenarios and expected/observed behaviors. There is no negativity, hostility, or personal criticism present.'}\n",
      "Analyzing comment toxicity:  49%|████▊     | 38/78 [02:04<02:04,  3.12s/it]2024-12-21 23:03:24,253 - openowl.gh_sentiment_analysis - INFO - {'toxicity_score': '2', 'toxicity_rationale': 'The comment is professional and matter-of-fact, acknowledging an issue while setting realistic expectations about its resolution. While slightly dismissive by calling the use case \"exotic\", the tone remains neutral and constructive, indicating a low level of toxicity.'}\n",
      "Analyzing comment toxicity:  50%|█████     | 39/78 [02:07<02:03,  3.17s/it]2024-12-21 23:03:27,477 - openowl.gh_sentiment_analysis - INFO - {'toxicity_score': '1', 'toxicity_rationale': 'This is a completely neutral, professional performance report comment from a CI/CD system. It contains technical information about benchmark results, uses a structured format, and shows no signs of negativity, hostility, or personal attacks. The comment appears to be an objective, factual update about code performance comparison.'}\n",
      "Analyzing comment toxicity:  51%|█████▏    | 40/78 [02:10<02:01,  3.19s/it]2024-12-21 23:03:30,903 - openowl.gh_sentiment_analysis - INFO - {'toxicity_score': '1', 'toxicity_rationale': \"This is an automated coverage report comment that provides technical details about code coverage for a GitHub pull request. The comment is purely informative, objective, and contains no negative language or personal attacks. It's a standard, neutral technical report generated by a coverage tracking tool, presenting metrics and statistics in a clear, professional manner.\"}\n",
      "Analyzing comment toxicity:  53%|█████▎    | 41/78 [02:14<02:00,  3.26s/it]2024-12-21 23:03:32,866 - openowl.gh_sentiment_analysis - INFO - {'toxicity_score': '1', 'toxicity_rationale': 'The comment is a polite, brief request for a review with a friendly \"thanks!\" added. It is completely non-toxic, respectful, and follows standard collaborative communication etiquette.'}\n",
      "Analyzing comment toxicity:  54%|█████▍    | 42/78 [02:16<01:43,  2.87s/it]2024-12-21 23:03:35,797 - openowl.gh_sentiment_analysis - INFO - {'toxicity_score': '1', 'toxicity_rationale': 'This is a highly constructive and professional code review comment. The reviewer provides detailed, specific technical suggestions with clear explanations, offers concrete recommendations for improvement, and maintains a respectful, collaborative tone. The comment demonstrates thoughtful feedback aimed at enhancing the code quality, with no negative or hostile language.'}\n",
      "Analyzing comment toxicity:  55%|█████▌    | 43/78 [02:19<01:41,  2.89s/it]2024-12-21 23:03:38,971 - openowl.gh_sentiment_analysis - INFO - {'toxicity_score': '1', 'toxicity_rationale': 'This is a completely neutral, professional performance report comment containing technical details about a GitHub benchmark comparison. The comment uses structured formatting, provides clear information, and shows no signs of negativity, hostility, or personal attacks. It appears to be a standard, objective technical update.'}\n",
      "Analyzing comment toxicity:  56%|█████▋    | 44/78 [02:22<01:41,  2.97s/it]2024-12-21 23:03:42,909 - openowl.gh_sentiment_analysis - INFO - {'toxicity_score': '1', 'toxicity_rationale': 'This is an automated coverage report comment containing technical details about code coverage for a GitHub pull request. The comment is purely informative, objective, and contains no negative language or personal attacks. It provides a neutral, factual summary of code coverage statistics using badges and a detailed table, which is a standard practice in software development for tracking code quality.'}\n",
      "Analyzing comment toxicity:  58%|█████▊    | 45/78 [02:26<01:47,  3.26s/it]2024-12-21 23:03:44,817 - openowl.gh_sentiment_analysis - INFO - {'toxicity_score': '1', 'toxicity_rationale': 'The comment is polite, respectful, and includes a thank you with a heart emoji, indicating a friendly and appreciative tone. There are no negative, hostile, or harmful elements in the text.'}\n",
      "Analyzing comment toxicity:  59%|█████▉    | 46/78 [02:28<01:31,  2.86s/it]2024-12-21 23:03:48,510 - openowl.gh_sentiment_analysis - INFO - {'toxicity_score': '1', 'toxicity_rationale': 'This is a highly technical, professional, and constructive comment discussing a specific implementation issue in Pydantic. The comment provides detailed code examples, explains the current behavior, identifies a potential problem, and even tags a specific person for further discussion. The language is neutral, precise, and focused on technical problem-solving without any personal attacks or negative sentiment.'}\n",
      "Analyzing comment toxicity:  60%|██████    | 47/78 [02:31<01:36,  3.11s/it]2024-12-21 23:03:51,966 - openowl.gh_sentiment_analysis - INFO - {'toxicity_score': '1', 'toxicity_rationale': 'The comment is a thoughtful, technical discussion about JSON schema generation, presenting a personal interpretation with clear caveats. The language is professional, respectful, and constructive. The author explicitly acknowledges that this is their own interpretation and uses moderate, explanatory language without any hostile or negative tone.'}\n",
      "Analyzing comment toxicity:  62%|██████▏   | 48/78 [02:35<01:36,  3.21s/it]2024-12-21 23:03:55,542 - openowl.gh_sentiment_analysis - INFO - {'toxicity_score': '1', 'toxicity_rationale': 'The comment is a professional, thoughtful technical discussion about code design and implementation. It provides a nuanced interpretation of JSON schema handling, offers a constructive observation about potential implementation challenges, and uses neutral, respectful language typical of technical discourse. There are no personal attacks, inflammatory remarks, or negative tone - just a balanced technical perspective.'}\n",
      "Analyzing comment toxicity:  63%|██████▎   | 49/78 [02:39<01:36,  3.32s/it]2024-12-21 23:03:59,034 - openowl.gh_sentiment_analysis - INFO - {'toxicity_score': '1', 'toxicity_rationale': 'The comment is a constructive technical discussion with a thoughtful suggestion. It uses polite language, raises a potential improvement, and offers an alternative approach without being confrontational or negative. The tone is collaborative and professional, focusing on technical problem-solving.'}\n",
      "Analyzing comment toxicity:  64%|██████▍   | 50/78 [02:42<01:34,  3.37s/it]2024-12-21 23:04:02,007 - openowl.gh_sentiment_analysis - INFO - {'toxicity_score': '1', 'toxicity_rationale': 'The comment is a constructive, technical observation about potential code design approaches. It suggests an idea for maintaining immutability through input types and linting, showing a thoughtful and professional tone without any negative or hostile language.'}\n",
      "Analyzing comment toxicity:  65%|██████▌   | 51/78 [02:45<01:27,  3.25s/it]2024-12-21 23:04:04,600 - openowl.gh_sentiment_analysis - INFO - {'toxicity_score': '1', 'toxicity_rationale': \"The comment is polite, constructive, and helpful. It acknowledges the user's report, shows willingness to understand their intent, and offers assistance in finding an alternative solution. The language is respectful and collaborative, with no negative or hostile undertones.\"}\n",
      "Analyzing comment toxicity:  67%|██████▋   | 52/78 [02:48<01:19,  3.05s/it]2024-12-21 23:04:09,444 - openowl.gh_sentiment_analysis - INFO - {'toxicity_score': '1', 'toxicity_rationale': 'This is a clear, technical, and constructive comment describing a programming challenge. The language is professional, neutral, and focused on explaining a specific technical problem. The author is self-reflective about their current approach (\"pretty hacky\"), seeking improvement, and providing detailed context about their code implementation. There are no negative, aggressive, or hostile elements in the text.'}\n",
      "Analyzing comment toxicity:  68%|██████▊   | 53/78 [02:52<01:29,  3.59s/it]2024-12-21 23:04:12,689 - openowl.gh_sentiment_analysis - INFO - {'toxicity_score': '1', 'toxicity_rationale': 'The comment is a technical, professional, and constructive response. It explains a specific technical issue, acknowledges the problem, and offers to help find alternative solutions. The language is respectful, neutral, and focused on problem-solving without any negative or hostile undertones.'}\n",
      "Analyzing comment toxicity:  69%|██████▉   | 54/78 [02:56<01:23,  3.49s/it]2024-12-21 23:04:16,389 - openowl.gh_sentiment_analysis - INFO - {'toxicity_score': '1', 'toxicity_rationale': 'This is a technical code snippet shared in a neutral, professional manner. The comment contains a Python code example demonstrating generic type usage with Pydantic, and shows no signs of negativity, hostility, or toxicity. It appears to be a constructive code sharing intended to help or demonstrate a programming concept.'}\n",
      "Analyzing comment toxicity:  71%|███████   | 55/78 [02:59<01:21,  3.55s/it]2024-12-21 23:04:19,750 - openowl.gh_sentiment_analysis - INFO - {'toxicity_score': '2', 'toxicity_rationale': 'The comment is professional and polite, showing openness to further discussion despite not fully addressing the issue. While it indicates a decision that might disappoint the original poster, the tone remains constructive and respectful, offering continued dialogue. The language is neutral and courteous, avoiding any hostile or negative language.'}\n",
      "Analyzing comment toxicity:  72%|███████▏  | 56/78 [03:03<01:16,  3.49s/it]2024-12-21 23:04:23,868 - openowl.gh_sentiment_analysis - INFO - {'toxicity_score': '1', 'toxicity_rationale': 'The comment is a constructive, technical critique that provides specific, thoughtful feedback about a potential implementation issue. The language is professional, neutral, and focuses on technical concerns. The author acknowledges potential limitations, provides a hypothetical scenario, and explains their perspective without using aggressive or negative language. This is a model example of a respectful, constructive code review comment.'}\n",
      "Analyzing comment toxicity:  73%|███████▎  | 57/78 [03:07<01:17,  3.68s/it]2024-12-21 23:04:25,694 - openowl.gh_sentiment_analysis - INFO - {'toxicity_score': '1', 'toxicity_rationale': 'The comment is a neutral, professional mention of another user for potential input or assistance. It appears collaborative and respectful, with no negative language or hostile intent.'}\n",
      "Analyzing comment toxicity:  74%|███████▍  | 58/78 [03:09<01:02,  3.12s/it]2024-12-21 23:04:28,718 - openowl.gh_sentiment_analysis - INFO - {'toxicity_score': '1', 'toxicity_rationale': 'The comment is a neutral, professional suggestion about technical implementation, using respectful language and showing constructive intent to reconsider a specific technical detail. There are no negative, hostile, or inflammatory elements present.'}\n",
      "Analyzing comment toxicity:  76%|███████▌  | 59/78 [03:12<00:58,  3.09s/it]2024-12-21 23:04:32,281 - openowl.gh_sentiment_analysis - INFO - {'toxicity_score': '1', 'toxicity_rationale': 'This is a technical, code-focused comment discussing a programming implementation. The language is professional, neutral, and appears to be a genuine technical inquiry or exploration of a coding approach. There are no signs of negativity, hostility, or personal attacks. The comment reads like a constructive code snippet sharing and problem-solving discussion typical of developer collaboration.'}\n",
      "Analyzing comment toxicity:  77%|███████▋  | 60/78 [03:15<00:58,  3.23s/it]2024-12-21 23:04:34,540 - openowl.gh_sentiment_analysis - INFO - {'toxicity_score': '1', 'toxicity_rationale': 'The comment is extremely short and appears to be an incomplete or partial word/fragment with no clear context or negative intent. Without additional context, this cannot be considered toxic.'}\n",
      "Analyzing comment toxicity:  78%|███████▊  | 61/78 [03:18<00:50,  2.94s/it]2024-12-21 23:04:36,662 - openowl.gh_sentiment_analysis - INFO - {'toxicity_score': '1', 'toxicity_rationale': 'The comment is a simple, polite expression of interest in contributing, with no negative language or hostile intent. It appears to be a constructive and positive statement seeking to participate in a project.'}\n",
      "Analyzing comment toxicity:  79%|███████▉  | 62/78 [03:20<00:43,  2.70s/it]2024-12-21 23:04:40,507 - openowl.gh_sentiment_analysis - INFO - {'toxicity_score': '1', 'toxicity_rationale': 'This is a technical, detailed, and constructive comment explaining a specific programming issue. The comment provides clear, objective analysis of potential causes for a type conversion problem, using precise technical language. There are no personal attacks, negative tone, or hostile language. It appears to be a helpful, professional explanation aimed at understanding and resolving a technical challenge.'}\n",
      "Analyzing comment toxicity:  81%|████████  | 63/78 [03:23<00:45,  3.04s/it]2024-12-21 23:04:43,136 - openowl.gh_sentiment_analysis - INFO - {'toxicity_score': '1', 'toxicity_rationale': 'The comment \"take\" is extremely short and lacks context, but does not appear to contain any inherently toxic language or hostile intent. It seems like an incomplete or fragment comment that cannot be definitively classified as toxic.'}\n",
      "Analyzing comment toxicity:  82%|████████▏ | 64/78 [03:26<00:40,  2.92s/it]2024-12-21 23:04:45,355 - openowl.gh_sentiment_analysis - INFO - {'toxicity_score': '1', 'toxicity_rationale': 'The comment is professional, concise, and constructive. It identifies a potential technical issue (float32 precision) and indicates an intent to resolve it. There are no negative, hostile, or inflammatory elements in the statement.'}\n",
      "Analyzing comment toxicity:  83%|████████▎ | 65/78 [03:28<00:35,  2.71s/it]2024-12-21 23:04:47,474 - openowl.gh_sentiment_analysis - INFO - {'toxicity_score': '1', 'toxicity_rationale': 'The comment \"take\" is extremely short and lacks context, but does not appear to contain any inherently toxic language or hostile intent. It seems like an incomplete or fragment comment that cannot be definitively classified as toxic.'}\n",
      "Analyzing comment toxicity:  85%|████████▍ | 66/78 [03:30<00:30,  2.53s/it]2024-12-21 23:04:50,933 - openowl.gh_sentiment_analysis - INFO - {'toxicity_score': '1', 'toxicity_rationale': 'The comment is a polite, professional inquiry about contributing to a project and seeking clarification on a technical implementation detail. It shows respect, asks for permission, and raises a constructive question about code behavior. There are no negative, hostile, or inappropriate elements in the text.'}\n",
      "Analyzing comment toxicity:  86%|████████▌ | 67/78 [03:34<00:30,  2.81s/it]2024-12-21 23:04:53,026 - openowl.gh_sentiment_analysis - INFO - {'toxicity_score': '1', 'toxicity_rationale': 'The comment is a brief, polite suggestion for improvement with a friendly \"Thanks!\" at the end. It appears constructive and respectful, suggesting a change without any negative language or hostile tone.'}\n",
      "Analyzing comment toxicity:  87%|████████▋ | 68/78 [03:36<00:25,  2.59s/it]2024-12-21 23:04:56,228 - openowl.gh_sentiment_analysis - INFO - {'toxicity_score': '1', 'toxicity_rationale': 'The comment is a neutral, professional, and straightforward technical question about naming conventions. It shows no signs of negativity, hostility, or aggression. The user is seeking clarification in a polite and direct manner, using appropriate technical language.'}\n",
      "Analyzing comment toxicity:  88%|████████▊ | 69/78 [03:39<00:24,  2.78s/it]2024-12-21 23:04:59,608 - openowl.gh_sentiment_analysis - INFO - {'toxicity_score': '1', 'toxicity_rationale': 'The comment is a technical, informative contribution that provides a clear code example and helpful information about existing functionality. It is purely constructive, neutral in tone, and offers a precise technical explanation without any negative language or hostility.'}\n",
      "Analyzing comment toxicity:  90%|████████▉ | 70/78 [03:43<00:23,  2.96s/it]2024-12-21 23:05:02,110 - openowl.gh_sentiment_analysis - INFO - {'toxicity_score': '1', 'toxicity_rationale': 'The comment appears to be a neutral, constructive question seeking clarification or suggesting an improvement. It is phrased politely, shows engagement with the topic, and does not contain any hostile or negative language. The comment seems to be a genuine attempt to understand or propose an alternative approach.'}\n",
      "Analyzing comment toxicity:  91%|█████████ | 71/78 [03:45<00:19,  2.82s/it]2024-12-21 23:05:04,798 - openowl.gh_sentiment_analysis - INFO - {'toxicity_score': '2', 'toxicity_rationale': 'The comment appears to be a neutral, technical question about potential parameter modification. It lacks any hostile language, personal attacks, or negative tone. While slightly abrupt, it seems to be a straightforward technical inquiry seeking clarification or suggesting an alternative approach.'}\n",
      "Analyzing comment toxicity:  92%|█████████▏| 72/78 [03:48<00:16,  2.78s/it]2024-12-21 23:05:08,299 - openowl.gh_sentiment_analysis - INFO - {'toxicity_score': '1', 'toxicity_rationale': 'The comment is a constructive suggestion offering alternative technical approaches. It provides helpful, professional advice without any negative language, personal attacks, or hostile tone. The comment appears to be a genuine attempt to provide useful guidance on improving code implementation.'}\n",
      "Analyzing comment toxicity:  94%|█████████▎| 73/78 [03:51<00:14,  3.00s/it]2024-12-21 23:05:10,671 - openowl.gh_sentiment_analysis - INFO - {'toxicity_score': '1', 'toxicity_rationale': 'This is a neutral, technical comment related to an automated CI (Continuous Integration) process for pre-commit checks. It appears to be a standard system-generated message with no negative or hostile language, making it completely non-toxic.'}\n",
      "Analyzing comment toxicity:  95%|█████████▍| 74/78 [03:54<00:11,  2.81s/it]2024-12-21 23:05:16,006 - openowl.gh_sentiment_analysis - INFO - {'toxicity_score': '1', 'toxicity_rationale': 'The comment is a professional, technical discussion about pandas and NumPy data types. It provides clear code example, explains a technical limitation, and politely asks a follow-up question to colleagues. The tone is constructive, respectful, and focused on technical problem-solving with no negative language or hostility.'}\n",
      "Analyzing comment toxicity:  96%|█████████▌| 75/78 [03:59<00:10,  3.57s/it]2024-12-21 23:05:19,548 - openowl.gh_sentiment_analysis - INFO - {'toxicity_score': '1', 'toxicity_rationale': 'This is a highly technical, professional GitHub comment discussing a specific NumPy and Pandas data type conversion issue. The comment is clear, informative, references specific technical details, includes code examples, and provides context for the discussion. There is no negativity, hostility, or personal attacks - it appears to be a constructive contribution to a technical problem-solving conversation.'}\n",
      "Analyzing comment toxicity:  97%|█████████▋| 76/78 [04:03<00:07,  3.56s/it]2024-12-21 23:05:22,651 - openowl.gh_sentiment_analysis - INFO - {'toxicity_score': '1', 'toxicity_rationale': 'The comment is professional, helpful, and constructive. It provides specific technical context, asks a clarifying question, and offers assistance in troubleshooting. There are no negative, hostile, or inflammatory elements in the language or tone.'}\n",
      "Analyzing comment toxicity:  99%|█████████▊| 77/78 [04:06<00:03,  3.42s/it]2024-12-21 23:05:25,200 - openowl.gh_sentiment_analysis - INFO - {'toxicity_score': '2', 'toxicity_rationale': 'The comment is brief and direct, with a slightly dismissive tone. While not overtly hostile, the abrupt \"Nope\" and terse response could be perceived as mildly negative. The mention of a technical issue suggests a matter-of-fact communication style that might come across as curt but not intentionally toxic.'}\n",
      "Analyzing comment toxicity: 100%|██████████| 78/78 [04:08<00:00,  3.19s/it]\n"
     ]
    }
   ],
   "source": [
    "comments_df_llm = get_toxicity_scores_llm(issues_table, \"claude-3-5-haiku-latest\")\n"
   ]
  },
  {
   "cell_type": "code",
   "execution_count": 17,
   "metadata": {},
   "outputs": [
    {
     "data": {
      "text/html": [
       "<div>\n",
       "<style scoped>\n",
       "    .dataframe tbody tr th:only-of-type {\n",
       "        vertical-align: middle;\n",
       "    }\n",
       "\n",
       "    .dataframe tbody tr th {\n",
       "        vertical-align: top;\n",
       "    }\n",
       "\n",
       "    .dataframe thead th {\n",
       "        text-align: right;\n",
       "    }\n",
       "</style>\n",
       "<table border=\"1\" class=\"dataframe\">\n",
       "  <thead>\n",
       "    <tr style=\"text-align: right;\">\n",
       "      <th></th>\n",
       "      <th>datetime</th>\n",
       "      <th>issue_id</th>\n",
       "      <th>comment_details</th>\n",
       "      <th>author_association</th>\n",
       "      <th>user</th>\n",
       "      <th>reactions_plus1</th>\n",
       "      <th>reactions_minus1</th>\n",
       "      <th>reactions_laugh</th>\n",
       "      <th>reactions_hooray</th>\n",
       "      <th>reactions_confused</th>\n",
       "      <th>reactions_heart</th>\n",
       "      <th>reactions_rocket</th>\n",
       "      <th>reactions_eyes</th>\n",
       "      <th>toxicity_llm_score</th>\n",
       "      <th>toxicity_llm_rationale</th>\n",
       "    </tr>\n",
       "  </thead>\n",
       "  <tbody>\n",
       "    <tr>\n",
       "      <th>43</th>\n",
       "      <td>2024-12-01T13:05:40Z</td>\n",
       "      <td>2709132946</td>\n",
       "      <td>## [CodSpeed Performance Report](https://codsp...</td>\n",
       "      <td>NONE</td>\n",
       "      <td>codspeed-hq[bot]</td>\n",
       "      <td>0</td>\n",
       "      <td>0</td>\n",
       "      <td>0</td>\n",
       "      <td>0</td>\n",
       "      <td>0</td>\n",
       "      <td>0</td>\n",
       "      <td>0</td>\n",
       "      <td>0</td>\n",
       "      <td>1</td>\n",
       "      <td>This is a completely neutral, professional per...</td>\n",
       "    </tr>\n",
       "    <tr>\n",
       "      <th>44</th>\n",
       "      <td>2024-12-01T13:08:37Z</td>\n",
       "      <td>2709132946</td>\n",
       "      <td>## Coverage report\\n\\n\\n&lt;img title=\"Coverage f...</td>\n",
       "      <td>CONTRIBUTOR</td>\n",
       "      <td>github-actions[bot]</td>\n",
       "      <td>0</td>\n",
       "      <td>0</td>\n",
       "      <td>0</td>\n",
       "      <td>0</td>\n",
       "      <td>0</td>\n",
       "      <td>0</td>\n",
       "      <td>0</td>\n",
       "      <td>0</td>\n",
       "      <td>1</td>\n",
       "      <td>This is an automated coverage report comment c...</td>\n",
       "    </tr>\n",
       "    <tr>\n",
       "      <th>45</th>\n",
       "      <td>2024-12-01T14:47:25Z</td>\n",
       "      <td>2709132946</td>\n",
       "      <td>please review (and thank you ❤️ )</td>\n",
       "      <td>NONE</td>\n",
       "      <td>thejcannon</td>\n",
       "      <td>1</td>\n",
       "      <td>0</td>\n",
       "      <td>0</td>\n",
       "      <td>0</td>\n",
       "      <td>0</td>\n",
       "      <td>0</td>\n",
       "      <td>0</td>\n",
       "      <td>0</td>\n",
       "      <td>1</td>\n",
       "      <td>The comment is polite, respectful, and include...</td>\n",
       "    </tr>\n",
       "    <tr>\n",
       "      <th>46</th>\n",
       "      <td>2024-12-01T19:04:06Z</td>\n",
       "      <td>2709128734</td>\n",
       "      <td>Thanks for the report. While we can accept the...</td>\n",
       "      <td>MEMBER</td>\n",
       "      <td>Viicos</td>\n",
       "      <td>0</td>\n",
       "      <td>0</td>\n",
       "      <td>0</td>\n",
       "      <td>0</td>\n",
       "      <td>0</td>\n",
       "      <td>0</td>\n",
       "      <td>0</td>\n",
       "      <td>0</td>\n",
       "      <td>1</td>\n",
       "      <td>This is a highly technical, professional, and ...</td>\n",
       "    </tr>\n",
       "    <tr>\n",
       "      <th>47</th>\n",
       "      <td>2024-12-01T19:14:37Z</td>\n",
       "      <td>2709128734</td>\n",
       "      <td>&gt; We first generate the JSON Schema for the in...</td>\n",
       "      <td>NONE</td>\n",
       "      <td>thejcannon</td>\n",
       "      <td>0</td>\n",
       "      <td>0</td>\n",
       "      <td>0</td>\n",
       "      <td>0</td>\n",
       "      <td>0</td>\n",
       "      <td>0</td>\n",
       "      <td>0</td>\n",
       "      <td>0</td>\n",
       "      <td>1</td>\n",
       "      <td>The comment is a thoughtful, technical discuss...</td>\n",
       "    </tr>\n",
       "    <tr>\n",
       "      <th>...</th>\n",
       "      <td>...</td>\n",
       "      <td>...</td>\n",
       "      <td>...</td>\n",
       "      <td>...</td>\n",
       "      <td>...</td>\n",
       "      <td>...</td>\n",
       "      <td>...</td>\n",
       "      <td>...</td>\n",
       "      <td>...</td>\n",
       "      <td>...</td>\n",
       "      <td>...</td>\n",
       "      <td>...</td>\n",
       "      <td>...</td>\n",
       "      <td>...</td>\n",
       "      <td>...</td>\n",
       "    </tr>\n",
       "    <tr>\n",
       "      <th>70</th>\n",
       "      <td>2024-12-07T17:10:35Z</td>\n",
       "      <td>2722132901</td>\n",
       "      <td>But isn't it good if the columns are updated b...</td>\n",
       "      <td>NONE</td>\n",
       "      <td>kevkle</td>\n",
       "      <td>0</td>\n",
       "      <td>0</td>\n",
       "      <td>0</td>\n",
       "      <td>0</td>\n",
       "      <td>0</td>\n",
       "      <td>0</td>\n",
       "      <td>0</td>\n",
       "      <td>0</td>\n",
       "      <td>1</td>\n",
       "      <td>The comment appears to be a neutral, construct...</td>\n",
       "    </tr>\n",
       "    <tr>\n",
       "      <th>71</th>\n",
       "      <td>2024-12-07T17:43:53Z</td>\n",
       "      <td>2722132901</td>\n",
       "      <td>Or that it should be fixed with another parame...</td>\n",
       "      <td>NONE</td>\n",
       "      <td>kevkle</td>\n",
       "      <td>0</td>\n",
       "      <td>0</td>\n",
       "      <td>0</td>\n",
       "      <td>0</td>\n",
       "      <td>0</td>\n",
       "      <td>0</td>\n",
       "      <td>0</td>\n",
       "      <td>0</td>\n",
       "      <td>2</td>\n",
       "      <td>The comment appears to be a neutral, technical...</td>\n",
       "    </tr>\n",
       "    <tr>\n",
       "      <th>72</th>\n",
       "      <td>2024-12-08T03:26:32Z</td>\n",
       "      <td>2722132901</td>\n",
       "      <td>Seems `join` is more suitable in this case, or...</td>\n",
       "      <td>CONTRIBUTOR</td>\n",
       "      <td>yuanx749</td>\n",
       "      <td>0</td>\n",
       "      <td>0</td>\n",
       "      <td>0</td>\n",
       "      <td>0</td>\n",
       "      <td>0</td>\n",
       "      <td>0</td>\n",
       "      <td>0</td>\n",
       "      <td>0</td>\n",
       "      <td>1</td>\n",
       "      <td>The comment is a constructive suggestion offer...</td>\n",
       "    </tr>\n",
       "    <tr>\n",
       "      <th>0</th>\n",
       "      <td>2024-12-08T04:25:51Z</td>\n",
       "      <td>2724919914</td>\n",
       "      <td>/preview</td>\n",
       "      <td>CONTRIBUTOR</td>\n",
       "      <td>yuanx749</td>\n",
       "      <td>0</td>\n",
       "      <td>0</td>\n",
       "      <td>0</td>\n",
       "      <td>0</td>\n",
       "      <td>0</td>\n",
       "      <td>0</td>\n",
       "      <td>0</td>\n",
       "      <td>0</td>\n",
       "      <td>1</td>\n",
       "      <td>The comment \"/preview\" appears to be a neutral...</td>\n",
       "    </tr>\n",
       "    <tr>\n",
       "      <th>73</th>\n",
       "      <td>2024-12-08T05:58:34Z</td>\n",
       "      <td>2721736266</td>\n",
       "      <td>pre-commit.ci autofix</td>\n",
       "      <td>NONE</td>\n",
       "      <td>knowltod</td>\n",
       "      <td>0</td>\n",
       "      <td>0</td>\n",
       "      <td>0</td>\n",
       "      <td>0</td>\n",
       "      <td>0</td>\n",
       "      <td>0</td>\n",
       "      <td>1</td>\n",
       "      <td>0</td>\n",
       "      <td>1</td>\n",
       "      <td>This is a neutral, technical comment related t...</td>\n",
       "    </tr>\n",
       "  </tbody>\n",
       "</table>\n",
       "<p>78 rows × 15 columns</p>\n",
       "</div>"
      ],
      "text/plain": [
       "                datetime    issue_id  \\\n",
       "43  2024-12-01T13:05:40Z  2709132946   \n",
       "44  2024-12-01T13:08:37Z  2709132946   \n",
       "45  2024-12-01T14:47:25Z  2709132946   \n",
       "46  2024-12-01T19:04:06Z  2709128734   \n",
       "47  2024-12-01T19:14:37Z  2709128734   \n",
       "..                   ...         ...   \n",
       "70  2024-12-07T17:10:35Z  2722132901   \n",
       "71  2024-12-07T17:43:53Z  2722132901   \n",
       "72  2024-12-08T03:26:32Z  2722132901   \n",
       "0   2024-12-08T04:25:51Z  2724919914   \n",
       "73  2024-12-08T05:58:34Z  2721736266   \n",
       "\n",
       "                                      comment_details author_association  \\\n",
       "43  ## [CodSpeed Performance Report](https://codsp...               NONE   \n",
       "44  ## Coverage report\\n\\n\\n<img title=\"Coverage f...        CONTRIBUTOR   \n",
       "45                  please review (and thank you ❤️ )               NONE   \n",
       "46  Thanks for the report. While we can accept the...             MEMBER   \n",
       "47  > We first generate the JSON Schema for the in...               NONE   \n",
       "..                                                ...                ...   \n",
       "70  But isn't it good if the columns are updated b...               NONE   \n",
       "71  Or that it should be fixed with another parame...               NONE   \n",
       "72  Seems `join` is more suitable in this case, or...        CONTRIBUTOR   \n",
       "0                                            /preview        CONTRIBUTOR   \n",
       "73                              pre-commit.ci autofix               NONE   \n",
       "\n",
       "                   user  reactions_plus1  reactions_minus1  reactions_laugh  \\\n",
       "43     codspeed-hq[bot]                0                 0                0   \n",
       "44  github-actions[bot]                0                 0                0   \n",
       "45           thejcannon                1                 0                0   \n",
       "46               Viicos                0                 0                0   \n",
       "47           thejcannon                0                 0                0   \n",
       "..                  ...              ...               ...              ...   \n",
       "70               kevkle                0                 0                0   \n",
       "71               kevkle                0                 0                0   \n",
       "72             yuanx749                0                 0                0   \n",
       "0              yuanx749                0                 0                0   \n",
       "73             knowltod                0                 0                0   \n",
       "\n",
       "    reactions_hooray  reactions_confused  reactions_heart  reactions_rocket  \\\n",
       "43                 0                   0                0                 0   \n",
       "44                 0                   0                0                 0   \n",
       "45                 0                   0                0                 0   \n",
       "46                 0                   0                0                 0   \n",
       "47                 0                   0                0                 0   \n",
       "..               ...                 ...              ...               ...   \n",
       "70                 0                   0                0                 0   \n",
       "71                 0                   0                0                 0   \n",
       "72                 0                   0                0                 0   \n",
       "0                  0                   0                0                 0   \n",
       "73                 0                   0                0                 1   \n",
       "\n",
       "    reactions_eyes toxicity_llm_score  \\\n",
       "43               0                  1   \n",
       "44               0                  1   \n",
       "45               0                  1   \n",
       "46               0                  1   \n",
       "47               0                  1   \n",
       "..             ...                ...   \n",
       "70               0                  1   \n",
       "71               0                  2   \n",
       "72               0                  1   \n",
       "0                0                  1   \n",
       "73               0                  1   \n",
       "\n",
       "                               toxicity_llm_rationale  \n",
       "43  This is a completely neutral, professional per...  \n",
       "44  This is an automated coverage report comment c...  \n",
       "45  The comment is polite, respectful, and include...  \n",
       "46  This is a highly technical, professional, and ...  \n",
       "47  The comment is a thoughtful, technical discuss...  \n",
       "..                                                ...  \n",
       "70  The comment appears to be a neutral, construct...  \n",
       "71  The comment appears to be a neutral, technical...  \n",
       "72  The comment is a constructive suggestion offer...  \n",
       "0   The comment \"/preview\" appears to be a neutral...  \n",
       "73  This is a neutral, technical comment related t...  \n",
       "\n",
       "[78 rows x 15 columns]"
      ]
     },
     "execution_count": 17,
     "metadata": {},
     "output_type": "execute_result"
    }
   ],
   "source": [
    "\n",
    "comments_df_llm\n"
   ]
  },
  {
   "cell_type": "code",
   "execution_count": 18,
   "metadata": {},
   "outputs": [],
   "source": [
    "comments_df_llm[\"toxicity_llm_score\"] = comments_df_llm[\"toxicity_llm_score\"].astype(float)"
   ]
  },
  {
   "cell_type": "markdown",
   "metadata": {},
   "source": [
    "Plot with toxicity score"
   ]
  },
  {
   "cell_type": "code",
   "execution_count": 43,
   "metadata": {},
   "outputs": [],
   "source": [
    "def wrap_text(text, width=50):\n",
    "    \"\"\"Wrap text to specified width by inserting <br> tags.\n",
    "    \n",
    "    Args:\n",
    "        text (str): Text to wrap\n",
    "        width (int): Maximum width of each line\n",
    "    \n",
    "    Returns:\n",
    "        str: Text with <br> tags inserted for line breaks\n",
    "    \"\"\"\n",
    "    words = text.split()\n",
    "    lines = []\n",
    "    current_line = []\n",
    "    current_length = 0\n",
    "    \n",
    "    for word in words:\n",
    "        if current_length + len(word) + 1 <= width:\n",
    "            current_line.append(word)\n",
    "            current_length += len(word) + 1\n",
    "        else:\n",
    "            lines.append(' '.join(current_line))\n",
    "            current_line = [word]\n",
    "            current_length = len(word)\n",
    "    \n",
    "    if current_line:\n",
    "        lines.append(' '.join(current_line))\n",
    "    \n",
    "    return '<br>'.join(lines)\n",
    "\n",
    "def create_toxicity_scatter_plot(df, comment_column='comment_details', score_column='toxicity_llm_score'):\n",
    "    \"\"\"Create an interactive scatter plot of toxicity scores.\n",
    "    \n",
    "    Args:\n",
    "        df (pd.DataFrame): DataFrame containing the toxicity data\n",
    "        comment_column (str): Name of column containing comment text\n",
    "        score_column (str): Name of column containing toxicity scores\n",
    "    \n",
    "    Returns:\n",
    "        go.Figure: Plotly figure object\n",
    "    \"\"\"\n",
    "    wrapped_comments = [wrap_text(str(text)) for text in df[comment_column]]\n",
    "    \n",
    "    fig = go.Figure()\n",
    "    fig.add_trace(\n",
    "        go.Scatter(\n",
    "            x=df['datetime'],\n",
    "            y=df[score_column],\n",
    "            mode='markers',\n",
    "            marker=dict(\n",
    "                size=10,\n",
    "                color=df[score_column],\n",
    "                colorscale=[[0, 'green'], [1, 'red']],\n",
    "                colorbar=dict(title='Toxicity Score'),\n",
    "                cmin=1,\n",
    "                cmax=5\n",
    "            ),\n",
    "            hovertemplate=\"\"\"\n",
    "            <b>Time</b>: %{x}<br>\n",
    "            <b>Toxicity Score</b>: %{y}<br>\n",
    "            <b>Comment</b>: %{customdata}\n",
    "            <extra></extra>\n",
    "            \"\"\",\n",
    "            customdata=wrapped_comments\n",
    "        )\n",
    "    )\n",
    "    \n",
    "    fig.update_layout(\n",
    "        title='Raw Toxicity Scores',\n",
    "        xaxis_title='Time',\n",
    "        yaxis_title='Toxicity Score',\n",
    "        height=300,\n",
    "        width=1500,\n",
    "        showlegend=False,\n",
    "        hoverlabel=dict(\n",
    "            bgcolor='white',\n",
    "            font_size=12,\n",
    "            align='left'\n",
    "        )\n",
    "    )\n",
    "    \n",
    "    return fig\n"
   ]
  },
  {
   "cell_type": "markdown",
   "metadata": {},
   "source": [
    "Plot, alternative to the plot above, including negative reactions"
   ]
  },
  {
   "cell_type": "code",
   "execution_count": 41,
   "metadata": {},
   "outputs": [],
   "source": [
    "def wrap_text(text, width=50):\n",
    "    \"\"\"Wrap text to specified width by inserting <br> tags.\n",
    "    \n",
    "    Args:\n",
    "        text (str): Text to wrap\n",
    "        width (int): Maximum width of each line\n",
    "    \n",
    "    Returns:\n",
    "        str: Text with <br> tags inserted for line breaks\n",
    "    \"\"\"\n",
    "    words = text.split()\n",
    "    lines = []\n",
    "    current_line = []\n",
    "    current_length = 0\n",
    "    \n",
    "    for word in words:\n",
    "        if current_length + len(word) + 1 <= width:\n",
    "            current_line.append(word)\n",
    "            current_length += len(word) + 1\n",
    "        else:\n",
    "            lines.append(' '.join(current_line))\n",
    "            current_line = [word]\n",
    "            current_length = len(word)\n",
    "    \n",
    "    if current_line:\n",
    "        lines.append(' '.join(current_line))\n",
    "    \n",
    "    return '<br>'.join(lines)\n",
    "\n",
    "def create_toxicity_scatter_plot(df, comment_column='comment_details', score_column='toxicity_llm_score'):\n",
    "    \"\"\"Create an interactive scatter plot of toxicity scores.\n",
    "    \n",
    "    Args:\n",
    "        df (pd.DataFrame): DataFrame containing the toxicity data\n",
    "        comment_column (str): Name of column containing comment text\n",
    "        score_column (str): Name of column containing toxicity scores\n",
    "    \n",
    "    Returns:\n",
    "        go.Figure: Plotly figure object\n",
    "    \"\"\"\n",
    "    wrapped_comments = [wrap_text(str(text)) for text in df[comment_column]]\n",
    "    \n",
    "    fig = go.Figure()\n",
    "    \n",
    "    # Add toxicity score scatter points\n",
    "    fig.add_trace(\n",
    "        go.Scatter(\n",
    "            x=df['datetime'],\n",
    "            y=df[score_column],\n",
    "            mode='markers',\n",
    "            marker=dict(\n",
    "                size=10,\n",
    "                color=df[score_column],\n",
    "                colorscale=[[0, 'green'], [1, 'red']],\n",
    "                colorbar=dict(title='Toxicity Score'),\n",
    "                cmin=1,\n",
    "                cmax=5\n",
    "            ),\n",
    "            name='Toxicity Score',\n",
    "            hovertemplate=\"\"\"\n",
    "            <b>Time</b>: %{x}<br>\n",
    "            <b>Toxicity Score</b>: %{y}<br>\n",
    "            <b>Comment</b>: %{customdata}\n",
    "            <extra></extra>\n",
    "            \"\"\",\n",
    "            customdata=wrapped_comments\n",
    "        )\n",
    "    )\n",
    "    \n",
    "    # Add negative reactions as black squares (only for non-zero values)\n",
    "    df_negative = df[df['reactions_minus1'] > 0]\n",
    "    if not df_negative.empty:\n",
    "        fig.add_trace(\n",
    "            go.Scatter(\n",
    "                x=df_negative['datetime'],\n",
    "                y=df_negative['reactions_minus1'],\n",
    "                mode='markers',\n",
    "                marker=dict(\n",
    "                    size=10,\n",
    "                    symbol='square',\n",
    "                    color='black'\n",
    "                ),\n",
    "                name='Negative Reactions',\n",
    "                hovertemplate=\"\"\"\n",
    "                <b>Time</b>: %{x}<br>\n",
    "                <b>Negative Reactions</b>: %{y}\n",
    "                <extra></extra>\n",
    "                \"\"\"\n",
    "            )\n",
    "        )\n",
    "    \n",
    "    fig.update_layout(\n",
    "        title='Raw Toxicity Scores and Negative Reactions',\n",
    "        xaxis_title='Time',\n",
    "        yaxis_title='Score / Count',\n",
    "        height=300,\n",
    "        width=1500,\n",
    "        showlegend=True,\n",
    "        hoverlabel=dict(\n",
    "            bgcolor='white',\n",
    "            font_size=12,\n",
    "            align='left'\n",
    "        )\n",
    "    )\n",
    "    \n",
    "    return fig\n"
   ]
  },
  {
   "cell_type": "code",
   "execution_count": 36,
   "metadata": {},
   "outputs": [
    {
     "name": "stderr",
     "output_type": "stream",
     "text": [
      "2024-12-22 22:36:40,565 - openowl.gh_sentiment_analysis - INFO - Found 400 issues for pydantic/pydantic v2.10.4\n"
     ]
    }
   ],
   "source": [
    "df = create_toxicity_dataframe(db, dependency)\n"
   ]
  },
  {
   "cell_type": "code",
   "execution_count": 37,
   "metadata": {},
   "outputs": [
    {
     "data": {
      "text/html": [
       "<div>\n",
       "<style scoped>\n",
       "    .dataframe tbody tr th:only-of-type {\n",
       "        vertical-align: middle;\n",
       "    }\n",
       "\n",
       "    .dataframe tbody tr th {\n",
       "        vertical-align: top;\n",
       "    }\n",
       "\n",
       "    .dataframe thead th {\n",
       "        text-align: right;\n",
       "    }\n",
       "</style>\n",
       "<table border=\"1\" class=\"dataframe\">\n",
       "  <thead>\n",
       "    <tr style=\"text-align: right;\">\n",
       "      <th></th>\n",
       "      <th>datetime</th>\n",
       "      <th>issue_id</th>\n",
       "      <th>issue_url</th>\n",
       "      <th>comment_details</th>\n",
       "      <th>author_association</th>\n",
       "      <th>user</th>\n",
       "      <th>reactions_plus1</th>\n",
       "      <th>reactions_minus1</th>\n",
       "      <th>reactions_laugh</th>\n",
       "      <th>reactions_hooray</th>\n",
       "      <th>reactions_confused</th>\n",
       "      <th>reactions_heart</th>\n",
       "      <th>reactions_rocket</th>\n",
       "      <th>reactions_eyes</th>\n",
       "      <th>toxicity_llm_score</th>\n",
       "      <th>toxicity_llm_rationale</th>\n",
       "    </tr>\n",
       "  </thead>\n",
       "  <tbody>\n",
       "    <tr>\n",
       "      <th>1796</th>\n",
       "      <td>2023-07-28 13:22:06+00:00</td>\n",
       "      <td>1826197286</td>\n",
       "      <td>https://github.com/pydantic/pydantic/issues/6928</td>\n",
       "      <td>Since it's always nice when similar libraries ...</td>\n",
       "      <td>NONE</td>\n",
       "      <td>jcrist</td>\n",
       "      <td>1</td>\n",
       "      <td>0</td>\n",
       "      <td>0</td>\n",
       "      <td>0</td>\n",
       "      <td>0</td>\n",
       "      <td>0</td>\n",
       "      <td>0</td>\n",
       "      <td>0</td>\n",
       "      <td>NaN</td>\n",
       "      <td>None</td>\n",
       "    </tr>\n",
       "    <tr>\n",
       "      <th>1797</th>\n",
       "      <td>2023-07-28 13:23:34+00:00</td>\n",
       "      <td>1826197286</td>\n",
       "      <td>https://github.com/pydantic/pydantic/issues/6928</td>\n",
       "      <td>Thank you Jim! We'll take a look. Indeed it wo...</td>\n",
       "      <td>MEMBER</td>\n",
       "      <td>adriangb</td>\n",
       "      <td>0</td>\n",
       "      <td>0</td>\n",
       "      <td>0</td>\n",
       "      <td>0</td>\n",
       "      <td>0</td>\n",
       "      <td>0</td>\n",
       "      <td>0</td>\n",
       "      <td>0</td>\n",
       "      <td>NaN</td>\n",
       "      <td>None</td>\n",
       "    </tr>\n",
       "    <tr>\n",
       "      <th>1789</th>\n",
       "      <td>2023-08-01 09:19:23+00:00</td>\n",
       "      <td>1829371655</td>\n",
       "      <td>https://github.com/pydantic/pydantic/issues/6961</td>\n",
       "      <td>Thanks @jharrisonSV . I think we need to impro...</td>\n",
       "      <td>MEMBER</td>\n",
       "      <td>Kludex</td>\n",
       "      <td>0</td>\n",
       "      <td>0</td>\n",
       "      <td>0</td>\n",
       "      <td>0</td>\n",
       "      <td>0</td>\n",
       "      <td>0</td>\n",
       "      <td>0</td>\n",
       "      <td>0</td>\n",
       "      <td>NaN</td>\n",
       "      <td>None</td>\n",
       "    </tr>\n",
       "    <tr>\n",
       "      <th>1762</th>\n",
       "      <td>2023-08-02 14:56:34+00:00</td>\n",
       "      <td>1833253507</td>\n",
       "      <td>https://github.com/pydantic/pydantic/issues/6994</td>\n",
       "      <td>I could replace  the type alias `B = list[A[T,...</td>\n",
       "      <td>CONTRIBUTOR</td>\n",
       "      <td>haoyun</td>\n",
       "      <td>0</td>\n",
       "      <td>0</td>\n",
       "      <td>0</td>\n",
       "      <td>0</td>\n",
       "      <td>0</td>\n",
       "      <td>0</td>\n",
       "      <td>0</td>\n",
       "      <td>0</td>\n",
       "      <td>NaN</td>\n",
       "      <td>None</td>\n",
       "    </tr>\n",
       "    <tr>\n",
       "      <th>1790</th>\n",
       "      <td>2023-08-02 16:20:54+00:00</td>\n",
       "      <td>1829371655</td>\n",
       "      <td>https://github.com/pydantic/pydantic/issues/6961</td>\n",
       "      <td>I think it's more than just the migration guid...</td>\n",
       "      <td>NONE</td>\n",
       "      <td>jharrisonSV</td>\n",
       "      <td>0</td>\n",
       "      <td>0</td>\n",
       "      <td>0</td>\n",
       "      <td>0</td>\n",
       "      <td>0</td>\n",
       "      <td>0</td>\n",
       "      <td>0</td>\n",
       "      <td>0</td>\n",
       "      <td>NaN</td>\n",
       "      <td>None</td>\n",
       "    </tr>\n",
       "  </tbody>\n",
       "</table>\n",
       "</div>"
      ],
      "text/plain": [
       "                      datetime  ...  toxicity_llm_rationale\n",
       "1796 2023-07-28 13:22:06+00:00  ...                    None\n",
       "1797 2023-07-28 13:23:34+00:00  ...                    None\n",
       "1789 2023-08-01 09:19:23+00:00  ...                    None\n",
       "1762 2023-08-02 14:56:34+00:00  ...                    None\n",
       "1790 2023-08-02 16:20:54+00:00  ...                    None\n",
       "\n",
       "[5 rows x 16 columns]"
      ]
     },
     "execution_count": 37,
     "metadata": {},
     "output_type": "execute_result"
    }
   ],
   "source": [
    "df.head()"
   ]
  },
  {
   "cell_type": "code",
   "execution_count": 38,
   "metadata": {},
   "outputs": [
    {
     "data": {
      "text/html": [
       "<div>\n",
       "<style scoped>\n",
       "    .dataframe tbody tr th:only-of-type {\n",
       "        vertical-align: middle;\n",
       "    }\n",
       "\n",
       "    .dataframe tbody tr th {\n",
       "        vertical-align: top;\n",
       "    }\n",
       "\n",
       "    .dataframe thead th {\n",
       "        text-align: right;\n",
       "    }\n",
       "</style>\n",
       "<table border=\"1\" class=\"dataframe\">\n",
       "  <thead>\n",
       "    <tr style=\"text-align: right;\">\n",
       "      <th></th>\n",
       "      <th>datetime</th>\n",
       "      <th>issue_id</th>\n",
       "      <th>issue_url</th>\n",
       "      <th>comment_details</th>\n",
       "      <th>author_association</th>\n",
       "      <th>user</th>\n",
       "      <th>reactions_plus1</th>\n",
       "      <th>reactions_minus1</th>\n",
       "      <th>reactions_laugh</th>\n",
       "      <th>reactions_hooray</th>\n",
       "      <th>reactions_confused</th>\n",
       "      <th>reactions_heart</th>\n",
       "      <th>reactions_rocket</th>\n",
       "      <th>reactions_eyes</th>\n",
       "      <th>toxicity_llm_score</th>\n",
       "      <th>toxicity_llm_rationale</th>\n",
       "    </tr>\n",
       "  </thead>\n",
       "  <tbody>\n",
       "    <tr>\n",
       "      <th>203</th>\n",
       "      <td>2024-11-04 12:52:48+00:00</td>\n",
       "      <td>2629221439</td>\n",
       "      <td>https://github.com/pydantic/pydantic/issues/10753</td>\n",
       "      <td>@dhorkel,\\r\\n\\r\\nThanks for the report. Indeed...</td>\n",
       "      <td>MEMBER</td>\n",
       "      <td>sydney-runkle</td>\n",
       "      <td>1</td>\n",
       "      <td>0</td>\n",
       "      <td>0</td>\n",
       "      <td>0</td>\n",
       "      <td>0</td>\n",
       "      <td>0</td>\n",
       "      <td>0</td>\n",
       "      <td>0</td>\n",
       "      <td>1.0</td>\n",
       "      <td>The comment is professional, constructive, and...</td>\n",
       "    </tr>\n",
       "    <tr>\n",
       "      <th>223</th>\n",
       "      <td>2024-11-04 17:27:59+00:00</td>\n",
       "      <td>2616759015</td>\n",
       "      <td>https://github.com/pydantic/pydantic/issues/10726</td>\n",
       "      <td>Hey @ClaytonAndTheClayTones,\\r\\n\\r\\nFeel free,...</td>\n",
       "      <td>MEMBER</td>\n",
       "      <td>sydney-runkle</td>\n",
       "      <td>0</td>\n",
       "      <td>0</td>\n",
       "      <td>0</td>\n",
       "      <td>0</td>\n",
       "      <td>0</td>\n",
       "      <td>0</td>\n",
       "      <td>0</td>\n",
       "      <td>0</td>\n",
       "      <td>1.0</td>\n",
       "      <td>The comment is a professional, constructive te...</td>\n",
       "    </tr>\n",
       "    <tr>\n",
       "      <th>224</th>\n",
       "      <td>2024-11-04 17:34:46+00:00</td>\n",
       "      <td>2616759015</td>\n",
       "      <td>https://github.com/pydantic/pydantic/issues/10726</td>\n",
       "      <td>@sydney-runkle @andrey-berenda \\r\\n\\r\\nI agree...</td>\n",
       "      <td>NONE</td>\n",
       "      <td>ClaytonAndTheClayTones</td>\n",
       "      <td>0</td>\n",
       "      <td>0</td>\n",
       "      <td>0</td>\n",
       "      <td>0</td>\n",
       "      <td>0</td>\n",
       "      <td>1</td>\n",
       "      <td>0</td>\n",
       "      <td>0</td>\n",
       "      <td>2.0</td>\n",
       "      <td>The comment is technically critical but profes...</td>\n",
       "    </tr>\n",
       "    <tr>\n",
       "      <th>225</th>\n",
       "      <td>2024-11-04 17:44:36+00:00</td>\n",
       "      <td>2616759015</td>\n",
       "      <td>https://github.com/pydantic/pydantic/issues/10726</td>\n",
       "      <td>From my point of view it is not backward compa...</td>\n",
       "      <td>NONE</td>\n",
       "      <td>andrey-berenda</td>\n",
       "      <td>1</td>\n",
       "      <td>0</td>\n",
       "      <td>0</td>\n",
       "      <td>0</td>\n",
       "      <td>0</td>\n",
       "      <td>0</td>\n",
       "      <td>0</td>\n",
       "      <td>0</td>\n",
       "      <td>2.0</td>\n",
       "      <td>The comment is professional and constructive, ...</td>\n",
       "    </tr>\n",
       "    <tr>\n",
       "      <th>226</th>\n",
       "      <td>2024-11-04 18:03:51+00:00</td>\n",
       "      <td>2616759015</td>\n",
       "      <td>https://github.com/pydantic/pydantic/issues/10726</td>\n",
       "      <td>&gt; From my point of view it is not backward com...</td>\n",
       "      <td>NONE</td>\n",
       "      <td>ClaytonAndTheClayTones</td>\n",
       "      <td>1</td>\n",
       "      <td>0</td>\n",
       "      <td>0</td>\n",
       "      <td>0</td>\n",
       "      <td>0</td>\n",
       "      <td>0</td>\n",
       "      <td>0</td>\n",
       "      <td>0</td>\n",
       "      <td>1.0</td>\n",
       "      <td>The comment is entirely constructive, respectf...</td>\n",
       "    </tr>\n",
       "  </tbody>\n",
       "</table>\n",
       "</div>"
      ],
      "text/plain": [
       "                     datetime  ...                             toxicity_llm_rationale\n",
       "203 2024-11-04 12:52:48+00:00  ...  The comment is professional, constructive, and...\n",
       "223 2024-11-04 17:27:59+00:00  ...  The comment is a professional, constructive te...\n",
       "224 2024-11-04 17:34:46+00:00  ...  The comment is technically critical but profes...\n",
       "225 2024-11-04 17:44:36+00:00  ...  The comment is professional and constructive, ...\n",
       "226 2024-11-04 18:03:51+00:00  ...  The comment is entirely constructive, respectf...\n",
       "\n",
       "[5 rows x 16 columns]"
      ]
     },
     "execution_count": 38,
     "metadata": {},
     "output_type": "execute_result"
    }
   ],
   "source": [
    "# Filter for rows where toxicity_llm_score is not null/NaN\n",
    "filtered_df = df[df['toxicity_llm_score'].notna()]\n",
    "filtered_df.head()"
   ]
  },
  {
   "cell_type": "code",
   "execution_count": 44,
   "metadata": {},
   "outputs": [
    {
     "data": {
      "application/vnd.plotly.v1+json": {
       "config": {
        "plotlyServerURL": "https://plot.ly"
       },
       "data": [
        {
         "customdata": [
          "@dhorkel, Thanks for the report. Indeed, looks<br>like a bug. I'm not sure how much support we offer<br>for `PrivateAttr`, so I'm not necessarily<br>surprised that this doesn't work at the moment.<br>PRs welcome against `mypy.py` to add support for<br>this :).",
          "Hey @ClaytonAndTheClayTones, Feel free, thanks! I<br>think the point is that if `None` is provided, it<br>should have an error more similar to that of `str`<br>when `None` is provided that touches on the<br>missing nature of the value. The fix should be in<br>`pydantic-core`.",
          "@sydney-runkle @andrey-berenda I agree with<br>Sydney, I build a LOT of RESTful APIs and None,<br>empty string, undefined, null, whatever should all<br>be considered \"nothing\". So in the case \"MyUUID\"<br>is a required UUID in pydantic, supplying ``` { }<br>``` or ``` { \"MyUUID\" : None } ``` Are<br>functionally the same thing. You've failed to<br>provide a value for the required field and the<br>error message should indicate that. This is less a<br>\"python\" thing and more a standard API consumer<br>expectation IMO. I won't be issuing a fix, and all<br>my periphery tests currently assert the slightly<br>suboptimal behaviour pydantic is already doing, I<br>just wanted to let pydantic folks know. If someone<br>does issue a fix then that's awesome and my tests<br>will fail for a few minutes :D",
          "From my point of view it is not backward<br>compatible changes and it should not be changed in<br>minor version Sometimes I use `PATCH` method and<br>if I want to set `None`, I send `None`, If I do<br>not want to update the field I do not send this<br>field. So `missing` and `None` is quite different<br>in some scenario",
          "> From my point of view it is not backward<br>compatible changes and it should not be changed in<br>minor version > > Sometimes I use `PATCH` method<br>and if I want to set `None`, I send `None`, If I<br>do not want to update the field I do not send this<br>field. > > So `missing` and `None` is quite<br>different in some scenario 100% agree on both the<br>Major version change (or maybe never, because like<br>you said, backwards compatability). Also agree on<br>the PATCH, that's how I do PATCH as well, and it<br>gets a little tricky in Python. One of the things<br>I miss about Typescript is that ternary<br>existential state of undefined/null/valued Thanks<br>for looking at my issue everyone :)",
          "Hmm, I feel like this would be ok to fix in a<br>minor version - it's just a warning message, and<br>it's more consistent with our other types. It's<br>different if the case is `UUID | None`, in which a<br>value of `None` is acceptable, and shouldn't raise<br>a warning... Can chat with the team about this on<br>Thursday if you folks would like.",
          "@phdowling, Thanks for reporting this! I think<br>this should work. My hunch here is that it's not<br>working because when we rebuild the first time, we<br>set the `annotation` for `f` to `str` on the<br>`MyModel.model_fields['f']` `FieldInfo` instance,<br>and we check that during the next schema rebuild.<br>Because it's set, we don't go through the<br>forwardref eval logic that we normally would.<br>@Viicos, I know you're working on a `FieldInfo`<br>refactor right now. Wdyt about next steps here?",
          "I think it would be easier to implement at field<br>level in the Field class, so the callable acts on<br>a single field. I see a global callable acting on<br>all the fields at once returning a boolean, a bit<br>complicated, because all fields should evaluate a<br>similar property, which is difficult when there<br>are a large variety of types",
          "@samuelcolvin, Looking closer, this change was<br>intentional, see [this<br>comment](https://github.com/pydantic/pydantic/pull/10675/files#r1813085109).<br>I do think we can make a fix to have different<br>behavior by default for typed dicts and<br>dataclasses. Other notes about future development:<br>* It's on my todo list to remove the<br>`extra_behavior` setting from the core schema for<br>model like fields, and just pull from `config`. It<br>seems redundant and error prone to have that<br>setting in two places. * Additionally, you<br>indicated<br>[here](https://github.com/pydantic/pydantic-core/issues/1522)<br>that we can drop support for extra in typed dicts<br>all together, but typed dicts are soon going to<br>add support for extra values, so maybe we want to<br>hold off on this?",
          "In some ways, this is more consistent with models<br>and dataclasses, where the `extra_behavior` spec<br>on `core_schema` wasn't considered when generating<br>json schema in previous versions: ```py from<br>pydantic import ValidationError, BaseModel from<br>devtools import debug from pydantic.json_schema<br>import GenerateJsonSchema from pydantic_core<br>import SchemaValidator, core_schema class<br>Model(BaseModel): a: int b: int schema =<br>core_schema.model_schema( Model,<br>core_schema.model_fields_schema( { 'a':<br>core_schema.model_field(core_schema.int_schema()),<br>'b':<br>core_schema.model_field(core_schema.int_schema()),<br>}, ), extra_behavior='forbid', ) json_schema =<br>GenerateJsonSchema().generate(schema)<br>debug(json_schema) \"\"\" json_schema: {<br>'properties': { 'a': { 'title': 'A', 'type':<br>'integer', }, 'b': { 'title': 'B', 'type':<br>'integer', }, }, 'required': ['a', 'b'], 'title':<br>'Model', 'type': 'object', } \"\"\" ```",
          "We can chat about final behavior in our oss sync<br>this morning 👍",
          "I can definitely support this at the field-level;<br>for example Rust's serde has `skip_serializing_if`<br>which is set at the field level.",
          "Nice! Happy to help with if you are not planning<br>to take it",
          "although this takes away the flexibility of being<br>able to choose different filters when needed, for<br>example, perhaps there is also the scenario where<br>the dump must be run without excludes to avoid<br>problems with exclude_unset in the future (which<br>fortunately is not my case, but this can to<br>happen)",
          "Leaving this issue open, because I think we<br>should change the default for dataclasses and<br>typed dicts. That being said, you can get the<br>expected behavior with: ```py from pydantic import<br>__version__ as pydantic_version, ValidationError,<br>ConfigDict from devtools import debug from<br>pydantic.json_schema import GenerateJsonSchema<br>from pydantic_core import SchemaValidator,<br>core_schema, __version__ as pydantic_core_version,<br>CoreConfig from typing import TypedDict<br>debug(pydantic_version, pydantic_core_version)<br>class TD(TypedDict): a: int b: int<br>__pydantic_config__ = ConfigDict(extra='forbid')<br>schema = core_schema.typed_dict_schema( cls=TD,<br>fields={ 'a':<br>core_schema.typed_dict_field(core_schema.int_schema()),<br>'b':<br>core_schema.typed_dict_field(core_schema.int_schema()),<br>},<br>config=CoreConfig(extra_fields_behavior='forbid'),<br>) json_schema =<br>GenerateJsonSchema().generate(schema)<br>debug(json_schema) \"\"\" json_schema: {<br>'additionalProperties': False, 'properties': {<br>'a': { 'title': 'A', 'type': 'integer', }, 'b': {<br>'title': 'B', 'type': 'integer', }, }, 'required':<br>['a', 'b'], 'title': 'TD', 'type': 'object', } \"\"\"<br>v = SchemaValidator(schema) try:<br>v.validate_python({'a': 1, 'b': 2, 'c': 3}) except<br>ValidationError as e: debug(e.errors()) else:<br>raise RuntimeError('Expected a validation error')<br>```",
          "@sydney-runkle I'd add that ```py schema =<br>core_schema.typed_dict_schema( { 'a':<br>core_schema.typed_dict_field(core_schema.int_schema()),<br>'b':<br>core_schema.typed_dict_field(core_schema.int_schema()),<br>},<br>config=core_schema.CoreConfig(extra_fields_behavior='forbid'),<br>) ``` Doesn't solve the problem — with both 2.9<br>and 2.10 `additionalProperties` is missing.",
          "Yep, as we pull off the `cls` it seems for this<br>case.",
          "I believe the current behavior is correct. From<br>your schema definition, setting null/None on<br>`some_id` or `name` should yield a type error. A<br>single model might not be able to capture the<br>fundamental semantics of two different use cases.<br>You might need to define two different models. For<br>example, consider a `User` interacting with a<br>`UserService`. I can define a model of `User(id:<br>None | int, name: str, age: str)` but this can<br>fundamentally have type errors. (Sometimes you can<br>be a little loose here, it depends on your<br>requirements and the context of the problem).<br>```python from pydantic import BaseModel class<br>User(BaseModel): id: None | int name: str age: int<br>u1:User = UserService.create_user(User(name=\"A\",<br>age=20)) # this will ignore the id, or asserts the<br>value is None # User(1, \"A\", 20) u2: User =<br>Service.get_user_by_id(2) # User(2, \"B\", 30) this<br>might have a int id, but *could* be None. ```<br>Versus: ```python from pydantic import BaseModel<br>class User(BaseModel): id: int name: str age: int<br>class UserCreate(BaseModel): name: str age: int<br>u1: User =<br>Service.create_user(UserCreate(name=\"A\", age=20))<br># User(1, \"A\", 20) u2:User =<br>Service.get_user_by_id(2) # User(2, \"B\", 30) ```<br>The second case (while more verbose) is<br>fundamentally type-safe and you can lean on `mypy`<br>more and the rest of you code base doesn't have to<br>deal with the possibility of the User `id` being<br>nullable.",
          "Hi! Thanks for the question. This reminds me of<br>https://github.com/pydantic/pydantic/issues/8277 -<br>we need some better documentation here :). We<br>offer<br>[this](https://docs.pydantic.dev/latest/concepts/validators/#ordering-of-validators-within-annotated)<br>section of the docs, but it doesn't address all of<br>your questions here.",
          "Perhaps I could close this as a duplicate, but we<br>can add that docs issue to our upcoming milestone<br>and reference your questions here as well?",
          "Hi, have scoured existing open and closed issues<br>and have run into and read this<br>[#8277](https://github.com/pydantic/pydantic/issues/8277)<br>already. Also read the existing documentation,<br>including this section about ordering of<br>validators within `Annotated`. However, still<br>decided to create a new issue because: - I felt my<br>use case wasn't covered by<br>[#8277](https://github.com/pydantic/pydantic/issues/8277)<br>or any other issue I found. This<br>[#8277](https://github.com/pydantic/pydantic/issues/8277)<br>shows a code example that is already covered by<br>existing documentation, but maybe not clearly<br>enough. I wouldn't be expecting a `before`<br>validator to run before a `wrap` validator because<br>[this<br>section](https://docs.pydantic.dev/latest/concepts/validators/#before-after-wrap-and-plain-validators)<br>of the documentation says the following: > Wrap<br>validators are the most flexible of all. You can<br>run code **before or after Pydantic and other<br>validators do their thing** or you can terminate<br>validation immediately, both with a successful<br>value or an error. - I haven't found an existing<br>issue that addresses validation order when you<br>have model inheritance (this<br>[#8277](https://github.com/pydantic/pydantic/issues/8277)<br>has everything in a single class). Model<br>inheritance does introduce a new \"dimension\"<br>because you can have a combination of validators<br>of different types, some defined on the base<br>class(es), some defined on the subclass(es). I<br>would personally expect that Pydantic runs these<br>validators in such a way that is equivalent to<br>having a single class. If you have all three types<br>of validators on a single class, the order of<br>execution would be in line with the documentation<br>(specifically, that paragraph I quoted in the<br>previous point): ``` BEGIN base_wrap_validator<br>base_before_validator base_after_validator END<br>base_wrap_validator ``` If you compare this with<br>the order of execution when you have a base class<br>and a subclass, you can clearly see that the<br>`sub_after_validator` is an \"outlier\". - The<br>documentation regarding ordering within<br>`Annotated` seems clear to me, but this doesn't<br>really apply to inheritance. It all boils down to<br>the question is this behavior (where an `after`<br>subclass validator isn't being \"wrapped\" by a<br>`wrap` base class validator) by design or is it a<br>bug. If it's by design, for whatever reason, then,<br>I guess, the only thing missing is documentation<br>specifically saying that **the ordering of<br>validators is different when you have a class<br>hierarchy than when you have a single class**. If<br>this<br>[#8277](https://github.com/pydantic/pydantic/issues/8277)<br>represents the issue for this missing<br>documentation, then my issue could indeed be<br>marked as a duplicate of it :)",
          "I upgraded to the 2.10 beta and I was surprised<br>by the new behavior of urls (seems like new Url<br>classes miss smart equality): ```python assert<br>AnyHttpUrl('https://pydantic/') ==<br>AnyHttpUrl('https://pydantic/') # AssertionError<br>``` ``` pydantic version: 2.10.0b1 pydantic-core<br>version: 2.26.0 ```",
          "@emaheuxPEREN, Thanks for reporting. Will fix<br>this for the official v2.10 release :).",
          "I think the API to specify validation for extra<br>fields is a bit flawed. While specifying it as an<br>annotation is beneficial as you can then easily<br>type check attribute accesses to<br>`__pydantic_extra__`, there's a couple issues<br>arising from this: - type checkers treat<br>`__pydantic_extra__` as a field, so using `=<br>Field(init=False)` is necessary as an ugly<br>workaround - if you set `extra` to `'allow'`<br>without redefining `__pydantic_extra__` (because<br>you don't want any specific validation to be<br>applied), `__pydantic_extra__` is still annotated<br>as `dict[str, Any] | None`, although at runtime it<br>is guaranteed to _not_ be `None` - you get the the<br>pyright error because it is theorically unsafe to<br>narrow the annotation, as `__pydantic_extra__` is<br>considered mutable (see an explanation with a<br>similar example<br>[here](https://github.com/pydantic/pydantic/issues/10699#issuecomment-2435517867)).<br>In practice, I don't expect anyone to mutate the<br>`__pydantic_extra__` dictionary directly. In fact,<br>we provide a `model_extra` property to access the<br>extra values. It is also flawed because the type<br>of this property does not reflect the possibly<br>overridden `__pydantic_extra__` annotation. I<br>can't come up with a good API immediately, however<br>one thing that is certain is that we will have to<br>break the existing API if we ever want to make<br>changes here. As such, marking this issue as<br>https://github.com/pydantic/pydantic/labels/v3. In<br>the meanwhile, you can add a `pyright:<br>ignore[reportIncompatibleVariableOverride]`<br>comment or disable the error code at the project<br>level (enabling this error code is debatable, see<br>https://github.com/microsoft/pyright/issues/5933).",
          "Will address this after merging<br>https://github.com/pydantic/pydantic/pull/10537 :)",
          "## [CodSpeed Performance<br>Report](https://codspeed.io/pydantic/pydantic/branches/andresliszt:add/compare-as)<br>### Merging #10834 will **not alter performance**<br><sub>Comparing<br><code>andresliszt:add/compare-as</code> (35f2f43)<br>with <code>main</code> (9783bc8)</sub> ### Summary<br>`✅ 44` untouched benchmarks",
          "## Coverage report <img title=\"Coverage for the<br>whole project is 95.67%. Previous coverage rate is<br>not available, cannot report on evolution.\"<br>src=\"https://img.shields.io/badge/Coverage-95%25-orange.svg\"><br><img title=\"100% of the statement lines added by<br>this PR are covered\"<br>src=\"https://img.shields.io/badge/PR%20Coverage-100%25-brightgreen.svg\"><details><summary>Click<br>to see where and how coverage<br>changed</summary><table><thead><br><tr><th>File</th><th>Statements</th><th>Missing</th><th>Coverage</th><th>Coverage<br>(new<br>stmts)</th><th>Lines missing</th></tr> </thead><br><tbody><tr> <td<br>colspan=\"6\">&nbsp;&nbsp;<b>pydantic</b></td><tr><br><td>&nbsp;&nbsp;<a<br>href=\"https://github.com/pydantic/pydantic/pull/10834/files#diff-bfaaac2ae0a71d9686a272982d29d0bed82bfaacf8b5b30e2b88ed2543e74a3b\">fields.py</a></td><br><td align=\"center\"><a<br>href=\"https://github.com/pydantic/pydantic/pull/10834/files#diff-bfaaac2ae0a71d9686a272982d29d0bed82bfaacf8b5b30e2b88ed2543e74a3b\"><img<br>title=\"This PR adds 457 statements to<br>pydantic/fields.py. The file did not seem to exist<br>on the base branch.\"<br>src=\"https://img.shields.io/badge/457-%28%2B457%29-007ec6.svg\"></a></td><td<br>align=\"center\"><a<br>href=\"https://github.com/pydantic/pydantic/pull/10834/files#diff-bfaaac2ae0a71d9686a272982d29d0bed82bfaacf8b5b30e2b88ed2543e74a3b\"><img<br>title=\"This PR adds 3 statements missing coverage<br>to pydantic/fields.py. The file did not seem to<br>exist on the base branch.\"<br>src=\"https://img.shields.io/badge/3-%28%2B3%29-red.svg\"></a></td><td<br>align=\"center\"><a<br>href=\"https://github.com/pydantic/pydantic/pull/10834/files#diff-bfaaac2ae0a71d9686a272982d29d0bed82bfaacf8b5b30e2b88ed2543e74a3b\"><img<br>title=\"The coverage rate of pydantic/fields.py is<br>98.74% (454/457). The file did not seem to exist<br>on the base branch.\"<br>src=\"https://img.shields.io/badge/98%25-%28454/457%29-orange.svg\"></a></td><td<br>align=\"center\"><a<br>href=\"https://github.com/pydantic/pydantic/pull/10834/files#diff-bfaaac2ae0a71d9686a272982d29d0bed82bfaacf8b5b30e2b88ed2543e74a3b\"><img<br>title=\"In this PR, 14 new statements are added to<br>pydantic/fields.py, 14 of which are covered<br>(100%).\"<br>src=\"https://img.shields.io/badge/100%25-%2814/14%29-brightgreen.svg\"></a></td><td></td><tr><br><td>&nbsp;&nbsp;<a<br>href=\"https://github.com/pydantic/pydantic/pull/10834/files#diff-8708af8d26c26644976866f974e0b810b0940ede43ff487e457057d5a1f07999\">main.py</a></td><br><td align=\"center\"><a<br>href=\"https://github.com/pydantic/pydantic/pull/10834/files#diff-8708af8d26c26644976866f974e0b810b0940ede43ff487e457057d5a1f07999\"><img<br>title=\"This PR adds 536 statements to<br>pydantic/main.py. The file did not seem to exist<br>on the base branch.\"<br>src=\"https://img.shields.io/badge/536-%28%2B536%29-007ec6.svg\"></a></td><td<br>align=\"center\"><a<br>href=\"https://github.com/pydantic/pydantic/pull/10834/files#diff-8708af8d26c26644976866f974e0b810b0940ede43ff487e457057d5a1f07999\"><img<br>title=\"This PR adds 5 statements missing coverage<br>to pydantic/main.py. The file did not seem to<br>exist on the base branch.\"<br>src=\"https://img.shields.io/badge/5-%28%2B5%29-red.svg\"></a></td><td<br>align=\"center\"><a<br>href=\"https://github.com/pydantic/pydantic/pull/10834/files#diff-8708af8d26c26644976866f974e0b810b0940ede43ff487e457057d5a1f07999\"><img<br>title=\"The coverage rate of pydantic/main.py is<br>98.75% (531/536). The file did not seem to exist<br>on the base branch.\"<br>src=\"https://img.shields.io/badge/98%25-%28531/536%29-orange.svg\"></a></td><td<br>align=\"center\"><a<br>href=\"https://github.com/pydantic/pydantic/pull/10834/files#diff-8708af8d26c26644976866f974e0b810b0940ede43ff487e457057d5a1f07999\"><img<br>title=\"In this PR, 2 new statements are added to<br>pydantic/main.py, 2 of which are covered (100%).\"<br>src=\"https://img.shields.io/badge/100%25-%282/2%29-brightgreen.svg\"></a></td><td></td></tbody><br><tfoot> <tr> <td><b>Project Total</b></td> <td<br>align=\"center\"><a<br>href=\"https://github.com/pydantic/pydantic/pull/10834/files#diff-4b0bf2efa3367c0072ac2bf1e234e703dc46b47aaa4fe9d3b01737b1a15752b1\"><img<br>title=\"This PR adds 9932 statements to the whole<br>project. The file did not seem to exist on the<br>base branch.\"<br>src=\"https://img.shields.io/badge/9.9k-%28%2B9932%29-007ec6.svg\"></a></td><td<br>align=\"center\"><a<br>href=\"https://github.com/pydantic/pydantic/pull/10834/files#diff-4b0bf2efa3367c0072ac2bf1e234e703dc46b47aaa4fe9d3b01737b1a15752b1\"><img<br>title=\"This PR adds 320 statements missing<br>coverage to the whole project. The file did not<br>seem to exist on the base branch.\"<br>src=\"https://img.shields.io/badge/320-%28%2B320%29-red.svg\"></a></td><td<br>align=\"center\"><a<br>href=\"https://github.com/pydantic/pydantic/pull/10834/files#diff-4b0bf2efa3367c0072ac2bf1e234e703dc46b47aaa4fe9d3b01737b1a15752b1\"><img<br>title=\"The coverage rate of the whole project is<br>95.67% (9612/9932). The file did not seem to exist<br>on the base branch.\"<br>src=\"https://img.shields.io/badge/95%25-%289.6k/9.9k%29-orange.svg\"></a></td><td<br>align=\"center\"><a<br>href=\"https://github.com/pydantic/pydantic/pull/10834/files#diff-4b0bf2efa3367c0072ac2bf1e234e703dc46b47aaa4fe9d3b01737b1a15752b1\"><img<br>title=\"In this PR, 16 new statements are added to<br>the whole project, 16 of which are covered<br>(100%).\"<br>src=\"https://img.shields.io/badge/100%25-%2816/16%29-brightgreen.svg\"></a></td><td>&nbsp;</td><br></tr> </tfoot> </table> <sub> This report was<br>generated by<br>[python-coverage-comment-action](https://github.com/py-cov-action/python-coverage-comment-action)<br></sub> </details> <!-- This comment was produced<br>by python-coverage-comment-action -->",
          "please review",
          "@samuelcolvin, Why does that method not support<br>`allow_partial` in `pydantic-core`?",
          "@andresliszt, Thanks for the PR. Looks like there<br>are a couple of solutions available on this front,<br>including this one, plus: *<br>https://github.com/pydantic/pydantic-core/pull/1490<br>*<br>https://github.com/pydantic/pydantic-core/pull/1114<br>Sorry for our review delays here. I've pinged<br>@davidhewitt to see what he thinks regarding the<br>best way forward here. We're eager to get a fix<br>for this / related issues into v2.11!",
          "> @andresliszt, > > Thanks for the PR. Looks like<br>there are a couple of solutions available on this<br>front, including this one, plus: > > * [Fix<br>`exclude_defaults` when value's `__eq__` method<br>raises an exception.<br>pydantic-core#1490](https://github.com/pydantic/pydantic-core/pull/1490)<br>> * [add default comparison<br>pydantic-core#1114](https://github.com/pydantic/pydantic-core/pull/1114)<br>> > Sorry for our review delays here. I've pinged<br>@davidhewitt to see what he thinks regarding the<br>best way forward here. We're eager to get a fix<br>for this / related issues into v2.11! Nice! Yeah I<br>openned [add default<br>comparison](https://github.com/pydantic/pydantic-core/pull/1114),<br>this is a generalization. In that PR the callable<br>was used only to compare default values, which is<br>done in Rust. The `compare_as` callable is used in<br>the pydantic `BaseModel.__eq__` and also can be<br>forwarded to the Rust side to exclude default<br>values.",
          "The delayed stringification doesn't feel worth<br>the effort here.",
          "## Deploying pydantic-docs with &nbsp;<a<br>href=\"https://pages.dev\"><img alt=\"Cloudflare<br>Pages\"<br>src=\"https://user-images.githubusercontent.com/23264/106598434-9e719e00-654f-11eb-9e59-6167043cfa01.png\"<br>width=\"16\"></a> &nbsp;Cloudflare Pages<br><table><tr><td><strong>Latest commit:</strong><br></td><td> <code>4c4e604</code> </td></tr><br><tr><td><strong>Status:</strong></td><td>&nbsp;✅&nbsp;<br>Deploy successful!</td></tr><br><tr><td><strong>Preview URL:</strong></td><td> <a<br>href='https://6beee147.pydantic-docs.pages.dev'>https://6beee147.pydantic-docs.pages.dev</a><br></td></tr> <tr><td><strong>Branch Preview<br>URL:</strong></td><td> <a<br>href='https://perf-remove-prep-anns.pydantic-docs.pages.dev'>https://perf-remove-prep-anns.pydantic-docs.pages.dev</a><br></td></tr> </table> [View<br>logs](https://dash.cloudflare.com/?to=/:account/pages/view/pydantic-docs/6beee147-5aa2-4a21-a356-2b11bea7e850)",
          "## [CodSpeed Performance<br>Report](https://codspeed.io/pydantic/pydantic/branches/perf-remove-prep-anns)<br>### Merging #10846 will **not alter performance**<br><sub>Comparing <code>perf-remove-prep-anns</code><br>(4c4e604) with <code>main</code> (3cb6852)</sub><br>### Summary `✅ 46` untouched benchmarks",
          "## Coverage report <img title=\"Coverage for the<br>whole project is 95.7%. Previous coverage rate is<br>not available, cannot report on evolution.\"<br>src=\"https://img.shields.io/badge/Coverage-95%25-orange.svg\"><br><img title=\"75.86% of the statement lines added by<br>this PR are covered\"<br>src=\"https://img.shields.io/badge/PR%20Coverage-75%25-orange.svg\"><details><summary>Click<br>to see where and how coverage<br>changed</summary><table><thead><br><tr><th>File</th><th>Statements</th><th>Missing</th><th>Coverage</th><th>Coverage<br>(new<br>stmts)</th><th>Lines missing</th></tr> </thead><br><tbody><tr> <td<br>colspan=\"6\">&nbsp;&nbsp;<b>pydantic/_internal</b></td><tr><br><td>&nbsp;&nbsp;<a<br>href=\"https://github.com/pydantic/pydantic/pull/10846/files#diff-2ebfa892ec1d09440eefd4b22f488ec38c1cde365394e5a4cea6edb484827ba5\">_generate_schema.py</a></td><br><td align=\"center\"><a<br>href=\"https://github.com/pydantic/pydantic/pull/10846/files#diff-2ebfa892ec1d09440eefd4b22f488ec38c1cde365394e5a4cea6edb484827ba5\"><img<br>title=\"This PR adds 1219 statements to<br>pydantic/_internal/_generate_schema.py. The file<br>did not seem to exist on the base branch.\"<br>src=\"https://img.shields.io/badge/1.2k-%28%2B1219%29-007ec6.svg\"></a></td><td<br>align=\"center\"><a<br>href=\"https://github.com/pydantic/pydantic/pull/10846/files#diff-2ebfa892ec1d09440eefd4b22f488ec38c1cde365394e5a4cea6edb484827ba5\"><img<br>title=\"This PR adds 46 statements missing coverage<br>to pydantic/_internal/_generate_schema.py. The<br>file did not seem to exist on the base branch.\"<br>src=\"https://img.shields.io/badge/46-%28%2B46%29-red.svg\"></a></td><td<br>align=\"center\"><a<br>href=\"https://github.com/pydantic/pydantic/pull/10846/files#diff-2ebfa892ec1d09440eefd4b22f488ec38c1cde365394e5a4cea6edb484827ba5\"><img<br>title=\"The coverage rate of<br>pydantic/_internal/_generate_schema.py is 95.34%<br>(1173/1219). The file did not seem to exist on the<br>base branch.\"<br>src=\"https://img.shields.io/badge/95%25-%281.2k/1.2k%29-orange.svg\"></a></td><td<br>align=\"center\"><a<br>href=\"https://github.com/pydantic/pydantic/pull/10846/files#diff-2ebfa892ec1d09440eefd4b22f488ec38c1cde365394e5a4cea6edb484827ba5\"><img<br>title=\"In this PR, 28 new statements are added to<br>pydantic/_internal/_generate_schema.py, 21 of<br>which are covered (75%).\"<br>src=\"https://img.shields.io/badge/75%25-%2821/28%29-orange.svg\"></a></td><td><a<br>href=\"https://github.com/pydantic/pydantic/pull/10846/files#diff-2ebfa892ec1d09440eefd4b22f488ec38c1cde365394e5a4cea6edb484827ba5R488-R488\">488</a>,<br><a<br>href=\"https://github.com/pydantic/pydantic/pull/10846/files#diff-2ebfa892ec1d09440eefd4b22f488ec38c1cde365394e5a4cea6edb484827ba5R501-R504\">501-504</a>,<br><a<br>href=\"https://github.com/pydantic/pydantic/pull/10846/files#diff-2ebfa892ec1d09440eefd4b22f488ec38c1cde365394e5a4cea6edb484827ba5R506-R506\">506</a>,<br><a<br>href=\"https://github.com/pydantic/pydantic/pull/10846/files#diff-2ebfa892ec1d09440eefd4b22f488ec38c1cde365394e5a4cea6edb484827ba5R509-R510\">509-510</a></td><tr><br><td>&nbsp;&nbsp;<a<br>href=\"https://github.com/pydantic/pydantic/pull/10846/files#diff-959dee2a7f31e694d77205bc1702c62aa4bf6fe0cbc47e2559452ba052e61cf5\">_std_types_schema.py</a></td><br><td align=\"center\"><a<br>href=\"https://github.com/pydantic/pydantic/pull/10846/files#diff-959dee2a7f31e694d77205bc1702c62aa4bf6fe0cbc47e2559452ba052e61cf5\"><img<br>title=\"This PR adds 132 statements to<br>pydantic/_internal/_std_types_schema.py. The file<br>did not seem to exist on the base branch.\"<br>src=\"https://img.shields.io/badge/132-%28%2B132%29-007ec6.svg\"></a></td><td<br>align=\"center\"><a<br>href=\"https://github.com/pydantic/pydantic/pull/10846/files#diff-959dee2a7f31e694d77205bc1702c62aa4bf6fe0cbc47e2559452ba052e61cf5\"><img<br>title=\"This PR adds 7 statements missing coverage<br>to pydantic/_internal/_std_types_schema.py. The<br>file did not seem to exist on the base branch.\"<br>src=\"https://img.shields.io/badge/7-%28%2B7%29-red.svg\"></a></td><td<br>align=\"center\"><a<br>href=\"https://github.com/pydantic/pydantic/pull/10846/files#diff-959dee2a7f31e694d77205bc1702c62aa4bf6fe0cbc47e2559452ba052e61cf5\"><img<br>title=\"The coverage rate of<br>pydantic/_internal/_std_types_schema.py is 92.52%<br>(125/132). The file did not seem to exist on the<br>base branch.\"<br>src=\"https://img.shields.io/badge/92%25-%28125/132%29-orange.svg\"></a></td><td<br>align=\"center\"><a<br>href=\"https://github.com/pydantic/pydantic/pull/10846/files#diff-959dee2a7f31e694d77205bc1702c62aa4bf6fe0cbc47e2559452ba052e61cf5\"><img<br>title=\"In this PR, 1 new statements are added to<br>pydantic/_internal/_std_types_schema.py, 1 of<br>which are covered (100%).\"<br>src=\"https://img.shields.io/badge/100%25-%281/1%29-brightgreen.svg\"></a></td><td></td></tbody><br><tfoot> <tr> <td><b>Project Total</b></td> <td<br>align=\"center\"><a<br>href=\"https://github.com/pydantic/pydantic/pull/10846/files#diff-4b0bf2efa3367c0072ac2bf1e234e703dc46b47aaa4fe9d3b01737b1a15752b1\"><img<br>title=\"This PR adds 9898 statements to the whole<br>project. The file did not seem to exist on the<br>base branch.\"<br>src=\"https://img.shields.io/badge/9.9k-%28%2B9898%29-007ec6.svg\"></a></td><td<br>align=\"center\"><a<br>href=\"https://github.com/pydantic/pydantic/pull/10846/files#diff-4b0bf2efa3367c0072ac2bf1e234e703dc46b47aaa4fe9d3b01737b1a15752b1\"><img<br>title=\"This PR adds 315 statements missing<br>coverage to the whole project. The file did not<br>seem to exist on the base branch.\"<br>src=\"https://img.shields.io/badge/315-%28%2B315%29-red.svg\"></a></td><td<br>align=\"center\"><a<br>href=\"https://github.com/pydantic/pydantic/pull/10846/files#diff-4b0bf2efa3367c0072ac2bf1e234e703dc46b47aaa4fe9d3b01737b1a15752b1\"><img<br>title=\"The coverage rate of the whole project is<br>95.7% (9583/9898). The file did not seem to exist<br>on the base branch.\"<br>src=\"https://img.shields.io/badge/95%25-%289.6k/9.9k%29-orange.svg\"></a></td><td<br>align=\"center\"><a<br>href=\"https://github.com/pydantic/pydantic/pull/10846/files#diff-4b0bf2efa3367c0072ac2bf1e234e703dc46b47aaa4fe9d3b01737b1a15752b1\"><img<br>title=\"In this PR, 29 new statements are added to<br>the whole project, 22 of which are covered<br>(75.86%).\"<br>src=\"https://img.shields.io/badge/75%25-%2822/29%29-orange.svg\"></a></td><td>&nbsp;</td><br></tr> </tfoot> </table> <sub> This report was<br>generated by<br>[python-coverage-comment-action](https://github.com/py-cov-action/python-coverage-comment-action)<br></sub> </details> <!-- This comment was produced<br>by python-coverage-comment-action -->",
          "## Deploying pydantic-docs with &nbsp;<a<br>href=\"https://pages.dev\"><img alt=\"Cloudflare<br>Pages\"<br>src=\"https://user-images.githubusercontent.com/23264/106598434-9e719e00-654f-11eb-9e59-6167043cfa01.png\"<br>width=\"16\"></a> &nbsp;Cloudflare Pages<br><table><tr><td><strong>Latest commit:</strong><br></td><td> <code>925cf15</code> </td></tr><br><tr><td><strong>Status:</strong></td><td>&nbsp;✅&nbsp;<br>Deploy successful!</td></tr><br><tr><td><strong>Preview URL:</strong></td><td> <a<br>href='https://b4176d7a.pydantic-docs.pages.dev'>https://b4176d7a.pydantic-docs.pages.dev</a><br></td></tr> <tr><td><strong>Branch Preview<br>URL:</strong></td><td> <a<br>href='https://build-313.pydantic-docs.pages.dev'>https://build-313.pydantic-docs.pages.dev</a><br></td></tr> </table> [View<br>logs](https://dash.cloudflare.com/?to=/:account/pages/view/pydantic-docs/b4176d7a-93d0-43fe-9851-266e5caa85ad)",
          "You might be able to use `__pydantic_complete__`<br>Probably resorting to a `getattr` is a safe bet<br>for now, though :).",
          "I noticed that #10662 introduced a regression<br>(for lack of a better word) versus 2.9.2, but I<br>admit it's somewhat debatable. So I thought I'd<br>start with a question here rather than to create a<br>dedicated ticket. The root of the url hierarchy<br>(at least conceptually, because there was no<br>inheritance involved) used to be `AnyUrl`, which<br>was an alias to<br>`pydantic_core._pydantic_core.Url`. Other url<br>types were annotated versions of the same type.<br>Since #10662 this is no longer the case, instead<br>`pydantic.networks._BaseUrl` is now the root of<br>the hierarchy. I have two concerns regarding this:<br>1. the docstring that was added to `AnyUrl` in the<br>above-linked PR declares that it is the \"Base type<br>for all URLs\". This doesn't seem to be accurate.<br>Is the docstring wrong, or is the implementation<br>supposed to match this description? 2. `_BaseUrl`<br>is not part of the public / stable API. So it<br>doesn't seem to be possible anymore to express<br>\"any url *type*, don't care which\" to represent<br>the actual object (i.e. outside of pydantic<br>parsing). The case where I'm observing this change<br>of behavior is quite niche and deals with an<br>`issubclass(..., AnyUrl)` check, which might be<br>considered outside of pydantic's contract anyway,<br>but below is an example that I think might have<br>some relevance, though I could also see how you'd<br>consider it to be within the bounds of pydantic<br>validation's invariants. ```python import pydantic<br>http_url: pydantic.AnyHttpUrl =<br>pydantic.AnyHttpUrl(\"https://localhost\") assert<br>isinstance(http_url, pydantic.AnyUrl) # fails on<br>2.10.0b2, there's no way to achieve this anymore,<br>this is the case I personally care about most #<br>validate a Python object that is already a valid<br>url url: pydantic.AnyUrl =<br>pydantic.TypeAdapter(pydantic.AnyUrl).validate_python(http_url)<br>assert url is http_url # fails on 2.10.0b2 => url<br>is no longer an AnyHttpUrl, we lose dynamic type<br>information ``` @sydney-runkle how do you view<br>this change of behavior? Is it possible the<br>docstring is inaccurate? Is there any chance that<br>the top of the hierarchy could be exposed as part<br>of the public API (again)?",
          "> the docstring that was added to AnyUrl in the<br>above-linked PR declares that it is the \"Base type<br>for all URLs\". This doesn't seem to be accurate.<br>Is the docstring wrong, or is the implementation<br>supposed to match this description? Good point -<br>the docstring is wrong here. Will fix before<br>v2.10.0 next week. EDIT: given the below, it's<br>possible we should keep the docstring and change<br>inheritance patterns in this file. > _BaseUrl is<br>not part of the public / stable API. So it doesn't<br>seem to be possible anymore to express \"any url<br>type, don't care which\" to represent the actual<br>object (i.e. outside of pydantic parsing). I think<br>you can just use `AnyUrl` here? Regarding the case<br>above: ```py import pydantic http_url:<br>pydantic.AnyHttpUrl =<br>pydantic.AnyHttpUrl(\"https://localhost\") assert<br>isinstance(http_url, pydantic.AnyUrl) ``` Indeed,<br>this change is breaking, but we consider this an<br>improvement in behavior. The following used to<br>fail: ```py assert isinstance(http_url, pydantic.<br>AnyHttpUrl) ``` Which seems **more** problematic<br>than `assert isinstance(http_url,<br>pydantic.AnyUrl)` failing. ```py # validate a<br>Python object that is already a valid url url:<br>pydantic.AnyUrl =<br>pydantic.TypeAdapter(pydantic.AnyUrl).validate_python(http_url)<br>assert url is http_url ``` I understand the<br>concern here... hmm... maybe all types should<br>still subclass from `AnyUrl`, which is built atop<br>`_BaseUrl`. Let me chat with the team about this,<br>and we'll get back to you!",
          "Thanks so much for bringing this to our<br>attention. Your detailed explanation was very<br>helpful! You can disregard my justifications<br>above. I agree, we should preserve the `AnyUrl`<br>subclassing behavior. With<br>[this](https://github.com/pydantic/pydantic/pull/10856)<br>PR: * All of your assertions in the test code<br>above pass :) * `assert isinstance(http_url,<br>pydantic. AnyHttpUrl)` also passes * The docstring<br>on `AnyUrl` is now accurate :) We'll get this<br>across the line before v2.10.0 next week! Thanks<br>for trying out the beta.",
          "Great, thanks for the swift resolution!",
          "## Deploying pydantic-docs with &nbsp;<a<br>href=\"https://pages.dev\"><img alt=\"Cloudflare<br>Pages\"<br>src=\"https://user-images.githubusercontent.com/23264/106598434-9e719e00-654f-11eb-9e59-6167043cfa01.png\"<br>width=\"16\"></a> &nbsp;Cloudflare Pages<br><table><tr><td><strong>Latest commit:</strong><br></td><td> <code>0495519</code> </td></tr><br><tr><td><strong>Status:</strong></td><td>&nbsp;✅&nbsp;<br>Deploy successful!</td></tr><br><tr><td><strong>Preview URL:</strong></td><td> <a<br>href='https://2d49529c.pydantic-docs.pages.dev'>https://2d49529c.pydantic-docs.pages.dev</a><br></td></tr> <tr><td><strong>Branch Preview<br>URL:</strong></td><td> <a<br>href='https://type-ref-perf.pydantic-docs.pages.dev'>https://type-ref-perf.pydantic-docs.pages.dev</a><br></td></tr> </table> [View<br>logs](https://dash.cloudflare.com/?to=/:account/pages/view/pydantic-docs/2d49529c-5b5d-4a1c-aab8-2aa06cba64e4)",
          "## [CodSpeed Performance<br>Report](https://codspeed.io/pydantic/pydantic/branches/type-ref-perf)<br>### Merging #10863 will **improve performances by<br>32.37%** <sub>Comparing <code>type-ref-perf</code><br>(0495519) with <code>main</code> (debffa5)</sub><br>### Summary `⚡ 14` improvements `✅ 32` untouched<br>benchmarks ### Benchmarks breakdown | | Benchmark<br>| `main` | `type-ref-perf` | Change | | --- |<br>--------- | ----------------------- |<br>------------------- | ------ | | ⚡ |<br>`test_schema_build` | 3.3 ms | 3 ms | +9.93% | | ⚡<br>| `test_fastapi_startup_perf` | 251.2 ms | 222.7<br>ms | +12.82% | | ⚡ | `test_fastapi_startup_perf` |<br>30.7 ms | 29.1 ms | +5.46% | | ⚡ |<br>`test_complex_model_schema_generation` | 2.6 ms |<br>2 ms | +32.37% | | ⚡ |<br>`test_lots_of_models_with_lots_of_fields` | 3.3 s<br>| 2.9 s | +10.95% | | ⚡ |<br>`test_recursive_model_schema_generation` | 1.2 ms<br>| 1.1 ms | +11.87% | | ⚡ |<br>`test_simple_model_schema_generation` | 881.7 µs |<br>831.8 µs | +5.99% | | ⚡ |<br>`test_simple_model_schema_lots_of_fields_generation`<br>| 38.3 ms | 29 ms | +32.13% | | ⚡ |<br>`test_tagged_union_with_callable_discriminator_schema_generation`<br>| 1.9 ms | 1.8 ms | +8.8% | | ⚡ |<br>`test_deeply_nested_recursive_model_schema_generation`<br>| 1.5 ms | 1.4 ms | +6.2% | | ⚡ |<br>`test_generic_recursive_model_schema_generation` |<br>1,064.3 µs | 964.1 µs | +10.39% | | ⚡ |<br>`test_nested_recursive_generic_model_schema_generation`<br>| 2.2 ms | 1.8 ms | +16.97% | | ⚡ |<br>`test_nested_recursive_model_schema_generation` |<br>2.2 ms | 2 ms | +8.85% | | ⚡ |<br>`test_recursive_discriminated_union_with_base_model`<br>| 2 ms | 1.8 ms | +7.82% |",
          "@michaelheiser-taxa, Thanks for your question.<br>I'm guessing we'd have to add a `pattern`<br>specification to indicate the max digits and<br>decimal places constraints... I think a PR from<br>the community would be welcomed here, but this<br>isn't super high priority at the moment.",
          "I think the last thing to do here is the first<br>comment, which I'll do this week, or this is going<br>to get lost in the backlog.",
          "Looks similar to<br>https://github.com/pydantic/pydantic/issues/10839,<br>will chat with the team about this today",
          "Seems like we should support this, might require<br>some changes in `pydantic-core`. Help is welcome<br>here!",
          "Hi! You can use the `loc_by_alias` config setting<br>to get the desired behavior here: ```py from<br>pydantic import AliasChoices, Field, BaseModel,<br>ConfigDict class Model(BaseModel): a: str =<br>Field(validation_alias=AliasChoices(\"x\",\"y\")) b:<br>str =<br>Field(validation_alias=AliasChoices(\"x\",\"z\"))<br>model_config = ConfigDict(loc_by_alias=False) def<br>test_model_shared(): Model.model_validate({\"x\":<br>\"X\"}) def test_model_split():<br>Model.model_validate({\"y\": \"Y\",\"z\": \"Z\"}) def<br>test_model_weird(): Model(a=\"A\",b=\"B\")<br>test_model_shared() test_model_split()<br>test_model_weird() \"\"\"<br>pydantic_core._pydantic_core.ValidationError: 2<br>validation errors for Model a Field required<br>[type=missing, input_value={'a': 'A', 'b': 'B'},<br>input_type=dict] For further information visit<br>https://errors.pydantic.dev/2.10/v/missing b Field<br>required [type=missing, input_value={'a': 'A',<br>'b': 'B'}, input_type=dict] For further<br>information visit<br>https://errors.pydantic.dev/2.10/v/missing \"\"\" ```",
          "I wonder if our `loc_by_alias` config setting<br>should be expanded, to have: `loc_by` as `alias`,<br>`field_name`, or `input_value`. Seems like a good<br>way forward here, but we'll have to make things<br>backwards compatible.",
          "Seem like the current setting `loc_by_alias` does<br>not work as its name, right ? Is there anyway we<br>could achieve V1 result for now, I'm thinking<br>about a workaround by adding a `@field_validator`<br>then override the `ValidationError`.",
          "I don't think it is a viable option to remove<br>support for `__get_pydantic_core_schema__`. That's<br>pretty breaking. Happy to see what other folks<br>think as well.",
          "Cool. I think we want to move forward with an<br>approach similar to this one. We're pushing out<br>`v2.10` mid week this week, but would love to help<br>get this into v2.11, so will be more active in<br>helping get this across the line after the release<br>:)",
          "@Viicos, I think you had some ideas about how<br>`from_attributes` could be uitilized here",
          "I suspect this is a bit difficult to generalize<br>the \"expected\" semantics of what to copy and or<br>validate. It also looks like this is getting into<br>`+` territory and is perhaps better modeled by<br>implementing `__add__` with the appropriate<br>copy/validate semantics for their specific use<br>case. From the gist. ```python e0 =<br>ExampleState(b=dict(three=\"four\")) result =<br>model_replace(e0, ExampleState(a=42)) ``` Might be<br>better as: ```python result = e0 +<br>ExampleState(a=42) ``` It also looks a bit like a<br>Monoid to me, hence the `+`.",
          "Hi @sydney-runkle, may I please take up on this<br>issue?",
          "@sydney-runkle I still think the Error-Message is<br>misleading for `AliasChoices`. I would expect<br>something containing the choices like ``` E<br>pydantic_core._pydantic_core.ValidationError: 2<br>validation errors for Model E x|y E Field required<br>[type=missing, input_value={'a': 'A', 'b': 'B'},<br>input_type=dict] E For further information visit<br>https://errors.pydantic.dev/2.9/v/missing E x|z E<br>Field required [type=missing, input_value={'a':<br>'A', 'b': 'B'}, input_type=dict] E For further<br>information visit<br>https://errors.pydantic.dev/2.9/v/missing ```",
          "With `alias` and `AliasChoices` I would expect an<br>error as described here<br>https://github.com/pydantic/pydantic/issues/10839#issuecomment-2485247332<br>And probably a similar kind of version should be<br>used for `AliasPath` too",
          "Ah, I jumped the gun here on my review. Reread<br>your new description, excited to look again.",
          "Yeah, I think that's reasonable.",
          "As mentioned in #10866, I think `loc_by_alias`<br>has some issues right now.",
          "## [CodSpeed Performance<br>Report](https://codspeed.io/pydantic/pydantic/branches/MarkusSintonen:definitions-registry)<br>### Merging #10887 will **not alter performance**<br><sub>Comparing<br><code>MarkusSintonen:definitions-registry</code><br>(63fda0b) with <code>main</code> (addf1f9)</sub><br>### Summary `✅ 46` untouched benchmarks",
          "## Coverage report <img title=\"Coverage for the<br>whole project is 95.72%. Previous coverage rate is<br>not available, cannot report on evolution.\"<br>src=\"https://img.shields.io/badge/Coverage-95%25-orange.svg\"><br><img title=\"95.16% of the statement lines added by<br>this PR are covered\"<br>src=\"https://img.shields.io/badge/PR%20Coverage-95%25-orange.svg\"><details><summary>Click<br>to see where and how coverage<br>changed</summary><table><thead><br><tr><th>File</th><th>Statements</th><th>Missing</th><th>Coverage</th><th>Coverage<br>(new<br>stmts)</th><th>Lines missing</th></tr> </thead><br><tbody><tr> <td<br>colspan=\"6\">&nbsp;&nbsp;<b>pydantic/_internal</b></td><tr><br><td>&nbsp;&nbsp;<a<br>href=\"https://github.com/pydantic/pydantic/pull/10887/files#diff-2ebfa892ec1d09440eefd4b22f488ec38c1cde365394e5a4cea6edb484827ba5\">_generate_schema.py</a></td><br><td align=\"center\"><a<br>href=\"https://github.com/pydantic/pydantic/pull/10887/files#diff-2ebfa892ec1d09440eefd4b22f488ec38c1cde365394e5a4cea6edb484827ba5\"><img<br>title=\"This PR adds 1194 statements to<br>pydantic/_internal/_generate_schema.py. The file<br>did not seem to exist on the base branch.\"<br>src=\"https://img.shields.io/badge/1.2k-%28%2B1194%29-007ec6.svg\"></a></td><td<br>align=\"center\"><a<br>href=\"https://github.com/pydantic/pydantic/pull/10887/files#diff-2ebfa892ec1d09440eefd4b22f488ec38c1cde365394e5a4cea6edb484827ba5\"><img<br>title=\"This PR adds 36 statements missing coverage<br>to pydantic/_internal/_generate_schema.py. The<br>file did not seem to exist on the base branch.\"<br>src=\"https://img.shields.io/badge/36-%28%2B36%29-red.svg\"></a></td><td<br>align=\"center\"><a<br>href=\"https://github.com/pydantic/pydantic/pull/10887/files#diff-2ebfa892ec1d09440eefd4b22f488ec38c1cde365394e5a4cea6edb484827ba5\"><img<br>title=\"The coverage rate of<br>pydantic/_internal/_generate_schema.py is 95.98%<br>(1158/1194). The file did not seem to exist on the<br>base branch.\"<br>src=\"https://img.shields.io/badge/95%25-%281.2k/1.2k%29-orange.svg\"></a></td><td<br>align=\"center\"><a<br>href=\"https://github.com/pydantic/pydantic/pull/10887/files#diff-2ebfa892ec1d09440eefd4b22f488ec38c1cde365394e5a4cea6edb484827ba5\"><img<br>title=\"In this PR, 56 new statements are added to<br>pydantic/_internal/_generate_schema.py, 53 of<br>which are covered (94.64%).\"<br>src=\"https://img.shields.io/badge/94%25-%2853/56%29-orange.svg\"></a></td><td><a<br>href=\"https://github.com/pydantic/pydantic/pull/10887/files#diff-2ebfa892ec1d09440eefd4b22f488ec38c1cde365394e5a4cea6edb484827ba5R2058-R2059\">2058-2059</a>,<br><a<br>href=\"https://github.com/pydantic/pydantic/pull/10887/files#diff-2ebfa892ec1d09440eefd4b22f488ec38c1cde365394e5a4cea6edb484827ba5R2124-R2124\">2124</a></td><tr><br><td>&nbsp;&nbsp;<a<br>href=\"https://github.com/pydantic/pydantic/pull/10887/files#diff-86a65771e6ad3cc8717cf45416efa0a988c12ddf9224afc222e5317e3a287291\">_known_annotated_metadata.py</a></td><br><td align=\"center\"><a<br>href=\"https://github.com/pydantic/pydantic/pull/10887/files#diff-86a65771e6ad3cc8717cf45416efa0a988c12ddf9224afc222e5317e3a287291\"><img<br>title=\"This PR adds 155 statements to<br>pydantic/_internal/_known_annotated_metadata.py.<br>The file did not seem to exist on the base<br>branch.\"<br>src=\"https://img.shields.io/badge/155-%28%2B155%29-007ec6.svg\"></a></td><td<br>align=\"center\"><a<br>href=\"https://github.com/pydantic/pydantic/pull/10887/files#diff-86a65771e6ad3cc8717cf45416efa0a988c12ddf9224afc222e5317e3a287291\"><img<br>title=\"This PR adds 10 statements missing coverage<br>to<br>pydantic/_internal/_known_annotated_metadata.py.<br>The file did not seem to exist on the base<br>branch.\"<br>src=\"https://img.shields.io/badge/10-%28%2B10%29-red.svg\"></a></td><td<br>align=\"center\"><a<br>href=\"https://github.com/pydantic/pydantic/pull/10887/files#diff-86a65771e6ad3cc8717cf45416efa0a988c12ddf9224afc222e5317e3a287291\"><img<br>title=\"The coverage rate of<br>pydantic/_internal/_known_annotated_metadata.py is<br>92.23% (145/155). The file did not seem to exist<br>on the base branch.\"<br>src=\"https://img.shields.io/badge/92%25-%28145/155%29-orange.svg\"></a></td><td<br>align=\"center\"><a<br>href=\"https://github.com/pydantic/pydantic/pull/10887/files#diff-86a65771e6ad3cc8717cf45416efa0a988c12ddf9224afc222e5317e3a287291\"><img<br>title=\"In this PR, 1 new statements are added to<br>pydantic/_internal/_known_annotated_metadata.py, 1<br>of which are covered (100%).\"<br>src=\"https://img.shields.io/badge/100%25-%281/1%29-brightgreen.svg\"></a></td><td></td><tr><br><td>&nbsp;&nbsp;<a<br>href=\"https://github.com/pydantic/pydantic/pull/10887/files#diff-bedd436a7f54048342815db5015e0e4ad5a40386ec05bb914e969b1221e9e8c6\">_schema_generation_shared.py</a></td><br><td align=\"center\"><a<br>href=\"https://github.com/pydantic/pydantic/pull/10887/files#diff-bedd436a7f54048342815db5015e0e4ad5a40386ec05bb914e969b1221e9e8c6\"><img<br>title=\"This PR adds 49 statements to<br>pydantic/_internal/_schema_generation_shared.py.<br>The file did not seem to exist on the base<br>branch.\"<br>src=\"https://img.shields.io/badge/49-%28%2B49%29-007ec6.svg\"></a></td><td<br>align=\"center\"><a<br>href=\"https://github.com/pydantic/pydantic/pull/10887/files#diff-bedd436a7f54048342815db5015e0e4ad5a40386ec05bb914e969b1221e9e8c6\"><img<br>title=\"This PR adds 2 statements missing coverage<br>to<br>pydantic/_internal/_schema_generation_shared.py.<br>The file did not seem to exist on the base<br>branch.\"<br>src=\"https://img.shields.io/badge/2-%28%2B2%29-red.svg\"></a></td><td<br>align=\"center\"><a<br>href=\"https://github.com/pydantic/pydantic/pull/10887/files#diff-bedd436a7f54048342815db5015e0e4ad5a40386ec05bb914e969b1221e9e8c6\"><img<br>title=\"The coverage rate of<br>pydantic/_internal/_schema_generation_shared.py is<br>93.65% (47/49). The file did not seem to exist on<br>the base branch.\"<br>src=\"https://img.shields.io/badge/93%25-%2847/49%29-orange.svg\"></a></td><td<br>align=\"center\"><a<br>href=\"https://github.com/pydantic/pydantic/pull/10887/files#diff-bedd436a7f54048342815db5015e0e4ad5a40386ec05bb914e969b1221e9e8c6\"><img<br>title=\"In this PR, 5 new statements are added to<br>pydantic/_internal/_schema_generation_shared.py, 5<br>of which are covered (100%).\"<br>src=\"https://img.shields.io/badge/100%25-%285/5%29-brightgreen.svg\"></a></td><td></td></tbody><br><tfoot> <tr> <td><b>Project Total</b></td> <td<br>align=\"center\"><a<br>href=\"https://github.com/pydantic/pydantic/pull/10887/files#diff-4b0bf2efa3367c0072ac2bf1e234e703dc46b47aaa4fe9d3b01737b1a15752b1\"><img<br>title=\"This PR adds 9911 statements to the whole<br>project. The file did not seem to exist on the<br>base branch.\"<br>src=\"https://img.shields.io/badge/9.9k-%28%2B9911%29-007ec6.svg\"></a></td><td<br>align=\"center\"><a<br>href=\"https://github.com/pydantic/pydantic/pull/10887/files#diff-4b0bf2efa3367c0072ac2bf1e234e703dc46b47aaa4fe9d3b01737b1a15752b1\"><img<br>title=\"This PR adds 311 statements missing<br>coverage to the whole project. The file did not<br>seem to exist on the base branch.\"<br>src=\"https://img.shields.io/badge/311-%28%2B311%29-red.svg\"></a></td><td<br>align=\"center\"><a<br>href=\"https://github.com/pydantic/pydantic/pull/10887/files#diff-4b0bf2efa3367c0072ac2bf1e234e703dc46b47aaa4fe9d3b01737b1a15752b1\"><img<br>title=\"The coverage rate of the whole project is<br>95.72% (9600/9911). The file did not seem to exist<br>on the base branch.\"<br>src=\"https://img.shields.io/badge/95%25-%289.6k/9.9k%29-orange.svg\"></a></td><td<br>align=\"center\"><a<br>href=\"https://github.com/pydantic/pydantic/pull/10887/files#diff-4b0bf2efa3367c0072ac2bf1e234e703dc46b47aaa4fe9d3b01737b1a15752b1\"><img<br>title=\"In this PR, 62 new statements are added to<br>the whole project, 59 of which are covered<br>(95.16%).\"<br>src=\"https://img.shields.io/badge/95%25-%2859/62%29-orange.svg\"></a></td><td>&nbsp;</td><br></tr> </tfoot> </table> <sub> This report was<br>generated by<br>[python-coverage-comment-action](https://github.com/py-cov-action/python-coverage-comment-action)<br></sub> </details> <!-- This comment was produced<br>by python-coverage-comment-action -->",
          "Thanks @sydney-runkle - I was also able to<br>achieve the desired behavior by adding the<br>following to a child class of `BaseModel` which<br>our Pydantic Objects inherit ```python def<br>__getitem__(self, key): try: # First, try to get<br>the attribute from the instance return<br>getattr(self, key) except AttributeError: try: #<br>If not found in instance, try to get it from the<br>class return getattr(type(self), key) except<br>AttributeError: # If not found in either, raise a<br>KeyError raise KeyError(f\"'{key}' not found in<br>instance or class attributes.\") ``` I found that<br>the current `AliasPath` essentially works off of<br>[search_dict_for_path](https://github.com/pydantic/pydantic/blob/addf1f99f232b27a62d7968c49ffca60f5b56a92/pydantic/aliases.py#L38C9-L38C29),<br>which just check for `[]` access. Perhaps adding a<br>`ConfigDict` option to support this functionality<br>would be nice.",
          "Perhaps consider making a frozen configured base<br>class? ```bash In [1]: from pydantic import Field,<br>ConfigDict, BaseModel In [2]: class<br>BaseFrozen(BaseModel): ...: model_config =<br>ConfigDict(frozen=True) ...: In [3]: class<br>A(BaseFrozen): ...: x: int ...: In [4]: class<br>B(BaseFrozen): ...: y: int ...: In [5]: class<br>C(BaseFrozen): ...: xs: list[A] ...: In [6]: c =<br>C(xs=map(lambda x: A(x=x), range(3))) In [7]: c.xs<br>= []<br>---------------------------------------------------------------------------<br>ValidationError Traceback (most recent call last)<br>```",
          "@mpkocher, that mutation will cause an error at<br>runtime, but I'm interested in finding a way to<br>having type checkers like Pyright and MyPy catch<br>this issue. Here's two examples demonstrating this<br>a bit more explicitly: - [The<br>first](https://pyright-play.net/?code=GYJw9gtgBALgngBwJYDsDmUkQWEMoAmAhjEQMYA2RAztQPowhErXC4QBQXAAsaZTXqNmrdgApQYAF4BTFHQIzgRAK4UYAXgBiRCtRkBKDgNpQAQjRkBZMIooAuDlGdQAdO67Gqpq3ADC3tRiFvo2dgaOLlAAHvaYKDCeEGRQGlC%2BAYJi0RoAjEbJrtGpULkcQA)<br>uses `frozen_default=False` and doesn't cause any<br>errors. - [The<br>second](https://pyright-play.net/?code=GYJw9gtgBALgngBwJYDsDmUkQWEMoAmAhjEQMYA2RAztQPowhErXC4QBQXAAsaZTXqNmrdgApQYAF4BTFHQIzgRAK4UYAXgAqIFTICUHAbSgAhGjICyYRRQBcHKE6gA6N1yNUTluAGEv1GLm1FY2MhT6Ds5QAB52mCgwHhBkUBpQPv6CYjEaAIyGKS4xaVB5HEA)<br>conversely uses `frozen_default=True` and causes<br>Pyright to complain that `Attribute \"x\" is<br>read-only`. As an added bit of context. I work<br>with scientists who don't typically write tests so<br>static type checking is often our only way to<br>catch issues, like mutating a frozen object,<br>before deploying to production.",
          "I've removed the example I added<br>[here](https://github.com/pydantic/pydantic/pull/7900)<br>to address<br>https://github.com/pydantic/pydantic/issues/7833.<br>It's no longer relevant, as there's no<br>`__get_pydantic_core_schema__` on `super`, so<br>things go as planned without this workaround. cc<br>@chbndrhnns, you might find this interesting. This<br>simplification now works: ```py from typing import<br>Type from pydantic_core import CoreSchema from<br>typing_extensions import Annotated from pydantic<br>import BaseModel, GetCoreSchemaHandler class<br>Metadata(BaseModel): foo: str = 'metadata!' bar:<br>int = 100 class Model(BaseModel): state:<br>Annotated[int, Metadata()] m =<br>Model.model_validate({'state': 2}) print(repr(m))<br>#> Model(state=2) print(m.model_fields) \"\"\" {<br>'state': FieldInfo( annotation=int, required=True,<br>metadata=[Metadata(foo='metadata!', bar=100)], ) }<br>\"\"\" ```",
          "## Coverage report <img title=\"Coverage for the<br>whole project is 95.91%. Previous coverage rate is<br>not available, cannot report on evolution.\"<br>src=\"https://img.shields.io/badge/Coverage-95%25-orange.svg\"><br><img title=\"100% of the statement lines added by<br>this PR are covered\"<br>src=\"https://img.shields.io/badge/PR%20Coverage-100%25-brightgreen.svg\"><details><summary>Click<br>to see where and how coverage<br>changed</summary><table><thead><br><tr><th>File</th><th>Statements</th><th>Missing</th><th>Coverage</th><th>Coverage<br>(new<br>stmts)</th><th>Lines missing</th></tr> </thead><br><tbody><tr> <td<br>colspan=\"6\">&nbsp;&nbsp;<b>pydantic</b></td><tr><br><td>&nbsp;&nbsp;<a<br>href=\"https://github.com/pydantic/pydantic/pull/10863/files#diff-8708af8d26c26644976866f974e0b810b0940ede43ff487e457057d5a1f07999\">main.py</a></td><br><td align=\"center\"><a<br>href=\"https://github.com/pydantic/pydantic/pull/10863/files#diff-8708af8d26c26644976866f974e0b810b0940ede43ff487e457057d5a1f07999\"><img<br>title=\"This PR adds 524 statements to<br>pydantic/main.py. The file did not seem to exist<br>on the base branch.\"<br>src=\"https://img.shields.io/badge/524-%28%2B524%29-007ec6.svg\"></a></td><td<br>align=\"center\"><a<br>href=\"https://github.com/pydantic/pydantic/pull/10863/files#diff-8708af8d26c26644976866f974e0b810b0940ede43ff487e457057d5a1f07999\"><img<br>title=\"This PR adds 4 statements missing coverage<br>to pydantic/main.py. The file did not seem to<br>exist on the base branch.\"<br>src=\"https://img.shields.io/badge/4-%28%2B4%29-red.svg\"></a></td><td<br>align=\"center\"><a<br>href=\"https://github.com/pydantic/pydantic/pull/10863/files#diff-8708af8d26c26644976866f974e0b810b0940ede43ff487e457057d5a1f07999\"><img<br>title=\"The coverage rate of pydantic/main.py is<br>99% (520/524). The file did not seem to exist on<br>the base branch.\"<br>src=\"https://img.shields.io/badge/99%25-%28520/524%29-orange.svg\"></a></td><td<br>align=\"center\"><a<br>href=\"https://github.com/pydantic/pydantic/pull/10863/files#diff-8708af8d26c26644976866f974e0b810b0940ede43ff487e457057d5a1f07999\"><img<br>title=\"In this PR, 1 new statements are added to<br>pydantic/main.py, 1 of which are covered (100%).\"<br>src=\"https://img.shields.io/badge/100%25-%281/1%29-brightgreen.svg\"></a></td><td></td><tr><br><td<br>colspan=\"6\">&nbsp;&nbsp;<b>pydantic/_internal</b></td><tr><br><td>&nbsp;&nbsp;<a<br>href=\"https://github.com/pydantic/pydantic/pull/10863/files#diff-effc23c28b1692dcdceec81f2247c77ef221b009de5f0881ae2957db0fa96c5b\">_core_utils.py</a></td><br><td align=\"center\"><a<br>href=\"https://github.com/pydantic/pydantic/pull/10863/files#diff-effc23c28b1692dcdceec81f2247c77ef221b009de5f0881ae2957db0fa96c5b\"><img<br>title=\"This PR adds 394 statements to<br>pydantic/_internal/_core_utils.py. The file did<br>not seem to exist on the base branch.\"<br>src=\"https://img.shields.io/badge/394-%28%2B394%29-007ec6.svg\"></a></td><td<br>align=\"center\"><a<br>href=\"https://github.com/pydantic/pydantic/pull/10863/files#diff-effc23c28b1692dcdceec81f2247c77ef221b009de5f0881ae2957db0fa96c5b\"><img<br>title=\"This PR adds 8 statements missing coverage<br>to pydantic/_internal/_core_utils.py. The file did<br>not seem to exist on the base branch.\"<br>src=\"https://img.shields.io/badge/8-%28%2B8%29-red.svg\"></a></td><td<br>align=\"center\"><a<br>href=\"https://github.com/pydantic/pydantic/pull/10863/files#diff-effc23c28b1692dcdceec81f2247c77ef221b009de5f0881ae2957db0fa96c5b\"><img<br>title=\"The coverage rate of<br>pydantic/_internal/_core_utils.py is 96.54%<br>(386/394). The file did not seem to exist on the<br>base branch.\"<br>src=\"https://img.shields.io/badge/96%25-%28386/394%29-orange.svg\"></a></td><td<br>align=\"center\"><a<br>href=\"https://github.com/pydantic/pydantic/pull/10863/files#diff-effc23c28b1692dcdceec81f2247c77ef221b009de5f0881ae2957db0fa96c5b\"><img<br>title=\"In this PR, 1 new statements are added to<br>pydantic/_internal/_core_utils.py, 1 of which are<br>covered (100%).\"<br>src=\"https://img.shields.io/badge/100%25-%281/1%29-brightgreen.svg\"></a></td><td></td><tr><br><td>&nbsp;&nbsp;<a<br>href=\"https://github.com/pydantic/pydantic/pull/10863/files#diff-95820a10464ee8f0a17ccb6d58a22333f0215387df497df714fb395c2de207d4\">_dataclasses.py</a></td><br><td align=\"center\"><a<br>href=\"https://github.com/pydantic/pydantic/pull/10863/files#diff-95820a10464ee8f0a17ccb6d58a22333f0215387df497df714fb395c2de207d4\"><img<br>title=\"This PR adds 68 statements to<br>pydantic/_internal/_dataclasses.py. The file did<br>not seem to exist on the base branch.\"<br>src=\"https://img.shields.io/badge/68-%28%2B68%29-007ec6.svg\"></a></td><td<br>align=\"center\"><a<br>href=\"https://github.com/pydantic/pydantic/pull/10863/files#diff-95820a10464ee8f0a17ccb6d58a22333f0215387df497df714fb395c2de207d4\"><img<br>title=\"This PR adds 2 statements missing coverage<br>to pydantic/_internal/_dataclasses.py. The file<br>did not seem to exist on the base branch.\"<br>src=\"https://img.shields.io/badge/2-%28%2B2%29-red.svg\"></a></td><td<br>align=\"center\"><a<br>href=\"https://github.com/pydantic/pydantic/pull/10863/files#diff-95820a10464ee8f0a17ccb6d58a22333f0215387df497df714fb395c2de207d4\"><img<br>title=\"The coverage rate of<br>pydantic/_internal/_dataclasses.py is 97.36%<br>(66/68). The file did not seem to exist on the<br>base branch.\"<br>src=\"https://img.shields.io/badge/97%25-%2866/68%29-orange.svg\"></a></td><td<br>align=\"center\"><a<br>href=\"https://github.com/pydantic/pydantic/pull/10863/files#diff-95820a10464ee8f0a17ccb6d58a22333f0215387df497df714fb395c2de207d4\"><img<br>title=\"In this PR, 1 new statements are added to<br>pydantic/_internal/_dataclasses.py, 1 of which are<br>covered (100%).\"<br>src=\"https://img.shields.io/badge/100%25-%281/1%29-brightgreen.svg\"></a></td><td></td><tr><br><td>&nbsp;&nbsp;<a<br>href=\"https://github.com/pydantic/pydantic/pull/10863/files#diff-2ebfa892ec1d09440eefd4b22f488ec38c1cde365394e5a4cea6edb484827ba5\">_generate_schema.py</a></td><br><td align=\"center\"><a<br>href=\"https://github.com/pydantic/pydantic/pull/10863/files#diff-2ebfa892ec1d09440eefd4b22f488ec38c1cde365394e5a4cea6edb484827ba5\"><img<br>title=\"This PR adds 1199 statements to<br>pydantic/_internal/_generate_schema.py. The file<br>did not seem to exist on the base branch.\"<br>src=\"https://img.shields.io/badge/1.2k-%28%2B1199%29-007ec6.svg\"></a></td><td<br>align=\"center\"><a<br>href=\"https://github.com/pydantic/pydantic/pull/10863/files#diff-2ebfa892ec1d09440eefd4b22f488ec38c1cde365394e5a4cea6edb484827ba5\"><img<br>title=\"This PR adds 34 statements missing coverage<br>to pydantic/_internal/_generate_schema.py. The<br>file did not seem to exist on the base branch.\"<br>src=\"https://img.shields.io/badge/34-%28%2B34%29-red.svg\"></a></td><td<br>align=\"center\"><a<br>href=\"https://github.com/pydantic/pydantic/pull/10863/files#diff-2ebfa892ec1d09440eefd4b22f488ec38c1cde365394e5a4cea6edb484827ba5\"><img<br>title=\"The coverage rate of<br>pydantic/_internal/_generate_schema.py is 96.38%<br>(1165/1199). The file did not seem to exist on the<br>base branch.\"<br>src=\"https://img.shields.io/badge/96%25-%281.2k/1.2k%29-orange.svg\"></a></td><td<br>align=\"center\"><a<br>href=\"https://github.com/pydantic/pydantic/pull/10863/files#diff-2ebfa892ec1d09440eefd4b22f488ec38c1cde365394e5a4cea6edb484827ba5\"><img<br>title=\"In this PR, 37 new statements are added to<br>pydantic/_internal/_generate_schema.py, 37 of<br>which are covered (100%).\"<br>src=\"https://img.shields.io/badge/100%25-%2837/37%29-brightgreen.svg\"></a></td><td></td><tr><br><td>&nbsp;&nbsp;<a<br>href=\"https://github.com/pydantic/pydantic/pull/10863/files#diff-ea75a1ef1da6bb38913477e979605f6a05e2ffe8c28fe47d9b798c89ba436c7c\">_model_construction.py</a></td><br><td align=\"center\"><a<br>href=\"https://github.com/pydantic/pydantic/pull/10863/files#diff-ea75a1ef1da6bb38913477e979605f6a05e2ffe8c28fe47d9b798c89ba436c7c\"><img<br>title=\"This PR adds 366 statements to<br>pydantic/_internal/_model_construction.py. The<br>file did not seem to exist on the base branch.\"<br>src=\"https://img.shields.io/badge/366-%28%2B366%29-007ec6.svg\"></a></td><td<br>align=\"center\"><a<br>href=\"https://github.com/pydantic/pydantic/pull/10863/files#diff-ea75a1ef1da6bb38913477e979605f6a05e2ffe8c28fe47d9b798c89ba436c7c\"><img<br>title=\"This PR adds 4 statements missing coverage<br>to pydantic/_internal/_model_construction.py. The<br>file did not seem to exist on the base branch.\"<br>src=\"https://img.shields.io/badge/4-%28%2B4%29-red.svg\"></a></td><td<br>align=\"center\"><a<br>href=\"https://github.com/pydantic/pydantic/pull/10863/files#diff-ea75a1ef1da6bb38913477e979605f6a05e2ffe8c28fe47d9b798c89ba436c7c\"><img<br>title=\"The coverage rate of<br>pydantic/_internal/_model_construction.py is<br>98.25% (362/366). The file did not seem to exist<br>on the base branch.\"<br>src=\"https://img.shields.io/badge/98%25-%28362/366%29-orange.svg\"></a></td><td<br>align=\"center\"><a<br>href=\"https://github.com/pydantic/pydantic/pull/10863/files#diff-ea75a1ef1da6bb38913477e979605f6a05e2ffe8c28fe47d9b798c89ba436c7c\"><img<br>title=\"In this PR, 1 new statements are added to<br>pydantic/_internal/_model_construction.py, 1 of<br>which are covered (100%).\"<br>src=\"https://img.shields.io/badge/100%25-%281/1%29-brightgreen.svg\"></a></td><td></td></tbody><br><tfoot> <tr> <td><b>Project Total</b></td> <td<br>align=\"center\"><a<br>href=\"https://github.com/pydantic/pydantic/pull/10863/files#diff-4b0bf2efa3367c0072ac2bf1e234e703dc46b47aaa4fe9d3b01737b1a15752b1\"><img<br>title=\"This PR adds 9949 statements to the whole<br>project. The file did not seem to exist on the<br>base branch.\"<br>src=\"https://img.shields.io/badge/9.9k-%28%2B9949%29-007ec6.svg\"></a></td><td<br>align=\"center\"><a<br>href=\"https://github.com/pydantic/pydantic/pull/10863/files#diff-4b0bf2efa3367c0072ac2bf1e234e703dc46b47aaa4fe9d3b01737b1a15752b1\"><img<br>title=\"This PR adds 300 statements missing<br>coverage to the whole project. The file did not<br>seem to exist on the base branch.\"<br>src=\"https://img.shields.io/badge/300-%28%2B300%29-red.svg\"></a></td><td<br>align=\"center\"><a<br>href=\"https://github.com/pydantic/pydantic/pull/10863/files#diff-4b0bf2efa3367c0072ac2bf1e234e703dc46b47aaa4fe9d3b01737b1a15752b1\"><img<br>title=\"The coverage rate of the whole project is<br>95.91% (9649/9949). The file did not seem to exist<br>on the base branch.\"<br>src=\"https://img.shields.io/badge/95%25-%289.6k/9.9k%29-orange.svg\"></a></td><td<br>align=\"center\"><a<br>href=\"https://github.com/pydantic/pydantic/pull/10863/files#diff-4b0bf2efa3367c0072ac2bf1e234e703dc46b47aaa4fe9d3b01737b1a15752b1\"><img<br>title=\"In this PR, 41 new statements are added to<br>the whole project, 41 of which are covered<br>(100%).\"<br>src=\"https://img.shields.io/badge/100%25-%2841/41%29-brightgreen.svg\"></a></td><td>&nbsp;</td><br></tr> </tfoot> </table> <sub> This report was<br>generated by<br>[python-coverage-comment-action](https://github.com/py-cov-action/python-coverage-comment-action)<br></sub> </details> <!-- This comment was produced<br>by python-coverage-comment-action -->",
          "@Viicos, I'd love to chat about a few more nitty<br>gritty details here tomorrow, but other than that,<br>I think we can move forward with this. Great find!",
          "> cc @chbndrhnns, you might find this<br>interesting. This simplification now works: Thanks<br>for the ping, @sydney-runkle. This sounds<br>exciting! I am waiting for the release now ;)",
          "> I suspect this is a bit difficult to generalize<br>the \"expected\" semantics of what to copy and or<br>validate. Probably. > Could you give a bit more<br>context as to your use case here? Thanks! The<br>project I'm working on uses Models for storing<br>persistent state- it's not a typical \"stateless\"<br>web application. A simplified and somewhat<br>contrived example might be something like this:<br>```python class CameraState(BaseModel): device:<br>str | None = None connected: bool = False error:<br>str | None = None snapshot_url: str | None = None<br>``` We treat instances of these models as more or<br>less immutable (or frozen/readonly/whatever). That<br>means when we update the state we have to do<br>something like: ```python def connect(self,<br>device: str): try: lowlevel.connect(device)<br>new_state =<br>self.state.model_copy(update=dict(connected=True,<br>error=None)) self.notify_new_state(new_state)<br>except SomeError as err: new_state =<br>self.state.model_copy(update=dict(connected=False,<br>error=str(err))) self.notify_new_state(new_state)<br>``` Since basically everything updates state in<br>some way, we had this ritual strewn across the<br>codebase. Frankly we miss JavaScript/TypeScript's<br>far more powerful syntax here, where we could do:<br>```typescript function connect(device: string) {<br>try { lowlevel.connect(device)<br>this.notifyNewState({... this.state, connected:<br>True, error: null}); } catch(err) {<br>this.notifyNewState({... this.state, connected:<br>False, error: err}); } } ``` Using `model_copy` in<br>this way was tedious and ended up with subtle<br>differences in how various bits of the code used<br>it. The `model_replace` helper functions more like<br>like JavaScript's `{...old, ...new}` syntax and<br>mirrors<br>[`dataclasses.replace`](https://docs.python.org/3/library/dataclasses.html#dataclasses.replace).<br>We're aware that it doesn't deep copy anything,<br>and that's fine. Hopefully that helps illustrate<br>the use case. `model_copy()` is almost what we<br>need, it's just slightly obtuse in this usage.",
          "Sure thing. We just released v2.10, and this<br>won't fit in until v2.11, which will be a bit 😅<br>Feel free to install from `main` once we've merged<br>this, if you want the change soon!",
          "In the next Pydantic release, 2.10, there's<br>support for Python's 3.13 `__replace__` protocol.<br>Maybe this has something close the behavior you're<br>interested in? ```python import sys import copy<br>import pydantic from pydantic import BaseModel,<br>Field class CameraState(BaseModel): device: str |<br>None = None connected: bool = False error: str |<br>None = None snapshot_url: str | None = None c1 =<br>CameraState(device=\"alpha\") c2 = copy.replace(c1,<br>connected=True, error=None)<br>print((pydantic.__version__, sys.version_info))<br>print((c1, c2)) ``` Outs: ```bash ('2.10.0',<br>sys.version_info(major=3, minor=13, micro=0,<br>releaselevel='final', serial=0))<br>(CameraState(device='alpha', connected=False,<br>error=None, snapshot_url=None),<br>CameraState(device='alpha', connected=True,<br>error=None, snapshot_url=None)) ``` Using<br>`copy.replace` would yield: ```python def<br>connect_v2(device: str): try:<br>self.lowlevel_connect(device) new_state =<br>copy.replace(self.state, connected=True,<br>error=None) self.notify_new_state(new_state)<br>except Exception as err: new_state =<br>self.state.model_copy(update=dict(connected=False,<br>error=str(err))) new_state =<br>copy.replace(self.state, connected=True,<br>error=str(err)) notify_new_state(new_state) ``` Or<br>with some style tweaks. ```python def<br>connect_v3(device: str): try:<br>lowlevel_connect(device) connected, error = True,<br>None except Exception as err: connected, error =<br>False, str(err)<br>notify_new_state(copy.replace(self.state,<br>connected=connected, error=error)) ```",
          "Hey! Thanks for the reasonable request. I think<br>this could align nicely with<br>https://github.com/pydantic/pydantic/issues/8379,<br>which I plan to pick up for v2.11. My thought is,<br>we should probably offer: `by_alias` as a runtime<br>flag for `model_dump_XXX()` and<br>`model_validate_XXX()` `validate_by_alias` and<br>`serialize_by_alias` at the `ConfigDict` level,<br>soft deprecating `populate_by_name` in favor of<br>`validate_by_alias`, and setting the<br>`serialize_by_alias` default to be compatible with<br>the current behavior, but changing in V3.",
          "Also, side note, I'll be working on those<br>timedelta / datetime changes you requested for<br>v2.11 🚀 !",
          "@sydney-runkle should there be a \"parent\" (?)<br>error location issue for #10839, #10866, and maybe<br>even #10850 ? Or do you see this more as a part of<br>8379 ?",
          "Would't it be better to integrate with the the<br>`search_dict_for_path` directly?<br>https://github.com/pydantic/pydantic/blob/addf1f99f232b27a62d7968c49ffca60f5b56a92/pydantic/aliases.py#L49-L52<br>``` try: v = v[k] except (KeyError, IndexError):<br>if allow_path_by_attribute: v = getattr(v, k)<br>else: return PydanticUndefined except<br>(AttributeError, TypeError): return<br>PydanticUndefined ``` And the<br>`allow_path_by_attribute` could also be set<br>directly at `AliasPath`",
          "I was able to workaround this issue with<br>following: ``` from pydantic import ConfigDict,<br>RootModel class ListModel(RootModel): def<br>__iter__(self): return iter(self.root) def<br>__getitem__(self, item): return self.root[item]<br>model_config = ConfigDict(<br>ser_json_inf_nan=\"constants\", ) ModelList =<br>ListModel[list[Model]] ``` Now the usage syntax is<br>a little different, `dump_json =<br>ModelList(model_list).model_dump_json()` This<br>serializes also NaNs and Infs correctly,<br>respecting the `ser_json_inf_nan=\"constants\"`<br>configuration.",
          "There also seems to be a bug when serializing and<br>deserializing `AnyUrl`s. ``` from pydantic import<br>AnyUrl, BaseModel class Test(BaseModel): url:<br>AnyUrl expected =<br>Test(url=AnyUrl(\"http://example.com\")) json =<br>expected.model_dump_json() parsed =<br>Test.model_validate_json(json) expected == parsed<br># False expected.url._url #<br>AnyUrl('http://test.example.com/') parsed.url._url<br># Url('http://test.example.com/') ```",
          "@iyume The error occurs because the number<br>9223370000000000000 is too large to be accurately<br>represented as a JSON number. JSON numbers follow<br>the IEEE 754 double-precision format, which has<br>limitations on the size and precision of numbers<br>it can represent.",
          "This is fixed in v2.10.1 :)",
          "I don't think it is possible to safely support<br>this. While it could work well when everything is<br>defined in the same module, it is theoretically<br>impossible to support it when the alias is defined<br>in a separate module: ```python # module1.py<br>JsonData: TypeAlias = 'str | int | float | None |<br>list[JsonData] | dict[str, JsonData]' # module2.py<br>from module1 import JsonData from pydantic import<br>BaseModel class Model(BaseModel): a: JsonData ```<br>Wich is equivalent to: ```python from module1<br>import JsonData from pydantic import BaseModel<br>class Model(BaseModel): a: 'str | int | float |<br>None | list[JsonData] | dict[str, JsonData]' ```<br>We could argue that `JsonData` is imported in<br>`module2`, so it should be able to resolve. But<br>this won't work if you import under an alias, and<br>more generally it's not possible to make it work<br>for a bunch of use cases, such as: ```python #<br>module1.py Alias = list['SomeType'] SomeType = int<br># module2.py from module1 import Alias from<br>pydantic import BaseModel class Model(BaseModel):<br>a: Alias # equivalent to: # a: list['SomeType']<br>``` (this is a source of issues, such as<br>https://github.com/googleapis/python-aiplatform/pull/4701)<br>Considering `TypeAliasType` can be used and is<br>more robust (but I agree more verbose, at least<br>until we drop 3.11), is it worth supporting this?",
          "@JensHeinrich, That would be great - could you<br>write one up? The more organized an issue /<br>collection of issues is, the more likely we are to<br>pick up work on it earlier on. I think this is<br>something we could work to improve for v2.11 or<br>v2.12 :) Thanks!",
          "## [CodSpeed Performance<br>Report](https://codspeed.io/pydantic/pydantic/branches/dt-td-config)<br>### Merging #10949 will **degrade performances by<br>5.26%** <sub>Comparing <code>dt-td-config</code><br>(e74a674) with <code>main</code> (15f693a)</sub><br>### Summary `❌ 1` regressions `✅ 45` untouched<br>benchmarks > :warning: _Please fix the performance<br>issues or [acknowledge them on<br>CodSpeed](https://codspeed.io/pydantic/pydantic/branches/dt-td-config)._<br>### Benchmarks breakdown | | Benchmark | `main` |<br>`dt-td-config` | Change | | --- | --------- |<br>----------------------- | ------------------- |<br>------ | | ❌ |<br>`test_simple_model_validation[__init__]` | 42.5 µs<br>| 44.8 µs | -5.26% |",
          "## Coverage report <img title=\"Coverage for the<br>whole project is 95.82%. Previous coverage rate is<br>not available, cannot report on evolution.\"<br>src=\"https://img.shields.io/badge/Coverage-95%25-orange.svg\"><br><img title=\"100% of the statement lines added by<br>this PR are covered\"<br>src=\"https://img.shields.io/badge/PR%20Coverage-100%25-brightgreen.svg\"><details><summary>Click<br>to see where and how coverage<br>changed</summary><table><thead><br><tr><th>File</th><th>Statements</th><th>Missing</th><th>Coverage</th><th>Coverage<br>(new<br>stmts)</th><th>Lines missing</th></tr> </thead><br><tbody><tr> <td<br>colspan=\"6\">&nbsp;&nbsp;<b>pydantic</b></td><tr><br><td>&nbsp;&nbsp;<a<br>href=\"https://github.com/pydantic/pydantic/pull/10949/files#diff-a61d25fd27b9213b3c4ffe7ff375d72c9b3cf5e240b44dee88917e8970deabe1\">config.py</a></td><br><td align=\"center\"><a<br>href=\"https://github.com/pydantic/pydantic/pull/10949/files#diff-a61d25fd27b9213b3c4ffe7ff375d72c9b3cf5e240b44dee88917e8970deabe1\"><img<br>title=\"This PR adds 112 statements to<br>pydantic/config.py. The file did not seem to exist<br>on the base branch.\"<br>src=\"https://img.shields.io/badge/112-%28%2B112%29-007ec6.svg\"></a></td><td<br>align=\"center\"><a<br>href=\"https://github.com/pydantic/pydantic/pull/10949/files#diff-a61d25fd27b9213b3c4ffe7ff375d72c9b3cf5e240b44dee88917e8970deabe1\"><img<br>title=\"This PR adds 0 statements missing coverage<br>to pydantic/config.py. The file did not seem to<br>exist on the base branch.\"<br>src=\"https://img.shields.io/badge/0-%28%C2%B10%29-lightgrey.svg\"></a></td><td<br>align=\"center\"><a<br>href=\"https://github.com/pydantic/pydantic/pull/10949/files#diff-a61d25fd27b9213b3c4ffe7ff375d72c9b3cf5e240b44dee88917e8970deabe1\"><img<br>title=\"The coverage rate of pydantic/config.py is<br>100% (112/112). The file did not seem to exist on<br>the base branch.\"<br>src=\"https://img.shields.io/badge/100%25-%28112/112%29-brightgreen.svg\"></a></td><td<br>align=\"center\"><a<br>href=\"https://github.com/pydantic/pydantic/pull/10949/files#diff-a61d25fd27b9213b3c4ffe7ff375d72c9b3cf5e240b44dee88917e8970deabe1\"><img<br>title=\"In this PR, 6 new statements are added to<br>pydantic/config.py, 6 of which are covered<br>(100%).\"<br>src=\"https://img.shields.io/badge/100%25-%286/6%29-brightgreen.svg\"></a></td><td></td><tr><br><td<br>colspan=\"6\">&nbsp;&nbsp;<b>pydantic/_internal</b></td><tr><br><td>&nbsp;&nbsp;<a<br>href=\"https://github.com/pydantic/pydantic/pull/10949/files#diff-ca20ece12ffaefc9a20e671d2befbf9201bc4cb03376b0bde8f5e30b593e449a\">_config.py</a></td><br><td align=\"center\"><a<br>href=\"https://github.com/pydantic/pydantic/pull/10949/files#diff-ca20ece12ffaefc9a20e671d2befbf9201bc4cb03376b0bde8f5e30b593e449a\"><img<br>title=\"This PR adds 142 statements to<br>pydantic/_internal/_config.py. The file did not<br>seem to exist on the base branch.\"<br>src=\"https://img.shields.io/badge/142-%28%2B142%29-007ec6.svg\"></a></td><td<br>align=\"center\"><a<br>href=\"https://github.com/pydantic/pydantic/pull/10949/files#diff-ca20ece12ffaefc9a20e671d2befbf9201bc4cb03376b0bde8f5e30b593e449a\"><img<br>title=\"This PR adds 0 statements missing coverage<br>to pydantic/_internal/_config.py. The file did not<br>seem to exist on the base branch.\"<br>src=\"https://img.shields.io/badge/0-%28%C2%B10%29-lightgrey.svg\"></a></td><td<br>align=\"center\"><a<br>href=\"https://github.com/pydantic/pydantic/pull/10949/files#diff-ca20ece12ffaefc9a20e671d2befbf9201bc4cb03376b0bde8f5e30b593e449a\"><img<br>title=\"The coverage rate of<br>pydantic/_internal/_config.py is 100% (142/142).<br>The file did not seem to exist on the base<br>branch.\"<br>src=\"https://img.shields.io/badge/100%25-%28142/142%29-brightgreen.svg\"></a></td><td<br>align=\"center\"><a<br>href=\"https://github.com/pydantic/pydantic/pull/10949/files#diff-ca20ece12ffaefc9a20e671d2befbf9201bc4cb03376b0bde8f5e30b593e449a\"><img<br>title=\"In this PR, 3 new statements are added to<br>pydantic/_internal/_config.py, 3 of which are<br>covered (100%).\"<br>src=\"https://img.shields.io/badge/100%25-%283/3%29-brightgreen.svg\"></a></td><td></td></tbody><br><tfoot> <tr> <td><b>Project Total</b></td> <td<br>align=\"center\"><a<br>href=\"https://github.com/pydantic/pydantic/pull/10949/files#diff-4b0bf2efa3367c0072ac2bf1e234e703dc46b47aaa4fe9d3b01737b1a15752b1\"><img<br>title=\"This PR adds 9928 statements to the whole<br>project. The file did not seem to exist on the<br>base branch.\"<br>src=\"https://img.shields.io/badge/9.9k-%28%2B9928%29-007ec6.svg\"></a></td><td<br>align=\"center\"><a<br>href=\"https://github.com/pydantic/pydantic/pull/10949/files#diff-4b0bf2efa3367c0072ac2bf1e234e703dc46b47aaa4fe9d3b01737b1a15752b1\"><img<br>title=\"This PR adds 306 statements missing<br>coverage to the whole project. The file did not<br>seem to exist on the base branch.\"<br>src=\"https://img.shields.io/badge/306-%28%2B306%29-red.svg\"></a></td><td<br>align=\"center\"><a<br>href=\"https://github.com/pydantic/pydantic/pull/10949/files#diff-4b0bf2efa3367c0072ac2bf1e234e703dc46b47aaa4fe9d3b01737b1a15752b1\"><img<br>title=\"The coverage rate of the whole project is<br>95.82% (9622/9928). The file did not seem to exist<br>on the base branch.\"<br>src=\"https://img.shields.io/badge/95%25-%289.6k/9.9k%29-orange.svg\"></a></td><td<br>align=\"center\"><a<br>href=\"https://github.com/pydantic/pydantic/pull/10949/files#diff-4b0bf2efa3367c0072ac2bf1e234e703dc46b47aaa4fe9d3b01737b1a15752b1\"><img<br>title=\"In this PR, 9 new statements are added to<br>the whole project, 9 of which are covered (100%).\"<br>src=\"https://img.shields.io/badge/100%25-%289/9%29-brightgreen.svg\"></a></td><td>&nbsp;</td><br></tr> </tfoot> </table> <sub> This report was<br>generated by<br>[python-coverage-comment-action](https://github.com/py-cov-action/python-coverage-comment-action)<br></sub> </details> <!-- This comment was produced<br>by python-coverage-comment-action -->",
          "Additional related packages: *<br>`pydantic_settings-2.6.1` * `mypy-1.13.0`",
          "I am facing a similar issue where the below is<br>fine with `pydantic<2.10`, but with<br>`pydantic==2.10.1` `mypy` errors: ```python import<br>contextvars from pydantic import BaseModel, Field<br>cvar_session_id =<br>contextvars.ContextVar[None](\"session_id\",<br>default=None) class Foo(BaseModel): session_id:<br>None = Field(default_factory=cvar_session_id.get)<br>``` `mypy==1.13.0` error: ```none a.py: note: In<br>class \"Foo\": a.py:9:46: error: Argument<br>\"default_factory\" to \"Field\" has incompatible type<br>overloaded function; expected \"Callable[[], Never]<br>| Callable[[dict[str, Any]], Never]\" [arg-type]<br>session_id: None =<br>Field(default_factory=cvar_session_id.get)<br>^~~~~~~~~~~~~~~~~~~ ```",
          "Some (likely<br>doesn't-handle-all-the-cases-but-handles-all-of-mine)<br>code I'm using inside of a custom<br>`GenerateJsonSchema.model_schema` looks like: ```<br>fromc copy import deepcopy class<br>MyGen(GenerateJsonSchema): def model_schema(self,<br>schema): json_schema =<br>super().model_schema(schema) for fieldname,<br>fieldschema in schema[\"schema\"].get(\"fields\",<br>{}).items(): validation_alias =<br>fieldschema.get(\"validation_alias\", None) if<br>validation_alias: if isinstance(validation_alias,<br>list): for aliases in validation_alias: for alias<br>in aliases: if alias != fieldname: # @TODO:<br>Actually make it a ref, and not just a copy!<br>json_schema[\"properties\"][alias] =<br>deepcopy(json_schema[\"properties\"][fieldname])<br>return json_schema ```",
          "I poked at the code and I think to actually make<br>it a ref is a bit tricky on two fronts: 1. We<br>could do some kind of<br>`self.get_cache_defs_ref_schema(schema['ref'])[1][\"$ref\"]`,<br>but that gets the \"mangled\" ref name. (But let's<br>say that's not a problem and we either unmangled<br>it or just tacked on `f\"/{fieldname}`) 2. in<br>`generate` we call `get_json_ref_counts` which<br>chokes on the `\".../<fieldname>\"` ref. Which tells<br>me there's likely a lot of baked in assumptions<br>about _not_ having `$ref`s be to properties of<br>objects.",
          "Dupe of<br>https://github.com/pydantic/pydantic/issues/10945<br>perhaps?",
          "@sydney-runkle the `default_factory` examples<br>above produce a different error than \"too few<br>arguments\" - it's about type mismatch - so I'm not<br>sure if it is a dupe. The `default` examples seem<br>like a separate issue.",
          "please review",
          "## [CodSpeed Performance<br>Report](https://codspeed.io/pydantic/pydantic/branches/andresliszt:support/exclude-if-at-field)<br>### Merging #10961 will **not alter performance**<br><sub>Comparing<br><code>andresliszt:support/exclude-if-at-field</code><br>(03c6313) with <code>main</code> (15f693a)</sub><br>### Summary `✅ 46` untouched benchmarks",
          "## Coverage report <img title=\"Coverage for the<br>whole project is 95.81%. Previous coverage rate is<br>not available, cannot report on evolution.\"<br>src=\"https://img.shields.io/badge/Coverage-95%25-orange.svg\"><br><img title=\"100% of the statement lines added by<br>this PR are covered\"<br>src=\"https://img.shields.io/badge/PR%20Coverage-100%25-brightgreen.svg\"><details><summary>Click<br>to see where and how coverage<br>changed</summary><table><thead><br><tr><th>File</th><th>Statements</th><th>Missing</th><th>Coverage</th><th>Coverage<br>(new<br>stmts)</th><th>Lines missing</th></tr> </thead><br><tbody><tr> <td<br>colspan=\"6\">&nbsp;&nbsp;<b>pydantic</b></td><tr><br><td>&nbsp;&nbsp;<a<br>href=\"https://github.com/pydantic/pydantic/pull/10961/files#diff-bfaaac2ae0a71d9686a272982d29d0bed82bfaacf8b5b30e2b88ed2543e74a3b\">fields.py</a></td><br><td align=\"center\"><a<br>href=\"https://github.com/pydantic/pydantic/pull/10961/files#diff-bfaaac2ae0a71d9686a272982d29d0bed82bfaacf8b5b30e2b88ed2543e74a3b\"><img<br>title=\"This PR adds 445 statements to<br>pydantic/fields.py. The file did not seem to exist<br>on the base branch.\"<br>src=\"https://img.shields.io/badge/445-%28%2B445%29-007ec6.svg\"></a></td><td<br>align=\"center\"><a<br>href=\"https://github.com/pydantic/pydantic/pull/10961/files#diff-bfaaac2ae0a71d9686a272982d29d0bed82bfaacf8b5b30e2b88ed2543e74a3b\"><img<br>title=\"This PR adds 4 statements missing coverage<br>to pydantic/fields.py. The file did not seem to<br>exist on the base branch.\"<br>src=\"https://img.shields.io/badge/4-%28%2B4%29-red.svg\"></a></td><td<br>align=\"center\"><a<br>href=\"https://github.com/pydantic/pydantic/pull/10961/files#diff-bfaaac2ae0a71d9686a272982d29d0bed82bfaacf8b5b30e2b88ed2543e74a3b\"><img<br>title=\"The coverage rate of pydantic/fields.py is<br>98.39% (441/445). The file did not seem to exist<br>on the base branch.\"<br>src=\"https://img.shields.io/badge/98%25-%28441/445%29-orange.svg\"></a></td><td<br>align=\"center\"><a<br>href=\"https://github.com/pydantic/pydantic/pull/10961/files#diff-bfaaac2ae0a71d9686a272982d29d0bed82bfaacf8b5b30e2b88ed2543e74a3b\"><img<br>title=\"In this PR, 3 new statements are added to<br>pydantic/fields.py, 3 of which are covered<br>(100%).\"<br>src=\"https://img.shields.io/badge/100%25-%283/3%29-brightgreen.svg\"></a></td><td></td></tbody><br><tfoot> <tr> <td><b>Project Total</b></td> <td<br>align=\"center\"><a<br>href=\"https://github.com/pydantic/pydantic/pull/10961/files#diff-4b0bf2efa3367c0072ac2bf1e234e703dc46b47aaa4fe9d3b01737b1a15752b1\"><img<br>title=\"This PR adds 9922 statements to the whole<br>project. The file did not seem to exist on the<br>base branch.\"<br>src=\"https://img.shields.io/badge/9.9k-%28%2B9922%29-007ec6.svg\"></a></td><td<br>align=\"center\"><a<br>href=\"https://github.com/pydantic/pydantic/pull/10961/files#diff-4b0bf2efa3367c0072ac2bf1e234e703dc46b47aaa4fe9d3b01737b1a15752b1\"><img<br>title=\"This PR adds 306 statements missing<br>coverage to the whole project. The file did not<br>seem to exist on the base branch.\"<br>src=\"https://img.shields.io/badge/306-%28%2B306%29-red.svg\"></a></td><td<br>align=\"center\"><a<br>href=\"https://github.com/pydantic/pydantic/pull/10961/files#diff-4b0bf2efa3367c0072ac2bf1e234e703dc46b47aaa4fe9d3b01737b1a15752b1\"><img<br>title=\"The coverage rate of the whole project is<br>95.81% (9616/9922). The file did not seem to exist<br>on the base branch.\"<br>src=\"https://img.shields.io/badge/95%25-%289.6k/9.9k%29-orange.svg\"></a></td><td<br>align=\"center\"><a<br>href=\"https://github.com/pydantic/pydantic/pull/10961/files#diff-4b0bf2efa3367c0072ac2bf1e234e703dc46b47aaa4fe9d3b01737b1a15752b1\"><img<br>title=\"In this PR, 3 new statements are added to<br>the whole project, 3 of which are covered (100%).\"<br>src=\"https://img.shields.io/badge/100%25-%283/3%29-brightgreen.svg\"></a></td><td>&nbsp;</td><br></tr> </tfoot> </table> <sub> This report was<br>generated by<br>[python-coverage-comment-action](https://github.com/py-cov-action/python-coverage-comment-action)<br></sub> </details> <!-- This comment was produced<br>by python-coverage-comment-action -->",
          "> @JensHeinrich, > > That would be great - could<br>you write one up? > > The more organized an issue<br>/ collection of issues is, the more likely we are<br>to pick up work on it earlier on. I think this is<br>something we could work to improve for v2.11 or<br>v2.12 :) > > Thanks! I hope this matches the<br>issues<br>https://github.com/pydantic/pydantic/issues/10966",
          "@sydney-runkle with this fix, what is the purpose<br>of `pydantic_core.Url`? Is it realistically still<br>expected anywhere in a pydantic model, or will it<br>always be `pydantic.AnyUrl` (and children)?<br>Motivation for my question: we have a custom json<br>serializer, somewhat similar in concept to<br>`pydantic_core.to_json()` but more tailored to our<br>use case (with some legacy backwards compatibility<br>cases thrown in). We used to ensure url<br>compatibility with an `isinstance(o,<br>pydantic_core.Url)`, which doesn't match anymore<br>with pydantic `2.10`. It's unclear to me whether I<br>should update to `pydantic.AnyUrl`, or to cover<br>both cases.",
          "@hongyuan1306, Thanks for reporting. This is<br>definitely a bug. Seems like probably in<br>`pydanic-core`.",
          "As a passing comment, really happy to see this PR<br>up and the API seems sensible and workable for the<br>usecases we have. Thanks so much for getting round<br>to this! Going to really help speed things up for<br>us 🚀",
          "This is most likely a limitation in the mypy<br>inference logic. I've raised<br>https://github.com/python/mypy/issues/18191 in the<br>meanwhile. For reference, both pyright and pyre<br>understand these use cases correctly. Until mypy<br>supports it, adding a `type: ignore` seems like<br>the best way forward. I'll leave this issue open<br>for a while, as we may try going with a different<br>workaround if this raises too many issues.",
          "If possible, I'd like to contribute to the<br>support of dataclasses. I think using dataclasses<br>and pydantic can contribute to standardize and<br>port models. It's a huge feature that if it's well<br>implemented, even more people would be happy to<br>join the pydantic ecosystem.",
          "We'll have to discuss this with the team this<br>week, but there's a chance that we will not<br>support it unfortunately. I'll get back to you<br>tomorrow or Thursday.",
          "Awesome! Thank you for the quick answer. I'll be<br>watching this thread!",
          "As documented, the validated data argument only<br>contains the already validated fields, based on<br>[field<br>ordering](https://docs.pydantic.dev/latest/concepts/models/#field-ordering).<br>However, the field ordering seems to be<br>inconsistent here, and more generally we should: -<br>Rework fields ordering for subclasses - Document<br>it properly.",
          "> Pydantic should supply a `FrozenBaseModel`<br>class where<br>[`frozen_default=True`](https://typing.readthedocs.io/en/latest/spec/dataclasses.html#dataclass-transform-parameters)<br>in order to avoid declaring `frozen=True` on all<br>subclasses. > But the spec for<br>`dataclass_transform` explains that multiple<br>instances of `dataclass_transform` in a class<br>hierarchy result in [undefined<br>behavior](https://typing.readthedocs.io/en/latest/spec/dataclasses.html#dataclass-transform-parameters).<br>So this means that we would have to rely on<br>undefined behavior then. Note that we already do<br>so for root models and `kw_only_default`:<br>https://github.com/pydantic/pydantic/blob/6f31f8f68ef011f84357330186f603ff295312fd/pydantic/root_model.py#L22-L35<br>But I'm just a bit worried that if Pydantic<br>happens to support other `dataclass_transform`<br>parameters (e.g. let's say we allow specifying<br>`kw_only` on the model config, and thus also as a<br>class parameter so that type checkers understand<br>it), we would have to add yet another custom base<br>(e.g. `NotKwOnlyBaseModel`, etc). I know this can<br>be a bit cumbersome, but can you implement your<br>`MyFrozenTool` in your project this way? ```python<br>if TYPE_CHECKING:<br>@dataclass_transform(frozen_default=True,<br>field_specifiers=(PydanticModelField,<br>PydanticModelPrivateAttr)) class<br>_FrozenModelMetaclass(_model_construction.ModelMetaclass):<br>... else: _FrozenModelMetaclass =<br>_model_construction.ModelMetaclass class<br>MyFrozenTool(_MyToolMixin, BaseModel): ... ``` Not<br>ideal as you'll have to rely on a private module",
          "## [CodSpeed Performance<br>Report](https://codspeed.io/pydantic/pydantic/branches/thejcannon%3Apatch-1)<br>### Merging #11014 will **not alter performance**<br><sub>Comparing <code>thejcannon:patch-1</code><br>(1da5638) with <code>main</code> (6f31f8f)</sub><br>### Summary `✅ 46` untouched benchmarks",
          "## Coverage report <img title=\"Coverage for the<br>whole project is 95.84%. Previous coverage rate is<br>not available, cannot report on evolution.\"<br>src=\"https://img.shields.io/badge/Coverage-95%25-orange.svg\"><br><img title=\"100% of the statement lines added by<br>this PR are covered\"<br>src=\"https://img.shields.io/badge/PR%20Coverage-100%25-brightgreen.svg\"><details><summary>Click<br>to see where and how coverage<br>changed</summary><table><thead><br><tr><th>File</th><th>Statements</th><th>Missing</th><th>Coverage</th><th>Coverage<br>(new<br>stmts)</th><th>Lines missing</th></tr> </thead><br><tbody><tr> <td<br>colspan=\"6\">&nbsp;&nbsp;<b>pydantic</b></td><tr><br><td>&nbsp;&nbsp;<a<br>href=\"https://github.com/pydantic/pydantic/pull/11014/files#diff-a85df49955cda137dd8914c5c2c662511c672ae6519fbee16e689997e9923c65\">json_schema.py</a></td><br><td align=\"center\"><a<br>href=\"https://github.com/pydantic/pydantic/pull/11014/files#diff-a85df49955cda137dd8914c5c2c662511c672ae6519fbee16e689997e9923c65\"><img<br>title=\"This PR adds 1061 statements to<br>pydantic/json_schema.py. The file did not seem to<br>exist on the base branch.\"<br>src=\"https://img.shields.io/badge/1.1k-%28%2B1061%29-007ec6.svg\"></a></td><td<br>align=\"center\"><a<br>href=\"https://github.com/pydantic/pydantic/pull/11014/files#diff-a85df49955cda137dd8914c5c2c662511c672ae6519fbee16e689997e9923c65\"><img<br>title=\"This PR adds 37 statements missing coverage<br>to pydantic/json_schema.py. The file did not seem<br>to exist on the base branch.\"<br>src=\"https://img.shields.io/badge/37-%28%2B37%29-red.svg\"></a></td><td<br>align=\"center\"><a<br>href=\"https://github.com/pydantic/pydantic/pull/11014/files#diff-a85df49955cda137dd8914c5c2c662511c672ae6519fbee16e689997e9923c65\"><img<br>title=\"The coverage rate of<br>pydantic/json_schema.py is 94.82% (1024/1061). The<br>file did not seem to exist on the base branch.\"<br>src=\"https://img.shields.io/badge/94%25-%281.0k/1.1k%29-orange.svg\"></a></td><td<br>align=\"center\"><a<br>href=\"https://github.com/pydantic/pydantic/pull/11014/files#diff-a85df49955cda137dd8914c5c2c662511c672ae6519fbee16e689997e9923c65\"><img<br>title=\"In this PR, 1 new statements are added to<br>pydantic/json_schema.py, 1 of which are covered<br>(100%).\"<br>src=\"https://img.shields.io/badge/100%25-%281/1%29-brightgreen.svg\"></a></td><td></td></tbody><br><tfoot> <tr> <td><b>Project Total</b></td> <td<br>align=\"center\"><a<br>href=\"https://github.com/pydantic/pydantic/pull/11014/files#diff-4b0bf2efa3367c0072ac2bf1e234e703dc46b47aaa4fe9d3b01737b1a15752b1\"><img<br>title=\"This PR adds 9942 statements to the whole<br>project. The file did not seem to exist on the<br>base branch.\"<br>src=\"https://img.shields.io/badge/9.9k-%28%2B9942%29-007ec6.svg\"></a></td><td<br>align=\"center\"><a<br>href=\"https://github.com/pydantic/pydantic/pull/11014/files#diff-4b0bf2efa3367c0072ac2bf1e234e703dc46b47aaa4fe9d3b01737b1a15752b1\"><img<br>title=\"This PR adds 305 statements missing<br>coverage to the whole project. The file did not<br>seem to exist on the base branch.\"<br>src=\"https://img.shields.io/badge/305-%28%2B305%29-red.svg\"></a></td><td<br>align=\"center\"><a<br>href=\"https://github.com/pydantic/pydantic/pull/11014/files#diff-4b0bf2efa3367c0072ac2bf1e234e703dc46b47aaa4fe9d3b01737b1a15752b1\"><img<br>title=\"The coverage rate of the whole project is<br>95.84% (9637/9942). The file did not seem to exist<br>on the base branch.\"<br>src=\"https://img.shields.io/badge/95%25-%289.6k/9.9k%29-orange.svg\"></a></td><td<br>align=\"center\"><a<br>href=\"https://github.com/pydantic/pydantic/pull/11014/files#diff-4b0bf2efa3367c0072ac2bf1e234e703dc46b47aaa4fe9d3b01737b1a15752b1\"><img<br>title=\"In this PR, 1 new statements are added to<br>the whole project, 1 of which are covered (100%).\"<br>src=\"https://img.shields.io/badge/100%25-%281/1%29-brightgreen.svg\"></a></td><td>&nbsp;</td><br></tr> </tfoot> </table> <sub> This report was<br>generated by<br>[python-coverage-comment-action](https://github.com/py-cov-action/python-coverage-comment-action)<br></sub> </details> <!-- This comment was produced<br>by python-coverage-comment-action -->",
          "please review (and thank you ❤️ )",
          "Thanks for the report. While we can accept the<br>added `.copy()` call as a quick fix (or perhaps<br>even we should deep copy?), I think the deeper<br>issue is the defined semantics of<br>`WithJsonSchema`. As per [the documentation<br>example](https://docs.pydantic.dev/latest/concepts/json_schema/#withjsonschema-annotation),<br>it is expected for the provided schema to<br>`WithJsonSchema` to \"override\" the whole JSON<br>Schema generation process (that's why you need to<br>specify `'type': 'integer'`). However, this is not<br>what is happening when using a default value:<br>```python class Model(BaseModel): a:<br>Annotated[int, WithJsonSchema({})] = 1<br>Model.model_json_schema() #> {'properties': {'a':<br>{'default': 1, 'title': 'A'}}, 'title': 'Model',<br>'type': 'object'} ``` (same for `'title'`). The<br>reason is that the JSON Schema generation uses the<br>core schema of the model. For fields with default<br>values, the core schema is of type `'default'`,<br>and the \"original\" schema is wrapped under the<br>`'schema'` key: ```python<br>Model.__pydantic_core_schema__['schema']['fields']['a']['schema']<br>#> {'type': 'default', 'schema': {'type': 'int',<br>'metadata': {'<stripped>'}, 'default': 1} ``` And<br>when generating the corresponding JSON Schema:<br>https://github.com/pydantic/pydantic/blob/6f31f8f68ef011f84357330186f603ff295312fd/pydantic/json_schema.py#L1096-L1109<br>We first generate the JSON Schema for the inner<br>schema (and because of the `WithJsonSchema`<br>metadata, this will result in the empty `{}`), and<br>then mutate it to provide a default value.<br>Instead, the `WithJsonSchema` annotation metadata<br>should probably be special cased, but this breaks<br>our current annotation application logic (cc<br>@sydney-runkle).",
          "> We first generate the JSON Schema for the inner<br>schema (and because of the WithJsonSchema<br>metadata, this will result in the empty {}), and<br>then mutate it to provide a default value. That<br>aligned with my understanding of the behavior. ><br>it is expected for the provided schema to<br>WithJsonSchema to \"override\" the whole JSON Schema<br>generation process Maybe this is just my<br>interpretation, but it feels, to me, like<br>`WithJsonSchema` and `json_schema_extra` are like<br>a \"before\" and \"after\" (respectively) and all the<br>type/default/examples goes in the middle. So just<br>as providing `type` in `json_schema_extra` doesn't<br>do anything, if `WithJsonSchema` had `type` it'd<br>be respected, but if it didn't it'd be filled in.<br>(But again, this is my interpretation)",
          "## [CodSpeed Performance<br>Report](https://codspeed.io/pydantic/pydantic/branches/KCui0327%3Adecimal_constraint)<br>### Merging #11016 will **not alter performance**<br><sub>Comparing<br><code>KCui0327:decimal_constraint</code> (c159bea)<br>with <code>main</code> (32f405b)</sub> ### Summary<br>`✅ 46` untouched benchmarks",
          "## Coverage report <img title=\"Coverage for the<br>whole project is 95.79%. Previous coverage rate is<br>not available, cannot report on evolution.\"<br>src=\"https://img.shields.io/badge/Coverage-95%25-orange.svg\"><br><img title=\"58.33% of the statement lines added by<br>this PR are covered\"<br>src=\"https://img.shields.io/badge/PR%20Coverage-58%25-red.svg\"><details><summary>Click<br>to see where and how coverage<br>changed</summary><table><thead><br><tr><th>File</th><th>Statements</th><th>Missing</th><th>Coverage</th><th>Coverage<br>(new<br>stmts)</th><th>Lines missing</th></tr> </thead><br><tbody><tr> <td<br>colspan=\"6\">&nbsp;&nbsp;<b>pydantic</b></td><tr><br><td>&nbsp;&nbsp;<a<br>href=\"https://github.com/pydantic/pydantic/pull/11016/files#diff-a85df49955cda137dd8914c5c2c662511c672ae6519fbee16e689997e9923c65\">json_schema.py</a></td><br><td align=\"center\"><a<br>href=\"https://github.com/pydantic/pydantic/pull/11016/files#diff-a85df49955cda137dd8914c5c2c662511c672ae6519fbee16e689997e9923c65\"><img<br>title=\"This PR adds 1074 statements to<br>pydantic/json_schema.py. The file did not seem to<br>exist on the base branch.\"<br>src=\"https://img.shields.io/badge/1.1k-%28%2B1074%29-007ec6.svg\"></a></td><td<br>align=\"center\"><a<br>href=\"https://github.com/pydantic/pydantic/pull/11016/files#diff-a85df49955cda137dd8914c5c2c662511c672ae6519fbee16e689997e9923c65\"><img<br>title=\"This PR adds 42 statements missing coverage<br>to pydantic/json_schema.py. The file did not seem<br>to exist on the base branch.\"<br>src=\"https://img.shields.io/badge/42-%28%2B42%29-red.svg\"></a></td><td<br>align=\"center\"><a<br>href=\"https://github.com/pydantic/pydantic/pull/11016/files#diff-a85df49955cda137dd8914c5c2c662511c672ae6519fbee16e689997e9923c65\"><img<br>title=\"The coverage rate of<br>pydantic/json_schema.py is 94.36% (1032/1074). The<br>file did not seem to exist on the base branch.\"<br>src=\"https://img.shields.io/badge/94%25-%281.0k/1.1k%29-orange.svg\"></a></td><td<br>align=\"center\"><a<br>href=\"https://github.com/pydantic/pydantic/pull/11016/files#diff-a85df49955cda137dd8914c5c2c662511c672ae6519fbee16e689997e9923c65\"><img<br>title=\"In this PR, 12 new statements are added to<br>pydantic/json_schema.py, 7 of which are covered<br>(58.33%).\"<br>src=\"https://img.shields.io/badge/58%25-%287/12%29-red.svg\"></a></td><td><a<br>href=\"https://github.com/pydantic/pydantic/pull/11016/files#diff-a85df49955cda137dd8914c5c2c662511c672ae6519fbee16e689997e9923c65R712-R720\">712-720</a></td></tbody><br><tfoot> <tr> <td><b>Project Total</b></td> <td<br>align=\"center\"><a<br>href=\"https://github.com/pydantic/pydantic/pull/11016/files#diff-4b0bf2efa3367c0072ac2bf1e234e703dc46b47aaa4fe9d3b01737b1a15752b1\"><img<br>title=\"This PR adds 9947 statements to the whole<br>project. The file did not seem to exist on the<br>base branch.\"<br>src=\"https://img.shields.io/badge/9.9k-%28%2B9947%29-007ec6.svg\"></a></td><td<br>align=\"center\"><a<br>href=\"https://github.com/pydantic/pydantic/pull/11016/files#diff-4b0bf2efa3367c0072ac2bf1e234e703dc46b47aaa4fe9d3b01737b1a15752b1\"><img<br>title=\"This PR adds 308 statements missing<br>coverage to the whole project. The file did not<br>seem to exist on the base branch.\"<br>src=\"https://img.shields.io/badge/308-%28%2B308%29-red.svg\"></a></td><td<br>align=\"center\"><a<br>href=\"https://github.com/pydantic/pydantic/pull/11016/files#diff-4b0bf2efa3367c0072ac2bf1e234e703dc46b47aaa4fe9d3b01737b1a15752b1\"><img<br>title=\"The coverage rate of the whole project is<br>95.79% (9639/9947). The file did not seem to exist<br>on the base branch.\"<br>src=\"https://img.shields.io/badge/95%25-%289.6k/9.9k%29-orange.svg\"></a></td><td<br>align=\"center\"><a<br>href=\"https://github.com/pydantic/pydantic/pull/11016/files#diff-4b0bf2efa3367c0072ac2bf1e234e703dc46b47aaa4fe9d3b01737b1a15752b1\"><img<br>title=\"In this PR, 12 new statements are added to<br>the whole project, 7 of which are covered<br>(58.33%).\"<br>src=\"https://img.shields.io/badge/58%25-%287/12%29-red.svg\"></a></td><td>&nbsp;</td><br></tr> </tfoot> </table> <sub> This report was<br>generated by<br>[python-coverage-comment-action](https://github.com/py-cov-action/python-coverage-comment-action)<br></sub> </details> <!-- This comment was produced<br>by python-coverage-comment-action -->",
          "please review (thanks!)",
          "> Maybe this is just my interpretation, but it<br>feels, to me, like `WithJsonSchema` and<br>`json_schema_extra` are like a \"before\" and<br>\"after\" (respectively) and all the<br>type/default/examples goes in the middle. So just<br>as providing `type` in `json_schema_extra` doesn't<br>do anything, if `WithJsonSchema` had `type` it'd<br>be respected, but if it didn't it'd be filled in.<br>We might be going this way indeed, as special<br>casing `WithJsonSchema` to override all the JSON<br>Schema gen process is going to be breaking/too<br>hard to implement considering our actual<br>annotation application logic.",
          "> As a passing comment, really happy to see this<br>PR up and the API seems sensible and workable for<br>the usecases we have. Thanks so much for getting<br>round to this! Going to really help speed things<br>up for us 🚀 Sure thing! Wanted to put a PR up to<br>remind myself to prioritize this once we get out<br>of patch release land with v2.10 stuff. I'd like<br>to have this done by the end of the year :)",
          "Ah my bad, this isn't an issue specifically<br>coming from v2.10. Thanks for reporting this,<br>we're looking into this issue.",
          "Hmm, 1st one seems like a change for v3, if any.<br>We could probably at least make it more clear that<br>we don't support the 2nd for now.",
          "Hmm, I think the `copy` approach could make sense<br>here, as I think the maintenance burden of special<br>casing the `WithJsonSchema` might be annoyingly<br>high. Perhaps even more contained - can we just<br>avoid mutating the inner json schema when we do<br>schema gen for values with defaults?",
          "also happens when a regular dataclass is used as<br>an arbitrary type with a `BaseModel`: ```py from<br>__future__ import annotations from dataclasses<br>import dataclass from pydantic import BaseModel<br>@dataclass class Foo[T]: value: T class<br>Bar(BaseModel, arbitrary_types_allowed=True): bar:<br>Foo[int] print(Bar(bar=Foo(1))) ``` ```<br>pydantic.errors.PydanticUserError: `Bar` is not<br>fully defined; you should define `T`, then call<br>`Bar.model_rebuild()`. ```",
          "Almost the same issue with PlainValidator was<br>reported few months ago in #10402",
          "I am facing another type-check related issue with<br>slightly the following example: ```python from<br>pydantic import BaseModle, Field class<br>MyModel(BaseModel): prop: dict[str, Any] | None =<br>Field(default_factory=dict) ``` This raises the<br>following `mypy` error: ``` Argument<br>\"default_factory\" to \"Field\" has incompatible type<br>\"type[dict[Any, Any]]\"; expected \"Callable[[],<br>Never] | Callable[[dict[str, Any]], Never]\"<br>[arg-type] ``` - Pydantic: `v2.10.2` - Mypy:<br>`v1.13.0`",
          "## [CodSpeed Performance<br>Report](https://codspeed.io/pydantic/pydantic/branches/kc0506%3Afix-11024)<br>### Merging #11037 will **not alter performance**<br><sub>Comparing <code>kc0506:fix-11024</code><br>(954e61d) with <code>main</code> (aee6057)</sub><br>### Summary `✅ 46` untouched benchmarks",
          "## Coverage report <img title=\"Coverage for the<br>whole project is 95.84%. Previous coverage rate is<br>not available, cannot report on evolution.\"<br>src=\"https://img.shields.io/badge/Coverage-95%25-orange.svg\"><br><img title=\"81.81% of the statement lines added by<br>this PR are covered\"<br>src=\"https://img.shields.io/badge/PR%20Coverage-81%25-orange.svg\"><details><summary>Click<br>to see where and how coverage<br>changed</summary><table><thead><br><tr><th>File</th><th>Statements</th><th>Missing</th><th>Coverage</th><th>Coverage<br>(new<br>stmts)</th><th>Lines missing</th></tr> </thead><br><tbody><tr> <td<br>colspan=\"6\">&nbsp;&nbsp;<b>pydantic/_internal</b></td><tr><br><td>&nbsp;&nbsp;<a<br>href=\"https://github.com/pydantic/pydantic/pull/11037/files#diff-106c17841815abb5e16d2ef6120bbaf9033249d900a633b6648ff37d34394933\">_generics.py</a></td><br><td align=\"center\"><a<br>href=\"https://github.com/pydantic/pydantic/pull/11037/files#diff-106c17841815abb5e16d2ef6120bbaf9033249d900a633b6648ff37d34394933\"><img<br>title=\"This PR adds 225 statements to<br>pydantic/_internal/_generics.py. The file did not<br>seem to exist on the base branch.\"<br>src=\"https://img.shields.io/badge/225-%28%2B225%29-007ec6.svg\"></a></td><td<br>align=\"center\"><a<br>href=\"https://github.com/pydantic/pydantic/pull/11037/files#diff-106c17841815abb5e16d2ef6120bbaf9033249d900a633b6648ff37d34394933\"><img<br>title=\"This PR adds 12 statements missing coverage<br>to pydantic/_internal/_generics.py. The file did<br>not seem to exist on the base branch.\"<br>src=\"https://img.shields.io/badge/12-%28%2B12%29-red.svg\"></a></td><td<br>align=\"center\"><a<br>href=\"https://github.com/pydantic/pydantic/pull/11037/files#diff-106c17841815abb5e16d2ef6120bbaf9033249d900a633b6648ff37d34394933\"><img<br>title=\"The coverage rate of<br>pydantic/_internal/_generics.py is 93% (213/225).<br>The file did not seem to exist on the base<br>branch.\"<br>src=\"https://img.shields.io/badge/93%25-%28213/225%29-orange.svg\"></a></td><td<br>align=\"center\"><a<br>href=\"https://github.com/pydantic/pydantic/pull/11037/files#diff-106c17841815abb5e16d2ef6120bbaf9033249d900a633b6648ff37d34394933\"><img<br>title=\"In this PR, 1 new statements are added to<br>pydantic/_internal/_generics.py, 1 of which are<br>covered (100%).\"<br>src=\"https://img.shields.io/badge/100%25-%281/1%29-brightgreen.svg\"></a></td><td></td><tr><br><td>&nbsp;&nbsp;<a<br>href=\"https://github.com/pydantic/pydantic/pull/11037/files#diff-ea75a1ef1da6bb38913477e979605f6a05e2ffe8c28fe47d9b798c89ba436c7c\">_model_construction.py</a></td><br><td align=\"center\"><a<br>href=\"https://github.com/pydantic/pydantic/pull/11037/files#diff-ea75a1ef1da6bb38913477e979605f6a05e2ffe8c28fe47d9b798c89ba436c7c\"><img<br>title=\"This PR adds 372 statements to<br>pydantic/_internal/_model_construction.py. The<br>file did not seem to exist on the base branch.\"<br>src=\"https://img.shields.io/badge/372-%28%2B372%29-007ec6.svg\"></a></td><td<br>align=\"center\"><a<br>href=\"https://github.com/pydantic/pydantic/pull/11037/files#diff-ea75a1ef1da6bb38913477e979605f6a05e2ffe8c28fe47d9b798c89ba436c7c\"><img<br>title=\"This PR adds 5 statements missing coverage<br>to pydantic/_internal/_model_construction.py. The<br>file did not seem to exist on the base branch.\"<br>src=\"https://img.shields.io/badge/5-%28%2B5%29-red.svg\"></a></td><td<br>align=\"center\"><a<br>href=\"https://github.com/pydantic/pydantic/pull/11037/files#diff-ea75a1ef1da6bb38913477e979605f6a05e2ffe8c28fe47d9b798c89ba436c7c\"><img<br>title=\"The coverage rate of<br>pydantic/_internal/_model_construction.py is<br>98.09% (367/372). The file did not seem to exist<br>on the base branch.\"<br>src=\"https://img.shields.io/badge/98%25-%28367/372%29-orange.svg\"></a></td><td<br>align=\"center\"><a<br>href=\"https://github.com/pydantic/pydantic/pull/11037/files#diff-ea75a1ef1da6bb38913477e979605f6a05e2ffe8c28fe47d9b798c89ba436c7c\"><img<br>title=\"In this PR, 10 new statements are added to<br>pydantic/_internal/_model_construction.py, 8 of<br>which are covered (80%).\"<br>src=\"https://img.shields.io/badge/80%25-%288/10%29-orange.svg\"></a></td><td><a<br>href=\"https://github.com/pydantic/pydantic/pull/11037/files#diff-ea75a1ef1da6bb38913477e979605f6a05e2ffe8c28fe47d9b798c89ba436c7cR329-R330\">329-330</a></td></tbody><br><tfoot> <tr> <td><b>Project Total</b></td> <td<br>align=\"center\"><a<br>href=\"https://github.com/pydantic/pydantic/pull/11037/files#diff-4b0bf2efa3367c0072ac2bf1e234e703dc46b47aaa4fe9d3b01737b1a15752b1\"><img<br>title=\"This PR adds 9943 statements to the whole<br>project. The file did not seem to exist on the<br>base branch.\"<br>src=\"https://img.shields.io/badge/9.9k-%28%2B9943%29-007ec6.svg\"></a></td><td<br>align=\"center\"><a<br>href=\"https://github.com/pydantic/pydantic/pull/11037/files#diff-4b0bf2efa3367c0072ac2bf1e234e703dc46b47aaa4fe9d3b01737b1a15752b1\"><img<br>title=\"This PR adds 304 statements missing<br>coverage to the whole project. The file did not<br>seem to exist on the base branch.\"<br>src=\"https://img.shields.io/badge/304-%28%2B304%29-red.svg\"></a></td><td<br>align=\"center\"><a<br>href=\"https://github.com/pydantic/pydantic/pull/11037/files#diff-4b0bf2efa3367c0072ac2bf1e234e703dc46b47aaa4fe9d3b01737b1a15752b1\"><img<br>title=\"The coverage rate of the whole project is<br>95.84% (9639/9943). The file did not seem to exist<br>on the base branch.\"<br>src=\"https://img.shields.io/badge/95%25-%289.6k/9.9k%29-orange.svg\"></a></td><td<br>align=\"center\"><a<br>href=\"https://github.com/pydantic/pydantic/pull/11037/files#diff-4b0bf2efa3367c0072ac2bf1e234e703dc46b47aaa4fe9d3b01737b1a15752b1\"><img<br>title=\"In this PR, 11 new statements are added to<br>the whole project, 9 of which are covered<br>(81.81%).\"<br>src=\"https://img.shields.io/badge/81%25-%289/11%29-orange.svg\"></a></td><td>&nbsp;</td><br></tr> </tfoot> </table> <sub> This report was<br>generated by<br>[python-coverage-comment-action](https://github.com/py-cov-action/python-coverage-comment-action)<br></sub> </details> <!-- This comment was produced<br>by python-coverage-comment-action -->",
          "##### FastAPI code using the specified models<br>```python # 3rd party from fastapi import FastAPI<br>from models.data_source import ValidationRequest #<br>Create FastAPI app app = FastAPI() @app.post(\"/\")<br>async def validate_account_access(req_body:<br>ValidationRequest): print(req_body) return {} ```",
          "Related: - #11052",
          "UPDATE: I just tried to rollback pydantic<br>version. With this version there is no issue with<br>apache: ``` pydantic==2.5.2 pydantic_core==2.14.5<br>``` What was introduced between 2.5.2 and 2.7.1<br>that can cause this?",
          "This workaround works: ```python class<br>MyParent(BaseModel): model_config =<br>ConfigDict(populate_by_name=True) class<br>MyModel(MyParent): my_field: int = Field(...,<br>alias=\"my.field\") my_model = MyModel(my_field=1) #<br>Works as expected ```",
          "It will be difficult for use to debug the issue,<br>unless you can provide a repo with clear<br>reproduction steps (I can test on both Linux and<br>Windows). I would suggest attaching a debugger or<br>try profiling with<br>[`py-spy`](https://github.com/benfred/py-spy), and<br>see where the code hangs.",
          "The issue you're facing with Pydantic 2.10.3 is<br>related to a change in behavior for fields marked<br>as Optional or Maybe types when the default value<br>is set to None. In Pydantic 2.x, a stricter<br>validation mechanism was introduced. By default,<br>when you use Field(None), it implies that the<br>field can be None, but the presence of a None<br>value can cause issues when validation is done.<br>The key difference here is that Field(None) now<br>treats the field as required, which is why you're<br>encountering the Field required error. Solution<br>example `from typing import Optional import<br>uvicorn from fastapi import FastAPI from pydantic<br>import BaseModel, Field app = FastAPI() class<br>Item(BaseModel): field: Optional[int] = None # Use<br>Optional[int] and set default to None<br>@app.post(\"/items/\") async def create_item(item:<br>Item): return item uvicorn.run(app) ` To solve the<br>issue and allow the field to be blank or None<br>without raising the validation error, you can make<br>the following adjustment: Use Field(default=None)<br>instead of Field(None) to explicitly mark the<br>field as optional without requiring a value. You<br>can also use Optional from typing instead of<br>relying on Maybe, since Optional explicitly means<br>the field can either have a value or be None",
          "> Thanks for the PR. A couple remarks on the<br>pattern implementation: > > * Can't we also set a<br>pattern if only `decimal_places` is set? > > * I'm<br>wondering if we should special case leading zeros<br>differently. What we could do is: > > * in<br>validation, allow arbitrary leading zeros to be<br>specified. Pydantic will not error during<br>validation. > * in serialization, only allow a<br>single 0 or `[1-9]` followed by the constrained<br>number of integers. > > * Taking into account what<br>was said above, let's define the pattern as a<br>private constant in this module, and explain it<br>with comments (and then compile with the<br>`re.VERBOSE` flag), e.g: > ```python ><br>_DECIMAL_PATTERN = r\"\"\" > ^-? # Possible minus<br>sign > ... > \"\"\" > ``` Hi @Viicos, thank you for<br>your feedback! I have address your feedback in the<br>latest commits, please let me know if there's any<br>other changes I should add.",
          "> The issue you're facing with Pydantic 2.10.3 is<br>related to a change in behavior for fields marked<br>as Optional or Maybe types when the default value<br>is set to None. > > In Pydantic 2.x, a stricter<br>validation mechanism was introduced. By default,<br>when you use Field(None), it implies that the<br>field can be None, but the presence of a None<br>value can cause issues when validation is done.<br>The key difference here is that Field(None) now<br>treats the field as required, which is why you're<br>encountering the Field required error. > ><br>Solution example `from typing import Optional<br>import uvicorn from fastapi import FastAPI from<br>pydantic import BaseModel, Field > > app =<br>FastAPI() > > class Item(BaseModel): field:<br>Optional[int] = None # Use Optional[int] and set<br>default to None > > @app.post(\"/items/\") async def<br>create_item(item: Item): return item > ><br>uvicorn.run(app) ` > > To solve the issue and<br>allow the field to be blank or None without<br>raising the validation error, you can make the<br>following adjustment: > > Use Field(default=None)<br>instead of Field(None) to explicitly mark the<br>field as optional without requiring a value. You<br>can also use Optional from typing instead of<br>relying on Maybe, since Optional explicitly means<br>the field can either have a value or be None This<br>has nothing to do with optional values, it's<br>related to a regex in the email validator which<br>explicitly excludes the period character in the<br>display name for NameEmail.",
          "You're absolutely correct — the issue lies in the<br>NameEmail regex validator's strict enforcement of<br>rules for the display name, which excludes the use<br>of a period (.) in certain contexts. Pydantic's<br>NameEmail relies on a strict interpretation of the<br>RFC 5322 standard for email addresses, and its<br>display name validation doesn't account for names<br>with periods used as abbreviations. To resolve<br>this, you need to override the default behavior of<br>NameEmail and adjust the regex used for validating<br>the display name.",
          "@Viicos There you go, I've created a repo with<br>instructions. Please see:<br>https://github.com/asaff1/pydantic_mod_wsgi_bug<br>I've tested the bug indeed happens on two Windows<br>machines. You can try different versions of<br>apache, mod-wsgi, I believe that bug will happen<br>anyway. From my experiments, it seems like the<br>issue is when str strip is on. This for some<br>reason cause apache to crash. I know it might not<br>strictly be an issue with pydantic, but I'd like<br>to get some insight what is going on there.",
          "Types are implemented in different styles within<br>Pydantic. The validation only really works in the<br>context of BaseModel, or TypeAdapter. I suspect<br>this is the source of the inconsistency in the two<br>(stylistically) different examples you provided.<br>This is perhaps creating some confusion. More info<br>on TypeAdapter.<br>https://docs.pydantic.dev/latest/api/type_adapter/<br>To demonstrate this in the REPL. (No validation is<br>occurring here, only assigning of values) ```bash<br>In [12]: from pydantic import NameEmail,<br>PositiveInt In [13]: PositiveInt(-7) Out[13]: -7<br>In [14]: NameEmail(1, 2) Out[14]:<br>NameEmail(name=1, email=2) In [15]:<br>NameEmail(PositiveInt(-7), NameEmail(\"a\", \"b\"))<br>Out[15]: NameEmail(name=-7,<br>email=NameEmail(name='a', email='b')) ``` I<br>believe the underlying issue can be resolved by<br>quoting the string. ```bash In [19]: name_email =<br>TypeAdapter(NameEmail).validate_python('\"Homer J.<br>Simpson\" <jsimpson@a.com>') In [20]: name_email<br>Out[20]: NameEmail(name='Homer J. Simpson',<br>email='jsimpson@a.com') ```",
          "Thanks for the responses, but perhaps my original<br>example wasn't clear. I don't have an issue with<br>creating a NameEmail with or without a<br>TypeAdapter, but the issue is when I want to<br>validate it from an input string. I don't control<br>the input, so quoting the display name as<br>suggested is not an option. To adapt my original<br>example, you can see there are two different<br>outcomes when I would expect them to behave the<br>same: ```py from pydantic import BaseModel,<br>NameEmail, ValidationError class User(BaseModel):<br>name_email: NameEmail # This works try: user =<br>User( name_email=NameEmail( name=\"Homer J.<br>Simpson\", email=\"homer@thesimpsons.com\", ), )<br>print(f\"{user}\") except ValidationError as e:<br>print(f\"{e}\") # This is a validation error try:<br>user = User.model_validate( { \"name_email\": \"Homer<br>J. Simpson <homer@thesimpsons.com>\", } )<br>print(f\"{user}\") except ValidationError as e:<br>print(f\"{e}\") ``` To respond to @sangameshbagewadi<br>, section 4.1 in the RFC document you cite<br>explicitly states that names with periods in them<br>must be interpreted properly:<br>https://datatracker.ietf.org/doc/html/rfc5322#section-4.1",
          "Try this `from pydantic import BaseModel,<br>ValidationError from pydantic.networks import<br>EmailStr from typing import Any class<br>CustomNameEmail: def __init__(self, name: str,<br>email: str): self.name = name self.email = email<br>@classmethod def validate(cls, value: Any) -><br>\"CustomNameEmail\": if isinstance(value, str): try:<br># Split the input into \"name\" and \"email\" parts<br>name, email = value.rsplit(\" <\", 1) email =<br>email.rstrip(\">\") if not email or \"@\" not in<br>email: raise ValueError(\"Invalid email format\") #<br>Return a validated CustomNameEmail instance return<br>cls(name=name.strip(), email=email.strip()) except<br>ValueError: raise ValueError(f\"Invalid NameEmail<br>format: {value}\") raise TypeError(\"Expected a<br>string for NameEmail\") def __repr__(self): return<br>f\"{self.name} <{self.email}>\" def __str__(self):<br>return self.__repr__() class User(BaseModel):<br>name_email: CustomNameEmail @classmethod def<br>model_validate(cls, value: dict): # Manually apply<br>validation using CustomNameEmail try:<br>value['name_email'] =<br>CustomNameEmail.validate(value['name_email'])<br>except (ValueError, TypeError) as e: raise<br>ValidationError(str(e)) return cls(**value) #<br>Example Usage # This works try: user = User(<br>name_email=CustomNameEmail( name=\"Homer J.<br>Simpson\", email=\"homer@thesimpsons.com\", ) )<br>print(f\"User (manual init): {user}\") except<br>ValidationError as e: print(f\"Validation Error:<br>{e}\") # This is now consistent try: user =<br>User.model_validate( { \"name_email\": \"Homer J.<br>Simpson <homer@thesimpsons.com>\", } ) print(f\"User<br>(string input): {user}\") except ValidationError as<br>e: print(f\"Validation Error: {e}\") `",
          "(mine is just mostly a passerby comment, but I<br>wonder if \"don't mutate\" would be feasible in a<br>maintainable fashion with a combo of \"input types<br>declared as immutable types like `Mapping`, and a<br>linter that enforces the requirement)",
          "@sangameshbagewadi we appreciate the help but<br>your (AI generated?) answers are irrelevant and<br>poorly formatted. I marked them as off topic,<br>please avoid doing so again.",
          "The `NameEmail` type is a bit confusing, because<br>it is meant to be used as an annotation in a<br>Pydantic context (i.e. as a field type/with<br>`TypeAdapter`). However, it is instantiable even<br>though no validation is performed on<br>instantiation. Doing: ```python user = User(<br>name_email=NameEmail( name=\"Homer J. Simpson\",<br>email=\"homer@thesimpsons.com\", ), ) ``` will *not*<br>perform any validation, because the validation<br>function (which is **only called during Pydantic<br>validation**, not instantiation) is defined as:<br>https://github.com/pydantic/pydantic/blob/32f405bcf6171602ffe754f1fca1681c5ddee96e/pydantic/networks.py#L1008-L1013<br>which is arguably flawed: the `input_value` type<br>hint indicates that validating as a `NameInstance`<br>is supported (because we allow `Self`) but we<br>don't perform any validation here (probably it was<br>assumed here that if it is an instance, it was<br>already validated, perhaps on init or from another<br>model validation). cc @sydney-runkle, this is<br>similar to the URL types, we are missing<br>consistency here. Whether we should allow period<br>in names or not, from my understanding of<br>https://datatracker.ietf.org/doc/html/rfc5322#section-4<br>we should. It is an obsolete token, but: > they<br>MUST be accepted and parsed by a conformant<br>receiver.",
          "> @sangameshbagewadi we appreciate the help but<br>your (AI generated?) answers are irrelevant and<br>poorly formatted. I marked them as off topic,<br>please avoid doing so again. Thank you for<br>feedback but using AI in search for possible<br>solutions is not out of the question it is using<br>tools of tomorrow. It is not a response that<br>failed but the issue itself, for its subtlety<br>cannot be aptly conveyed in that media. Instead of<br>discarding an idea, it is better to offer<br>constructive suggestions.",
          "Thanks but no thanks. Please take time to assess<br>the really poor quality of your answers,<br>especially [this<br>one](https://github.com/pydantic/pydantic/issues/11056#issuecomment-2523096948).",
          "Thanks for the repo and instructions. cc<br>@davidhewitt, the linked `mod_wsgi` thread<br>provides more info.",
          "FYI, from my experiments, the issue is happening<br>only on Windows.",
          "@Viicos can you please explain why this was<br>(re)categorized as a feature request, rather than<br>a bug? To me, this behavior seems clearly wrong,<br>despite pydantic's existing support for `type`<br>statements. Thank you!",
          "Hmm, I'm not able to repro this at the moment.<br>Could you provide a pure pydantic repro? Thanks!<br>```py from typing import Annotated, Literal, Union<br>from pydantic import BaseModel, ConfigDict, Field<br>from pydantic.alias_generators import to_camel<br>class FacebookConfig(BaseModel): \"\"\"FB Config\"\"\"<br>model_config =<br>ConfigDict(alias_generator=to_camel) account_id:<br>str account_name: str data_source:<br>Literal['facebook'] class GoogleConfig(BaseModel):<br>\"\"\"Google Config\"\"\" model_config =<br>ConfigDict(alias_generator=to_camel) customer_id:<br>str login_customer_id: str data_source:<br>Literal['google'] DatasourceConfig =<br>Annotated[Union[FacebookConfig, GoogleConfig],<br>Field(discriminator='data_source')] class<br>ValidationRequest(BaseModel): \"\"\"Validation<br>Request\"\"\" configs: list[DatasourceConfig] import<br>json<br>print(json.dumps(ValidationRequest.model_json_schema(),<br>indent=2)) \"\"\" { \"$defs\": { \"FacebookConfig\": {<br>\"description\": \"FB Config\", \"properties\": {<br>\"accountId\": { \"title\": \"Accountid\", \"type\":<br>\"string\" }, \"accountName\": { \"title\":<br>\"Accountname\", \"type\": \"string\" }, \"dataSource\": {<br>\"const\": \"facebook\", \"title\": \"Datasource\",<br>\"type\": \"string\" } }, \"required\": [ \"accountId\",<br>\"accountName\", \"dataSource\" ], \"title\":<br>\"FacebookConfig\", \"type\": \"object\" },<br>\"GoogleConfig\": { \"description\": \"Google Config\",<br>\"properties\": { \"customerId\": { \"title\":<br>\"Customerid\", \"type\": \"string\" },<br>\"loginCustomerId\": { \"title\": \"Logincustomerid\",<br>\"type\": \"string\" }, \"dataSource\": { \"const\":<br>\"google\", \"title\": \"Datasource\", \"type\": \"string\"<br>} }, \"required\": [ \"customerId\",<br>\"loginCustomerId\", \"dataSource\" ], \"title\":<br>\"GoogleConfig\", \"type\": \"object\" } },<br>\"description\": \"Validation Request\", \"properties\":<br>{ \"configs\": { \"items\": { \"discriminator\": {<br>\"mapping\": { \"facebook\": \"#/$defs/FacebookConfig\",<br>\"google\": \"#/$defs/GoogleConfig\" },<br>\"propertyName\": \"dataSource\" }, \"oneOf\": [ {<br>\"$ref\": \"#/$defs/FacebookConfig\" }, { \"$ref\":<br>\"#/$defs/GoogleConfig\" } ] }, \"title\": \"Configs\",<br>\"type\": \"array\" } }, \"required\": [ \"configs\" ],<br>\"title\": \"ValidationRequest\", \"type\": \"object\" }<br>\"\"\" ```",
          "Hi @AbdealiLoKo, Thanks for your question. Yeah,<br>looks like we reuse the error structure for models<br>and calls. I'll chat with the team and see if this<br>is something we could consider changing.",
          "Hi, Thanks for raising this issue. I'll take a<br>look at this for v2.10.4.",
          "@Viicos indeed, the inconsistency here makes my<br>head hurt. Let's chat about this at our next sync<br>:(.",
          "@azmeuk, Thanks for your question. I definitely<br>think there's something to be said re the value of<br>interactions between config flags and runtime<br>validation / serialization flags. Perhaps we could<br>do for `extra` what we have done for `strict`.",
          "Hi @bnkc, Thanks for your suggestion! Definitely<br>seems like there could be some benefits here. Wdyt<br>@davidhewitt or @samuelcolvin?",
          "I think this has been reported before, but I<br>can't find the specific issue. It's a problem with<br>the validator using python validation I think.",
          "We cannot switch in V2, that would be a breaking<br>change. I am all for giving users the choice,<br>however. This might be as simple as having<br>`pydantic[emval]` or it might require additional<br>config.",
          "Given it's Rust, we could potentially use this to<br>add support for emails in pydantic-core. I am<br>unsure of the complexity of that implementation in<br>combination with config. I guess it would be<br>similar to how pyydantic-core supports two<br>different Regex engines with config.",
          "@bnkc are you able to summarise the differences<br>in what inputs emval might accept when compared<br>against email-validator? I think that would be<br>important to understand when considering how<br>switching might affect users' apps.",
          "Apologies. I forgot to mention the warning comes<br>when `GET /openapi.json` endpoint is called from<br>fastapi app. ```bash ~/a/utilities ❯❯❯ fastapi dev<br>app.py FastAPI Starting development server 🚀<br>Searching for package file structure from<br>directories with __init__.py files Importing from<br>/home/dikesh/apps/utilities module 🐍 app.py code<br>Importing the FastAPI app object from the module<br>with the following code: from app import app app<br>Using import string: app:app server Server started<br>at http://127.0.0.1:8000 server Documentation at<br>http://127.0.0.1:8000/docs tip Running in<br>development mode, for production use: fastapi run<br>Logs: INFO Will watch for changes in these<br>directories: ['/home/dikesh/apps/utilities'] INFO<br>Uvicorn running on http://127.0.0.1:8000 (Press<br>CTRL+C to quit) INFO Started reloader process<br>[8516] using WatchFiles INFO Started server<br>process [8526] INFO Waiting for application<br>startup. INFO Application startup complete.<br>/home/dikesh/.cache/pypoetry/virtualenvs/utilities-w-UxRgOW-py3.12/lib/python3.12/site-packages/pydantic/json_schema.py:2285:<br>PydanticJsonSchemaWarning: Cannot update undefined<br>schema for<br>$ref=#/components/schemas/models__data_source__FacebookConfig-Input__1<br>[skipped-discriminator] warnings.warn(message,<br>PydanticJsonSchemaWarning) INFO 127.0.0.1:57008 -<br>\"GET /openapi.json HTTP/1.1\" 200 ```",
          "Hi @davidhewitt Yes I was also considering how<br>this could be used in pydantic-core given emval is<br>exposed as a rust crate. That could be very<br>useful. As for the differences in input values: 1.<br>**Domain Check:** - emval: `deliverable_address`<br>(MX check). - python-email-validator:<br>`check_deliverability` + custom DNS resolver. 2.<br>**SMTPUTF8 & Local Part Options:** - Both support<br>`allow_smtputf8`, `allow_quoted_local`,<br>`allow_empty_local`, and `allow_domain_literal`.<br>3. **Extra Features:** - python-email-validator:<br>Also supports `allow_display_name` - emval:<br>Focused on core validation, no similar options<br>(though could be added)",
          "We definitely don't want any DNS/MX check. If we<br>switch to another library, I'd rather do it in<br>pydantic-core in Rust, so we don't call out to<br>Python. Happy to accept a PR to add support for it<br>in pydantic-core, but it would need to be an<br>opt-in option until V3 at least.",
          "@samuelcolvin Sounds good! I definitely think it<br>makes sense to be part of core. I'll open up a<br>draft when given the chance 🎉",
          "Thanks @bnkc, I do think it's worth comparing<br>`python-email-validator`'s tests against emval,<br>and seeing what cases differ.",
          "@samuelcolvin I actually implemented<br>python-email-validators test suite into emval's<br>python bindings to make sure we cover the same<br>edge cases. Anything related to DNS resolution<br>have not been implemented. Other than that, emval<br>handles most situations similarly.",
          "Great.",
          "please review",
          "A few potential workarounds/approaches: 1. Use a<br>closure. 2. Use class var as config. Closure<br>Approach: ```python from typing import Annotated,<br>ClassVar, Self from annotated_types import Gt from<br>pydantic import BaseModel, model_validator,<br>AfterValidator def to_m(min_age: int) -><br>type[BaseModel]: class User(BaseModel): age:<br>Annotated[int, Gt(min_age)] return User UserGt10 =<br>to_m(10) UserGt0 = to_m(0) ``` 2. Use class var as<br>config ```python class UserWithAge(BaseModel):<br>MIN_AGE: ClassVar[int] = 0 age: int<br>@model_validator(mode=\"after\") def<br>validate_age(self) -> Self: if self.MIN_AGE <<br>self.age: return self raise ValueError(f\"Age<br>({self.age}) must be >{self.MIN_AGE}\") class<br>UserWithGt10(UserWithAge): MIN_AGE: ClassVar[int]<br>= 10 class UserWithGt100(UserWithAge): MIN_AGE:<br>ClassVar[int] = 100 ```",
          "Thanks mpkocher! The closure approach is perfect<br>for my usecase. I'll leave the issue up for now,<br>in case the Pydantic maintainers want to consider<br>this as a solution to make the context system<br>easier to use.",
          "## Deploying pydantic-docs with &nbsp;<a<br>href=\"https://pages.dev\"><img alt=\"Cloudflare<br>Pages\"<br>src=\"https://user-images.githubusercontent.com/23264/106598434-9e719e00-654f-11eb-9e59-6167043cfa01.png\"<br>width=\"16\"></a> &nbsp;Cloudflare Pages<br><table><tr><td><strong>Latest commit:</strong><br></td><td> <code>3153ed2</code> </td></tr><br><tr><td><strong>Status:</strong></td><td>&nbsp;✅&nbsp;<br>Deploy successful!</td></tr><br><tr><td><strong>Preview URL:</strong></td><td> <a<br>href='https://9b40203e.pydantic-docs.pages.dev'>https://9b40203e.pydantic-docs.pages.dev</a><br></td></tr> <tr><td><strong>Branch Preview<br>URL:</strong></td><td> <a<br>href='https://fields-pep695.pydantic-docs.pages.dev'>https://fields-pep695.pydantic-docs.pages.dev</a><br></td></tr> </table> [View<br>logs](https://dash.cloudflare.com/?to=/:account/pages/view/pydantic-docs/9b40203e-7c6e-4739-9050-a0054040fe39)",
          "## [CodSpeed Performance<br>Report](https://codspeed.io/pydantic/pydantic/branches/fields-pep695)<br>### Merging #11109 will **not alter performance**<br><sub>Comparing <code>fields-pep695</code><br>(3153ed2) with <code>main</code> (debffa5)</sub><br>### Summary `✅ 46` untouched benchmarks",
          "## Coverage report <img title=\"Coverage for the<br>whole project is 95.77%. Previous coverage rate is<br>not available, cannot report on evolution.\"<br>src=\"https://img.shields.io/badge/Coverage-95%25-orange.svg\"><br><img title=\"91.78% of the statement lines added by<br>this PR are covered\"<br>src=\"https://img.shields.io/badge/PR%20Coverage-91%25-orange.svg\"><details><summary>Click<br>to see where and how coverage<br>changed</summary><table><thead><br><tr><th>File</th><th>Statements</th><th>Missing</th><th>Coverage</th><th>Coverage<br>(new<br>stmts)</th><th>Lines missing</th></tr> </thead><br><tbody><tr> <td<br>colspan=\"6\">&nbsp;&nbsp;<b>pydantic</b></td><tr><br><td>&nbsp;&nbsp;<a<br>href=\"https://github.com/pydantic/pydantic/pull/11109/files#diff-bfaaac2ae0a71d9686a272982d29d0bed82bfaacf8b5b30e2b88ed2543e74a3b\">fields.py</a></td><br><td align=\"center\"><a<br>href=\"https://github.com/pydantic/pydantic/pull/11109/files#diff-bfaaac2ae0a71d9686a272982d29d0bed82bfaacf8b5b30e2b88ed2543e74a3b\"><img<br>title=\"This PR adds 442 statements to<br>pydantic/fields.py. The file did not seem to exist<br>on the base branch.\"<br>src=\"https://img.shields.io/badge/442-%28%2B442%29-007ec6.svg\"></a></td><td<br>align=\"center\"><a<br>href=\"https://github.com/pydantic/pydantic/pull/11109/files#diff-bfaaac2ae0a71d9686a272982d29d0bed82bfaacf8b5b30e2b88ed2543e74a3b\"><img<br>title=\"This PR adds 2 statements missing coverage<br>to pydantic/fields.py. The file did not seem to<br>exist on the base branch.\"<br>src=\"https://img.shields.io/badge/2-%28%2B2%29-red.svg\"></a></td><td<br>align=\"center\"><a<br>href=\"https://github.com/pydantic/pydantic/pull/11109/files#diff-bfaaac2ae0a71d9686a272982d29d0bed82bfaacf8b5b30e2b88ed2543e74a3b\"><img<br>title=\"The coverage rate of pydantic/fields.py is<br>98.87% (440/442). The file did not seem to exist<br>on the base branch.\"<br>src=\"https://img.shields.io/badge/98%25-%28440/442%29-orange.svg\"></a></td><td<br>align=\"center\"><a<br>href=\"https://github.com/pydantic/pydantic/pull/11109/files#diff-bfaaac2ae0a71d9686a272982d29d0bed82bfaacf8b5b30e2b88ed2543e74a3b\"><img<br>title=\"In this PR, 33 new statements are added to<br>pydantic/fields.py, 33 of which are covered<br>(100%).\"<br>src=\"https://img.shields.io/badge/100%25-%2833/33%29-brightgreen.svg\"></a></td><td></td><tr><br><td<br>colspan=\"6\">&nbsp;&nbsp;<b>pydantic/_internal</b></td><tr><br><td>&nbsp;&nbsp;<a<br>href=\"https://github.com/pydantic/pydantic/pull/11109/files#diff-2ebfa892ec1d09440eefd4b22f488ec38c1cde365394e5a4cea6edb484827ba5\">_generate_schema.py</a></td><br><td align=\"center\"><a<br>href=\"https://github.com/pydantic/pydantic/pull/11109/files#diff-2ebfa892ec1d09440eefd4b22f488ec38c1cde365394e5a4cea6edb484827ba5\"><img<br>title=\"This PR adds 1204 statements to<br>pydantic/_internal/_generate_schema.py. The file<br>did not seem to exist on the base branch.\"<br>src=\"https://img.shields.io/badge/1.2k-%28%2B1204%29-007ec6.svg\"></a></td><td<br>align=\"center\"><a<br>href=\"https://github.com/pydantic/pydantic/pull/11109/files#diff-2ebfa892ec1d09440eefd4b22f488ec38c1cde365394e5a4cea6edb484827ba5\"><img<br>title=\"This PR adds 42 statements missing coverage<br>to pydantic/_internal/_generate_schema.py. The<br>file did not seem to exist on the base branch.\"<br>src=\"https://img.shields.io/badge/42-%28%2B42%29-red.svg\"></a></td><td<br>align=\"center\"><a<br>href=\"https://github.com/pydantic/pydantic/pull/11109/files#diff-2ebfa892ec1d09440eefd4b22f488ec38c1cde365394e5a4cea6edb484827ba5\"><img<br>title=\"The coverage rate of<br>pydantic/_internal/_generate_schema.py is 95.51%<br>(1162/1204). The file did not seem to exist on the<br>base branch.\"<br>src=\"https://img.shields.io/badge/95%25-%281.2k/1.2k%29-orange.svg\"></a></td><td<br>align=\"center\"><a<br>href=\"https://github.com/pydantic/pydantic/pull/11109/files#diff-2ebfa892ec1d09440eefd4b22f488ec38c1cde365394e5a4cea6edb484827ba5\"><img<br>title=\"In this PR, 8 new statements are added to<br>pydantic/_internal/_generate_schema.py, 6 of which<br>are covered (75%).\"<br>src=\"https://img.shields.io/badge/75%25-%286/8%29-orange.svg\"></a></td><td><a<br>href=\"https://github.com/pydantic/pydantic/pull/11109/files#diff-2ebfa892ec1d09440eefd4b22f488ec38c1cde365394e5a4cea6edb484827ba5R1981-R1981\">1981</a>,<br><a<br>href=\"https://github.com/pydantic/pydantic/pull/11109/files#diff-2ebfa892ec1d09440eefd4b22f488ec38c1cde365394e5a4cea6edb484827ba5R1983-R1983\">1983</a></td><tr><br><td>&nbsp;&nbsp;<a<br>href=\"https://github.com/pydantic/pydantic/pull/11109/files#diff-a908d7e91076e01611bb9027dbba695d81471b003dca6efbd24fcfa93db7a3ae\">_typing_extra.py</a></td><br><td align=\"center\"><a<br>href=\"https://github.com/pydantic/pydantic/pull/11109/files#diff-a908d7e91076e01611bb9027dbba695d81471b003dca6efbd24fcfa93db7a3ae\"><img<br>title=\"This PR adds 274 statements to<br>pydantic/_internal/_typing_extra.py. The file did<br>not seem to exist on the base branch.\"<br>src=\"https://img.shields.io/badge/274-%28%2B274%29-007ec6.svg\"></a></td><td<br>align=\"center\"><a<br>href=\"https://github.com/pydantic/pydantic/pull/11109/files#diff-a908d7e91076e01611bb9027dbba695d81471b003dca6efbd24fcfa93db7a3ae\"><img<br>title=\"This PR adds 11 statements missing coverage<br>to pydantic/_internal/_typing_extra.py. The file<br>did not seem to exist on the base branch.\"<br>src=\"https://img.shields.io/badge/11-%28%2B11%29-red.svg\"></a></td><td<br>align=\"center\"><a<br>href=\"https://github.com/pydantic/pydantic/pull/11109/files#diff-a908d7e91076e01611bb9027dbba695d81471b003dca6efbd24fcfa93db7a3ae\"><img<br>title=\"The coverage rate of<br>pydantic/_internal/_typing_extra.py is 96.25%<br>(263/274). The file did not seem to exist on the<br>base branch.\"<br>src=\"https://img.shields.io/badge/96%25-%28263/274%29-orange.svg\"></a></td><td<br>align=\"center\"><a<br>href=\"https://github.com/pydantic/pydantic/pull/11109/files#diff-a908d7e91076e01611bb9027dbba695d81471b003dca6efbd24fcfa93db7a3ae\"><img<br>title=\"In this PR, 32 new statements are added to<br>pydantic/_internal/_typing_extra.py, 28 of which<br>are covered (87.5%).\"<br>src=\"https://img.shields.io/badge/87%25-%2828/32%29-orange.svg\"></a></td><td><a<br>href=\"https://github.com/pydantic/pydantic/pull/11109/files#diff-a908d7e91076e01611bb9027dbba695d81471b003dca6efbd24fcfa93db7a3aeR184-R188\">184-188</a>,<br><a<br>href=\"https://github.com/pydantic/pydantic/pull/11109/files#diff-a908d7e91076e01611bb9027dbba695d81471b003dca6efbd24fcfa93db7a3aeR205-R206\">205-206</a></td></tbody><br><tfoot> <tr> <td><b>Project Total</b></td> <td<br>align=\"center\"><a<br>href=\"https://github.com/pydantic/pydantic/pull/11109/files#diff-4b0bf2efa3367c0072ac2bf1e234e703dc46b47aaa4fe9d3b01737b1a15752b1\"><img<br>title=\"This PR adds 9994 statements to the whole<br>project. The file did not seem to exist on the<br>base branch.\"<br>src=\"https://img.shields.io/badge/10.0k-%28%2B9994%29-007ec6.svg\"></a></td><td<br>align=\"center\"><a<br>href=\"https://github.com/pydantic/pydantic/pull/11109/files#diff-4b0bf2efa3367c0072ac2bf1e234e703dc46b47aaa4fe9d3b01737b1a15752b1\"><img<br>title=\"This PR adds 313 statements missing<br>coverage to the whole project. The file did not<br>seem to exist on the base branch.\"<br>src=\"https://img.shields.io/badge/313-%28%2B313%29-red.svg\"></a></td><td<br>align=\"center\"><a<br>href=\"https://github.com/pydantic/pydantic/pull/11109/files#diff-4b0bf2efa3367c0072ac2bf1e234e703dc46b47aaa4fe9d3b01737b1a15752b1\"><img<br>title=\"The coverage rate of the whole project is<br>95.77% (9681/9994). The file did not seem to exist<br>on the base branch.\"<br>src=\"https://img.shields.io/badge/95%25-%289.7k/10.0k%29-orange.svg\"></a></td><td<br>align=\"center\"><a<br>href=\"https://github.com/pydantic/pydantic/pull/11109/files#diff-4b0bf2efa3367c0072ac2bf1e234e703dc46b47aaa4fe9d3b01737b1a15752b1\"><img<br>title=\"In this PR, 73 new statements are added to<br>the whole project, 67 of which are covered<br>(91.78%).\"<br>src=\"https://img.shields.io/badge/91%25-%2867/73%29-orange.svg\"></a></td><td>&nbsp;</td><br></tr> </tfoot> </table> <sub> This report was<br>generated by<br>[python-coverage-comment-action](https://github.com/py-cov-action/python-coverage-comment-action)<br></sub> </details> <!-- This comment was produced<br>by python-coverage-comment-action -->",
          "Just to include a bit more of an easier to read<br>example: ```python def validate_length(value: Any,<br>info: ValidationInfo): # # I want to see the<br>json_schema_extra value from here # if<br>info.field_name: field =<br>info.model_fields[info.field_name) if field is not<br>None and isinstance(field.json_schema_extra,<br>dict): if field.json_schema_extra[\"absolute\"]:<br>return abs(value) return value class<br>SimpleThirdPartyType(BaseModel): length: int<br>AnnotatedModel = Annotated[SimpleThirdPartyType,<br>BeforeValidator(validate_length)] class<br>SimpleOuterModel(BaseModel): value: AnnotatedModel<br>= Field(json_schema_extra={\"absolute\": True}) ```<br>On the other hand, the following works because the<br>validator is a class method on the model itself,<br>and so therefore has access to `cls` and<br>`cls.model_fields`. I don't have the same luxury<br>when using validators via annotations or via<br>`__get_pydantic_core_schema__`. ```python class<br>SimpleModel(BaseModel): length: int =<br>Field(json_schema_extra={\"absolute\": True})<br>@field_validator(\"length\") def<br>validate_length(cls, value: Any, info:<br>ValidationInfo): if info.field_name: field =<br>cls.model_fields.get(info.field_name) if field is<br>not None and isinstance(field.json_schema_extra,<br>dict): if field.json_schema_extra[\"absolute\"]:<br>return abs(value) return value ```",
          "This will require quite some work (at least a<br>full day, being optimistic), and doesn't really<br>fit in our [V1 maintenance<br>policy](https://docs.pydantic.dev/dev/version-policy/#pydantic-v1).<br>May I ask: did you have explicit requests from<br>users asking for V1 support? We know the usage is<br>still quite high and it can be hard to switch to<br>V2, but instead of trying to keep V1 supported,<br>we'd like to help 3rd party libraries/applications<br>adopt V2.",
          "Even just the applicable `FieldInfo` from<br>`model_fields` would be a big help if for any<br>reason the full `model_fields` is a bridge to far<br>to be able to provide.",
          "Unfortunetly i'm not able to help implement new<br>features, but maybe you can elaborate on why<br>creating PydanticThirdPartyType as BaseModel<br>itself is no solution? Nested BaseModels are well<br>suported.",
          "@AdunSG, I simply tried to provide trivial<br>examples here to illustrate what I am asking for.<br>The request here applies most directly on third<br>party types over which you would have zero control<br>to be able to inherit from BaseModel. This is well<br>supported by these annotations, and you can refer<br>to this in the documentation:<br>https://docs.pydantic.dev/latest/concepts/types/#handling-third-party-types",
          "Did a bit of digging to see how `field_name` was<br>being provided, and found that there is a stack<br>being kept for both `field_name` and `model_type`.<br>I was able to use<br>`handler._generate_schema.model_type_stack.get()`<br>and get what I need. ```python class<br>SimpleModelAnnotation: @classmethod def<br>__get_pydantic_core_schema__( cls, source_type:<br>Any, handler: GetCoreSchemaHandler, ) -><br>core_schema.CoreSchema: # # this works! #<br>model_type =<br>handler._generate_schema.model_type_stack.get() #<br>type: ignore def validate_length(value: Any, info:<br>ValidationInfo): if model_type is not None: field<br>= model_type.model_fields[info.field_name] # type:<br>ignore if field is not None and<br>isinstance(field.json_schema_extra, dict): if<br>field.json_schema_extra[\"absolute\"]: value.length<br>= abs(value.length) return value return value<br>third_party_schema =<br>core_schema.with_info_before_validator_function(<br>function=validate_length,<br>schema=core_schema.is_instance_schema(SimpleThirdPartyType),<br>field_name=handler.field_name, ) return<br>core_schema.json_or_python_schema(<br>json_schema=third_party_schema,<br>python_schema=third_party_schema ) class<br>SimpleThirdPartyType(BaseModel): length: int<br>AnnotatedModel = Annotated[SimpleThirdPartyType,<br>SimpleModelAnnotation] class<br>SimpleOuterModel(BaseModel): third_party_field:<br>AnnotatedModel =<br>Field(json_schema_extra={\"absolute\": True}) ``` It<br>looks trivially easy to add a model_type property<br>to `CallbackGetCoreSchemaHandler` in<br>`_internal/_schema_generation_shared.py`, but I<br>couldn't yet figure out to get it into the<br>`ValidationInfo` object. I don't know if any of<br>this goes against the intentions of how this<br>should be used, but I'd be happy to submit a PR<br>(with a little direction on the correct approach)<br>if it helps?",
          "Thanks for looking at this, sorry for the delay.<br>Indeed, it seems that adding the `remove()` call<br>makes sense, theoretically. The<br>`generic_recursion_self_type` function logic makes<br>it hard to spot. However, without taking into<br>account the current `mro()` implementation<br>override, this couldn't cause an issue. Let's take<br>the following example, and assume the `remove()`<br>call isn't added (i.e. we run this on `main`):<br>```python class ModelExt[T](BaseModel): pass class<br>Model1[T](BaseModel): f1: ModelExt[T] class<br>Model2[T](BaseModel): f2: ModelExt[T] f3:<br>Model1[T] Model2[str]<br>print(Model1[str].model_fields['t'].annotation) #><br>ModelExt[str] ``` When we parametrize `Model2`<br>with `str`, we enter the context manager once,<br>meaning the `previously_seen_type_refs` set is<br>`{'Model2:<id>[str:<id>]'}`. While still being in<br>the `with` block of the context manager, we call<br>`create_generic_submodel` which will trigger model<br>build and will replace types for `f2` and `f3`.<br>For `f2`, we build `ModelExt[str]`. We enter the<br>context manager a second time. This time:<br>https://github.com/pydantic/pydantic/blob/acc5902eaa2ce98d9c53313aa97c36da8958654e/pydantic/_internal/_generics.py#L415-L420<br>`previously_seen_type_refs` is not `None` because<br>we the first context manager invocation is still<br>active. Once `ModelExt[str]` is built, the<br>`finally` clause:<br>https://github.com/pydantic/pydantic/blob/acc5902eaa2ce98d9c53313aa97c36da8958654e/pydantic/_internal/_generics.py#L430-L432<br>does nothing because `token` is `None`. We then<br>parametrize `Model1[str]` and thus `ModelExt[str]`<br>for `f1`. At this point the<br>`previously_seen_type_refs` set contains<br>`Model2<id>[str<id>]`, `ModelExt<id>[str:<id>]`<br>(because `remove()` wasn't called) and<br>`Model1<id>[str:<id>]`. So under normal<br>circumstances, parametrizing `ModelEx[str]` for<br>`f1` should result in a `PydanticRecursiveRef`.<br>_However_, because we hit the early cache at the<br>beginning of `BaseModel.__class_getitem__`, so we<br>are safe (unless the early cache isn't hit, but<br>the _late_ one does, but couldn't find a proof<br>example). But anyway, having the `remove()` call<br>is still a theoretical improvement so I'm willing<br>to keep it. --- However, the custom `mro()`<br>implementation is still causing issues. For<br>example, with your changes: ```python from typing<br>import Generic, TypeVar T = TypeVar('T') class<br>Model1(BaseModel, Generic[T]): f:<br>'ForwardModel[T]' class ForwardModel(Model1[T],<br>BaseModel): pass class Model2(BaseModel,<br>Generic[T]): f: Model1[T] Model2[str] #><br>TypeError: mro() returned a non-class<br>('PydanticRecursiveRef') ``` and looking at it, it<br>doesn't seem possible to fix this in a similar<br>fashion. Here is what I propose: - in a new PR,<br>add the `remove()` call and the<br>`test_generic_mro_multi_level` test (I don't think<br>`test_inner_mro_access` is necessary). I'll make<br>sure to merge with a proper commit description.<br>This will be backported to 2.10. - in this PR, we<br>can iterate over the comments improvements once<br>rebased. - for 2.11, we should try figuring out an<br>alternative to the `mro()` override. The original<br>issue<br>(https://github.com/pydantic/pydantic/issues/10039)<br>could be solved differently. The idea would be to<br>implement the same MRO logic, but in a separate —<br>Pydantic specific — method, only used by Pydantic<br>core during validation. That way, we don't<br>interfere with the runtime creation of generic<br>classes. Also, seems like<br>https://github.com/pydantic/pydantic/issues/10039<br>works on `main`, without the `mro()` override,<br>perhaps worth looking into why this is the case.",
          "Related:<br>https://github.com/pydantic/pydantic/issues/10785.<br>We'll wait for https://peps.python.org/pep-0728/<br>to be accepted first, and then we'll sort out<br>these issues.",
          "@gswifort, Good question. I think this would be<br>useful to pass through. Maybe we could expand the<br>scope of `ValidationInfo`. PRs welcome!",
          "@FelixSchneiderZoom, Thanks for your question and<br>the MRE :) The<br>[docs](https://docs.pydantic.dev/latest/api/base_model/#pydantic.BaseModel.model_fields_set)<br>state: > Returns the set of fields that have been<br>explicitly set on this model instance. Thus,<br>`model_fields_set` includes extra attributes set<br>as well. That being said, the following is<br>inconsistent: ```py from pydantic import<br>BaseModel, ConfigDict class MRE(BaseModel):<br>model_config = ConfigDict(extra=\"allow\")<br>actual_field: int actual_field_optional: int |<br>None = None a =<br>MRE.model_validate({\"actual_field\": 1,<br>\"extra_field\": 2}) print(a.model_fields_set) #<br>{'actual_field', 'extra_field'}<br>print(a.model_extra) # {'extra_field': 2}<br>a.double_extra_field = 3 print(a.model_fields_set)<br># {'actual_field', 'extra_field'}<br>print(a.model_extra) # {'extra_field': 2,<br>'double_extra_field': 3} a.actual_field_optional =<br>4 print(a.model_fields_set) # {'actual_field',<br>'actual_field_optional', 'extra_field'}<br>print(a.model_extra) # {'extra_field': 2,<br>'double_extra_field': 3} ``` So, I'll classify<br>this as a bug. I'm guessing we should include<br>extra values across the board, even when set after<br>init.",
          "But indeed, we do want to support this in the<br>future. Thanks for the detailed feature request :)",
          "@davidpapazian, Thanks for the report. Definitely<br>looks like a bug.",
          "Hi @maxschulz-COL, You can use the following to<br>enforce exclusion: ```py class_name: Optional[str]<br>= Field(None, validate_default=True, exclude=True)<br>``` Though perhaps you're looking to do this with<br>the `exclude` arg at runtime?",
          "@commonism, What pattern (like, verbally), are<br>you trying to match?",
          "I'm not actually convinced this is a regression<br>yet, going to go ahead and release v2.10.4 without<br>a fix here, but happy to investigate this once we<br>get some more context.",
          "A few things to note here: - You probably should<br>rewrite your regex expression. Some regex engines<br>(like the Python one) allow meta-characters to be<br>left unescaped inside square brackets, but not the<br>rust one we use. However, it is not advised to do<br>so. Meta-characters that doesn't have a special<br>meaning (e.g. `*`) can be left unescaped (e.g.<br>`r\"[*]+\"`), but anything like `]`, `-`, `^` (and<br>even `[`) should be properly escaped. I'll note, I<br>don't know what is expected to match with your<br>regex ,but `#-~` means _anything between `ord('#')<br>and ord('~')`_, which includes `A-Ba-b`. - For<br>`A`, you are using `constr` the wrong way. It<br>should be `v: constr(pattern=PATTERN)` (and<br>generally the `con*` functions [shouldn't be used<br>anymore](https://docs.pydantic.dev/latest/api/types/#pydantic.types.constr)).<br>In your example, this means the pattern actually<br>does not apply. - Here is a MRE of the 2.10<br>regression: ```python from pydantic import<br>RootModel class GoodModel(RootModel): model_config<br>= {\"regex_engine\": \"python-re\"} Model =<br>GoodModel[str] assert Model.model_config ==<br>{\"regex_engine\": \"python-re\"} # AssertionError on<br>2.10 ``` I'm bisecting to see where this is coming<br>from.",
          "Might be related to<br>https://github.com/pydantic/pydantic/issues/8315#issuecomment-1958998644<br>which describes this edge case in a comment -><br>might be intentional?",
          "As this might help others - built a small utility<br>to have sensible validation error messages for<br>settings sourced from the environment and .env<br>file Use via ```load_settings(YourSettings)``` The<br>utility: ``` \"\"\"Utilities around Pydantic<br>settings.\"\"\" import json from typing import<br>TypeVar from pydantic import ValidationError from<br>pydantic_settings import BaseSettings from<br>rich.console import Console from rich.panel import<br>Panel from rich.text import Text T = TypeVar(\"T\",<br>bound=BaseSettings) console = Console(stderr=True)<br>def load_settings(settings_class: type[T]) -> T:<br>\"\"\"Load settings with error handling and nice<br>formatting. Args: settings_class: The Pydantic<br>settings class to instantiate Returns: Instance of<br>the settings class Raises: SystemExit: If settings<br>validation fails \"\"\" try: return settings_class()<br>except ValidationError as e: errors =<br>json.loads(e.json()) text = Text() text.append(<br>\"Validation error(s) - check the environment and<br>.env file:\\n\\n\", style=\"bold red\", ) prefix =<br>settings_class.model_config.get(\"env_prefix\", \"\")<br>for error in errors: env_var =<br>f\"{prefix}{error['loc'][0]}\".upper()<br>text.append(f\"• {env_var}\", style=\"yellow\")<br>text.append(f\": {error['msg']}\\n\") console.print(<br>Panel( text, title=\"Configuration invalid!\",<br>border_style=\"red\", ) ) exit(78) ```",
          "Nevermind, already find fix on this link<br>https://docs.pydantic.dev/latest/api/networks/#pydantic.networks.CockroachDsn",
          "As I'm with the client side of OpenAPI, the regex<br>is user-supplied as part of the OpenAPI<br>description document. In this case - DMTF DSP8010<br>- Redfish,<br>https://github.com/DMTF/Redfish-Publications/blob/ce5f0dc950120af8856b7aa10ae3c29fcae89c4f/openapi/ManagerAccount.v1_5_5.yaml#L240-L248<br>Actual pattern is `(^[ !#-~]+$)|(^Passphrase:[ ^[<br>!#-~]+$)|(^Hex:[0-9A-Fa-f]{24,96})|(^\\*+$)`, I've<br>used the gist -unescaped bracket- of it to<br>reproduce.",
          "> The<br>[docs](https://docs.pydantic.dev/latest/api/base_model/#pydantic.BaseModel.model_fields_set)<br>state: > > Returns the set of fields that have<br>been explicitly set on this model instance. My<br>understanding was that this means \"model fields\"<br>and does not include extras. Perhaps the doc could<br>also be clarified.",
          "Does<br>[`model_validate_strings()`](https://docs.pydantic.dev/dev/concepts/models/#validating-data)<br>work for you?",
          "Well it's close, but not really the right thing<br>because then every key and value must be a string.<br>``` >>> json_str = '{\"id\": 123, \"name\": \"James\",<br>\"signup_ts\": \"2024-04-01T12:00:00\"}' >>><br>User.model_validate_json(json_str) User(id=123,<br>name='James', signup_ts=datetime.datetime(2024, 4,<br>1, 12, 0)) >>> json_data = json.loads(json_str)<br>>>> User.model_validate_strings(json_data)<br>Traceback (most recent call last): File \"<stdin>\",<br>line 1, in <module> File<br>\".../lib/python3.9/site-packages/pydantic/main.py\",<br>line 619, in model_validate_strings return<br>cls.__pydantic_validator__.validate_strings(obj,<br>strict=strict, context=context)<br>pydantic_core._pydantic_core.ValidationError: 1<br>validation error for User id Input should be a<br>valid string [type=string_type, input_value=123,<br>input_type=int] ``` From the help link you<br>provided (thanks): > Depending on the types and<br>model configs involved,<br>[model_validate](https://docs.pydantic.dev/dev/api/base_model/#pydantic.BaseModel.model_validate)<br>and<br>[model_validate_json](https://docs.pydantic.dev/dev/api/base_model/#pydantic.BaseModel.model_validate_json)<br>may have different validation behavior. If you<br>have data coming from a non-JSON source, but want<br>the same validation behavior and errors you'd get<br>from<br>[model_validate_json](https://docs.pydantic.dev/dev/api/base_model/#pydantic.BaseModel.model_validate_json),<br>our recommendation for now is to use either use<br>**model_validate_json(json.dumps(data))**, or use<br>[model_validate_strings](https://docs.pydantic.dev/dev/api/base_model/#pydantic.BaseModel.model_validate_strings)<br>if the data takes the form of a (potentially<br>nested) dictionary with **string keys and<br>values**. The fact that<br>`model_validate_json(json.dumps(data))` is being<br>recommended in the official help suggests to me<br>there is no intended way currently of going<br>straight from the JSON data in Python form to a<br>JSON-style-validated BaseModel?",
          "Looks great, thanks for adding specs here.",
          "I feel ok approving this once you add new changes<br>because: * Third party tests are passing *<br>Existing tests are passing * You've added new<br>tests showing extended support",
          "Well you're hitting the recursion limit because<br>the `model_validator` adds a frame to the stack.<br>This is unavoidable. You can [manually set a<br>different recursion<br>limit](https://docs.python.org/3/library/sys.html#sys.setrecursionlimit)<br>if required.",
          "Amazing! Thank you very much!",
          "We continued the discussion on Slack:<br>https://pydanticlogfire.slack.com/archives/C074GP90D8A/p1734788270247869<br>According to @samuelcolvin : >Pydantic core<br>validates the core schema generated for a model,<br>using itself. I think your model is complex enough<br>to being hitting pydantic-core's recursion limit<br>when building the schema",
          "## Deploying pydantic-docs with &nbsp;<a<br>href=\"https://pages.dev\"><img alt=\"Cloudflare<br>Pages\"<br>src=\"https://user-images.githubusercontent.com/23264/106598434-9e719e00-654f-11eb-9e59-6167043cfa01.png\"<br>width=\"16\"></a> &nbsp;Cloudflare Pages<br><table><tr><td><strong>Latest commit:</strong><br></td><td> <code>3448dbc</code> </td></tr><br><tr><td><strong>Status:</strong></td><td>&nbsp;✅&nbsp;<br>Deploy successful!</td></tr><br><tr><td><strong>Preview URL:</strong></td><td> <a<br>href='https://0b52d25f.pydantic-docs.pages.dev'>https://0b52d25f.pydantic-docs.pages.dev</a><br></td></tr> <tr><td><strong>Branch Preview<br>URL:</strong></td><td> <a<br>href='https://11119-1.pydantic-docs.pages.dev'>https://11119-1.pydantic-docs.pages.dev</a><br></td></tr> </table> [View<br>logs](https://dash.cloudflare.com/?to=/:account/pages/view/pydantic-docs/0b52d25f-2218-4021-b1ef-a2ad521f6fb2)",
          "## [CodSpeed Performance<br>Report](https://codspeed.io/pydantic/pydantic/branches/11119-1)<br>### Merging #11168 will **not alter performance**<br><sub>Comparing <code>11119-1</code> (3448dbc) with<br><code>main</code> (aea47de)</sub> ### Summary `✅<br>46` untouched benchmarks",
          "## Coverage report <img title=\"Coverage for the<br>whole project is 95.83%. Previous coverage rate is<br>not available, cannot report on evolution.\"<br>src=\"https://img.shields.io/badge/Coverage-95%25-orange.svg\"><br><img title=\"100% of the statement lines added by<br>this PR are covered\"<br>src=\"https://img.shields.io/badge/PR%20Coverage-100%25-brightgreen.svg\"><details><summary>Click<br>to see where and how coverage<br>changed</summary><table><thead><br><tr><th>File</th><th>Statements</th><th>Missing</th><th>Coverage</th><th>Coverage<br>(new<br>stmts)</th><th>Lines missing</th></tr> </thead><br><tbody><tr> <td<br>colspan=\"6\">&nbsp;&nbsp;<b>pydantic</b></td><tr><br><td>&nbsp;&nbsp;<a<br>href=\"https://github.com/pydantic/pydantic/pull/11168/files#diff-2f18ac4c1ea02287de4a557363ebf2b4bdd8f57f3f6e57e804fec7322628ad8a\">warnings.py</a></td><br><td align=\"center\"><a<br>href=\"https://github.com/pydantic/pydantic/pull/11168/files#diff-2f18ac4c1ea02287de4a557363ebf2b4bdd8f57f3f6e57e804fec7322628ad8a\"><img<br>title=\"This PR adds 35 statements to<br>pydantic/warnings.py. The file did not seem to<br>exist on the base branch.\"<br>src=\"https://img.shields.io/badge/35-%28%2B35%29-007ec6.svg\"></a></td><td<br>align=\"center\"><a<br>href=\"https://github.com/pydantic/pydantic/pull/11168/files#diff-2f18ac4c1ea02287de4a557363ebf2b4bdd8f57f3f6e57e804fec7322628ad8a\"><img<br>title=\"This PR adds 1 statements missing coverage<br>to pydantic/warnings.py. The file did not seem to<br>exist on the base branch.\"<br>src=\"https://img.shields.io/badge/1-%28%2B1%29-red.svg\"></a></td><td<br>align=\"center\"><a<br>href=\"https://github.com/pydantic/pydantic/pull/11168/files#diff-2f18ac4c1ea02287de4a557363ebf2b4bdd8f57f3f6e57e804fec7322628ad8a\"><img<br>title=\"The coverage rate of pydantic/warnings.py<br>is 97.29% (34/35). The file did not seem to exist<br>on the base branch.\"<br>src=\"https://img.shields.io/badge/97%25-%2834/35%29-orange.svg\"></a></td><td<br>align=\"center\"><a<br>href=\"https://github.com/pydantic/pydantic/pull/11168/files#diff-2f18ac4c1ea02287de4a557363ebf2b4bdd8f57f3f6e57e804fec7322628ad8a\"><img<br>title=\"In this PR, 4 new statements are added to<br>pydantic/warnings.py, 4 of which are covered<br>(100%).\"<br>src=\"https://img.shields.io/badge/100%25-%284/4%29-brightgreen.svg\"></a></td><td></td><tr><br><td<br>colspan=\"6\">&nbsp;&nbsp;<b>pydantic/_internal</b></td><tr><br><td>&nbsp;&nbsp;<a<br>href=\"https://github.com/pydantic/pydantic/pull/11168/files#diff-6ed3bda6e4f825ef84f98db101ed541d8d0bbc8c9a49f098bd60cacaf08e3de0\">_fields.py</a></td><br><td align=\"center\"><a<br>href=\"https://github.com/pydantic/pydantic/pull/11168/files#diff-6ed3bda6e4f825ef84f98db101ed541d8d0bbc8c9a49f098bd60cacaf08e3de0\"><img<br>title=\"This PR adds 181 statements to<br>pydantic/_internal/_fields.py. The file did not<br>seem to exist on the base branch.\"<br>src=\"https://img.shields.io/badge/181-%28%2B181%29-007ec6.svg\"></a></td><td<br>align=\"center\"><a<br>href=\"https://github.com/pydantic/pydantic/pull/11168/files#diff-6ed3bda6e4f825ef84f98db101ed541d8d0bbc8c9a49f098bd60cacaf08e3de0\"><img<br>title=\"This PR adds 2 statements missing coverage<br>to pydantic/_internal/_fields.py. The file did not<br>seem to exist on the base branch.\"<br>src=\"https://img.shields.io/badge/2-%28%2B2%29-red.svg\"></a></td><td<br>align=\"center\"><a<br>href=\"https://github.com/pydantic/pydantic/pull/11168/files#diff-6ed3bda6e4f825ef84f98db101ed541d8d0bbc8c9a49f098bd60cacaf08e3de0\"><img<br>title=\"The coverage rate of<br>pydantic/_internal/_fields.py is 97.93% (179/181).<br>The file did not seem to exist on the base<br>branch.\"<br>src=\"https://img.shields.io/badge/97%25-%28179/181%29-orange.svg\"></a></td><td<br>align=\"center\"><a<br>href=\"https://github.com/pydantic/pydantic/pull/11168/files#diff-6ed3bda6e4f825ef84f98db101ed541d8d0bbc8c9a49f098bd60cacaf08e3de0\"><img<br>title=\"In this PR, 13 new statements are added to<br>pydantic/_internal/_fields.py, 13 of which are<br>covered (100%).\"<br>src=\"https://img.shields.io/badge/100%25-%2813/13%29-brightgreen.svg\"></a></td><td></td></tbody><br><tfoot> <tr> <td><b>Project Total</b></td> <td<br>align=\"center\"><a<br>href=\"https://github.com/pydantic/pydantic/pull/11168/files#diff-4b0bf2efa3367c0072ac2bf1e234e703dc46b47aaa4fe9d3b01737b1a15752b1\"><img<br>title=\"This PR adds 9967 statements to the whole<br>project. The file did not seem to exist on the<br>base branch.\"<br>src=\"https://img.shields.io/badge/10.0k-%28%2B9967%29-007ec6.svg\"></a></td><td<br>align=\"center\"><a<br>href=\"https://github.com/pydantic/pydantic/pull/11168/files#diff-4b0bf2efa3367c0072ac2bf1e234e703dc46b47aaa4fe9d3b01737b1a15752b1\"><img<br>title=\"This PR adds 306 statements missing<br>coverage to the whole project. The file did not<br>seem to exist on the base branch.\"<br>src=\"https://img.shields.io/badge/306-%28%2B306%29-red.svg\"></a></td><td<br>align=\"center\"><a<br>href=\"https://github.com/pydantic/pydantic/pull/11168/files#diff-4b0bf2efa3367c0072ac2bf1e234e703dc46b47aaa4fe9d3b01737b1a15752b1\"><img<br>title=\"The coverage rate of the whole project is<br>95.83% (9661/9967). The file did not seem to exist<br>on the base branch.\"<br>src=\"https://img.shields.io/badge/95%25-%289.7k/10.0k%29-orange.svg\"></a></td><td<br>align=\"center\"><a<br>href=\"https://github.com/pydantic/pydantic/pull/11168/files#diff-4b0bf2efa3367c0072ac2bf1e234e703dc46b47aaa4fe9d3b01737b1a15752b1\"><img<br>title=\"In this PR, 17 new statements are added to<br>the whole project, 17 of which are covered<br>(100%).\"<br>src=\"https://img.shields.io/badge/100%25-%2817/17%29-brightgreen.svg\"></a></td><td>&nbsp;</td><br></tr> </tfoot> </table> <sub> This report was<br>generated by<br>[python-coverage-comment-action](https://github.com/py-cov-action/python-coverage-comment-action)<br></sub> </details> <!-- This comment was produced<br>by python-coverage-comment-action -->",
          "## Deploying pydantic-docs with &nbsp;<a<br>href=\"https://pages.dev\"><img alt=\"Cloudflare<br>Pages\"<br>src=\"https://user-images.githubusercontent.com/23264/106598434-9e719e00-654f-11eb-9e59-6167043cfa01.png\"<br>width=\"16\"></a> &nbsp;Cloudflare Pages<br><table><tr><td><strong>Latest commit:</strong><br></td><td> <code>3639b49</code> </td></tr><br><tr><td><strong>Status:</strong></td><td>&nbsp;✅&nbsp;<br>Deploy successful!</td></tr><br><tr><td><strong>Preview URL:</strong></td><td> <a<br>href='https://55f0c756.pydantic-docs.pages.dev'>https://55f0c756.pydantic-docs.pages.dev</a><br></td></tr> <tr><td><strong>Branch Preview<br>URL:</strong></td><td> <a<br>href='https://10930.pydantic-docs.pages.dev'>https://10930.pydantic-docs.pages.dev</a><br></td></tr> </table> [View<br>logs](https://dash.cloudflare.com/?to=/:account/pages/view/pydantic-docs/55f0c756-1cfb-4066-9c9d-9272e076511d)",
          "## [CodSpeed Performance<br>Report](https://codspeed.io/pydantic/pydantic/branches/10930)<br>### Merging #11169 will **not alter performance**<br><sub>Comparing <code>10930</code> (3639b49) with<br><code>main</code> (aea47de)</sub> ### Summary `✅<br>46` untouched benchmarks",
          "## Coverage report <img title=\"Coverage for the<br>whole project is 95.84%. Previous coverage rate is<br>not available, cannot report on evolution.\"<br>src=\"https://img.shields.io/badge/Coverage-95%25-orange.svg\"><br><img title=\"100% of the statement lines added by<br>this PR are covered\"<br>src=\"https://img.shields.io/badge/PR%20Coverage-100%25-brightgreen.svg\"><details><summary>Click<br>to see where and how coverage<br>changed</summary><table><thead><br><tr><th>File</th><th>Statements</th><th>Missing</th><th>Coverage</th><th>Coverage<br>(new<br>stmts)</th><th>Lines missing</th></tr> </thead><br><tbody><tr> <td<br>colspan=\"6\">&nbsp;&nbsp;<b>pydantic</b></td><tr><br><td>&nbsp;&nbsp;<a<br>href=\"https://github.com/pydantic/pydantic/pull/11169/files#diff-8708af8d26c26644976866f974e0b810b0940ede43ff487e457057d5a1f07999\">main.py</a></td><br><td align=\"center\"><a<br>href=\"https://github.com/pydantic/pydantic/pull/11169/files#diff-8708af8d26c26644976866f974e0b810b0940ede43ff487e457057d5a1f07999\"><img<br>title=\"This PR adds 533 statements to<br>pydantic/main.py. The file did not seem to exist<br>on the base branch.\"<br>src=\"https://img.shields.io/badge/533-%28%2B533%29-007ec6.svg\"></a></td><td<br>align=\"center\"><a<br>href=\"https://github.com/pydantic/pydantic/pull/11169/files#diff-8708af8d26c26644976866f974e0b810b0940ede43ff487e457057d5a1f07999\"><img<br>title=\"This PR adds 4 statements missing coverage<br>to pydantic/main.py. The file did not seem to<br>exist on the base branch.\"<br>src=\"https://img.shields.io/badge/4-%28%2B4%29-red.svg\"></a></td><td<br>align=\"center\"><a<br>href=\"https://github.com/pydantic/pydantic/pull/11169/files#diff-8708af8d26c26644976866f974e0b810b0940ede43ff487e457057d5a1f07999\"><img<br>title=\"The coverage rate of pydantic/main.py is<br>99.01% (529/533). The file did not seem to exist<br>on the base branch.\"<br>src=\"https://img.shields.io/badge/99%25-%28529/533%29-orange.svg\"></a></td><td<br>align=\"center\"><a<br>href=\"https://github.com/pydantic/pydantic/pull/11169/files#diff-8708af8d26c26644976866f974e0b810b0940ede43ff487e457057d5a1f07999\"><img<br>title=\"In this PR, 9 new statements are added to<br>pydantic/main.py, 9 of which are covered (100%).\"<br>src=\"https://img.shields.io/badge/100%25-%289/9%29-brightgreen.svg\"></a></td><td></td><tr><br><td<br>colspan=\"6\">&nbsp;&nbsp;<b>pydantic/_internal</b></td><tr><br><td>&nbsp;&nbsp;<a<br>href=\"https://github.com/pydantic/pydantic/pull/11169/files#diff-9204d05870f5b31a1543c5718c7b4fd77b46f6619077c626d9cf90c32706ba1f\">_utils.py</a></td><br><td align=\"center\"><a<br>href=\"https://github.com/pydantic/pydantic/pull/11169/files#diff-9204d05870f5b31a1543c5718c7b4fd77b46f6619077c626d9cf90c32706ba1f\"><img<br>title=\"This PR adds 169 statements to<br>pydantic/_internal/_utils.py. The file did not<br>seem to exist on the base branch.\"<br>src=\"https://img.shields.io/badge/169-%28%2B169%29-007ec6.svg\"></a></td><td<br>align=\"center\"><a<br>href=\"https://github.com/pydantic/pydantic/pull/11169/files#diff-9204d05870f5b31a1543c5718c7b4fd77b46f6619077c626d9cf90c32706ba1f\"><img<br>title=\"This PR adds 0 statements missing coverage<br>to pydantic/_internal/_utils.py. The file did not<br>seem to exist on the base branch.\"<br>src=\"https://img.shields.io/badge/0-%28%C2%B10%29-lightgrey.svg\"></a></td><td<br>align=\"center\"><a<br>href=\"https://github.com/pydantic/pydantic/pull/11169/files#diff-9204d05870f5b31a1543c5718c7b4fd77b46f6619077c626d9cf90c32706ba1f\"><img<br>title=\"The coverage rate of<br>pydantic/_internal/_utils.py is 99.56% (169/169).<br>The file did not seem to exist on the base<br>branch.\"<br>src=\"https://img.shields.io/badge/99%25-%28169/169%29-orange.svg\"></a></td><td<br>align=\"center\"><a<br>href=\"https://github.com/pydantic/pydantic/pull/11169/files#diff-9204d05870f5b31a1543c5718c7b4fd77b46f6619077c626d9cf90c32706ba1f\"><img<br>title=\"In this PR, 19 new statements are added to<br>pydantic/_internal/_utils.py, 19 of which are<br>covered (100%).\"<br>src=\"https://img.shields.io/badge/100%25-%2819/19%29-brightgreen.svg\"></a></td><td></td></tbody><br><tfoot> <tr> <td><b>Project Total</b></td> <td<br>align=\"center\"><a<br>href=\"https://github.com/pydantic/pydantic/pull/11169/files#diff-4b0bf2efa3367c0072ac2bf1e234e703dc46b47aaa4fe9d3b01737b1a15752b1\"><img<br>title=\"This PR adds 9972 statements to the whole<br>project. The file did not seem to exist on the<br>base branch.\"<br>src=\"https://img.shields.io/badge/10.0k-%28%2B9972%29-007ec6.svg\"></a></td><td<br>align=\"center\"><a<br>href=\"https://github.com/pydantic/pydantic/pull/11169/files#diff-4b0bf2efa3367c0072ac2bf1e234e703dc46b47aaa4fe9d3b01737b1a15752b1\"><img<br>title=\"This PR adds 306 statements missing<br>coverage to the whole project. The file did not<br>seem to exist on the base branch.\"<br>src=\"https://img.shields.io/badge/306-%28%2B306%29-red.svg\"></a></td><td<br>align=\"center\"><a<br>href=\"https://github.com/pydantic/pydantic/pull/11169/files#diff-4b0bf2efa3367c0072ac2bf1e234e703dc46b47aaa4fe9d3b01737b1a15752b1\"><img<br>title=\"The coverage rate of the whole project is<br>95.84% (9666/9972). The file did not seem to exist<br>on the base branch.\"<br>src=\"https://img.shields.io/badge/95%25-%289.7k/10.0k%29-orange.svg\"></a></td><td<br>align=\"center\"><a<br>href=\"https://github.com/pydantic/pydantic/pull/11169/files#diff-4b0bf2efa3367c0072ac2bf1e234e703dc46b47aaa4fe9d3b01737b1a15752b1\"><img<br>title=\"In this PR, 28 new statements are added to<br>the whole project, 28 of which are covered<br>(100%).\"<br>src=\"https://img.shields.io/badge/100%25-%2828/28%29-brightgreen.svg\"></a></td><td>&nbsp;</td><br></tr> </tfoot> </table> <sub> This report was<br>generated by<br>[python-coverage-comment-action](https://github.com/py-cov-action/python-coverage-comment-action)<br></sub> </details> <!-- This comment was produced<br>by python-coverage-comment-action -->",
          "+1 :("
         ],
         "hovertemplate": "\n            <b>Time</b>: %{x}<br>\n            <b>Toxicity Score</b>: %{y}<br>\n            <b>Comment</b>: %{customdata}\n            <extra></extra>\n            ",
         "marker": {
          "cmax": 5,
          "cmin": 1,
          "color": [
           1,
           1,
           2,
           2,
           1,
           1,
           1,
           1,
           1,
           1,
           1,
           1,
           1,
           1,
           1,
           2,
           1,
           1,
           1,
           1,
           1,
           1,
           1,
           1,
           1,
           1,
           1,
           1,
           1,
           1,
           1,
           2,
           1,
           1,
           1,
           1,
           1,
           1,
           1,
           1,
           1,
           1,
           1,
           1,
           1,
           1,
           1,
           1,
           1,
           1,
           1,
           1,
           1,
           1,
           1,
           1,
           1,
           1,
           1,
           1,
           1,
           1,
           1,
           1,
           1,
           1,
           1,
           1,
           1,
           1,
           1,
           1,
           1,
           1,
           1,
           1,
           1,
           1,
           1,
           1,
           1,
           1,
           2,
           1,
           1,
           1,
           1,
           1,
           2,
           1,
           1,
           1,
           1,
           1,
           1,
           1,
           1,
           1,
           1,
           2,
           1,
           1,
           2,
           1,
           1,
           1,
           1,
           1,
           1,
           1,
           1,
           1,
           1,
           1,
           1,
           1,
           1,
           1,
           1,
           1,
           1,
           1,
           1,
           1,
           1,
           1,
           1,
           1,
           1,
           1,
           1,
           1,
           1,
           1,
           1,
           4,
           1,
           3,
           4,
           1,
           1,
           1,
           1,
           1,
           1,
           2,
           1,
           1,
           1,
           1,
           1,
           1,
           1,
           1,
           2,
           1,
           1,
           1,
           2,
           1,
           1,
           1,
           1,
           1,
           1,
           1,
           2,
           1,
           1,
           1,
           1,
           1,
           1,
           1,
           1,
           1,
           1,
           1,
           1,
           2,
           1,
           1,
           1,
           1,
           1,
           1,
           1,
           1,
           1,
           1,
           1,
           1,
           1,
           1,
           1,
           1,
           1,
           1,
           1,
           2
          ],
          "colorbar": {
           "title": {
            "text": "Toxicity Score"
           }
          },
          "colorscale": [
           [
            0,
            "green"
           ],
           [
            1,
            "red"
           ]
          ],
          "size": 10
         },
         "mode": "markers",
         "type": "scatter",
         "x": [
          "2024-11-04T12:52:48+00:00",
          "2024-11-04T17:27:59+00:00",
          "2024-11-04T17:34:46+00:00",
          "2024-11-04T17:44:36+00:00",
          "2024-11-04T18:03:51+00:00",
          "2024-11-05T16:29:26+00:00",
          "2024-11-06T15:51:09+00:00",
          "2024-11-07T03:11:28+00:00",
          "2024-11-07T11:31:15+00:00",
          "2024-11-07T11:38:57+00:00",
          "2024-11-07T11:43:43+00:00",
          "2024-11-07T11:59:11+00:00",
          "2024-11-07T12:02:22+00:00",
          "2024-11-07T13:34:50+00:00",
          "2024-11-07T15:21:42+00:00",
          "2024-11-07T16:10:54+00:00",
          "2024-11-07T19:12:54+00:00",
          "2024-11-08T09:52:50+00:00",
          "2024-11-08T14:05:39+00:00",
          "2024-11-08T14:06:12+00:00",
          "2024-11-08T15:24:41+00:00",
          "2024-11-08T17:03:46+00:00",
          "2024-11-08T17:17:25+00:00",
          "2024-11-09T10:21:48+00:00",
          "2024-11-12T16:49:12+00:00",
          "2024-11-13T17:12:02+00:00",
          "2024-11-13T17:13:21+00:00",
          "2024-11-13T17:28:14+00:00",
          "2024-11-13T19:40:37+00:00",
          "2024-11-14T16:05:42+00:00",
          "2024-11-14T16:55:59+00:00",
          "2024-11-14T17:12:15+00:00",
          "2024-11-14T18:45:48+00:00",
          "2024-11-14T18:47:09+00:00",
          "2024-11-14T18:49:22+00:00",
          "2024-11-14T20:16:45+00:00",
          "2024-11-15T01:36:01+00:00",
          "2024-11-15T11:02:28+00:00",
          "2024-11-15T15:55:55+00:00",
          "2024-11-15T16:12:50+00:00",
          "2024-11-15T16:19:07+00:00",
          "2024-11-17T14:47:47+00:00",
          "2024-11-17T14:52:16+00:00",
          "2024-11-18T13:54:28+00:00",
          "2024-11-18T13:56:34+00:00",
          "2024-11-18T13:57:10+00:00",
          "2024-11-18T15:29:42+00:00",
          "2024-11-18T15:31:08+00:00",
          "2024-11-18T15:33:41+00:00",
          "2024-11-18T16:10:50+00:00",
          "2024-11-18T18:47:07+00:00",
          "2024-11-18T19:25:50+00:00",
          "2024-11-18T19:45:42+00:00",
          "2024-11-19T01:21:39+00:00",
          "2024-11-19T03:12:53+00:00",
          "2024-11-19T10:08:02+00:00",
          "2024-11-19T10:28:56+00:00",
          "2024-11-19T13:31:31+00:00",
          "2024-11-19T13:48:50+00:00",
          "2024-11-19T13:49:29+00:00",
          "2024-11-19T20:38:35+00:00",
          "2024-11-19T20:41:12+00:00",
          "2024-11-19T21:42:35+00:00",
          "2024-11-20T03:58:29+00:00",
          "2024-11-20T05:31:22+00:00",
          "2024-11-20T21:02:57+00:00",
          "2024-11-20T21:11:26+00:00",
          "2024-11-20T21:25:03+00:00",
          "2024-11-20T21:29:17+00:00",
          "2024-11-20T21:31:44+00:00",
          "2024-11-20T21:32:22+00:00",
          "2024-11-21T00:13:01+00:00",
          "2024-11-21T11:14:10+00:00",
          "2024-11-21T11:14:43+00:00",
          "2024-11-21T16:34:31+00:00",
          "2024-11-21T16:52:48+00:00",
          "2024-11-22T08:29:31+00:00",
          "2024-11-22T10:24:32+00:00",
          "2024-11-22T11:06:04+00:00",
          "2024-11-22T15:47:08+00:00",
          "2024-11-22T17:17:50+00:00",
          "2024-11-22T18:49:31+00:00",
          "2024-11-22T20:02:36+00:00",
          "2024-11-22T20:02:48+00:00",
          "2024-11-22T22:51:59+00:00",
          "2024-11-23T00:10:06+00:00",
          "2024-11-23T20:23:49+00:00",
          "2024-11-23T20:47:53+00:00",
          "2024-11-23T21:42:55+00:00",
          "2024-11-23T23:20:09+00:00",
          "2024-11-24T17:03:17+00:00",
          "2024-11-24T21:22:30+00:00",
          "2024-11-24T21:36:25+00:00",
          "2024-11-25T10:08:27+00:00",
          "2024-11-25T10:17:47+00:00",
          "2024-11-25T20:46:03+00:00",
          "2024-11-26T08:59:14+00:00",
          "2024-11-26T13:53:34+00:00",
          "2024-11-26T18:58:08+00:00",
          "2024-11-26T20:04:26+00:00",
          "2024-11-26T20:50:20+00:00",
          "2024-11-28T08:28:15+00:00",
          "2024-11-28T08:44:57+00:00",
          "2024-12-01T13:05:40+00:00",
          "2024-12-01T13:08:37+00:00",
          "2024-12-01T14:47:25+00:00",
          "2024-12-01T19:04:06+00:00",
          "2024-12-01T19:14:37+00:00",
          "2024-12-01T21:50:56+00:00",
          "2024-12-01T21:52:14+00:00",
          "2024-12-01T21:58:35+00:00",
          "2024-12-02T08:45:41+00:00",
          "2024-12-02T15:52:01+00:00",
          "2024-12-02T18:38:48+00:00",
          "2024-12-02T19:13:33+00:00",
          "2024-12-02T19:16:22+00:00",
          "2024-12-03T04:49:04+00:00",
          "2024-12-03T09:27:44+00:00",
          "2024-12-03T12:04:53+00:00",
          "2024-12-03T14:13:12+00:00",
          "2024-12-03T14:14:46+00:00",
          "2024-12-03T15:45:33+00:00",
          "2024-12-05T17:18:07+00:00",
          "2024-12-05T18:14:26+00:00",
          "2024-12-05T18:24:49+00:00",
          "2024-12-05T20:12:39+00:00",
          "2024-12-06T08:22:46+00:00",
          "2024-12-06T08:48:43+00:00",
          "2024-12-06T09:11:30+00:00",
          "2024-12-06T10:22:24+00:00",
          "2024-12-06T10:32:25+00:00",
          "2024-12-06T11:01:19+00:00",
          "2024-12-06T11:30:45+00:00",
          "2024-12-06T12:18:30+00:00",
          "2024-12-06T19:05:16+00:00",
          "2024-12-07T08:46:25+00:00",
          "2024-12-07T09:08:03+00:00",
          "2024-12-07T09:52:56+00:00",
          "2024-12-07T10:18:17+00:00",
          "2024-12-09T08:51:01+00:00",
          "2024-12-09T10:39:41+00:00",
          "2024-12-09T15:36:28+00:00",
          "2024-12-10T02:58:54+00:00",
          "2024-12-10T03:00:43+00:00",
          "2024-12-10T03:01:31+00:00",
          "2024-12-10T03:16:39+00:00",
          "2024-12-10T03:18:49+00:00",
          "2024-12-10T03:21:04+00:00",
          "2024-12-10T03:27:39+00:00",
          "2024-12-10T09:08:54+00:00",
          "2024-12-10T09:11:20+00:00",
          "2024-12-10T09:13:35+00:00",
          "2024-12-10T10:53:10+00:00",
          "2024-12-10T17:56:06+00:00",
          "2024-12-10T19:10:51+00:00",
          "2024-12-10T19:34:11+00:00",
          "2024-12-10T19:35:54+00:00",
          "2024-12-10T19:38:15+00:00",
          "2024-12-10T19:40:21+00:00",
          "2024-12-12T19:59:09+00:00",
          "2024-12-13T05:51:41+00:00",
          "2024-12-13T09:13:26+00:00",
          "2024-12-13T20:42:49+00:00",
          "2024-12-13T20:48:03+00:00",
          "2024-12-13T20:49:07+00:00",
          "2024-12-13T22:49:53+00:00",
          "2024-12-15T16:03:47+00:00",
          "2024-12-16T16:17:21+00:00",
          "2024-12-16T16:51:13+00:00",
          "2024-12-16T17:03:44+00:00",
          "2024-12-16T17:28:22+00:00",
          "2024-12-16T20:58:03+00:00",
          "2024-12-18T13:16:50+00:00",
          "2024-12-18T14:59:54+00:00",
          "2024-12-18T15:45:18+00:00",
          "2024-12-18T15:46:50+00:00",
          "2024-12-18T15:50:04+00:00",
          "2024-12-18T15:57:37+00:00",
          "2024-12-18T16:12:03+00:00",
          "2024-12-18T16:13:13+00:00",
          "2024-12-18T16:46:33+00:00",
          "2024-12-19T00:33:15+00:00",
          "2024-12-19T09:55:17+00:00",
          "2024-12-19T10:59:10+00:00",
          "2024-12-19T11:29:06+00:00",
          "2024-12-19T13:18:07+00:00",
          "2024-12-19T15:11:02+00:00",
          "2024-12-19T21:36:23+00:00",
          "2024-12-20T14:34:53+00:00",
          "2024-12-20T23:56:51+00:00",
          "2024-12-21T13:41:13+00:00",
          "2024-12-21T14:32:12+00:00",
          "2024-12-21T15:52:08+00:00",
          "2024-12-21T17:10:02+00:00",
          "2024-12-21T17:15:03+00:00",
          "2024-12-21T17:15:42+00:00",
          "2024-12-21T19:14:53+00:00",
          "2024-12-21T19:20:01+00:00",
          "2024-12-21T19:35:14+00:00",
          "2024-12-22T05:46:04+00:00"
         ],
         "y": [
          1,
          1,
          2,
          2,
          1,
          1,
          1,
          1,
          1,
          1,
          1,
          1,
          1,
          1,
          1,
          2,
          1,
          1,
          1,
          1,
          1,
          1,
          1,
          1,
          1,
          1,
          1,
          1,
          1,
          1,
          1,
          2,
          1,
          1,
          1,
          1,
          1,
          1,
          1,
          1,
          1,
          1,
          1,
          1,
          1,
          1,
          1,
          1,
          1,
          1,
          1,
          1,
          1,
          1,
          1,
          1,
          1,
          1,
          1,
          1,
          1,
          1,
          1,
          1,
          1,
          1,
          1,
          1,
          1,
          1,
          1,
          1,
          1,
          1,
          1,
          1,
          1,
          1,
          1,
          1,
          1,
          1,
          2,
          1,
          1,
          1,
          1,
          1,
          2,
          1,
          1,
          1,
          1,
          1,
          1,
          1,
          1,
          1,
          1,
          2,
          1,
          1,
          2,
          1,
          1,
          1,
          1,
          1,
          1,
          1,
          1,
          1,
          1,
          1,
          1,
          1,
          1,
          1,
          1,
          1,
          1,
          1,
          1,
          1,
          1,
          1,
          1,
          1,
          1,
          1,
          1,
          1,
          1,
          1,
          1,
          4,
          1,
          3,
          4,
          1,
          1,
          1,
          1,
          1,
          1,
          2,
          1,
          1,
          1,
          1,
          1,
          1,
          1,
          1,
          2,
          1,
          1,
          1,
          2,
          1,
          1,
          1,
          1,
          1,
          1,
          1,
          2,
          1,
          1,
          1,
          1,
          1,
          1,
          1,
          1,
          1,
          1,
          1,
          1,
          2,
          1,
          1,
          1,
          1,
          1,
          1,
          1,
          1,
          1,
          1,
          1,
          1,
          1,
          1,
          1,
          1,
          1,
          1,
          1,
          2
         ]
        }
       ],
       "layout": {
        "height": 300,
        "hoverlabel": {
         "align": "left",
         "bgcolor": "white",
         "font": {
          "size": 12
         }
        },
        "showlegend": false,
        "template": {
         "data": {
          "bar": [
           {
            "error_x": {
             "color": "#2a3f5f"
            },
            "error_y": {
             "color": "#2a3f5f"
            },
            "marker": {
             "line": {
              "color": "#E5ECF6",
              "width": 0.5
             },
             "pattern": {
              "fillmode": "overlay",
              "size": 10,
              "solidity": 0.2
             }
            },
            "type": "bar"
           }
          ],
          "barpolar": [
           {
            "marker": {
             "line": {
              "color": "#E5ECF6",
              "width": 0.5
             },
             "pattern": {
              "fillmode": "overlay",
              "size": 10,
              "solidity": 0.2
             }
            },
            "type": "barpolar"
           }
          ],
          "carpet": [
           {
            "aaxis": {
             "endlinecolor": "#2a3f5f",
             "gridcolor": "white",
             "linecolor": "white",
             "minorgridcolor": "white",
             "startlinecolor": "#2a3f5f"
            },
            "baxis": {
             "endlinecolor": "#2a3f5f",
             "gridcolor": "white",
             "linecolor": "white",
             "minorgridcolor": "white",
             "startlinecolor": "#2a3f5f"
            },
            "type": "carpet"
           }
          ],
          "choropleth": [
           {
            "colorbar": {
             "outlinewidth": 0,
             "ticks": ""
            },
            "type": "choropleth"
           }
          ],
          "contour": [
           {
            "colorbar": {
             "outlinewidth": 0,
             "ticks": ""
            },
            "colorscale": [
             [
              0,
              "#0d0887"
             ],
             [
              0.1111111111111111,
              "#46039f"
             ],
             [
              0.2222222222222222,
              "#7201a8"
             ],
             [
              0.3333333333333333,
              "#9c179e"
             ],
             [
              0.4444444444444444,
              "#bd3786"
             ],
             [
              0.5555555555555556,
              "#d8576b"
             ],
             [
              0.6666666666666666,
              "#ed7953"
             ],
             [
              0.7777777777777778,
              "#fb9f3a"
             ],
             [
              0.8888888888888888,
              "#fdca26"
             ],
             [
              1,
              "#f0f921"
             ]
            ],
            "type": "contour"
           }
          ],
          "contourcarpet": [
           {
            "colorbar": {
             "outlinewidth": 0,
             "ticks": ""
            },
            "type": "contourcarpet"
           }
          ],
          "heatmap": [
           {
            "colorbar": {
             "outlinewidth": 0,
             "ticks": ""
            },
            "colorscale": [
             [
              0,
              "#0d0887"
             ],
             [
              0.1111111111111111,
              "#46039f"
             ],
             [
              0.2222222222222222,
              "#7201a8"
             ],
             [
              0.3333333333333333,
              "#9c179e"
             ],
             [
              0.4444444444444444,
              "#bd3786"
             ],
             [
              0.5555555555555556,
              "#d8576b"
             ],
             [
              0.6666666666666666,
              "#ed7953"
             ],
             [
              0.7777777777777778,
              "#fb9f3a"
             ],
             [
              0.8888888888888888,
              "#fdca26"
             ],
             [
              1,
              "#f0f921"
             ]
            ],
            "type": "heatmap"
           }
          ],
          "heatmapgl": [
           {
            "colorbar": {
             "outlinewidth": 0,
             "ticks": ""
            },
            "colorscale": [
             [
              0,
              "#0d0887"
             ],
             [
              0.1111111111111111,
              "#46039f"
             ],
             [
              0.2222222222222222,
              "#7201a8"
             ],
             [
              0.3333333333333333,
              "#9c179e"
             ],
             [
              0.4444444444444444,
              "#bd3786"
             ],
             [
              0.5555555555555556,
              "#d8576b"
             ],
             [
              0.6666666666666666,
              "#ed7953"
             ],
             [
              0.7777777777777778,
              "#fb9f3a"
             ],
             [
              0.8888888888888888,
              "#fdca26"
             ],
             [
              1,
              "#f0f921"
             ]
            ],
            "type": "heatmapgl"
           }
          ],
          "histogram": [
           {
            "marker": {
             "pattern": {
              "fillmode": "overlay",
              "size": 10,
              "solidity": 0.2
             }
            },
            "type": "histogram"
           }
          ],
          "histogram2d": [
           {
            "colorbar": {
             "outlinewidth": 0,
             "ticks": ""
            },
            "colorscale": [
             [
              0,
              "#0d0887"
             ],
             [
              0.1111111111111111,
              "#46039f"
             ],
             [
              0.2222222222222222,
              "#7201a8"
             ],
             [
              0.3333333333333333,
              "#9c179e"
             ],
             [
              0.4444444444444444,
              "#bd3786"
             ],
             [
              0.5555555555555556,
              "#d8576b"
             ],
             [
              0.6666666666666666,
              "#ed7953"
             ],
             [
              0.7777777777777778,
              "#fb9f3a"
             ],
             [
              0.8888888888888888,
              "#fdca26"
             ],
             [
              1,
              "#f0f921"
             ]
            ],
            "type": "histogram2d"
           }
          ],
          "histogram2dcontour": [
           {
            "colorbar": {
             "outlinewidth": 0,
             "ticks": ""
            },
            "colorscale": [
             [
              0,
              "#0d0887"
             ],
             [
              0.1111111111111111,
              "#46039f"
             ],
             [
              0.2222222222222222,
              "#7201a8"
             ],
             [
              0.3333333333333333,
              "#9c179e"
             ],
             [
              0.4444444444444444,
              "#bd3786"
             ],
             [
              0.5555555555555556,
              "#d8576b"
             ],
             [
              0.6666666666666666,
              "#ed7953"
             ],
             [
              0.7777777777777778,
              "#fb9f3a"
             ],
             [
              0.8888888888888888,
              "#fdca26"
             ],
             [
              1,
              "#f0f921"
             ]
            ],
            "type": "histogram2dcontour"
           }
          ],
          "mesh3d": [
           {
            "colorbar": {
             "outlinewidth": 0,
             "ticks": ""
            },
            "type": "mesh3d"
           }
          ],
          "parcoords": [
           {
            "line": {
             "colorbar": {
              "outlinewidth": 0,
              "ticks": ""
             }
            },
            "type": "parcoords"
           }
          ],
          "pie": [
           {
            "automargin": true,
            "type": "pie"
           }
          ],
          "scatter": [
           {
            "fillpattern": {
             "fillmode": "overlay",
             "size": 10,
             "solidity": 0.2
            },
            "type": "scatter"
           }
          ],
          "scatter3d": [
           {
            "line": {
             "colorbar": {
              "outlinewidth": 0,
              "ticks": ""
             }
            },
            "marker": {
             "colorbar": {
              "outlinewidth": 0,
              "ticks": ""
             }
            },
            "type": "scatter3d"
           }
          ],
          "scattercarpet": [
           {
            "marker": {
             "colorbar": {
              "outlinewidth": 0,
              "ticks": ""
             }
            },
            "type": "scattercarpet"
           }
          ],
          "scattergeo": [
           {
            "marker": {
             "colorbar": {
              "outlinewidth": 0,
              "ticks": ""
             }
            },
            "type": "scattergeo"
           }
          ],
          "scattergl": [
           {
            "marker": {
             "colorbar": {
              "outlinewidth": 0,
              "ticks": ""
             }
            },
            "type": "scattergl"
           }
          ],
          "scattermapbox": [
           {
            "marker": {
             "colorbar": {
              "outlinewidth": 0,
              "ticks": ""
             }
            },
            "type": "scattermapbox"
           }
          ],
          "scatterpolar": [
           {
            "marker": {
             "colorbar": {
              "outlinewidth": 0,
              "ticks": ""
             }
            },
            "type": "scatterpolar"
           }
          ],
          "scatterpolargl": [
           {
            "marker": {
             "colorbar": {
              "outlinewidth": 0,
              "ticks": ""
             }
            },
            "type": "scatterpolargl"
           }
          ],
          "scatterternary": [
           {
            "marker": {
             "colorbar": {
              "outlinewidth": 0,
              "ticks": ""
             }
            },
            "type": "scatterternary"
           }
          ],
          "surface": [
           {
            "colorbar": {
             "outlinewidth": 0,
             "ticks": ""
            },
            "colorscale": [
             [
              0,
              "#0d0887"
             ],
             [
              0.1111111111111111,
              "#46039f"
             ],
             [
              0.2222222222222222,
              "#7201a8"
             ],
             [
              0.3333333333333333,
              "#9c179e"
             ],
             [
              0.4444444444444444,
              "#bd3786"
             ],
             [
              0.5555555555555556,
              "#d8576b"
             ],
             [
              0.6666666666666666,
              "#ed7953"
             ],
             [
              0.7777777777777778,
              "#fb9f3a"
             ],
             [
              0.8888888888888888,
              "#fdca26"
             ],
             [
              1,
              "#f0f921"
             ]
            ],
            "type": "surface"
           }
          ],
          "table": [
           {
            "cells": {
             "fill": {
              "color": "#EBF0F8"
             },
             "line": {
              "color": "white"
             }
            },
            "header": {
             "fill": {
              "color": "#C8D4E3"
             },
             "line": {
              "color": "white"
             }
            },
            "type": "table"
           }
          ]
         },
         "layout": {
          "annotationdefaults": {
           "arrowcolor": "#2a3f5f",
           "arrowhead": 0,
           "arrowwidth": 1
          },
          "autotypenumbers": "strict",
          "coloraxis": {
           "colorbar": {
            "outlinewidth": 0,
            "ticks": ""
           }
          },
          "colorscale": {
           "diverging": [
            [
             0,
             "#8e0152"
            ],
            [
             0.1,
             "#c51b7d"
            ],
            [
             0.2,
             "#de77ae"
            ],
            [
             0.3,
             "#f1b6da"
            ],
            [
             0.4,
             "#fde0ef"
            ],
            [
             0.5,
             "#f7f7f7"
            ],
            [
             0.6,
             "#e6f5d0"
            ],
            [
             0.7,
             "#b8e186"
            ],
            [
             0.8,
             "#7fbc41"
            ],
            [
             0.9,
             "#4d9221"
            ],
            [
             1,
             "#276419"
            ]
           ],
           "sequential": [
            [
             0,
             "#0d0887"
            ],
            [
             0.1111111111111111,
             "#46039f"
            ],
            [
             0.2222222222222222,
             "#7201a8"
            ],
            [
             0.3333333333333333,
             "#9c179e"
            ],
            [
             0.4444444444444444,
             "#bd3786"
            ],
            [
             0.5555555555555556,
             "#d8576b"
            ],
            [
             0.6666666666666666,
             "#ed7953"
            ],
            [
             0.7777777777777778,
             "#fb9f3a"
            ],
            [
             0.8888888888888888,
             "#fdca26"
            ],
            [
             1,
             "#f0f921"
            ]
           ],
           "sequentialminus": [
            [
             0,
             "#0d0887"
            ],
            [
             0.1111111111111111,
             "#46039f"
            ],
            [
             0.2222222222222222,
             "#7201a8"
            ],
            [
             0.3333333333333333,
             "#9c179e"
            ],
            [
             0.4444444444444444,
             "#bd3786"
            ],
            [
             0.5555555555555556,
             "#d8576b"
            ],
            [
             0.6666666666666666,
             "#ed7953"
            ],
            [
             0.7777777777777778,
             "#fb9f3a"
            ],
            [
             0.8888888888888888,
             "#fdca26"
            ],
            [
             1,
             "#f0f921"
            ]
           ]
          },
          "colorway": [
           "#636efa",
           "#EF553B",
           "#00cc96",
           "#ab63fa",
           "#FFA15A",
           "#19d3f3",
           "#FF6692",
           "#B6E880",
           "#FF97FF",
           "#FECB52"
          ],
          "font": {
           "color": "#2a3f5f"
          },
          "geo": {
           "bgcolor": "white",
           "lakecolor": "white",
           "landcolor": "#E5ECF6",
           "showlakes": true,
           "showland": true,
           "subunitcolor": "white"
          },
          "hoverlabel": {
           "align": "left"
          },
          "hovermode": "closest",
          "mapbox": {
           "style": "light"
          },
          "paper_bgcolor": "white",
          "plot_bgcolor": "#E5ECF6",
          "polar": {
           "angularaxis": {
            "gridcolor": "white",
            "linecolor": "white",
            "ticks": ""
           },
           "bgcolor": "#E5ECF6",
           "radialaxis": {
            "gridcolor": "white",
            "linecolor": "white",
            "ticks": ""
           }
          },
          "scene": {
           "xaxis": {
            "backgroundcolor": "#E5ECF6",
            "gridcolor": "white",
            "gridwidth": 2,
            "linecolor": "white",
            "showbackground": true,
            "ticks": "",
            "zerolinecolor": "white"
           },
           "yaxis": {
            "backgroundcolor": "#E5ECF6",
            "gridcolor": "white",
            "gridwidth": 2,
            "linecolor": "white",
            "showbackground": true,
            "ticks": "",
            "zerolinecolor": "white"
           },
           "zaxis": {
            "backgroundcolor": "#E5ECF6",
            "gridcolor": "white",
            "gridwidth": 2,
            "linecolor": "white",
            "showbackground": true,
            "ticks": "",
            "zerolinecolor": "white"
           }
          },
          "shapedefaults": {
           "line": {
            "color": "#2a3f5f"
           }
          },
          "ternary": {
           "aaxis": {
            "gridcolor": "white",
            "linecolor": "white",
            "ticks": ""
           },
           "baxis": {
            "gridcolor": "white",
            "linecolor": "white",
            "ticks": ""
           },
           "bgcolor": "#E5ECF6",
           "caxis": {
            "gridcolor": "white",
            "linecolor": "white",
            "ticks": ""
           }
          },
          "title": {
           "x": 0.05
          },
          "xaxis": {
           "automargin": true,
           "gridcolor": "white",
           "linecolor": "white",
           "ticks": "",
           "title": {
            "standoff": 15
           },
           "zerolinecolor": "white",
           "zerolinewidth": 2
          },
          "yaxis": {
           "automargin": true,
           "gridcolor": "white",
           "linecolor": "white",
           "ticks": "",
           "title": {
            "standoff": 15
           },
           "zerolinecolor": "white",
           "zerolinewidth": 2
          }
         }
        },
        "title": {
         "text": "Raw Toxicity Scores"
        },
        "width": 1500,
        "xaxis": {
         "title": {
          "text": "Time"
         }
        },
        "yaxis": {
         "title": {
          "text": "Toxicity Score"
         }
        }
       }
      }
     },
     "metadata": {},
     "output_type": "display_data"
    }
   ],
   "source": [
    "# Create and display the plot\n",
    "\n",
    "fig = create_toxicity_scatter_plot(filtered_df)\n",
    "fig.show()"
   ]
  },
  {
   "attachments": {
    "image.png": {
     "image/png": "[encoded data removed]"
    }
   },
   "cell_type": "markdown",
   "metadata": {},
   "source": [
    "\n",
    "![image.png](attachment:image.png)\n",
    "\n",
    "This looks much better. In this sample, there are indeed a few toxic ones. \n"
   ]
  },
  {
   "cell_type": "code",
   "execution_count": 45,
   "metadata": {},
   "outputs": [],
   "source": [
    "def create_reaction_plot(df, reaction_col, title, y_axis_label):\n",
    "    \"\"\"Create a line plot for GitHub reactions over time.\n",
    "    \n",
    "    Args:\n",
    "        df: DataFrame containing the reaction data\n",
    "        reaction_col: Column name for the reaction counts\n",
    "        title: Plot title\n",
    "        y_axis_label: Label for y-axis\n",
    "        \n",
    "    Returns:\n",
    "        plotly.graph_objects.Figure\n",
    "    \"\"\"\n",
    "    fig = go.Figure()\n",
    "    fig.add_trace(go.Scatter(\n",
    "        x=df['datetime'],\n",
    "        y=df[reaction_col],\n",
    "        mode='lines+markers',\n",
    "        marker=dict(color='black'),\n",
    "        line=dict(color='black'),\n",
    "        hovertemplate='<b>Date</b>: %{x}<br>' +\n",
    "                      '<b>' + y_axis_label + '</b>: %{y}<br>' +\n",
    "                      '<b>Comment</b>: %{text}<br><extra></extra>',\n",
    "        text=df['comment_details']\n",
    "    ))\n",
    "\n",
    "    fig.update_layout(\n",
    "        title=title,\n",
    "        xaxis_title='Time',\n",
    "        yaxis_title=y_axis_label,\n",
    "        height=300,\n",
    "        width=1500,\n",
    "        showlegend=False,\n",
    "        plot_bgcolor='white',\n",
    "        paper_bgcolor='white',\n",
    "        hoverlabel=dict(\n",
    "            bgcolor='white',\n",
    "            font_size=12,\n",
    "            align='left'\n",
    "        )\n",
    "    )\n",
    "    return fig\n"
   ]
  },
  {
   "cell_type": "code",
   "execution_count": 30,
   "metadata": {},
   "outputs": [
    {
     "data": {
      "application/vnd.plotly.v1+json": {
       "config": {
        "plotlyServerURL": "https://plot.ly"
       },
       "data": [
        {
         "hovertemplate": "<b>Date</b>: %{x}<br><b>Number of Confused Reactions</b>: %{y}<br><b>Comment</b>: %{text}<br><extra></extra>",
         "marker": {
          "color": "black"
         },
         "text": [
          "Hey @samsja,\r\n\r\nOne workaround would be to have your custom `NdArray` type like this:\r\n\r\n```py\r\nfrom typing_extensions import Annotated\r\n\r\nimport numpy as np\r\nfrom pydantic import BaseModel, BeforeValidator, ConfigDict, PlainSerializer\r\n\r\n\r\narr = np.array(\r\n    [\r\n        [1, 5, 6],\r\n        [4, 7, 2],\r\n        [3, 1, 9]\r\n    ]\r\n)\r\n\r\ndef nd_array_custom_before_validator(x):\r\n    # custome before validation logic\r\n    return x\r\n\r\n\r\ndef nd_array_custom_serializer(x):\r\n    # custome serialization logic\r\n    return str(x)\r\n\r\nNdArray = Annotated[\r\n    np.ndarray,\r\n    BeforeValidator(nd_array_custom_before_validator),\r\n    PlainSerializer(nd_array_custom_serializer, return_type=str),\r\n]\r\n\r\nclass Model(BaseModel):\r\n    x: NdArray\r\n\r\n    model_config = ConfigDict(arbitrary_types_allowed=True)\r\n\r\n\r\nm = Model(x=arr)\r\nprint(m.model_dump())\r\n\r\n```\r\n\r\nYou may find more useful information in [Serialization doc](https://docs.pydantic.dev/2.1/usage/serialization/#custom-serializers)",
          "Python 3.11.4 (main, Jul 25 2023, 17:36:13) [Clang 14.0.3 (clang-1403.0.22.14.1)] on darwin\r\nTypeError: `Fields of type \"<class 'main.RespList'>\" are not supported.`\r\n\r\nI am using FastAPI to write an api and need to return this general data structure. Unlike the above, I currently have no inheritance behavior, so it seems that generic types are not supported?\r\n\r\nI use the generic type as the return type to display a more complete data structure in the OpenAPI UI\r\n- `main.py` file\r\n```python\r\nfrom dataclasses import dataclass\r\nfrom typing import Generic, TypeVar\r\n\r\nfrom fastapi import FastAPI\r\n\r\n\r\napp = FastAPI()\r\napp.debug = True\r\nT = TypeVar(\"T\")\r\n\r\n\r\n@dataclass\r\nclass UserData:\r\n    id: int\r\n    name: str\r\n    age: int\r\n    avatar: str\r\n\r\n\r\n@dataclass\r\nclass BookData:\r\n    id: int\r\n    name: str\r\n    use: int\r\n\r\n\r\n@dataclass\r\nclass RespList(Generic[T]):\r\n    code: int\r\n    data: list[T]\r\n\r\n\r\n@app.get(\"/api/getUser\")\r\ndef index():\r\n    return RespList[UserData](\r\n        code=200,\r\n        data=[\r\n            UserData(\r\n                id=i,\r\n                name=f\"test_{i}\",\r\n                age=i,\r\n                avatar=f\"https://avatars.dicebear.com/v2/avataaars/{i}.svg\",\r\n            ).__dict__\r\n            for i in range(10)\r\n        ],\r\n    )\r\n\r\n\r\n# run it> uvicorn main:app --reload\r\n\r\n```\r\n\r\nBelow is the traceback\r\n-- when i use `RespList[UserData]` \r\n\r\n```bash\r\n➜ ~ uvicorn main:app --reload\r\nINFO:     Will watch for changes in these directories: ['/Users/alan/me/recatpy_']\r\nINFO:     Uvicorn running on http://127.0.0.1:8000 (Press CTRL+C to quit)\r\nINFO:     Started reloader process [43575] using WatchFiles\r\nProcess SpawnProcess-1:\r\nTraceback (most recent call last):\r\n  File \"/opt/homebrew/Cellar/python@3.11/3.11.4_1/Frameworks/Python.framework/Versions/3.11/lib/python3.11/multiprocessing/process.py\", line 314, in _bootstrap\r\n    self.run()\r\n  File \"/opt/homebrew/Cellar/python@3.11/3.11.4_1/Frameworks/Python.framework/Versions/3.11/lib/python3.11/multiprocessing/process.py\", line 108, in run\r\n    self._target(*self._args, **self._kwargs)\r\n  File \"/opt/homebrew/lib/python3.11/site-packages/uvicorn/_subprocess.py\", line 76, in subprocess_started\r\n    target(sockets=sockets)\r\n  File \"/opt/homebrew/lib/python3.11/site-packages/uvicorn/server.py\", line 61, in run\r\n    return asyncio.run(self.serve(sockets=sockets))\r\n           ^^^^^^^^^^^^^^^^^^^^^^^^^^^^^^^^^^^^^^^^\r\n  File \"/opt/homebrew/Cellar/python@3.11/3.11.4_1/Frameworks/Python.framework/Versions/3.11/lib/python3.11/asyncio/runners.py\", line 190, in run\r\n    return runner.run(main)\r\n           ^^^^^^^^^^^^^^^^\r\n  File \"/opt/homebrew/Cellar/python@3.11/3.11.4_1/Frameworks/Python.framework/Versions/3.11/lib/python3.11/asyncio/runners.py\", line 118, in run\r\n    return self._loop.run_until_complete(task)\r\n           ^^^^^^^^^^^^^^^^^^^^^^^^^^^^^^^^^^^\r\n  File \"uvloop/loop.pyx\", line 1517, in uvloop.loop.Loop.run_until_complete\r\n  File \"/opt/homebrew/lib/python3.11/site-packages/uvicorn/server.py\", line 68, in serve\r\n    config.load()\r\n  File \"/opt/homebrew/lib/python3.11/site-packages/uvicorn/config.py\", line 467, in load\r\n    self.loaded_app = import_from_string(self.app)\r\n                      ^^^^^^^^^^^^^^^^^^^^^^^^^^^^\r\n  File \"/opt/homebrew/lib/python3.11/site-packages/uvicorn/importer.py\", line 21, in import_from_string\r\n    module = importlib.import_module(module_str)\r\n             ^^^^^^^^^^^^^^^^^^^^^^^^^^^^^^^^^^^\r\n  File \"/opt/homebrew/Cellar/python@3.11/3.11.4_1/Frameworks/Python.framework/Versions/3.11/lib/python3.11/importlib/__init__.py\", line 126, in import_module\r\n    return _bootstrap._gcd_import(name[level:], package, level)\r\n           ^^^^^^^^^^^^^^^^^^^^^^^^^^^^^^^^^^^^^^^^^^^^^^^^^^^^\r\n  File \"<frozen importlib._bootstrap>\", line 1204, in _gcd_import\r\n  File \"<frozen importlib._bootstrap>\", line 1176, in _find_and_load\r\n  File \"<frozen importlib._bootstrap>\", line 1147, in _find_and_load_unlocked\r\n  File \"<frozen importlib._bootstrap>\", line 690, in _load_unlocked\r\n  File \"<frozen importlib._bootstrap_external>\", line 940, in exec_module\r\n  File \"<frozen importlib._bootstrap>\", line 241, in _call_with_frames_removed\r\n  File \"/Users/alan/me/recatpy_/main.py\", line 33, in <module>\r\n    @app.get(\"/api/getUser\")\r\n     ^^^^^^^^^^^^^^^^^^^^^^^\r\n  File \"/opt/homebrew/lib/python3.11/site-packages/fastapi/routing.py\", line 704, in decorator\r\n    self.add_api_route(\r\n  File \"/opt/homebrew/lib/python3.11/site-packages/fastapi/routing.py\", line 643, in add_api_route\r\n    route = route_class(\r\n            ^^^^^^^^^^^^\r\n  File \"/opt/homebrew/lib/python3.11/site-packages/fastapi/routing.py\", line 448, in __init__\r\n    self.response_field = create_response_field(\r\n                          ^^^^^^^^^^^^^^^^^^^^^^\r\n  File \"/opt/homebrew/lib/python3.11/site-packages/fastapi/utils.py\", line 99, in create_response_field\r\n    return ModelField(**kwargs)  # type: ignore[arg-type]\r\n           ^^^^^^^^^^^^^^^^^^^^\r\n  File \"pydantic/fields.py\", line 436, in pydantic.fields.ModelField.__init__\r\n  File \"pydantic/fields.py\", line 552, in pydantic.fields.ModelField.prepare\r\n  File \"pydantic/fields.py\", line 755, in pydantic.fields.ModelField._type_analysis\r\nTypeError: Fields of type \"<class 'main.RespList'>\" are not supported.\r\n\r\n```\r\n`dict[str, int | list[dict[str, int | str]]]` or `dict[str, int | list[UserData]]`\r\n```python\r\n@app.get(\"/api/getUser\")\r\ndef index() -> dict[str, int | list[dict[str, int | str]]]:\r\n    return dict(\r\n        code=200,\r\n        data=[\r\n            dict(\r\n                id=i,\r\n                name=f\"test_{i}\",\r\n                age=i,\r\n                avatar=f\"https://avatars.dicebear.com/v2/avataaars/{i}.svg\",\r\n            )\r\n            for i in range(10)\r\n        ],\r\n    )\r\n```\r\n\r\n\r\n![image](https://github.com/pydantic/pydantic/assets/60773912/b3bdfbfa-cdc7-4ffa-9db7-681f0151781d)\r\n![image](https://github.com/pydantic/pydantic/assets/60773912/7f4bff56-8714-435d-bb00-cbfa2e8e14b8)\r\n\r\nI can redeclare the class structure, but it's too much trouble.",
          "> Python 3.11.4 (main, Jul 25 2023, 17:36:13) [Clang 14.0.3 (clang-1403.0.22.14.1)] on darwin TypeError: `Fields of type \"<class 'main.RespList'>\" are not supported.`\r\n> \r\n> I am using FastAPI to write an api and need to return this general data structure. Unlike the above, I currently have no inheritance behavior, so it seems that generic types are not supported?\r\n> \r\n> I use the generic type as the return type to display a more complete data structure in the OpenAPI UI\r\n> \r\n> * `main.py` file\r\n> \r\n> ```python\r\n> from dataclasses import dataclass\r\n> from typing import Generic, TypeVar\r\n> \r\n> from fastapi import FastAPI\r\n> \r\n> \r\n> app = FastAPI()\r\n> app.debug = True\r\n> T = TypeVar(\"T\")\r\n> \r\n> \r\n> @dataclass\r\n> class UserData:\r\n>     id: int\r\n>     name: str\r\n>     age: int\r\n>     avatar: str\r\n> \r\n> \r\n> @dataclass\r\n> class BookData:\r\n>     id: int\r\n>     name: str\r\n>     use: int\r\n> \r\n> \r\n> @dataclass\r\n> class RespList(Generic[T]):\r\n>     code: int\r\n>     data: list[T]\r\n> \r\n> \r\n> @app.get(\"/api/getUser\")\r\n> def index():\r\n>     return RespList[UserData](\r\n>         code=200,\r\n>         data=[\r\n>             UserData(\r\n>                 id=i,\r\n>                 name=f\"test_{i}\",\r\n>                 age=i,\r\n>                 avatar=f\"https://avatars.dicebear.com/v2/avataaars/{i}.svg\",\r\n>             ).__dict__\r\n>             for i in range(10)\r\n>         ],\r\n>     )\r\n> \r\n> \r\n> # run it> uvicorn main:app --reload\r\n> ```\r\n> \r\n> Below is the traceback -- when i use `RespList[UserData]`\r\n> \r\n> ```shell\r\n> ➜ ~ uvicorn main:app --reload\r\n> INFO:     Will watch for changes in these directories: ['/Users/alan/me/recatpy_']\r\n> INFO:     Uvicorn running on http://127.0.0.1:8000 (Press CTRL+C to quit)\r\n> INFO:     Started reloader process [43575] using WatchFiles\r\n> Process SpawnProcess-1:\r\n> Traceback (most recent call last):\r\n>   File \"/opt/homebrew/Cellar/python@3.11/3.11.4_1/Frameworks/Python.framework/Versions/3.11/lib/python3.11/multiprocessing/process.py\", line 314, in _bootstrap\r\n>     self.run()\r\n>   File \"/opt/homebrew/Cellar/python@3.11/3.11.4_1/Frameworks/Python.framework/Versions/3.11/lib/python3.11/multiprocessing/process.py\", line 108, in run\r\n>     self._target(*self._args, **self._kwargs)\r\n>   File \"/opt/homebrew/lib/python3.11/site-packages/uvicorn/_subprocess.py\", line 76, in subprocess_started\r\n>     target(sockets=sockets)\r\n>   File \"/opt/homebrew/lib/python3.11/site-packages/uvicorn/server.py\", line 61, in run\r\n>     return asyncio.run(self.serve(sockets=sockets))\r\n>            ^^^^^^^^^^^^^^^^^^^^^^^^^^^^^^^^^^^^^^^^\r\n>   File \"/opt/homebrew/Cellar/python@3.11/3.11.4_1/Frameworks/Python.framework/Versions/3.11/lib/python3.11/asyncio/runners.py\", line 190, in run\r\n>     return runner.run(main)\r\n>            ^^^^^^^^^^^^^^^^\r\n>   File \"/opt/homebrew/Cellar/python@3.11/3.11.4_1/Frameworks/Python.framework/Versions/3.11/lib/python3.11/asyncio/runners.py\", line 118, in run\r\n>     return self._loop.run_until_complete(task)\r\n>            ^^^^^^^^^^^^^^^^^^^^^^^^^^^^^^^^^^^\r\n>   File \"uvloop/loop.pyx\", line 1517, in uvloop.loop.Loop.run_until_complete\r\n>   File \"/opt/homebrew/lib/python3.11/site-packages/uvicorn/server.py\", line 68, in serve\r\n>     config.load()\r\n>   File \"/opt/homebrew/lib/python3.11/site-packages/uvicorn/config.py\", line 467, in load\r\n>     self.loaded_app = import_from_string(self.app)\r\n>                       ^^^^^^^^^^^^^^^^^^^^^^^^^^^^\r\n>   File \"/opt/homebrew/lib/python3.11/site-packages/uvicorn/importer.py\", line 21, in import_from_string\r\n>     module = importlib.import_module(module_str)\r\n>              ^^^^^^^^^^^^^^^^^^^^^^^^^^^^^^^^^^^\r\n>   File \"/opt/homebrew/Cellar/python@3.11/3.11.4_1/Frameworks/Python.framework/Versions/3.11/lib/python3.11/importlib/__init__.py\", line 126, in import_module\r\n>     return _bootstrap._gcd_import(name[level:], package, level)\r\n>            ^^^^^^^^^^^^^^^^^^^^^^^^^^^^^^^^^^^^^^^^^^^^^^^^^^^^\r\n>   File \"<frozen importlib._bootstrap>\", line 1204, in _gcd_import\r\n>   File \"<frozen importlib._bootstrap>\", line 1176, in _find_and_load\r\n>   File \"<frozen importlib._bootstrap>\", line 1147, in _find_and_load_unlocked\r\n>   File \"<frozen importlib._bootstrap>\", line 690, in _load_unlocked\r\n>   File \"<frozen importlib._bootstrap_external>\", line 940, in exec_module\r\n>   File \"<frozen importlib._bootstrap>\", line 241, in _call_with_frames_removed\r\n>   File \"/Users/alan/me/recatpy_/main.py\", line 33, in <module>\r\n>     @app.get(\"/api/getUser\")\r\n>      ^^^^^^^^^^^^^^^^^^^^^^^\r\n>   File \"/opt/homebrew/lib/python3.11/site-packages/fastapi/routing.py\", line 704, in decorator\r\n>     self.add_api_route(\r\n>   File \"/opt/homebrew/lib/python3.11/site-packages/fastapi/routing.py\", line 643, in add_api_route\r\n>     route = route_class(\r\n>             ^^^^^^^^^^^^\r\n>   File \"/opt/homebrew/lib/python3.11/site-packages/fastapi/routing.py\", line 448, in __init__\r\n>     self.response_field = create_response_field(\r\n>                           ^^^^^^^^^^^^^^^^^^^^^^\r\n>   File \"/opt/homebrew/lib/python3.11/site-packages/fastapi/utils.py\", line 99, in create_response_field\r\n>     return ModelField(**kwargs)  # type: ignore[arg-type]\r\n>            ^^^^^^^^^^^^^^^^^^^^\r\n>   File \"pydantic/fields.py\", line 436, in pydantic.fields.ModelField.__init__\r\n>   File \"pydantic/fields.py\", line 552, in pydantic.fields.ModelField.prepare\r\n>   File \"pydantic/fields.py\", line 755, in pydantic.fields.ModelField._type_analysis\r\n> TypeError: Fields of type \"<class 'main.RespList'>\" are not supported.\r\n> ```\r\n> \r\n> `dict[str, int | list[dict[str, int | str]]]` or `dict[str, int | list[UserData]]`\r\n> \r\n> ```python\r\n> @app.get(\"/api/getUser\")\r\n> def index() -> dict[str, int | list[dict[str, int | str]]]:\r\n>     return dict(\r\n>         code=200,\r\n>         data=[\r\n>             dict(\r\n>                 id=i,\r\n>                 name=f\"test_{i}\",\r\n>                 age=i,\r\n>                 avatar=f\"https://avatars.dicebear.com/v2/avataaars/{i}.svg\",\r\n>             )\r\n>             for i in range(10)\r\n>         ],\r\n>     )\r\n> ```\r\n> \r\n> ![image](https://user-images.githubusercontent.com/60773912/263601366-b3bdfbfa-cdc7-4ffa-9db7-681f0151781d.png) ![image](https://user-images.githubusercontent.com/60773912/263606056-7f4bff56-8714-435d-bb00-cbfa2e8e14b8.png)\r\n> \r\n> I can redeclare the class structure, but it's too much trouble.\r\n\r\n```\r\nName: pydantic\r\nVersion: 1.10.12\r\nSummary: Data validation and settings management using python type hints\r\nHome-page: https://github.com/pydantic/pydantic\r\nAuthor: Samuel Colvin\r\nAuthor-email: s@muelcolvin.com\r\nLicense: MIT\r\nLocation: /opt/homebrew/lib/python3.11/site-packages\r\nRequires: typing-extensions\r\nRequired-by: copier, fastapi, flet\r\n```\r\nWhen I write this question to end...\r\nAfter reading everyone's comments,I found the reason by trying, and finally used the latest version [`pydantic 2.3.0`](https://pypi.org/project/pydantic/)\r\nitself has been resolved 👍 \r\n![image](https://github.com/pydantic/pydantic/assets/60773912/9154c1ae-06a1-48c4-a987-3d9bb7a3b0d2)\r\n\r\n",
          "Hi,\r\n\r\nI am having the same issue on `2.4.2`. For now downgrading to `2.4.0` fixes the issue.",
          "It works but it is very slow for most of the use cases I have...",
          "Hello!\r\n\r\nWhile migrating one of our FastAPI apps from pydanticv1 to pydanticv2, I also noticed that this behavior differs between the two pydantic versions.\r\n\r\nWith pydanticv1:\r\n```python\r\n>>> pyenv virtualenv 3.9.5 pydanticv1\r\n>>> pyenv activate pydanticv1\r\n>>> pip install 'pydantic<2'\r\n>>> ipython\r\nIn [1]: from datetime import datetime, timezone\r\n\r\nIn [2]: from pydantic import BaseModel\r\n\r\nIn [3]: class Foo(BaseModel):\r\n   ...:     dt: datetime\r\n   ...:\r\n\r\nIn [4]: foo = Foo(dt=datetime.now(tz=timezone.utc))\r\n\r\nIn [5]: foo.json()\r\nOut[5]: '{\"dt\": \"2024-06-17T15:32:31.825334+00:00\"}'\r\n```\r\n\r\nWith pydanticv2:\r\n```python\r\n>>> pyenv virtualenv 3.9.5 pydanticv2\r\n>>> pyenv activate pydanticv2\r\n>>> pip install 'pydantic>=2'\r\n>>> ipython\r\nIn [1]: from datetime import datetime, timezone\r\n\r\nIn [2]: from pydantic import BaseModel\r\n\r\nIn [3]: class Foo(BaseModel):\r\n   ...:     dt: datetime\r\n   ...:\r\n\r\nIn [4]: foo = Foo(dt=datetime.now(tz=timezone.utc))\r\n\r\nIn [5]: foo.json()  # or foo.model_dump_json()\r\nOut[5]: '{\"dt\":\"2024-06-17T15:33:09.300525Z\"}'\r\n```",
          "I see two ways to do so:\r\n\r\n- Using `ClassVar`:\r\n\r\n```python\r\nfrom abc import ABC\r\nfrom typing import Any, Callable, ClassVar\r\n\r\nfrom pydantic_core.core_schema import SerializationInfo\r\nfrom typing_extensions import Self\r\n\r\nfrom pydantic import BaseModel, model_serializer\r\n\r\n\r\nclass Foo(BaseModel, ABC):\r\n    readonly_field: ClassVar[str]\r\n\r\n    @model_serializer(mode='wrap')\r\n    def serialize(self, handler: Callable[[Self], dict[str, Any]], info: SerializationInfo):\r\n        # If you want `readonly_field` to be included during serialization\r\n        data = handler(self)\r\n        data['readonly_field'] = self.readonly_field\r\n        return data\r\n\r\n\r\nclass Bar(Foo):\r\n    readonly_field = 'test'\r\n\r\n\r\nprint(Bar().model_dump_json())\r\n#> {\"readonly_field\":\"test\"}\r\n```\r\n\r\n- Using an abstract property (combined with `@computed_field`):\r\n\r\n```python\r\nfrom abc import ABC, abstractmethod\r\n\r\nfrom pydantic import BaseModel, computed_field\r\n\r\n\r\nclass Foo(BaseModel, ABC):\r\n    @property\r\n    @abstractmethod\r\n    def readonly_field(self) -> str:\r\n        pass\r\n\r\n\r\nclass Bar(Foo):\r\n    @computed_field\r\n    @property\r\n    def readonly_field(self) -> str:\r\n        return 'test'\r\n\r\n\r\nprint(Bar().model_dump_json())\r\n#> {\"readonly_field\":\"test\"}\r\n```\r\n\r\nRegarding:\r\n\r\n> Flexible implementation in subclasses (can be a simple attribute, property, or computed field)\r\n\r\nSeems like such flexibility isn't really possible. From a typing perspective, you also won't be able to do so as well (e.g. if `readonly_field` is defined as an abstract property it can't be defined as a `ClassVar` attribute in subclasses and vice-versa).",
          "![image](https://github.com/user-attachments/assets/51ef9c23-2714-4901-a8b2-d53005f42430)\r\n",
          "I was going to recreate a PR properly (since I didn't fully follow the contribution guide in #10159) to update the docs but, again, don't you find the breaking change strange? I don't want to be a bother but how do we conceptually justify this:\r\n\r\n---\r\n\r\nIn Pydantic V1, string constraints were applied in this order ([source](https://github.com/pydantic/pydantic/blob/v1.10.17/pydantic/types.py#L426-L431)):\r\n\r\n```\r\nstrict\r\nstrip_whitespace\r\nupper\r\nlower\r\nmin_length\r\nmax_length\r\nregex\r\n```\r\n\r\nIn Pydantic V2, string constraints are applied in this order ([source](https://github.com/pydantic/pydantic-core/blob/v2.23.0/src/validators/string.rs#L75-L147)):\r\n\r\n```\r\nstrict\r\nstrip_whitespace\r\nmin_length\r\nmax_length\r\npattern (replaced \"regex\")\r\nlower\r\nupper\r\n```\r\n---\r\n\r\nEspecially, `strip_whitespace` is executed before `pattern`, meaning text transformation is conceptually accepted to be applied before the pattern, except for `lower` and `upper`, for some reason?",
          "Hey folks - this is pretty low priority for us (see continuous bumping, above). Going to remove from this milestone. PRs welcome from contributors!"
         ],
         "type": "bar",
         "width": 259200000,
         "x": [
          "2023-08-08T19:04:05+00:00",
          "2023-08-28T06:06:13+00:00",
          "2023-08-28T06:16:57+00:00",
          "2023-11-01T23:03:29+00:00",
          "2024-03-10T14:45:33+00:00",
          "2024-06-17T15:38:24+00:00",
          "2024-07-18T14:52:37+00:00",
          "2024-08-01T20:05:38+00:00",
          "2024-08-23T10:57:43+00:00",
          "2024-10-04T13:49:40+00:00"
         ],
         "y": [
          0,
          0,
          0,
          0,
          1,
          1,
          0,
          1,
          1,
          1
         ]
        }
       ],
       "layout": {
        "height": 300,
        "hoverlabel": {
         "align": "left",
         "bgcolor": "white",
         "font": {
          "size": 12
         }
        },
        "paper_bgcolor": "white",
        "plot_bgcolor": "white",
        "showlegend": false,
        "template": {
         "data": {
          "bar": [
           {
            "error_x": {
             "color": "#2a3f5f"
            },
            "error_y": {
             "color": "#2a3f5f"
            },
            "marker": {
             "line": {
              "color": "#E5ECF6",
              "width": 0.5
             },
             "pattern": {
              "fillmode": "overlay",
              "size": 10,
              "solidity": 0.2
             }
            },
            "type": "bar"
           }
          ],
          "barpolar": [
           {
            "marker": {
             "line": {
              "color": "#E5ECF6",
              "width": 0.5
             },
             "pattern": {
              "fillmode": "overlay",
              "size": 10,
              "solidity": 0.2
             }
            },
            "type": "barpolar"
           }
          ],
          "carpet": [
           {
            "aaxis": {
             "endlinecolor": "#2a3f5f",
             "gridcolor": "white",
             "linecolor": "white",
             "minorgridcolor": "white",
             "startlinecolor": "#2a3f5f"
            },
            "baxis": {
             "endlinecolor": "#2a3f5f",
             "gridcolor": "white",
             "linecolor": "white",
             "minorgridcolor": "white",
             "startlinecolor": "#2a3f5f"
            },
            "type": "carpet"
           }
          ],
          "choropleth": [
           {
            "colorbar": {
             "outlinewidth": 0,
             "ticks": ""
            },
            "type": "choropleth"
           }
          ],
          "contour": [
           {
            "colorbar": {
             "outlinewidth": 0,
             "ticks": ""
            },
            "colorscale": [
             [
              0,
              "#0d0887"
             ],
             [
              0.1111111111111111,
              "#46039f"
             ],
             [
              0.2222222222222222,
              "#7201a8"
             ],
             [
              0.3333333333333333,
              "#9c179e"
             ],
             [
              0.4444444444444444,
              "#bd3786"
             ],
             [
              0.5555555555555556,
              "#d8576b"
             ],
             [
              0.6666666666666666,
              "#ed7953"
             ],
             [
              0.7777777777777778,
              "#fb9f3a"
             ],
             [
              0.8888888888888888,
              "#fdca26"
             ],
             [
              1,
              "#f0f921"
             ]
            ],
            "type": "contour"
           }
          ],
          "contourcarpet": [
           {
            "colorbar": {
             "outlinewidth": 0,
             "ticks": ""
            },
            "type": "contourcarpet"
           }
          ],
          "heatmap": [
           {
            "colorbar": {
             "outlinewidth": 0,
             "ticks": ""
            },
            "colorscale": [
             [
              0,
              "#0d0887"
             ],
             [
              0.1111111111111111,
              "#46039f"
             ],
             [
              0.2222222222222222,
              "#7201a8"
             ],
             [
              0.3333333333333333,
              "#9c179e"
             ],
             [
              0.4444444444444444,
              "#bd3786"
             ],
             [
              0.5555555555555556,
              "#d8576b"
             ],
             [
              0.6666666666666666,
              "#ed7953"
             ],
             [
              0.7777777777777778,
              "#fb9f3a"
             ],
             [
              0.8888888888888888,
              "#fdca26"
             ],
             [
              1,
              "#f0f921"
             ]
            ],
            "type": "heatmap"
           }
          ],
          "heatmapgl": [
           {
            "colorbar": {
             "outlinewidth": 0,
             "ticks": ""
            },
            "colorscale": [
             [
              0,
              "#0d0887"
             ],
             [
              0.1111111111111111,
              "#46039f"
             ],
             [
              0.2222222222222222,
              "#7201a8"
             ],
             [
              0.3333333333333333,
              "#9c179e"
             ],
             [
              0.4444444444444444,
              "#bd3786"
             ],
             [
              0.5555555555555556,
              "#d8576b"
             ],
             [
              0.6666666666666666,
              "#ed7953"
             ],
             [
              0.7777777777777778,
              "#fb9f3a"
             ],
             [
              0.8888888888888888,
              "#fdca26"
             ],
             [
              1,
              "#f0f921"
             ]
            ],
            "type": "heatmapgl"
           }
          ],
          "histogram": [
           {
            "marker": {
             "pattern": {
              "fillmode": "overlay",
              "size": 10,
              "solidity": 0.2
             }
            },
            "type": "histogram"
           }
          ],
          "histogram2d": [
           {
            "colorbar": {
             "outlinewidth": 0,
             "ticks": ""
            },
            "colorscale": [
             [
              0,
              "#0d0887"
             ],
             [
              0.1111111111111111,
              "#46039f"
             ],
             [
              0.2222222222222222,
              "#7201a8"
             ],
             [
              0.3333333333333333,
              "#9c179e"
             ],
             [
              0.4444444444444444,
              "#bd3786"
             ],
             [
              0.5555555555555556,
              "#d8576b"
             ],
             [
              0.6666666666666666,
              "#ed7953"
             ],
             [
              0.7777777777777778,
              "#fb9f3a"
             ],
             [
              0.8888888888888888,
              "#fdca26"
             ],
             [
              1,
              "#f0f921"
             ]
            ],
            "type": "histogram2d"
           }
          ],
          "histogram2dcontour": [
           {
            "colorbar": {
             "outlinewidth": 0,
             "ticks": ""
            },
            "colorscale": [
             [
              0,
              "#0d0887"
             ],
             [
              0.1111111111111111,
              "#46039f"
             ],
             [
              0.2222222222222222,
              "#7201a8"
             ],
             [
              0.3333333333333333,
              "#9c179e"
             ],
             [
              0.4444444444444444,
              "#bd3786"
             ],
             [
              0.5555555555555556,
              "#d8576b"
             ],
             [
              0.6666666666666666,
              "#ed7953"
             ],
             [
              0.7777777777777778,
              "#fb9f3a"
             ],
             [
              0.8888888888888888,
              "#fdca26"
             ],
             [
              1,
              "#f0f921"
             ]
            ],
            "type": "histogram2dcontour"
           }
          ],
          "mesh3d": [
           {
            "colorbar": {
             "outlinewidth": 0,
             "ticks": ""
            },
            "type": "mesh3d"
           }
          ],
          "parcoords": [
           {
            "line": {
             "colorbar": {
              "outlinewidth": 0,
              "ticks": ""
             }
            },
            "type": "parcoords"
           }
          ],
          "pie": [
           {
            "automargin": true,
            "type": "pie"
           }
          ],
          "scatter": [
           {
            "fillpattern": {
             "fillmode": "overlay",
             "size": 10,
             "solidity": 0.2
            },
            "type": "scatter"
           }
          ],
          "scatter3d": [
           {
            "line": {
             "colorbar": {
              "outlinewidth": 0,
              "ticks": ""
             }
            },
            "marker": {
             "colorbar": {
              "outlinewidth": 0,
              "ticks": ""
             }
            },
            "type": "scatter3d"
           }
          ],
          "scattercarpet": [
           {
            "marker": {
             "colorbar": {
              "outlinewidth": 0,
              "ticks": ""
             }
            },
            "type": "scattercarpet"
           }
          ],
          "scattergeo": [
           {
            "marker": {
             "colorbar": {
              "outlinewidth": 0,
              "ticks": ""
             }
            },
            "type": "scattergeo"
           }
          ],
          "scattergl": [
           {
            "marker": {
             "colorbar": {
              "outlinewidth": 0,
              "ticks": ""
             }
            },
            "type": "scattergl"
           }
          ],
          "scattermapbox": [
           {
            "marker": {
             "colorbar": {
              "outlinewidth": 0,
              "ticks": ""
             }
            },
            "type": "scattermapbox"
           }
          ],
          "scatterpolar": [
           {
            "marker": {
             "colorbar": {
              "outlinewidth": 0,
              "ticks": ""
             }
            },
            "type": "scatterpolar"
           }
          ],
          "scatterpolargl": [
           {
            "marker": {
             "colorbar": {
              "outlinewidth": 0,
              "ticks": ""
             }
            },
            "type": "scatterpolargl"
           }
          ],
          "scatterternary": [
           {
            "marker": {
             "colorbar": {
              "outlinewidth": 0,
              "ticks": ""
             }
            },
            "type": "scatterternary"
           }
          ],
          "surface": [
           {
            "colorbar": {
             "outlinewidth": 0,
             "ticks": ""
            },
            "colorscale": [
             [
              0,
              "#0d0887"
             ],
             [
              0.1111111111111111,
              "#46039f"
             ],
             [
              0.2222222222222222,
              "#7201a8"
             ],
             [
              0.3333333333333333,
              "#9c179e"
             ],
             [
              0.4444444444444444,
              "#bd3786"
             ],
             [
              0.5555555555555556,
              "#d8576b"
             ],
             [
              0.6666666666666666,
              "#ed7953"
             ],
             [
              0.7777777777777778,
              "#fb9f3a"
             ],
             [
              0.8888888888888888,
              "#fdca26"
             ],
             [
              1,
              "#f0f921"
             ]
            ],
            "type": "surface"
           }
          ],
          "table": [
           {
            "cells": {
             "fill": {
              "color": "#EBF0F8"
             },
             "line": {
              "color": "white"
             }
            },
            "header": {
             "fill": {
              "color": "#C8D4E3"
             },
             "line": {
              "color": "white"
             }
            },
            "type": "table"
           }
          ]
         },
         "layout": {
          "annotationdefaults": {
           "arrowcolor": "#2a3f5f",
           "arrowhead": 0,
           "arrowwidth": 1
          },
          "autotypenumbers": "strict",
          "coloraxis": {
           "colorbar": {
            "outlinewidth": 0,
            "ticks": ""
           }
          },
          "colorscale": {
           "diverging": [
            [
             0,
             "#8e0152"
            ],
            [
             0.1,
             "#c51b7d"
            ],
            [
             0.2,
             "#de77ae"
            ],
            [
             0.3,
             "#f1b6da"
            ],
            [
             0.4,
             "#fde0ef"
            ],
            [
             0.5,
             "#f7f7f7"
            ],
            [
             0.6,
             "#e6f5d0"
            ],
            [
             0.7,
             "#b8e186"
            ],
            [
             0.8,
             "#7fbc41"
            ],
            [
             0.9,
             "#4d9221"
            ],
            [
             1,
             "#276419"
            ]
           ],
           "sequential": [
            [
             0,
             "#0d0887"
            ],
            [
             0.1111111111111111,
             "#46039f"
            ],
            [
             0.2222222222222222,
             "#7201a8"
            ],
            [
             0.3333333333333333,
             "#9c179e"
            ],
            [
             0.4444444444444444,
             "#bd3786"
            ],
            [
             0.5555555555555556,
             "#d8576b"
            ],
            [
             0.6666666666666666,
             "#ed7953"
            ],
            [
             0.7777777777777778,
             "#fb9f3a"
            ],
            [
             0.8888888888888888,
             "#fdca26"
            ],
            [
             1,
             "#f0f921"
            ]
           ],
           "sequentialminus": [
            [
             0,
             "#0d0887"
            ],
            [
             0.1111111111111111,
             "#46039f"
            ],
            [
             0.2222222222222222,
             "#7201a8"
            ],
            [
             0.3333333333333333,
             "#9c179e"
            ],
            [
             0.4444444444444444,
             "#bd3786"
            ],
            [
             0.5555555555555556,
             "#d8576b"
            ],
            [
             0.6666666666666666,
             "#ed7953"
            ],
            [
             0.7777777777777778,
             "#fb9f3a"
            ],
            [
             0.8888888888888888,
             "#fdca26"
            ],
            [
             1,
             "#f0f921"
            ]
           ]
          },
          "colorway": [
           "#636efa",
           "#EF553B",
           "#00cc96",
           "#ab63fa",
           "#FFA15A",
           "#19d3f3",
           "#FF6692",
           "#B6E880",
           "#FF97FF",
           "#FECB52"
          ],
          "font": {
           "color": "#2a3f5f"
          },
          "geo": {
           "bgcolor": "white",
           "lakecolor": "white",
           "landcolor": "#E5ECF6",
           "showlakes": true,
           "showland": true,
           "subunitcolor": "white"
          },
          "hoverlabel": {
           "align": "left"
          },
          "hovermode": "closest",
          "mapbox": {
           "style": "light"
          },
          "paper_bgcolor": "white",
          "plot_bgcolor": "#E5ECF6",
          "polar": {
           "angularaxis": {
            "gridcolor": "white",
            "linecolor": "white",
            "ticks": ""
           },
           "bgcolor": "#E5ECF6",
           "radialaxis": {
            "gridcolor": "white",
            "linecolor": "white",
            "ticks": ""
           }
          },
          "scene": {
           "xaxis": {
            "backgroundcolor": "#E5ECF6",
            "gridcolor": "white",
            "gridwidth": 2,
            "linecolor": "white",
            "showbackground": true,
            "ticks": "",
            "zerolinecolor": "white"
           },
           "yaxis": {
            "backgroundcolor": "#E5ECF6",
            "gridcolor": "white",
            "gridwidth": 2,
            "linecolor": "white",
            "showbackground": true,
            "ticks": "",
            "zerolinecolor": "white"
           },
           "zaxis": {
            "backgroundcolor": "#E5ECF6",
            "gridcolor": "white",
            "gridwidth": 2,
            "linecolor": "white",
            "showbackground": true,
            "ticks": "",
            "zerolinecolor": "white"
           }
          },
          "shapedefaults": {
           "line": {
            "color": "#2a3f5f"
           }
          },
          "ternary": {
           "aaxis": {
            "gridcolor": "white",
            "linecolor": "white",
            "ticks": ""
           },
           "baxis": {
            "gridcolor": "white",
            "linecolor": "white",
            "ticks": ""
           },
           "bgcolor": "#E5ECF6",
           "caxis": {
            "gridcolor": "white",
            "linecolor": "white",
            "ticks": ""
           }
          },
          "title": {
           "x": 0.05
          },
          "xaxis": {
           "automargin": true,
           "gridcolor": "white",
           "linecolor": "white",
           "ticks": "",
           "title": {
            "standoff": 15
           },
           "zerolinecolor": "white",
           "zerolinewidth": 2
          },
          "yaxis": {
           "automargin": true,
           "gridcolor": "white",
           "linecolor": "white",
           "ticks": "",
           "title": {
            "standoff": 15
           },
           "zerolinecolor": "white",
           "zerolinewidth": 2
          }
         }
        },
        "title": {
         "text": "Confused Reactions Over Time"
        },
        "width": 1500,
        "xaxis": {
         "title": {
          "text": "Time"
         }
        },
        "yaxis": {
         "title": {
          "text": "Number of Confused Reactions"
         }
        }
       }
      }
     },
     "metadata": {},
     "output_type": "display_data"
    },
    {
     "data": {
      "application/vnd.plotly.v1+json": {
       "config": {
        "plotlyServerURL": "https://plot.ly"
       },
       "data": [
        {
         "hovertemplate": "<b>Date</b>: %{x}<br><b>Number of Negative Reactions</b>: %{y}<br><b>Comment</b>: %{text}<br><extra></extra>",
         "marker": {
          "color": "black"
         },
         "text": [
          "Hey @samsja,\r\n\r\nOne workaround would be to have your custom `NdArray` type like this:\r\n\r\n```py\r\nfrom typing_extensions import Annotated\r\n\r\nimport numpy as np\r\nfrom pydantic import BaseModel, BeforeValidator, ConfigDict, PlainSerializer\r\n\r\n\r\narr = np.array(\r\n    [\r\n        [1, 5, 6],\r\n        [4, 7, 2],\r\n        [3, 1, 9]\r\n    ]\r\n)\r\n\r\ndef nd_array_custom_before_validator(x):\r\n    # custome before validation logic\r\n    return x\r\n\r\n\r\ndef nd_array_custom_serializer(x):\r\n    # custome serialization logic\r\n    return str(x)\r\n\r\nNdArray = Annotated[\r\n    np.ndarray,\r\n    BeforeValidator(nd_array_custom_before_validator),\r\n    PlainSerializer(nd_array_custom_serializer, return_type=str),\r\n]\r\n\r\nclass Model(BaseModel):\r\n    x: NdArray\r\n\r\n    model_config = ConfigDict(arbitrary_types_allowed=True)\r\n\r\n\r\nm = Model(x=arr)\r\nprint(m.model_dump())\r\n\r\n```\r\n\r\nYou may find more useful information in [Serialization doc](https://docs.pydantic.dev/2.1/usage/serialization/#custom-serializers)",
          "Python 3.11.4 (main, Jul 25 2023, 17:36:13) [Clang 14.0.3 (clang-1403.0.22.14.1)] on darwin\r\nTypeError: `Fields of type \"<class 'main.RespList'>\" are not supported.`\r\n\r\nI am using FastAPI to write an api and need to return this general data structure. Unlike the above, I currently have no inheritance behavior, so it seems that generic types are not supported?\r\n\r\nI use the generic type as the return type to display a more complete data structure in the OpenAPI UI\r\n- `main.py` file\r\n```python\r\nfrom dataclasses import dataclass\r\nfrom typing import Generic, TypeVar\r\n\r\nfrom fastapi import FastAPI\r\n\r\n\r\napp = FastAPI()\r\napp.debug = True\r\nT = TypeVar(\"T\")\r\n\r\n\r\n@dataclass\r\nclass UserData:\r\n    id: int\r\n    name: str\r\n    age: int\r\n    avatar: str\r\n\r\n\r\n@dataclass\r\nclass BookData:\r\n    id: int\r\n    name: str\r\n    use: int\r\n\r\n\r\n@dataclass\r\nclass RespList(Generic[T]):\r\n    code: int\r\n    data: list[T]\r\n\r\n\r\n@app.get(\"/api/getUser\")\r\ndef index():\r\n    return RespList[UserData](\r\n        code=200,\r\n        data=[\r\n            UserData(\r\n                id=i,\r\n                name=f\"test_{i}\",\r\n                age=i,\r\n                avatar=f\"https://avatars.dicebear.com/v2/avataaars/{i}.svg\",\r\n            ).__dict__\r\n            for i in range(10)\r\n        ],\r\n    )\r\n\r\n\r\n# run it> uvicorn main:app --reload\r\n\r\n```\r\n\r\nBelow is the traceback\r\n-- when i use `RespList[UserData]` \r\n\r\n```bash\r\n➜ ~ uvicorn main:app --reload\r\nINFO:     Will watch for changes in these directories: ['/Users/alan/me/recatpy_']\r\nINFO:     Uvicorn running on http://127.0.0.1:8000 (Press CTRL+C to quit)\r\nINFO:     Started reloader process [43575] using WatchFiles\r\nProcess SpawnProcess-1:\r\nTraceback (most recent call last):\r\n  File \"/opt/homebrew/Cellar/python@3.11/3.11.4_1/Frameworks/Python.framework/Versions/3.11/lib/python3.11/multiprocessing/process.py\", line 314, in _bootstrap\r\n    self.run()\r\n  File \"/opt/homebrew/Cellar/python@3.11/3.11.4_1/Frameworks/Python.framework/Versions/3.11/lib/python3.11/multiprocessing/process.py\", line 108, in run\r\n    self._target(*self._args, **self._kwargs)\r\n  File \"/opt/homebrew/lib/python3.11/site-packages/uvicorn/_subprocess.py\", line 76, in subprocess_started\r\n    target(sockets=sockets)\r\n  File \"/opt/homebrew/lib/python3.11/site-packages/uvicorn/server.py\", line 61, in run\r\n    return asyncio.run(self.serve(sockets=sockets))\r\n           ^^^^^^^^^^^^^^^^^^^^^^^^^^^^^^^^^^^^^^^^\r\n  File \"/opt/homebrew/Cellar/python@3.11/3.11.4_1/Frameworks/Python.framework/Versions/3.11/lib/python3.11/asyncio/runners.py\", line 190, in run\r\n    return runner.run(main)\r\n           ^^^^^^^^^^^^^^^^\r\n  File \"/opt/homebrew/Cellar/python@3.11/3.11.4_1/Frameworks/Python.framework/Versions/3.11/lib/python3.11/asyncio/runners.py\", line 118, in run\r\n    return self._loop.run_until_complete(task)\r\n           ^^^^^^^^^^^^^^^^^^^^^^^^^^^^^^^^^^^\r\n  File \"uvloop/loop.pyx\", line 1517, in uvloop.loop.Loop.run_until_complete\r\n  File \"/opt/homebrew/lib/python3.11/site-packages/uvicorn/server.py\", line 68, in serve\r\n    config.load()\r\n  File \"/opt/homebrew/lib/python3.11/site-packages/uvicorn/config.py\", line 467, in load\r\n    self.loaded_app = import_from_string(self.app)\r\n                      ^^^^^^^^^^^^^^^^^^^^^^^^^^^^\r\n  File \"/opt/homebrew/lib/python3.11/site-packages/uvicorn/importer.py\", line 21, in import_from_string\r\n    module = importlib.import_module(module_str)\r\n             ^^^^^^^^^^^^^^^^^^^^^^^^^^^^^^^^^^^\r\n  File \"/opt/homebrew/Cellar/python@3.11/3.11.4_1/Frameworks/Python.framework/Versions/3.11/lib/python3.11/importlib/__init__.py\", line 126, in import_module\r\n    return _bootstrap._gcd_import(name[level:], package, level)\r\n           ^^^^^^^^^^^^^^^^^^^^^^^^^^^^^^^^^^^^^^^^^^^^^^^^^^^^\r\n  File \"<frozen importlib._bootstrap>\", line 1204, in _gcd_import\r\n  File \"<frozen importlib._bootstrap>\", line 1176, in _find_and_load\r\n  File \"<frozen importlib._bootstrap>\", line 1147, in _find_and_load_unlocked\r\n  File \"<frozen importlib._bootstrap>\", line 690, in _load_unlocked\r\n  File \"<frozen importlib._bootstrap_external>\", line 940, in exec_module\r\n  File \"<frozen importlib._bootstrap>\", line 241, in _call_with_frames_removed\r\n  File \"/Users/alan/me/recatpy_/main.py\", line 33, in <module>\r\n    @app.get(\"/api/getUser\")\r\n     ^^^^^^^^^^^^^^^^^^^^^^^\r\n  File \"/opt/homebrew/lib/python3.11/site-packages/fastapi/routing.py\", line 704, in decorator\r\n    self.add_api_route(\r\n  File \"/opt/homebrew/lib/python3.11/site-packages/fastapi/routing.py\", line 643, in add_api_route\r\n    route = route_class(\r\n            ^^^^^^^^^^^^\r\n  File \"/opt/homebrew/lib/python3.11/site-packages/fastapi/routing.py\", line 448, in __init__\r\n    self.response_field = create_response_field(\r\n                          ^^^^^^^^^^^^^^^^^^^^^^\r\n  File \"/opt/homebrew/lib/python3.11/site-packages/fastapi/utils.py\", line 99, in create_response_field\r\n    return ModelField(**kwargs)  # type: ignore[arg-type]\r\n           ^^^^^^^^^^^^^^^^^^^^\r\n  File \"pydantic/fields.py\", line 436, in pydantic.fields.ModelField.__init__\r\n  File \"pydantic/fields.py\", line 552, in pydantic.fields.ModelField.prepare\r\n  File \"pydantic/fields.py\", line 755, in pydantic.fields.ModelField._type_analysis\r\nTypeError: Fields of type \"<class 'main.RespList'>\" are not supported.\r\n\r\n```\r\n`dict[str, int | list[dict[str, int | str]]]` or `dict[str, int | list[UserData]]`\r\n```python\r\n@app.get(\"/api/getUser\")\r\ndef index() -> dict[str, int | list[dict[str, int | str]]]:\r\n    return dict(\r\n        code=200,\r\n        data=[\r\n            dict(\r\n                id=i,\r\n                name=f\"test_{i}\",\r\n                age=i,\r\n                avatar=f\"https://avatars.dicebear.com/v2/avataaars/{i}.svg\",\r\n            )\r\n            for i in range(10)\r\n        ],\r\n    )\r\n```\r\n\r\n\r\n![image](https://github.com/pydantic/pydantic/assets/60773912/b3bdfbfa-cdc7-4ffa-9db7-681f0151781d)\r\n![image](https://github.com/pydantic/pydantic/assets/60773912/7f4bff56-8714-435d-bb00-cbfa2e8e14b8)\r\n\r\nI can redeclare the class structure, but it's too much trouble.",
          "> Python 3.11.4 (main, Jul 25 2023, 17:36:13) [Clang 14.0.3 (clang-1403.0.22.14.1)] on darwin TypeError: `Fields of type \"<class 'main.RespList'>\" are not supported.`\r\n> \r\n> I am using FastAPI to write an api and need to return this general data structure. Unlike the above, I currently have no inheritance behavior, so it seems that generic types are not supported?\r\n> \r\n> I use the generic type as the return type to display a more complete data structure in the OpenAPI UI\r\n> \r\n> * `main.py` file\r\n> \r\n> ```python\r\n> from dataclasses import dataclass\r\n> from typing import Generic, TypeVar\r\n> \r\n> from fastapi import FastAPI\r\n> \r\n> \r\n> app = FastAPI()\r\n> app.debug = True\r\n> T = TypeVar(\"T\")\r\n> \r\n> \r\n> @dataclass\r\n> class UserData:\r\n>     id: int\r\n>     name: str\r\n>     age: int\r\n>     avatar: str\r\n> \r\n> \r\n> @dataclass\r\n> class BookData:\r\n>     id: int\r\n>     name: str\r\n>     use: int\r\n> \r\n> \r\n> @dataclass\r\n> class RespList(Generic[T]):\r\n>     code: int\r\n>     data: list[T]\r\n> \r\n> \r\n> @app.get(\"/api/getUser\")\r\n> def index():\r\n>     return RespList[UserData](\r\n>         code=200,\r\n>         data=[\r\n>             UserData(\r\n>                 id=i,\r\n>                 name=f\"test_{i}\",\r\n>                 age=i,\r\n>                 avatar=f\"https://avatars.dicebear.com/v2/avataaars/{i}.svg\",\r\n>             ).__dict__\r\n>             for i in range(10)\r\n>         ],\r\n>     )\r\n> \r\n> \r\n> # run it> uvicorn main:app --reload\r\n> ```\r\n> \r\n> Below is the traceback -- when i use `RespList[UserData]`\r\n> \r\n> ```shell\r\n> ➜ ~ uvicorn main:app --reload\r\n> INFO:     Will watch for changes in these directories: ['/Users/alan/me/recatpy_']\r\n> INFO:     Uvicorn running on http://127.0.0.1:8000 (Press CTRL+C to quit)\r\n> INFO:     Started reloader process [43575] using WatchFiles\r\n> Process SpawnProcess-1:\r\n> Traceback (most recent call last):\r\n>   File \"/opt/homebrew/Cellar/python@3.11/3.11.4_1/Frameworks/Python.framework/Versions/3.11/lib/python3.11/multiprocessing/process.py\", line 314, in _bootstrap\r\n>     self.run()\r\n>   File \"/opt/homebrew/Cellar/python@3.11/3.11.4_1/Frameworks/Python.framework/Versions/3.11/lib/python3.11/multiprocessing/process.py\", line 108, in run\r\n>     self._target(*self._args, **self._kwargs)\r\n>   File \"/opt/homebrew/lib/python3.11/site-packages/uvicorn/_subprocess.py\", line 76, in subprocess_started\r\n>     target(sockets=sockets)\r\n>   File \"/opt/homebrew/lib/python3.11/site-packages/uvicorn/server.py\", line 61, in run\r\n>     return asyncio.run(self.serve(sockets=sockets))\r\n>            ^^^^^^^^^^^^^^^^^^^^^^^^^^^^^^^^^^^^^^^^\r\n>   File \"/opt/homebrew/Cellar/python@3.11/3.11.4_1/Frameworks/Python.framework/Versions/3.11/lib/python3.11/asyncio/runners.py\", line 190, in run\r\n>     return runner.run(main)\r\n>            ^^^^^^^^^^^^^^^^\r\n>   File \"/opt/homebrew/Cellar/python@3.11/3.11.4_1/Frameworks/Python.framework/Versions/3.11/lib/python3.11/asyncio/runners.py\", line 118, in run\r\n>     return self._loop.run_until_complete(task)\r\n>            ^^^^^^^^^^^^^^^^^^^^^^^^^^^^^^^^^^^\r\n>   File \"uvloop/loop.pyx\", line 1517, in uvloop.loop.Loop.run_until_complete\r\n>   File \"/opt/homebrew/lib/python3.11/site-packages/uvicorn/server.py\", line 68, in serve\r\n>     config.load()\r\n>   File \"/opt/homebrew/lib/python3.11/site-packages/uvicorn/config.py\", line 467, in load\r\n>     self.loaded_app = import_from_string(self.app)\r\n>                       ^^^^^^^^^^^^^^^^^^^^^^^^^^^^\r\n>   File \"/opt/homebrew/lib/python3.11/site-packages/uvicorn/importer.py\", line 21, in import_from_string\r\n>     module = importlib.import_module(module_str)\r\n>              ^^^^^^^^^^^^^^^^^^^^^^^^^^^^^^^^^^^\r\n>   File \"/opt/homebrew/Cellar/python@3.11/3.11.4_1/Frameworks/Python.framework/Versions/3.11/lib/python3.11/importlib/__init__.py\", line 126, in import_module\r\n>     return _bootstrap._gcd_import(name[level:], package, level)\r\n>            ^^^^^^^^^^^^^^^^^^^^^^^^^^^^^^^^^^^^^^^^^^^^^^^^^^^^\r\n>   File \"<frozen importlib._bootstrap>\", line 1204, in _gcd_import\r\n>   File \"<frozen importlib._bootstrap>\", line 1176, in _find_and_load\r\n>   File \"<frozen importlib._bootstrap>\", line 1147, in _find_and_load_unlocked\r\n>   File \"<frozen importlib._bootstrap>\", line 690, in _load_unlocked\r\n>   File \"<frozen importlib._bootstrap_external>\", line 940, in exec_module\r\n>   File \"<frozen importlib._bootstrap>\", line 241, in _call_with_frames_removed\r\n>   File \"/Users/alan/me/recatpy_/main.py\", line 33, in <module>\r\n>     @app.get(\"/api/getUser\")\r\n>      ^^^^^^^^^^^^^^^^^^^^^^^\r\n>   File \"/opt/homebrew/lib/python3.11/site-packages/fastapi/routing.py\", line 704, in decorator\r\n>     self.add_api_route(\r\n>   File \"/opt/homebrew/lib/python3.11/site-packages/fastapi/routing.py\", line 643, in add_api_route\r\n>     route = route_class(\r\n>             ^^^^^^^^^^^^\r\n>   File \"/opt/homebrew/lib/python3.11/site-packages/fastapi/routing.py\", line 448, in __init__\r\n>     self.response_field = create_response_field(\r\n>                           ^^^^^^^^^^^^^^^^^^^^^^\r\n>   File \"/opt/homebrew/lib/python3.11/site-packages/fastapi/utils.py\", line 99, in create_response_field\r\n>     return ModelField(**kwargs)  # type: ignore[arg-type]\r\n>            ^^^^^^^^^^^^^^^^^^^^\r\n>   File \"pydantic/fields.py\", line 436, in pydantic.fields.ModelField.__init__\r\n>   File \"pydantic/fields.py\", line 552, in pydantic.fields.ModelField.prepare\r\n>   File \"pydantic/fields.py\", line 755, in pydantic.fields.ModelField._type_analysis\r\n> TypeError: Fields of type \"<class 'main.RespList'>\" are not supported.\r\n> ```\r\n> \r\n> `dict[str, int | list[dict[str, int | str]]]` or `dict[str, int | list[UserData]]`\r\n> \r\n> ```python\r\n> @app.get(\"/api/getUser\")\r\n> def index() -> dict[str, int | list[dict[str, int | str]]]:\r\n>     return dict(\r\n>         code=200,\r\n>         data=[\r\n>             dict(\r\n>                 id=i,\r\n>                 name=f\"test_{i}\",\r\n>                 age=i,\r\n>                 avatar=f\"https://avatars.dicebear.com/v2/avataaars/{i}.svg\",\r\n>             )\r\n>             for i in range(10)\r\n>         ],\r\n>     )\r\n> ```\r\n> \r\n> ![image](https://user-images.githubusercontent.com/60773912/263601366-b3bdfbfa-cdc7-4ffa-9db7-681f0151781d.png) ![image](https://user-images.githubusercontent.com/60773912/263606056-7f4bff56-8714-435d-bb00-cbfa2e8e14b8.png)\r\n> \r\n> I can redeclare the class structure, but it's too much trouble.\r\n\r\n```\r\nName: pydantic\r\nVersion: 1.10.12\r\nSummary: Data validation and settings management using python type hints\r\nHome-page: https://github.com/pydantic/pydantic\r\nAuthor: Samuel Colvin\r\nAuthor-email: s@muelcolvin.com\r\nLicense: MIT\r\nLocation: /opt/homebrew/lib/python3.11/site-packages\r\nRequires: typing-extensions\r\nRequired-by: copier, fastapi, flet\r\n```\r\nWhen I write this question to end...\r\nAfter reading everyone's comments,I found the reason by trying, and finally used the latest version [`pydantic 2.3.0`](https://pypi.org/project/pydantic/)\r\nitself has been resolved 👍 \r\n![image](https://github.com/pydantic/pydantic/assets/60773912/9154c1ae-06a1-48c4-a987-3d9bb7a3b0d2)\r\n\r\n",
          "Hi,\r\n\r\nI am having the same issue on `2.4.2`. For now downgrading to `2.4.0` fixes the issue.",
          "It works but it is very slow for most of the use cases I have...",
          "Hello!\r\n\r\nWhile migrating one of our FastAPI apps from pydanticv1 to pydanticv2, I also noticed that this behavior differs between the two pydantic versions.\r\n\r\nWith pydanticv1:\r\n```python\r\n>>> pyenv virtualenv 3.9.5 pydanticv1\r\n>>> pyenv activate pydanticv1\r\n>>> pip install 'pydantic<2'\r\n>>> ipython\r\nIn [1]: from datetime import datetime, timezone\r\n\r\nIn [2]: from pydantic import BaseModel\r\n\r\nIn [3]: class Foo(BaseModel):\r\n   ...:     dt: datetime\r\n   ...:\r\n\r\nIn [4]: foo = Foo(dt=datetime.now(tz=timezone.utc))\r\n\r\nIn [5]: foo.json()\r\nOut[5]: '{\"dt\": \"2024-06-17T15:32:31.825334+00:00\"}'\r\n```\r\n\r\nWith pydanticv2:\r\n```python\r\n>>> pyenv virtualenv 3.9.5 pydanticv2\r\n>>> pyenv activate pydanticv2\r\n>>> pip install 'pydantic>=2'\r\n>>> ipython\r\nIn [1]: from datetime import datetime, timezone\r\n\r\nIn [2]: from pydantic import BaseModel\r\n\r\nIn [3]: class Foo(BaseModel):\r\n   ...:     dt: datetime\r\n   ...:\r\n\r\nIn [4]: foo = Foo(dt=datetime.now(tz=timezone.utc))\r\n\r\nIn [5]: foo.json()  # or foo.model_dump_json()\r\nOut[5]: '{\"dt\":\"2024-06-17T15:33:09.300525Z\"}'\r\n```",
          "I see two ways to do so:\r\n\r\n- Using `ClassVar`:\r\n\r\n```python\r\nfrom abc import ABC\r\nfrom typing import Any, Callable, ClassVar\r\n\r\nfrom pydantic_core.core_schema import SerializationInfo\r\nfrom typing_extensions import Self\r\n\r\nfrom pydantic import BaseModel, model_serializer\r\n\r\n\r\nclass Foo(BaseModel, ABC):\r\n    readonly_field: ClassVar[str]\r\n\r\n    @model_serializer(mode='wrap')\r\n    def serialize(self, handler: Callable[[Self], dict[str, Any]], info: SerializationInfo):\r\n        # If you want `readonly_field` to be included during serialization\r\n        data = handler(self)\r\n        data['readonly_field'] = self.readonly_field\r\n        return data\r\n\r\n\r\nclass Bar(Foo):\r\n    readonly_field = 'test'\r\n\r\n\r\nprint(Bar().model_dump_json())\r\n#> {\"readonly_field\":\"test\"}\r\n```\r\n\r\n- Using an abstract property (combined with `@computed_field`):\r\n\r\n```python\r\nfrom abc import ABC, abstractmethod\r\n\r\nfrom pydantic import BaseModel, computed_field\r\n\r\n\r\nclass Foo(BaseModel, ABC):\r\n    @property\r\n    @abstractmethod\r\n    def readonly_field(self) -> str:\r\n        pass\r\n\r\n\r\nclass Bar(Foo):\r\n    @computed_field\r\n    @property\r\n    def readonly_field(self) -> str:\r\n        return 'test'\r\n\r\n\r\nprint(Bar().model_dump_json())\r\n#> {\"readonly_field\":\"test\"}\r\n```\r\n\r\nRegarding:\r\n\r\n> Flexible implementation in subclasses (can be a simple attribute, property, or computed field)\r\n\r\nSeems like such flexibility isn't really possible. From a typing perspective, you also won't be able to do so as well (e.g. if `readonly_field` is defined as an abstract property it can't be defined as a `ClassVar` attribute in subclasses and vice-versa).",
          "![image](https://github.com/user-attachments/assets/51ef9c23-2714-4901-a8b2-d53005f42430)\r\n",
          "I was going to recreate a PR properly (since I didn't fully follow the contribution guide in #10159) to update the docs but, again, don't you find the breaking change strange? I don't want to be a bother but how do we conceptually justify this:\r\n\r\n---\r\n\r\nIn Pydantic V1, string constraints were applied in this order ([source](https://github.com/pydantic/pydantic/blob/v1.10.17/pydantic/types.py#L426-L431)):\r\n\r\n```\r\nstrict\r\nstrip_whitespace\r\nupper\r\nlower\r\nmin_length\r\nmax_length\r\nregex\r\n```\r\n\r\nIn Pydantic V2, string constraints are applied in this order ([source](https://github.com/pydantic/pydantic-core/blob/v2.23.0/src/validators/string.rs#L75-L147)):\r\n\r\n```\r\nstrict\r\nstrip_whitespace\r\nmin_length\r\nmax_length\r\npattern (replaced \"regex\")\r\nlower\r\nupper\r\n```\r\n---\r\n\r\nEspecially, `strip_whitespace` is executed before `pattern`, meaning text transformation is conceptually accepted to be applied before the pattern, except for `lower` and `upper`, for some reason?",
          "Hey folks - this is pretty low priority for us (see continuous bumping, above). Going to remove from this milestone. PRs welcome from contributors!"
         ],
         "type": "bar",
         "width": 259200000,
         "x": [
          "2023-08-08T19:04:05+00:00",
          "2023-08-28T06:06:13+00:00",
          "2023-08-28T06:16:57+00:00",
          "2023-11-01T23:03:29+00:00",
          "2024-03-10T14:45:33+00:00",
          "2024-06-17T15:38:24+00:00",
          "2024-07-18T14:52:37+00:00",
          "2024-08-01T20:05:38+00:00",
          "2024-08-23T10:57:43+00:00",
          "2024-10-04T13:49:40+00:00"
         ],
         "y": [
          2,
          2,
          2,
          2,
          0,
          0,
          1,
          0,
          0,
          0
         ]
        }
       ],
       "layout": {
        "height": 300,
        "hoverlabel": {
         "align": "left",
         "bgcolor": "white",
         "font": {
          "size": 12
         }
        },
        "paper_bgcolor": "white",
        "plot_bgcolor": "white",
        "showlegend": false,
        "template": {
         "data": {
          "bar": [
           {
            "error_x": {
             "color": "#2a3f5f"
            },
            "error_y": {
             "color": "#2a3f5f"
            },
            "marker": {
             "line": {
              "color": "#E5ECF6",
              "width": 0.5
             },
             "pattern": {
              "fillmode": "overlay",
              "size": 10,
              "solidity": 0.2
             }
            },
            "type": "bar"
           }
          ],
          "barpolar": [
           {
            "marker": {
             "line": {
              "color": "#E5ECF6",
              "width": 0.5
             },
             "pattern": {
              "fillmode": "overlay",
              "size": 10,
              "solidity": 0.2
             }
            },
            "type": "barpolar"
           }
          ],
          "carpet": [
           {
            "aaxis": {
             "endlinecolor": "#2a3f5f",
             "gridcolor": "white",
             "linecolor": "white",
             "minorgridcolor": "white",
             "startlinecolor": "#2a3f5f"
            },
            "baxis": {
             "endlinecolor": "#2a3f5f",
             "gridcolor": "white",
             "linecolor": "white",
             "minorgridcolor": "white",
             "startlinecolor": "#2a3f5f"
            },
            "type": "carpet"
           }
          ],
          "choropleth": [
           {
            "colorbar": {
             "outlinewidth": 0,
             "ticks": ""
            },
            "type": "choropleth"
           }
          ],
          "contour": [
           {
            "colorbar": {
             "outlinewidth": 0,
             "ticks": ""
            },
            "colorscale": [
             [
              0,
              "#0d0887"
             ],
             [
              0.1111111111111111,
              "#46039f"
             ],
             [
              0.2222222222222222,
              "#7201a8"
             ],
             [
              0.3333333333333333,
              "#9c179e"
             ],
             [
              0.4444444444444444,
              "#bd3786"
             ],
             [
              0.5555555555555556,
              "#d8576b"
             ],
             [
              0.6666666666666666,
              "#ed7953"
             ],
             [
              0.7777777777777778,
              "#fb9f3a"
             ],
             [
              0.8888888888888888,
              "#fdca26"
             ],
             [
              1,
              "#f0f921"
             ]
            ],
            "type": "contour"
           }
          ],
          "contourcarpet": [
           {
            "colorbar": {
             "outlinewidth": 0,
             "ticks": ""
            },
            "type": "contourcarpet"
           }
          ],
          "heatmap": [
           {
            "colorbar": {
             "outlinewidth": 0,
             "ticks": ""
            },
            "colorscale": [
             [
              0,
              "#0d0887"
             ],
             [
              0.1111111111111111,
              "#46039f"
             ],
             [
              0.2222222222222222,
              "#7201a8"
             ],
             [
              0.3333333333333333,
              "#9c179e"
             ],
             [
              0.4444444444444444,
              "#bd3786"
             ],
             [
              0.5555555555555556,
              "#d8576b"
             ],
             [
              0.6666666666666666,
              "#ed7953"
             ],
             [
              0.7777777777777778,
              "#fb9f3a"
             ],
             [
              0.8888888888888888,
              "#fdca26"
             ],
             [
              1,
              "#f0f921"
             ]
            ],
            "type": "heatmap"
           }
          ],
          "heatmapgl": [
           {
            "colorbar": {
             "outlinewidth": 0,
             "ticks": ""
            },
            "colorscale": [
             [
              0,
              "#0d0887"
             ],
             [
              0.1111111111111111,
              "#46039f"
             ],
             [
              0.2222222222222222,
              "#7201a8"
             ],
             [
              0.3333333333333333,
              "#9c179e"
             ],
             [
              0.4444444444444444,
              "#bd3786"
             ],
             [
              0.5555555555555556,
              "#d8576b"
             ],
             [
              0.6666666666666666,
              "#ed7953"
             ],
             [
              0.7777777777777778,
              "#fb9f3a"
             ],
             [
              0.8888888888888888,
              "#fdca26"
             ],
             [
              1,
              "#f0f921"
             ]
            ],
            "type": "heatmapgl"
           }
          ],
          "histogram": [
           {
            "marker": {
             "pattern": {
              "fillmode": "overlay",
              "size": 10,
              "solidity": 0.2
             }
            },
            "type": "histogram"
           }
          ],
          "histogram2d": [
           {
            "colorbar": {
             "outlinewidth": 0,
             "ticks": ""
            },
            "colorscale": [
             [
              0,
              "#0d0887"
             ],
             [
              0.1111111111111111,
              "#46039f"
             ],
             [
              0.2222222222222222,
              "#7201a8"
             ],
             [
              0.3333333333333333,
              "#9c179e"
             ],
             [
              0.4444444444444444,
              "#bd3786"
             ],
             [
              0.5555555555555556,
              "#d8576b"
             ],
             [
              0.6666666666666666,
              "#ed7953"
             ],
             [
              0.7777777777777778,
              "#fb9f3a"
             ],
             [
              0.8888888888888888,
              "#fdca26"
             ],
             [
              1,
              "#f0f921"
             ]
            ],
            "type": "histogram2d"
           }
          ],
          "histogram2dcontour": [
           {
            "colorbar": {
             "outlinewidth": 0,
             "ticks": ""
            },
            "colorscale": [
             [
              0,
              "#0d0887"
             ],
             [
              0.1111111111111111,
              "#46039f"
             ],
             [
              0.2222222222222222,
              "#7201a8"
             ],
             [
              0.3333333333333333,
              "#9c179e"
             ],
             [
              0.4444444444444444,
              "#bd3786"
             ],
             [
              0.5555555555555556,
              "#d8576b"
             ],
             [
              0.6666666666666666,
              "#ed7953"
             ],
             [
              0.7777777777777778,
              "#fb9f3a"
             ],
             [
              0.8888888888888888,
              "#fdca26"
             ],
             [
              1,
              "#f0f921"
             ]
            ],
            "type": "histogram2dcontour"
           }
          ],
          "mesh3d": [
           {
            "colorbar": {
             "outlinewidth": 0,
             "ticks": ""
            },
            "type": "mesh3d"
           }
          ],
          "parcoords": [
           {
            "line": {
             "colorbar": {
              "outlinewidth": 0,
              "ticks": ""
             }
            },
            "type": "parcoords"
           }
          ],
          "pie": [
           {
            "automargin": true,
            "type": "pie"
           }
          ],
          "scatter": [
           {
            "fillpattern": {
             "fillmode": "overlay",
             "size": 10,
             "solidity": 0.2
            },
            "type": "scatter"
           }
          ],
          "scatter3d": [
           {
            "line": {
             "colorbar": {
              "outlinewidth": 0,
              "ticks": ""
             }
            },
            "marker": {
             "colorbar": {
              "outlinewidth": 0,
              "ticks": ""
             }
            },
            "type": "scatter3d"
           }
          ],
          "scattercarpet": [
           {
            "marker": {
             "colorbar": {
              "outlinewidth": 0,
              "ticks": ""
             }
            },
            "type": "scattercarpet"
           }
          ],
          "scattergeo": [
           {
            "marker": {
             "colorbar": {
              "outlinewidth": 0,
              "ticks": ""
             }
            },
            "type": "scattergeo"
           }
          ],
          "scattergl": [
           {
            "marker": {
             "colorbar": {
              "outlinewidth": 0,
              "ticks": ""
             }
            },
            "type": "scattergl"
           }
          ],
          "scattermapbox": [
           {
            "marker": {
             "colorbar": {
              "outlinewidth": 0,
              "ticks": ""
             }
            },
            "type": "scattermapbox"
           }
          ],
          "scatterpolar": [
           {
            "marker": {
             "colorbar": {
              "outlinewidth": 0,
              "ticks": ""
             }
            },
            "type": "scatterpolar"
           }
          ],
          "scatterpolargl": [
           {
            "marker": {
             "colorbar": {
              "outlinewidth": 0,
              "ticks": ""
             }
            },
            "type": "scatterpolargl"
           }
          ],
          "scatterternary": [
           {
            "marker": {
             "colorbar": {
              "outlinewidth": 0,
              "ticks": ""
             }
            },
            "type": "scatterternary"
           }
          ],
          "surface": [
           {
            "colorbar": {
             "outlinewidth": 0,
             "ticks": ""
            },
            "colorscale": [
             [
              0,
              "#0d0887"
             ],
             [
              0.1111111111111111,
              "#46039f"
             ],
             [
              0.2222222222222222,
              "#7201a8"
             ],
             [
              0.3333333333333333,
              "#9c179e"
             ],
             [
              0.4444444444444444,
              "#bd3786"
             ],
             [
              0.5555555555555556,
              "#d8576b"
             ],
             [
              0.6666666666666666,
              "#ed7953"
             ],
             [
              0.7777777777777778,
              "#fb9f3a"
             ],
             [
              0.8888888888888888,
              "#fdca26"
             ],
             [
              1,
              "#f0f921"
             ]
            ],
            "type": "surface"
           }
          ],
          "table": [
           {
            "cells": {
             "fill": {
              "color": "#EBF0F8"
             },
             "line": {
              "color": "white"
             }
            },
            "header": {
             "fill": {
              "color": "#C8D4E3"
             },
             "line": {
              "color": "white"
             }
            },
            "type": "table"
           }
          ]
         },
         "layout": {
          "annotationdefaults": {
           "arrowcolor": "#2a3f5f",
           "arrowhead": 0,
           "arrowwidth": 1
          },
          "autotypenumbers": "strict",
          "coloraxis": {
           "colorbar": {
            "outlinewidth": 0,
            "ticks": ""
           }
          },
          "colorscale": {
           "diverging": [
            [
             0,
             "#8e0152"
            ],
            [
             0.1,
             "#c51b7d"
            ],
            [
             0.2,
             "#de77ae"
            ],
            [
             0.3,
             "#f1b6da"
            ],
            [
             0.4,
             "#fde0ef"
            ],
            [
             0.5,
             "#f7f7f7"
            ],
            [
             0.6,
             "#e6f5d0"
            ],
            [
             0.7,
             "#b8e186"
            ],
            [
             0.8,
             "#7fbc41"
            ],
            [
             0.9,
             "#4d9221"
            ],
            [
             1,
             "#276419"
            ]
           ],
           "sequential": [
            [
             0,
             "#0d0887"
            ],
            [
             0.1111111111111111,
             "#46039f"
            ],
            [
             0.2222222222222222,
             "#7201a8"
            ],
            [
             0.3333333333333333,
             "#9c179e"
            ],
            [
             0.4444444444444444,
             "#bd3786"
            ],
            [
             0.5555555555555556,
             "#d8576b"
            ],
            [
             0.6666666666666666,
             "#ed7953"
            ],
            [
             0.7777777777777778,
             "#fb9f3a"
            ],
            [
             0.8888888888888888,
             "#fdca26"
            ],
            [
             1,
             "#f0f921"
            ]
           ],
           "sequentialminus": [
            [
             0,
             "#0d0887"
            ],
            [
             0.1111111111111111,
             "#46039f"
            ],
            [
             0.2222222222222222,
             "#7201a8"
            ],
            [
             0.3333333333333333,
             "#9c179e"
            ],
            [
             0.4444444444444444,
             "#bd3786"
            ],
            [
             0.5555555555555556,
             "#d8576b"
            ],
            [
             0.6666666666666666,
             "#ed7953"
            ],
            [
             0.7777777777777778,
             "#fb9f3a"
            ],
            [
             0.8888888888888888,
             "#fdca26"
            ],
            [
             1,
             "#f0f921"
            ]
           ]
          },
          "colorway": [
           "#636efa",
           "#EF553B",
           "#00cc96",
           "#ab63fa",
           "#FFA15A",
           "#19d3f3",
           "#FF6692",
           "#B6E880",
           "#FF97FF",
           "#FECB52"
          ],
          "font": {
           "color": "#2a3f5f"
          },
          "geo": {
           "bgcolor": "white",
           "lakecolor": "white",
           "landcolor": "#E5ECF6",
           "showlakes": true,
           "showland": true,
           "subunitcolor": "white"
          },
          "hoverlabel": {
           "align": "left"
          },
          "hovermode": "closest",
          "mapbox": {
           "style": "light"
          },
          "paper_bgcolor": "white",
          "plot_bgcolor": "#E5ECF6",
          "polar": {
           "angularaxis": {
            "gridcolor": "white",
            "linecolor": "white",
            "ticks": ""
           },
           "bgcolor": "#E5ECF6",
           "radialaxis": {
            "gridcolor": "white",
            "linecolor": "white",
            "ticks": ""
           }
          },
          "scene": {
           "xaxis": {
            "backgroundcolor": "#E5ECF6",
            "gridcolor": "white",
            "gridwidth": 2,
            "linecolor": "white",
            "showbackground": true,
            "ticks": "",
            "zerolinecolor": "white"
           },
           "yaxis": {
            "backgroundcolor": "#E5ECF6",
            "gridcolor": "white",
            "gridwidth": 2,
            "linecolor": "white",
            "showbackground": true,
            "ticks": "",
            "zerolinecolor": "white"
           },
           "zaxis": {
            "backgroundcolor": "#E5ECF6",
            "gridcolor": "white",
            "gridwidth": 2,
            "linecolor": "white",
            "showbackground": true,
            "ticks": "",
            "zerolinecolor": "white"
           }
          },
          "shapedefaults": {
           "line": {
            "color": "#2a3f5f"
           }
          },
          "ternary": {
           "aaxis": {
            "gridcolor": "white",
            "linecolor": "white",
            "ticks": ""
           },
           "baxis": {
            "gridcolor": "white",
            "linecolor": "white",
            "ticks": ""
           },
           "bgcolor": "#E5ECF6",
           "caxis": {
            "gridcolor": "white",
            "linecolor": "white",
            "ticks": ""
           }
          },
          "title": {
           "x": 0.05
          },
          "xaxis": {
           "automargin": true,
           "gridcolor": "white",
           "linecolor": "white",
           "ticks": "",
           "title": {
            "standoff": 15
           },
           "zerolinecolor": "white",
           "zerolinewidth": 2
          },
          "yaxis": {
           "automargin": true,
           "gridcolor": "white",
           "linecolor": "white",
           "ticks": "",
           "title": {
            "standoff": 15
           },
           "zerolinecolor": "white",
           "zerolinewidth": 2
          }
         }
        },
        "title": {
         "text": "Negative (-1) Reactions Over Time"
        },
        "width": 1500,
        "xaxis": {
         "title": {
          "text": "Time"
         }
        },
        "yaxis": {
         "title": {
          "text": "Number of Negative Reactions"
         }
        }
       }
      }
     },
     "metadata": {},
     "output_type": "display_data"
    }
   ],
   "source": [
    "\n",
    "# Filter for rows with confused or minus1 reactions\n",
    "filtered_df = df[(df['reactions_confused'] > 0) | (df['reactions_minus1'] > 0)]\n",
    "\n",
    "# Create and display plots\n",
    "fig_confused = create_reaction_plot(\n",
    "    filtered_df,\n",
    "    'reactions_confused',\n",
    "    'Confused Reactions Over Time',\n",
    "    'Number of Confused Reactions'\n",
    ")\n",
    "\n",
    "fig_minus1 = create_reaction_plot(\n",
    "    filtered_df, \n",
    "    'reactions_minus1',\n",
    "    'Negative (-1) Reactions Over Time',\n",
    "    'Number of Negative Reactions'\n",
    ")\n",
    "\n",
    "fig_confused.show()\n",
    "fig_minus1.show()\n"
   ]
  },
  {
   "attachments": {
    "image-2.png": {
     "image/png": "[encoded data removed]"
    },
    "image.png": {
     "image/png": "[encoded data removed]"
    }
   },
   "cell_type": "markdown",
   "metadata": {},
   "source": [
    "![image.png](attachment:image.png)\n",
    "![image-2.png](attachment:image-2.png)"
   ]
  }
 ],
 "metadata": {
  "kernelspec": {
   "display_name": ".venv",
   "language": "python",
   "name": "python3"
  },
  "language_info": {
   "codemirror_mode": {
    "name": "ipython",
    "version": 3
   },
   "file_extension": ".py",
   "mimetype": "text/x-python",
   "name": "python",
   "nbconvert_exporter": "python",
   "pygments_lexer": "ipython3",
   "version": "3.12.8"
  }
 },
 "nbformat": 4,
 "nbformat_minor": 2
}
