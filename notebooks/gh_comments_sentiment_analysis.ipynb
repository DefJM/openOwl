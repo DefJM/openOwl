{
 "cells": [
  {
   "cell_type": "markdown",
   "metadata": {},
   "source": [
    "# Github comments sentiment analysis\n",
    "\n",
    "- Option 1: Use [Detoxify model](https://github.com/unitaryai/detoxify)\n",
    "- Option 2: Use LLM (Claude 3.5 Haiku) to assess toxicity\n",
    "- Option 3: Use multi-step LLM assessment, i.e. first toxicity assessment, then sequentially review the toxicity and validate accross batch? "
   ]
  },
  {
   "cell_type": "code",
   "execution_count": 3,
   "metadata": {},
   "outputs": [
    {
     "data": {
      "text/plain": [
       "True"
      ]
     },
     "execution_count": 3,
     "metadata": {},
     "output_type": "execute_result"
    }
   ],
   "source": [
    "import os\n",
    "from pathlib import Path\n",
    "\n",
    "import matplotlib.pyplot as plt\n",
    "import pandas as pd\n",
    "import plotly.graph_objects as go\n",
    "from dotenv import load_dotenv\n",
    "from tinydb import Query, TinyDB\n",
    "from tqdm import tqdm\n",
    "\n",
    "from openowl.clients import OpenOwlClient\n",
    "from openowl.gh_llm import get_issue_summarization\n",
    "from openowl.gh_sentiment_analysis import (get_toxicity_scores_detoxify,\n",
    "                                           get_toxicity_scores_llm)\n",
    "from openowl.logger_config import setup_logger\n",
    "from openowl.utils import extract_github_info, sort_version_list\n",
    "\n",
    "logger = setup_logger(__name__)\n",
    "load_dotenv()"
   ]
  },
  {
   "cell_type": "code",
   "execution_count": 4,
   "metadata": {},
   "outputs": [],
   "source": [
    "# Functions\n",
    "\n",
    "#TODO implement this and add summary to issues table\n",
    "def summarize_issues(issues_table, default_model):\n",
    "    \"\"\"Summarize issues in database.\"\"\"\n",
    "    for issue in issues_table.all():\n",
    "        issue_summarization = get_issue_summarization(\n",
    "            issue,\n",
    "            default_model,\n",
    "        )\n",
    "        issue[\"issue_summarization\"] = issue_summarization\n",
    "        issues_table.upsert(issue, Query().id == issue[\"id\"])\n",
    "\n",
    "    from urllib.parse import urlparse\n"
   ]
  },
  {
   "cell_type": "code",
   "execution_count": 5,
   "metadata": {},
   "outputs": [],
   "source": [
    "PROJECT_ROOT = Path().absolute().parent"
   ]
  },
  {
   "cell_type": "code",
   "execution_count": 6,
   "metadata": {},
   "outputs": [
    {
     "name": "stderr",
     "output_type": "stream",
     "text": [
      "2024-12-21 22:57:56,281 - __main__ - INFO - No version provided, took the latest version: 2.2.3\n"
     ]
    },
    {
     "name": "stdout",
     "output_type": "stream",
     "text": [
      "Warning: Could not parse version '0.1.win32-py2.5': Invalid version: '0.1.win32+py2.5'\n",
      "Warning: Could not parse version '0.10.0.win-amd64-py2.6': Invalid version: '0.10.0.win.amd64+py2.6'\n",
      "Warning: Could not parse version '0.10.0.win-amd64-py2.7': Invalid version: '0.10.0.win.amd64+py2.7'\n",
      "Warning: Could not parse version '0.10.0.win-amd64-py3.1': Invalid version: '0.10.0.win.amd64+py3.1'\n",
      "Warning: Could not parse version '0.10.0.win-amd64-py3.2': Invalid version: '0.10.0.win.amd64+py3.2'\n",
      "Warning: Could not parse version '0.10.0.win-amd64-py3.3': Invalid version: '0.10.0.win.amd64+py3.3'\n",
      "Warning: Could not parse version '0.10.0.win32-py2.6': Invalid version: '0.10.0.win32+py2.6'\n",
      "Warning: Could not parse version '0.10.0.win32-py2.7': Invalid version: '0.10.0.win32+py2.7'\n",
      "Warning: Could not parse version '0.10.0.win32-py3.1': Invalid version: '0.10.0.win32+py3.1'\n",
      "Warning: Could not parse version '0.10.0.win32-py3.2': Invalid version: '0.10.0.win32+py3.2'\n",
      "Warning: Could not parse version '0.10.0.win32-py3.3': Invalid version: '0.10.0.win32+py3.3'\n",
      "Warning: Could not parse version '0.10.1.win-amd64-py2.6': Invalid version: '0.10.1.win.amd64+py2.6'\n",
      "Warning: Could not parse version '0.10.1.win-amd64-py2.7': Invalid version: '0.10.1.win.amd64+py2.7'\n",
      "Warning: Could not parse version '0.10.1.win-amd64-py3.1': Invalid version: '0.10.1.win.amd64+py3.1'\n",
      "Warning: Could not parse version '0.10.1.win-amd64-py3.2': Invalid version: '0.10.1.win.amd64+py3.2'\n",
      "Warning: Could not parse version '0.10.1.win32-py2.6': Invalid version: '0.10.1.win32+py2.6'\n",
      "Warning: Could not parse version '0.10.1.win32-py2.7': Invalid version: '0.10.1.win32+py2.7'\n",
      "Warning: Could not parse version '0.10.1.win32-py3.1': Invalid version: '0.10.1.win32+py3.1'\n",
      "Warning: Could not parse version '0.10.1.win32-py3.2': Invalid version: '0.10.1.win32+py3.2'\n",
      "Warning: Could not parse version '0.11.0.win-amd64-py2.6': Invalid version: '0.11.0.win.amd64+py2.6'\n",
      "Warning: Could not parse version '0.11.0.win-amd64-py2.7': Invalid version: '0.11.0.win.amd64+py2.7'\n",
      "Warning: Could not parse version '0.11.0.win-amd64-py3.1': Invalid version: '0.11.0.win.amd64+py3.1'\n",
      "Warning: Could not parse version '0.11.0.win-amd64-py3.2': Invalid version: '0.11.0.win.amd64+py3.2'\n",
      "Warning: Could not parse version '0.11.0.win32-py2.6': Invalid version: '0.11.0.win32+py2.6'\n",
      "Warning: Could not parse version '0.11.0.win32-py2.7': Invalid version: '0.11.0.win32+py2.7'\n",
      "Warning: Could not parse version '0.11.0.win32-py3.1': Invalid version: '0.11.0.win32+py3.1'\n",
      "Warning: Could not parse version '0.11.0.win32-py3.2': Invalid version: '0.11.0.win32+py3.2'\n",
      "Warning: Could not parse version '0.12.0.win-amd64-py2.6': Invalid version: '0.12.0.win.amd64+py2.6'\n",
      "Warning: Could not parse version '0.12.0.win-amd64-py2.7': Invalid version: '0.12.0.win.amd64+py2.7'\n",
      "Warning: Could not parse version '0.12.0.win-amd64-py3.2': Invalid version: '0.12.0.win.amd64+py3.2'\n",
      "Warning: Could not parse version '0.12.0.win-amd64-py3.3': Invalid version: '0.12.0.win.amd64+py3.3'\n",
      "Warning: Could not parse version '0.12.0.win32-py2.6': Invalid version: '0.12.0.win32+py2.6'\n",
      "Warning: Could not parse version '0.12.0.win32-py2.7': Invalid version: '0.12.0.win32+py2.7'\n",
      "Warning: Could not parse version '0.12.0.win32-py3.2': Invalid version: '0.12.0.win32+py3.2'\n",
      "Warning: Could not parse version '0.12.0.win32-py3.3': Invalid version: '0.12.0.win32+py3.3'\n",
      "Warning: Could not parse version '0.13.0.win-amd64-py2.6': Invalid version: '0.13.0.win.amd64+py2.6'\n",
      "Warning: Could not parse version '0.13.0.win-amd64-py2.7': Invalid version: '0.13.0.win.amd64+py2.7'\n",
      "Warning: Could not parse version '0.13.0.win-amd64-py3.2': Invalid version: '0.13.0.win.amd64+py3.2'\n",
      "Warning: Could not parse version '0.13.0.win-amd64-py3.3': Invalid version: '0.13.0.win.amd64+py3.3'\n",
      "Warning: Could not parse version '0.13.0.win32-py2.6': Invalid version: '0.13.0.win32+py2.6'\n",
      "Warning: Could not parse version '0.13.0.win32-py2.7': Invalid version: '0.13.0.win32+py2.7'\n",
      "Warning: Could not parse version '0.13.0.win32-py3.2': Invalid version: '0.13.0.win32+py3.2'\n",
      "Warning: Could not parse version '0.13.0.win32-py3.3': Invalid version: '0.13.0.win32+py3.3'\n",
      "Warning: Could not parse version '0.13.1.win-amd64-py2.6': Invalid version: '0.13.1.win.amd64+py2.6'\n",
      "Warning: Could not parse version '0.13.1.win-amd64-py2.7': Invalid version: '0.13.1.win.amd64+py2.7'\n",
      "Warning: Could not parse version '0.13.1.win-amd64-py3.2': Invalid version: '0.13.1.win.amd64+py3.2'\n",
      "Warning: Could not parse version '0.13.1.win-amd64-py3.3': Invalid version: '0.13.1.win.amd64+py3.3'\n",
      "Warning: Could not parse version '0.13.1.win32-py2.6': Invalid version: '0.13.1.win32+py2.6'\n",
      "Warning: Could not parse version '0.13.1.win32-py2.7': Invalid version: '0.13.1.win32+py2.7'\n",
      "Warning: Could not parse version '0.13.1.win32-py3.2': Invalid version: '0.13.1.win32+py3.2'\n",
      "Warning: Could not parse version '0.13.1.win32-py3.3': Invalid version: '0.13.1.win32+py3.3'\n",
      "Warning: Could not parse version '0.14.0.win-amd64-py2.6': Invalid version: '0.14.0.win.amd64+py2.6'\n",
      "Warning: Could not parse version '0.14.0.win-amd64-py2.7': Invalid version: '0.14.0.win.amd64+py2.7'\n",
      "Warning: Could not parse version '0.14.0.win-amd64-py3.2': Invalid version: '0.14.0.win.amd64+py3.2'\n",
      "Warning: Could not parse version '0.14.0.win-amd64-py3.3': Invalid version: '0.14.0.win.amd64+py3.3'\n",
      "Warning: Could not parse version '0.14.0.win-amd64-py3.4': Invalid version: '0.14.0.win.amd64+py3.4'\n",
      "Warning: Could not parse version '0.14.0.win32-py2.6': Invalid version: '0.14.0.win32+py2.6'\n",
      "Warning: Could not parse version '0.14.0.win32-py2.7': Invalid version: '0.14.0.win32+py2.7'\n",
      "Warning: Could not parse version '0.14.0.win32-py3.2': Invalid version: '0.14.0.win32+py3.2'\n",
      "Warning: Could not parse version '0.14.0.win32-py3.3': Invalid version: '0.14.0.win32+py3.3'\n",
      "Warning: Could not parse version '0.14.0.win32-py3.4': Invalid version: '0.14.0.win32+py3.4'\n",
      "Warning: Could not parse version '0.14.1.win-amd64-py2.6': Invalid version: '0.14.1.win.amd64+py2.6'\n",
      "Warning: Could not parse version '0.14.1.win-amd64-py2.7': Invalid version: '0.14.1.win.amd64+py2.7'\n",
      "Warning: Could not parse version '0.14.1.win-amd64-py3.2': Invalid version: '0.14.1.win.amd64+py3.2'\n",
      "Warning: Could not parse version '0.14.1.win-amd64-py3.3': Invalid version: '0.14.1.win.amd64+py3.3'\n",
      "Warning: Could not parse version '0.14.1.win-amd64-py3.4': Invalid version: '0.14.1.win.amd64+py3.4'\n",
      "Warning: Could not parse version '0.14.1.win32-py2.6': Invalid version: '0.14.1.win32+py2.6'\n",
      "Warning: Could not parse version '0.14.1.win32-py2.7': Invalid version: '0.14.1.win32+py2.7'\n",
      "Warning: Could not parse version '0.14.1.win32-py3.2': Invalid version: '0.14.1.win32+py3.2'\n",
      "Warning: Could not parse version '0.14.1.win32-py3.3': Invalid version: '0.14.1.win32+py3.3'\n",
      "Warning: Could not parse version '0.14.1.win32-py3.4': Invalid version: '0.14.1.win32+py3.4'\n",
      "Warning: Could not parse version '0.15.0.win-amd64-py2.6': Invalid version: '0.15.0.win.amd64+py2.6'\n",
      "Warning: Could not parse version '0.15.0.win-amd64-py2.7': Invalid version: '0.15.0.win.amd64+py2.7'\n",
      "Warning: Could not parse version '0.15.0.win-amd64-py3.2': Invalid version: '0.15.0.win.amd64+py3.2'\n",
      "Warning: Could not parse version '0.15.0.win-amd64-py3.3': Invalid version: '0.15.0.win.amd64+py3.3'\n",
      "Warning: Could not parse version '0.15.0.win-amd64-py3.4': Invalid version: '0.15.0.win.amd64+py3.4'\n",
      "Warning: Could not parse version '0.15.0.win32-py2.6': Invalid version: '0.15.0.win32+py2.6'\n",
      "Warning: Could not parse version '0.15.0.win32-py2.7': Invalid version: '0.15.0.win32+py2.7'\n",
      "Warning: Could not parse version '0.15.0.win32-py3.2': Invalid version: '0.15.0.win32+py3.2'\n",
      "Warning: Could not parse version '0.15.0.win32-py3.3': Invalid version: '0.15.0.win32+py3.3'\n",
      "Warning: Could not parse version '0.15.0.win32-py3.4': Invalid version: '0.15.0.win32+py3.4'\n",
      "Warning: Could not parse version '0.15.1.win-amd64-py2.6': Invalid version: '0.15.1.win.amd64+py2.6'\n",
      "Warning: Could not parse version '0.15.1.win-amd64-py2.7': Invalid version: '0.15.1.win.amd64+py2.7'\n",
      "Warning: Could not parse version '0.15.1.win-amd64-py3.2': Invalid version: '0.15.1.win.amd64+py3.2'\n",
      "Warning: Could not parse version '0.15.1.win-amd64-py3.3': Invalid version: '0.15.1.win.amd64+py3.3'\n",
      "Warning: Could not parse version '0.15.1.win-amd64-py3.4': Invalid version: '0.15.1.win.amd64+py3.4'\n",
      "Warning: Could not parse version '0.15.1.win32-py2.6': Invalid version: '0.15.1.win32+py2.6'\n",
      "Warning: Could not parse version '0.15.1.win32-py2.7': Invalid version: '0.15.1.win32+py2.7'\n",
      "Warning: Could not parse version '0.15.1.win32-py3.2': Invalid version: '0.15.1.win32+py3.2'\n",
      "Warning: Could not parse version '0.15.1.win32-py3.3': Invalid version: '0.15.1.win32+py3.3'\n",
      "Warning: Could not parse version '0.15.1.win32-py3.4': Invalid version: '0.15.1.win32+py3.4'\n",
      "Warning: Could not parse version '0.15.2.win-amd64-py2.6': Invalid version: '0.15.2.win.amd64+py2.6'\n",
      "Warning: Could not parse version '0.15.2.win-amd64-py2.7': Invalid version: '0.15.2.win.amd64+py2.7'\n",
      "Warning: Could not parse version '0.15.2.win-amd64-py3.2': Invalid version: '0.15.2.win.amd64+py3.2'\n",
      "Warning: Could not parse version '0.15.2.win-amd64-py3.3': Invalid version: '0.15.2.win.amd64+py3.3'\n",
      "Warning: Could not parse version '0.15.2.win-amd64-py3.4': Invalid version: '0.15.2.win.amd64+py3.4'\n",
      "Warning: Could not parse version '0.15.2.win32-py2.6': Invalid version: '0.15.2.win32+py2.6'\n",
      "Warning: Could not parse version '0.15.2.win32-py2.7': Invalid version: '0.15.2.win32+py2.7'\n",
      "Warning: Could not parse version '0.15.2.win32-py3.2': Invalid version: '0.15.2.win32+py3.2'\n",
      "Warning: Could not parse version '0.15.2.win32-py3.3': Invalid version: '0.15.2.win32+py3.3'\n",
      "Warning: Could not parse version '0.15.2.win32-py3.4': Invalid version: '0.15.2.win32+py3.4'\n",
      "Warning: Could not parse version '0.3.0.win-amd64-py2.6': Invalid version: '0.3.0.win.amd64+py2.6'\n",
      "Warning: Could not parse version '0.3.0.win-amd64-py2.7': Invalid version: '0.3.0.win.amd64+py2.7'\n",
      "Warning: Could not parse version '0.3.0.win32-py2.5': Invalid version: '0.3.0.win32+py2.5'\n",
      "Warning: Could not parse version '0.3.0.win32-py2.6': Invalid version: '0.3.0.win32+py2.6'\n",
      "Warning: Could not parse version '0.3.0.win32-py2.7': Invalid version: '0.3.0.win32+py2.7'\n",
      "Warning: Could not parse version '0.4.0.win-amd64-py2.6': Invalid version: '0.4.0.win.amd64+py2.6'\n",
      "Warning: Could not parse version '0.4.0.win-amd64-py2.7': Invalid version: '0.4.0.win.amd64+py2.7'\n",
      "Warning: Could not parse version '0.4.0.win32-py2.5': Invalid version: '0.4.0.win32+py2.5'\n",
      "Warning: Could not parse version '0.4.0.win32-py2.6': Invalid version: '0.4.0.win32+py2.6'\n",
      "Warning: Could not parse version '0.4.0.win32-py2.7': Invalid version: '0.4.0.win32+py2.7'\n",
      "Warning: Could not parse version '0.4.1.win-amd64-py2.6': Invalid version: '0.4.1.win.amd64+py2.6'\n",
      "Warning: Could not parse version '0.4.1.win-amd64-py2.7': Invalid version: '0.4.1.win.amd64+py2.7'\n",
      "Warning: Could not parse version '0.4.1.win32-py2.5': Invalid version: '0.4.1.win32+py2.5'\n",
      "Warning: Could not parse version '0.4.1.win32-py2.6': Invalid version: '0.4.1.win32+py2.6'\n",
      "Warning: Could not parse version '0.4.1.win32-py2.7': Invalid version: '0.4.1.win32+py2.7'\n",
      "Warning: Could not parse version '0.4.2.win-amd64-py2.6': Invalid version: '0.4.2.win.amd64+py2.6'\n",
      "Warning: Could not parse version '0.4.2.win-amd64-py2.7': Invalid version: '0.4.2.win.amd64+py2.7'\n",
      "Warning: Could not parse version '0.4.2.win32-py2.5': Invalid version: '0.4.2.win32+py2.5'\n",
      "Warning: Could not parse version '0.4.2.win32-py2.6': Invalid version: '0.4.2.win32+py2.6'\n",
      "Warning: Could not parse version '0.4.2.win32-py2.7': Invalid version: '0.4.2.win32+py2.7'\n",
      "Warning: Could not parse version '0.4.3.win-amd64-py2.6': Invalid version: '0.4.3.win.amd64+py2.6'\n",
      "Warning: Could not parse version '0.4.3.win-amd64-py2.7': Invalid version: '0.4.3.win.amd64+py2.7'\n",
      "Warning: Could not parse version '0.4.3.win32-py2.5': Invalid version: '0.4.3.win32+py2.5'\n",
      "Warning: Could not parse version '0.4.3.win32-py2.6': Invalid version: '0.4.3.win32+py2.6'\n",
      "Warning: Could not parse version '0.4.3.win32-py2.7': Invalid version: '0.4.3.win32+py2.7'\n",
      "Warning: Could not parse version '0.4.3.win32-py3.1': Invalid version: '0.4.3.win32+py3.1'\n",
      "Warning: Could not parse version '0.4.3.win32-py3.2': Invalid version: '0.4.3.win32+py3.2'\n",
      "Warning: Could not parse version '0.5.0.win-amd64-py2.6': Invalid version: '0.5.0.win.amd64+py2.6'\n",
      "Warning: Could not parse version '0.5.0.win-amd64-py2.7': Invalid version: '0.5.0.win.amd64+py2.7'\n",
      "Warning: Could not parse version '0.5.0.win-amd64-py3.1': Invalid version: '0.5.0.win.amd64+py3.1'\n",
      "Warning: Could not parse version '0.5.0.win-amd64-py3.2': Invalid version: '0.5.0.win.amd64+py3.2'\n",
      "Warning: Could not parse version '0.5.0.win32-py2.5': Invalid version: '0.5.0.win32+py2.5'\n",
      "Warning: Could not parse version '0.5.0.win32-py2.6': Invalid version: '0.5.0.win32+py2.6'\n",
      "Warning: Could not parse version '0.5.0.win32-py2.7': Invalid version: '0.5.0.win32+py2.7'\n",
      "Warning: Could not parse version '0.5.0.win32-py3.1': Invalid version: '0.5.0.win32+py3.1'\n",
      "Warning: Could not parse version '0.5.0.win32-py3.2': Invalid version: '0.5.0.win32+py3.2'\n",
      "Warning: Could not parse version '0.6.0.win-amd64-py2.5': Invalid version: '0.6.0.win.amd64+py2.5'\n",
      "Warning: Could not parse version '0.6.0.win-amd64-py2.6': Invalid version: '0.6.0.win.amd64+py2.6'\n",
      "Warning: Could not parse version '0.6.0.win-amd64-py2.7': Invalid version: '0.6.0.win.amd64+py2.7'\n",
      "Warning: Could not parse version '0.6.0.win-amd64-py3.1': Invalid version: '0.6.0.win.amd64+py3.1'\n",
      "Warning: Could not parse version '0.6.0.win-amd64-py3.2': Invalid version: '0.6.0.win.amd64+py3.2'\n",
      "Warning: Could not parse version '0.6.0.win32-py2.5': Invalid version: '0.6.0.win32+py2.5'\n",
      "Warning: Could not parse version '0.6.0.win32-py2.6': Invalid version: '0.6.0.win32+py2.6'\n",
      "Warning: Could not parse version '0.6.0.win32-py2.7': Invalid version: '0.6.0.win32+py2.7'\n",
      "Warning: Could not parse version '0.6.0.win32-py3.1': Invalid version: '0.6.0.win32+py3.1'\n",
      "Warning: Could not parse version '0.6.0.win32-py3.2': Invalid version: '0.6.0.win32+py3.2'\n",
      "Warning: Could not parse version '0.6.1.win-amd64-py2.6': Invalid version: '0.6.1.win.amd64+py2.6'\n",
      "Warning: Could not parse version '0.6.1.win-amd64-py2.7': Invalid version: '0.6.1.win.amd64+py2.7'\n",
      "Warning: Could not parse version '0.6.1.win32-py2.5': Invalid version: '0.6.1.win32+py2.5'\n",
      "Warning: Could not parse version '0.6.1.win32-py2.6': Invalid version: '0.6.1.win32+py2.6'\n",
      "Warning: Could not parse version '0.6.1.win32-py2.7': Invalid version: '0.6.1.win32+py2.7'\n",
      "Warning: Could not parse version '0.6.1.win32-py3.1': Invalid version: '0.6.1.win32+py3.1'\n",
      "Warning: Could not parse version '0.6.1.win32-py3.2': Invalid version: '0.6.1.win32+py3.2'\n",
      "Warning: Could not parse version '0.7.0.win-amd64-py2.6': Invalid version: '0.7.0.win.amd64+py2.6'\n",
      "Warning: Could not parse version '0.7.0.win-amd64-py2.7': Invalid version: '0.7.0.win.amd64+py2.7'\n",
      "Warning: Could not parse version '0.7.0.win-amd64-py3.1': Invalid version: '0.7.0.win.amd64+py3.1'\n",
      "Warning: Could not parse version '0.7.0.win-amd64-py3.2': Invalid version: '0.7.0.win.amd64+py3.2'\n",
      "Warning: Could not parse version '0.7.0.win32-py2.5': Invalid version: '0.7.0.win32+py2.5'\n",
      "Warning: Could not parse version '0.7.0.win32-py2.6': Invalid version: '0.7.0.win32+py2.6'\n",
      "Warning: Could not parse version '0.7.0.win32-py2.7': Invalid version: '0.7.0.win32+py2.7'\n",
      "Warning: Could not parse version '0.7.0.win32-py3.1': Invalid version: '0.7.0.win32+py3.1'\n",
      "Warning: Could not parse version '0.7.0.win32-py3.2': Invalid version: '0.7.0.win32+py3.2'\n",
      "Warning: Could not parse version '0.7.1.win-amd64-py2.6': Invalid version: '0.7.1.win.amd64+py2.6'\n",
      "Warning: Could not parse version '0.7.1.win-amd64-py2.7': Invalid version: '0.7.1.win.amd64+py2.7'\n",
      "Warning: Could not parse version '0.7.1.win-amd64-py3.1': Invalid version: '0.7.1.win.amd64+py3.1'\n",
      "Warning: Could not parse version '0.7.1.win-amd64-py3.2': Invalid version: '0.7.1.win.amd64+py3.2'\n",
      "Warning: Could not parse version '0.7.1.win32-py2.5': Invalid version: '0.7.1.win32+py2.5'\n",
      "Warning: Could not parse version '0.7.1.win32-py2.6': Invalid version: '0.7.1.win32+py2.6'\n",
      "Warning: Could not parse version '0.7.1.win32-py2.7': Invalid version: '0.7.1.win32+py2.7'\n",
      "Warning: Could not parse version '0.7.1.win32-py3.1': Invalid version: '0.7.1.win32+py3.1'\n",
      "Warning: Could not parse version '0.7.1.win32-py3.2': Invalid version: '0.7.1.win32+py3.2'\n",
      "Warning: Could not parse version '0.7.2.win-amd64-py2.6': Invalid version: '0.7.2.win.amd64+py2.6'\n",
      "Warning: Could not parse version '0.7.2.win-amd64-py2.7': Invalid version: '0.7.2.win.amd64+py2.7'\n",
      "Warning: Could not parse version '0.7.2.win-amd64-py3.1': Invalid version: '0.7.2.win.amd64+py3.1'\n",
      "Warning: Could not parse version '0.7.2.win-amd64-py3.2': Invalid version: '0.7.2.win.amd64+py3.2'\n",
      "Warning: Could not parse version '0.7.2.win32-py2.5': Invalid version: '0.7.2.win32+py2.5'\n",
      "Warning: Could not parse version '0.7.2.win32-py2.6': Invalid version: '0.7.2.win32+py2.6'\n",
      "Warning: Could not parse version '0.7.2.win32-py2.7': Invalid version: '0.7.2.win32+py2.7'\n",
      "Warning: Could not parse version '0.7.2.win32-py3.1': Invalid version: '0.7.2.win32+py3.1'\n",
      "Warning: Could not parse version '0.7.2.win32-py3.2': Invalid version: '0.7.2.win32+py3.2'\n",
      "Warning: Could not parse version '0.7.3.win-amd64-py2.6': Invalid version: '0.7.3.win.amd64+py2.6'\n",
      "Warning: Could not parse version '0.7.3.win-amd64-py2.7': Invalid version: '0.7.3.win.amd64+py2.7'\n",
      "Warning: Could not parse version '0.7.3.win-amd64-py3.1': Invalid version: '0.7.3.win.amd64+py3.1'\n",
      "Warning: Could not parse version '0.7.3.win-amd64-py3.2': Invalid version: '0.7.3.win.amd64+py3.2'\n",
      "Warning: Could not parse version '0.7.3.win32-py2.5': Invalid version: '0.7.3.win32+py2.5'\n",
      "Warning: Could not parse version '0.7.3.win32-py2.6': Invalid version: '0.7.3.win32+py2.6'\n",
      "Warning: Could not parse version '0.7.3.win32-py2.7': Invalid version: '0.7.3.win32+py2.7'\n",
      "Warning: Could not parse version '0.7.3.win32-py3.1': Invalid version: '0.7.3.win32+py3.1'\n",
      "Warning: Could not parse version '0.7.3.win32-py3.2': Invalid version: '0.7.3.win32+py3.2'\n",
      "Warning: Could not parse version '0.8.0.win-amd64-py2.6': Invalid version: '0.8.0.win.amd64+py2.6'\n",
      "Warning: Could not parse version '0.8.0.win-amd64-py2.7': Invalid version: '0.8.0.win.amd64+py2.7'\n",
      "Warning: Could not parse version '0.8.0.win-amd64-py3.1': Invalid version: '0.8.0.win.amd64+py3.1'\n",
      "Warning: Could not parse version '0.8.0.win-amd64-py3.2': Invalid version: '0.8.0.win.amd64+py3.2'\n",
      "Warning: Could not parse version '0.8.0.win32-py2.5': Invalid version: '0.8.0.win32+py2.5'\n",
      "Warning: Could not parse version '0.8.0.win32-py2.6': Invalid version: '0.8.0.win32+py2.6'\n",
      "Warning: Could not parse version '0.8.0.win32-py2.7': Invalid version: '0.8.0.win32+py2.7'\n",
      "Warning: Could not parse version '0.8.0.win32-py3.1': Invalid version: '0.8.0.win32+py3.1'\n",
      "Warning: Could not parse version '0.8.0.win32-py3.2': Invalid version: '0.8.0.win32+py3.2'\n",
      "Warning: Could not parse version '0.8.1.win-amd64-py2.6': Invalid version: '0.8.1.win.amd64+py2.6'\n",
      "Warning: Could not parse version '0.8.1.win-amd64-py2.7': Invalid version: '0.8.1.win.amd64+py2.7'\n",
      "Warning: Could not parse version '0.8.1.win-amd64-py3.1': Invalid version: '0.8.1.win.amd64+py3.1'\n",
      "Warning: Could not parse version '0.8.1.win-amd64-py3.2': Invalid version: '0.8.1.win.amd64+py3.2'\n",
      "Warning: Could not parse version '0.8.1.win32-py2.5': Invalid version: '0.8.1.win32+py2.5'\n",
      "Warning: Could not parse version '0.8.1.win32-py2.6': Invalid version: '0.8.1.win32+py2.6'\n",
      "Warning: Could not parse version '0.8.1.win32-py2.7': Invalid version: '0.8.1.win32+py2.7'\n",
      "Warning: Could not parse version '0.8.1.win32-py3.1': Invalid version: '0.8.1.win32+py3.1'\n",
      "Warning: Could not parse version '0.8.1.win32-py3.2': Invalid version: '0.8.1.win32+py3.2'\n",
      "Warning: Could not parse version '0.9.0.win-amd64-py2.6': Invalid version: '0.9.0.win.amd64+py2.6'\n",
      "Warning: Could not parse version '0.9.0.win-amd64-py2.7': Invalid version: '0.9.0.win.amd64+py2.7'\n",
      "Warning: Could not parse version '0.9.0.win-amd64-py3.1': Invalid version: '0.9.0.win.amd64+py3.1'\n",
      "Warning: Could not parse version '0.9.0.win-amd64-py3.2': Invalid version: '0.9.0.win.amd64+py3.2'\n",
      "Warning: Could not parse version '0.9.0.win32-py2.5': Invalid version: '0.9.0.win32+py2.5'\n",
      "Warning: Could not parse version '0.9.0.win32-py2.6': Invalid version: '0.9.0.win32+py2.6'\n",
      "Warning: Could not parse version '0.9.0.win32-py2.7': Invalid version: '0.9.0.win32+py2.7'\n",
      "Warning: Could not parse version '0.9.0.win32-py3.1': Invalid version: '0.9.0.win32+py3.1'\n",
      "Warning: Could not parse version '0.9.0.win32-py3.2': Invalid version: '0.9.0.win32+py3.2'\n",
      "Warning: Could not parse version '0.9.1.win-amd64-py2.6': Invalid version: '0.9.1.win.amd64+py2.6'\n",
      "Warning: Could not parse version '0.9.1.win-amd64-py2.7': Invalid version: '0.9.1.win.amd64+py2.7'\n",
      "Warning: Could not parse version '0.9.1.win-amd64-py3.1': Invalid version: '0.9.1.win.amd64+py3.1'\n",
      "Warning: Could not parse version '0.9.1.win-amd64-py3.2': Invalid version: '0.9.1.win.amd64+py3.2'\n",
      "Warning: Could not parse version '0.9.1.win32-py2.5': Invalid version: '0.9.1.win32+py2.5'\n",
      "Warning: Could not parse version '0.9.1.win32-py2.6': Invalid version: '0.9.1.win32+py2.6'\n",
      "Warning: Could not parse version '0.9.1.win32-py2.7': Invalid version: '0.9.1.win32+py2.7'\n",
      "Warning: Could not parse version '0.9.1.win32-py3.1': Invalid version: '0.9.1.win32+py3.1'\n",
      "Warning: Could not parse version '0.9.1.win32-py3.2': Invalid version: '0.9.1.win32+py3.2'\n"
     ]
    }
   ],
   "source": [
    "# Define package info\n",
    "package_manager=\"pypi\"\n",
    "github_url=\"https://github.com/pandas-dev/pandas\"\n",
    "package_version=None\n",
    "debug=True\n",
    "\n",
    "# extract package info from github url\n",
    "package_owner, package_name = extract_github_info(github_url)\n",
    "\n",
    "# if no version is provided, get latest version\n",
    "if package_version is None:\n",
    "    oowl_client = OpenOwlClient()\n",
    "    package_versions = oowl_client.get_package_versions(\n",
    "        package_manager, package_name\n",
    "    )\n",
    "    package_versions = sort_version_list(package_versions)\n",
    "    package_version = package_versions[0]\n",
    "    logger.info(f\"No version provided, took the latest version: {package_version}\")\n",
    "\n",
    "dependency = {\n",
    "    \"package_manager\": package_manager,\n",
    "    \"owner\": package_owner,\n",
    "    \"name\": package_name,\n",
    "    \"version\": package_version,\n",
    "}\n",
    "\n",
    "# Initialize/load TinyDB\n",
    "if PROJECT_ROOT:\n",
    "    db = TinyDB(Path(PROJECT_ROOT / os.environ.get(\"PATH_DB\")))\n",
    "else:\n",
    "    db = TinyDB(Path(os.environ.get(\"PATH_DB\")))\n",
    "dependencies_table = db.table(\"dependencies\")\n",
    "issues_table = db.table(\"issues\")\n",
    "issue_dependency_table = db.table(\"issue_dependency\")"
   ]
  },
  {
   "cell_type": "markdown",
   "metadata": {},
   "source": [
    "## Option 1: Use Detoxify model\n",
    "\n",
    "- We use the [Detoxify model \"original\"](https://github.com/unitaryai/detoxify) to assess the toxicity of the comments."
   ]
  },
  {
   "cell_type": "code",
   "execution_count": 7,
   "metadata": {},
   "outputs": [
    {
     "name": "stderr",
     "output_type": "stream",
     "text": [
      "Analyzing comment toxicity: 100%|██████████| 78/78 [00:05<00:00, 15.43it/s]\n"
     ]
    }
   ],
   "source": [
    "# get toxicity scores, add them to the issues table and obtain dataframe\n",
    "comments_df = get_toxicity_scores_detoxify(issues_table)"
   ]
  },
  {
   "cell_type": "code",
   "execution_count": 8,
   "metadata": {},
   "outputs": [
    {
     "name": "stdout",
     "output_type": "stream",
     "text": [
      "Number of comments: 78\n",
      "Time range: 2024-12-01 13:05 to 2024-12-08 05:58\n"
     ]
    }
   ],
   "source": [
    "print(f\"Number of comments: {len(comments_df)}\")\n",
    "\n",
    "comments_df['datetime'] = pd.to_datetime(comments_df['datetime'])\n",
    "print(f\"Time range: {comments_df['datetime'].min().strftime(\n",
    "    '%Y-%m-%d %H:%M')} to {comments_df['datetime'].max().strftime('%Y-%m-%d %H:%M')}\")"
   ]
  },
  {
   "cell_type": "code",
   "execution_count": 9,
   "metadata": {},
   "outputs": [
    {
     "data": {
      "text/html": [
       "<div>\n",
       "<style scoped>\n",
       "    .dataframe tbody tr th:only-of-type {\n",
       "        vertical-align: middle;\n",
       "    }\n",
       "\n",
       "    .dataframe tbody tr th {\n",
       "        vertical-align: top;\n",
       "    }\n",
       "\n",
       "    .dataframe thead th {\n",
       "        text-align: right;\n",
       "    }\n",
       "</style>\n",
       "<table border=\"1\" class=\"dataframe\">\n",
       "  <thead>\n",
       "    <tr style=\"text-align: right;\">\n",
       "      <th></th>\n",
       "      <th>datetime</th>\n",
       "      <th>issue_id</th>\n",
       "      <th>comment_details</th>\n",
       "      <th>author_association</th>\n",
       "      <th>user</th>\n",
       "      <th>toxicity</th>\n",
       "      <th>severe_toxicity</th>\n",
       "      <th>obscene</th>\n",
       "      <th>threat</th>\n",
       "      <th>insult</th>\n",
       "      <th>identity_attack</th>\n",
       "    </tr>\n",
       "  </thead>\n",
       "  <tbody>\n",
       "    <tr>\n",
       "      <th>43</th>\n",
       "      <td>2024-12-01 13:05:40+00:00</td>\n",
       "      <td>2709132946</td>\n",
       "      <td>## [CodSpeed Performance Report](https://codsp...</td>\n",
       "      <td>NONE</td>\n",
       "      <td>codspeed-hq[bot]</td>\n",
       "      <td>0.000805</td>\n",
       "      <td>0.000107</td>\n",
       "      <td>0.000187</td>\n",
       "      <td>0.000113</td>\n",
       "      <td>0.000178</td>\n",
       "      <td>0.000136</td>\n",
       "    </tr>\n",
       "    <tr>\n",
       "      <th>44</th>\n",
       "      <td>2024-12-01 13:08:37+00:00</td>\n",
       "      <td>2709132946</td>\n",
       "      <td>## Coverage report\\n\\n\\n&lt;img title=\"Coverage f...</td>\n",
       "      <td>CONTRIBUTOR</td>\n",
       "      <td>github-actions[bot]</td>\n",
       "      <td>0.001093</td>\n",
       "      <td>0.000105</td>\n",
       "      <td>0.000222</td>\n",
       "      <td>0.000114</td>\n",
       "      <td>0.000185</td>\n",
       "      <td>0.000137</td>\n",
       "    </tr>\n",
       "    <tr>\n",
       "      <th>45</th>\n",
       "      <td>2024-12-01 14:47:25+00:00</td>\n",
       "      <td>2709132946</td>\n",
       "      <td>please review (and thank you ❤️ )</td>\n",
       "      <td>NONE</td>\n",
       "      <td>thejcannon</td>\n",
       "      <td>0.000547</td>\n",
       "      <td>0.000132</td>\n",
       "      <td>0.000187</td>\n",
       "      <td>0.000135</td>\n",
       "      <td>0.000175</td>\n",
       "      <td>0.000142</td>\n",
       "    </tr>\n",
       "    <tr>\n",
       "      <th>46</th>\n",
       "      <td>2024-12-01 19:04:06+00:00</td>\n",
       "      <td>2709128734</td>\n",
       "      <td>Thanks for the report. While we can accept the...</td>\n",
       "      <td>MEMBER</td>\n",
       "      <td>Viicos</td>\n",
       "      <td>0.000696</td>\n",
       "      <td>0.000118</td>\n",
       "      <td>0.000199</td>\n",
       "      <td>0.000115</td>\n",
       "      <td>0.000172</td>\n",
       "      <td>0.000138</td>\n",
       "    </tr>\n",
       "    <tr>\n",
       "      <th>47</th>\n",
       "      <td>2024-12-01 19:14:37+00:00</td>\n",
       "      <td>2709128734</td>\n",
       "      <td>&gt; We first generate the JSON Schema for the in...</td>\n",
       "      <td>NONE</td>\n",
       "      <td>thejcannon</td>\n",
       "      <td>0.000739</td>\n",
       "      <td>0.000115</td>\n",
       "      <td>0.000189</td>\n",
       "      <td>0.000120</td>\n",
       "      <td>0.000176</td>\n",
       "      <td>0.000139</td>\n",
       "    </tr>\n",
       "  </tbody>\n",
       "</table>\n",
       "</div>"
      ],
      "text/plain": [
       "                    datetime    issue_id  \\\n",
       "43 2024-12-01 13:05:40+00:00  2709132946   \n",
       "44 2024-12-01 13:08:37+00:00  2709132946   \n",
       "45 2024-12-01 14:47:25+00:00  2709132946   \n",
       "46 2024-12-01 19:04:06+00:00  2709128734   \n",
       "47 2024-12-01 19:14:37+00:00  2709128734   \n",
       "\n",
       "                                      comment_details author_association  \\\n",
       "43  ## [CodSpeed Performance Report](https://codsp...               NONE   \n",
       "44  ## Coverage report\\n\\n\\n<img title=\"Coverage f...        CONTRIBUTOR   \n",
       "45                  please review (and thank you ❤️ )               NONE   \n",
       "46  Thanks for the report. While we can accept the...             MEMBER   \n",
       "47  > We first generate the JSON Schema for the in...               NONE   \n",
       "\n",
       "                   user  toxicity  severe_toxicity   obscene    threat  \\\n",
       "43     codspeed-hq[bot]  0.000805         0.000107  0.000187  0.000113   \n",
       "44  github-actions[bot]  0.001093         0.000105  0.000222  0.000114   \n",
       "45           thejcannon  0.000547         0.000132  0.000187  0.000135   \n",
       "46               Viicos  0.000696         0.000118  0.000199  0.000115   \n",
       "47           thejcannon  0.000739         0.000115  0.000189  0.000120   \n",
       "\n",
       "      insult  identity_attack  \n",
       "43  0.000178         0.000136  \n",
       "44  0.000185         0.000137  \n",
       "45  0.000175         0.000142  \n",
       "46  0.000172         0.000138  \n",
       "47  0.000176         0.000139  "
      ]
     },
     "execution_count": 9,
     "metadata": {},
     "output_type": "execute_result"
    }
   ],
   "source": [
    "comments_df.head()"
   ]
  },
  {
   "cell_type": "code",
   "execution_count": 13,
   "metadata": {},
   "outputs": [
    {
     "data": {
      "text/plain": [
       "<matplotlib.colorbar.Colorbar at 0x1627a9070>"
      ]
     },
     "execution_count": 13,
     "metadata": {},
     "output_type": "execute_result"
    },
    {
     "data": {
      "image/png": "[encoded data removed]",
      "text/plain": [
       "<Figure size 1500x500 with 2 Axes>"
      ]
     },
     "metadata": {},
     "output_type": "display_data"
    }
   ],
   "source": [
    "# plot toxicity over time\n",
    "\n",
    "plt.figure(figsize=(15,5))\n",
    "plt.scatter(comments_df[\"datetime\"], comments_df[\"toxicity\"], \n",
    "           c=comments_df[\"toxicity\"], cmap='RdYlGn_r', \n",
    "           marker='o')\n",
    "plt.colorbar(label='Toxicity Score')"
   ]
  },
  {
   "cell_type": "markdown",
   "metadata": {},
   "source": [
    "hmm. the above graph and assessment doesn't really look right. Way too noisy and it's unclear what the threshold for toxic commetents should be. \n",
    "\n",
    "---"
   ]
  },
  {
   "cell_type": "markdown",
   "metadata": {},
   "source": [
    "## Option 2: Use LLM based toxicity assessment"
   ]
  },
  {
   "cell_type": "code",
   "execution_count": 16,
   "metadata": {},
   "outputs": [
    {
     "name": "stderr",
     "output_type": "stream",
     "text": [
      "Analyzing comment toxicity:   0%|          | 0/78 [00:00<?, ?it/s]2024-12-21 23:01:18,735 - openowl.gh_sentiment_analysis - INFO - {'toxicity_score': '1', 'toxicity_rationale': 'The comment \"/preview\" appears to be a neutral command or request, likely related to a technical function or preview feature. There are no negative, hostile, or inflammatory elements present. It seems to be a standard, professional interaction without any toxic language or intent.'}\n",
      "Analyzing comment toxicity:   1%|▏         | 1/78 [00:02<02:50,  2.21s/it]2024-12-21 23:01:21,742 - openowl.gh_sentiment_analysis - INFO - {'toxicity_score': '1', 'toxicity_rationale': 'The comment is a polite, constructive inquiry about code design. It shows collaborative intent, asks for input, and uses a respectful tone without any negative language or hostility. This is a typical example of professional, helpful communication in a software development context.'}\n",
      "Analyzing comment toxicity:   3%|▎         | 2/78 [00:05<03:23,  2.68s/it]2024-12-21 23:01:23,747 - openowl.gh_sentiment_analysis - INFO - {'toxicity_score': '1', 'toxicity_rationale': 'The comment \"take\" is extremely short and lacks context, but does not appear to contain any inherently toxic language or hostile intent. It seems like an incomplete or fragment comment that cannot be definitively classified as toxic.'}\n",
      "Analyzing comment toxicity:   4%|▍         | 3/78 [00:07<02:57,  2.37s/it]2024-12-21 23:01:26,834 - openowl.gh_sentiment_analysis - INFO - {'toxicity_score': '1', 'toxicity_rationale': 'This is a completely neutral, technical deployment status update from a CI/CD system. The comment contains purely informational content about a successful documentation deployment, with commit details, status, and preview URLs. There is no negative language, hostility, or toxic elements present.'}\n",
      "Analyzing comment toxicity:   5%|▌         | 4/78 [00:10<03:16,  2.65s/it]2024-12-21 23:01:29,804 - openowl.gh_sentiment_analysis - INFO - {'toxicity_score': '1', 'toxicity_rationale': 'This is a completely neutral, professional performance report comment containing technical information about benchmark results. The comment uses clear formatting, provides objective data, and shows no signs of negativity, hostility, or personal attacks. It appears to be a standard technical update about code performance comparison.'}\n",
      "Analyzing comment toxicity:   6%|▋         | 5/78 [00:13<03:22,  2.77s/it]2024-12-21 23:01:32,779 - openowl.gh_sentiment_analysis - INFO - {'toxicity_score': '1', 'toxicity_rationale': 'The comment is a highly constructive, detailed technical explanation providing clear problem description, code example, and solution for a Pydantic validation issue. It is professional, informative, and helpful without any negative language or hostile tone.'}\n",
      "Analyzing comment toxicity:   8%|▊         | 6/78 [00:16<03:24,  2.84s/it]2024-12-21 23:01:35,991 - openowl.gh_sentiment_analysis - INFO - {'toxicity_score': '1', 'toxicity_rationale': 'The comment is a detailed, technical explanation providing clear guidance and solution to a specific Pydantic validation issue. It is professional, constructive, and offers helpful code examples without any negative language or hostility. The response appears to be a genuine attempt to assist another developer in resolving a technical problem.'}\n",
      "Analyzing comment toxicity:   9%|▉         | 7/78 [00:19<03:30,  2.96s/it]2024-12-21 23:01:39,231 - openowl.gh_sentiment_analysis - INFO - {'toxicity_score': '1', 'toxicity_rationale': 'The comment is a professional, constructive technical explanation that provides clear insight into the issue, offers a specific solution, and maintains a respectful, helpful tone. It demonstrates expertise without any negative language, personal attacks, or hostile sentiment.'}\n",
      "Analyzing comment toxicity:  10%|█         | 8/78 [00:22<03:33,  3.05s/it]2024-12-21 23:01:42,553 - openowl.gh_sentiment_analysis - INFO - {'toxicity_score': '1', 'toxicity_rationale': 'This is a highly technical, constructive comment that provides detailed explanation, code examples, and helpful context about Pydantic type implementation. The comment is professional, informative, and aims to clarify potential misunderstandings without any negative language or hostile tone. It offers specific technical insights and even suggests a potential solution to an implementation issue.'}\n",
      "Analyzing comment toxicity:  12%|█▏        | 9/78 [00:26<03:36,  3.13s/it]2024-12-21 23:01:46,902 - openowl.gh_sentiment_analysis - INFO - {'toxicity_score': '1', 'toxicity_rationale': 'The comment is a clear, professional, and constructive technical discussion. The user is providing a detailed code example to explain a specific validation issue, referencing an RFC document, and seeking clarification. The language is respectful, precise, and focused on technical problem-solving without any hostile or negative undertones.'}\n",
      "Analyzing comment toxicity:  13%|█▎        | 10/78 [00:30<03:58,  3.51s/it]2024-12-21 23:01:50,316 - openowl.gh_sentiment_analysis - INFO - {'toxicity_score': '1', 'toxicity_rationale': 'This is a clean, professional code snippet demonstrating a custom validation approach for name and email using Pydantic in Python. The comment contains no negative language, is purely technical, and appears to be a helpful code example shared to assist other developers. It shows a constructive approach to solving a validation problem with clear, well-structured code.'}\n",
      "Analyzing comment toxicity:  14%|█▍        | 11/78 [00:33<03:53,  3.48s/it]2024-12-21 23:01:55,378 - openowl.gh_sentiment_analysis - INFO - {'toxicity_score': '4', 'toxicity_rationale': 'The comment contains direct criticism that is dismissive and potentially demeaning. While not using overtly aggressive language, it criticizes the user\\'s contributions as \"irrelevant and poorly formatted\", and explicitly states they were marked as \"off topic\". The tone is confrontational and lacks constructive feedback, which makes it moderately toxic.'}\n",
      "Analyzing comment toxicity:  15%|█▌        | 12/78 [00:38<04:21,  3.96s/it]2024-12-21 23:02:00,104 - openowl.gh_sentiment_analysis - INFO - {'toxicity_score': '1', 'toxicity_rationale': \"This is a highly technical, constructive code review comment that provides detailed, specific feedback about a potential implementation issue in Pydantic's type validation. The comment is professional, includes code examples, references specific lines of code, mentions a colleague respectfully, and provides technical reasoning. There are no personal attacks, inflammatory language, or negative tone - just a precise, analytical critique of a potential software design flaw.\"}\n",
      "Analyzing comment toxicity:  17%|█▋        | 13/78 [00:43<04:32,  4.19s/it]2024-12-21 23:02:06,005 - openowl.gh_sentiment_analysis - INFO - {'toxicity_score': '3', 'toxicity_rationale': \"The comment contains mixed tones - an initial critical and somewhat dismissive statement about AI-generated answers, followed by a more constructive and defensive response. While the first part is somewhat negative and potentially condescending (criticizing the quality of answers), the latter part attempts to be balanced and promotes constructive dialogue. The language is not overtly hostile, but there's an underlying tension and mild criticism that prevents it from being completely neutral.\"}\n",
      "Analyzing comment toxicity:  18%|█▊        | 14/78 [00:49<05:01,  4.71s/it]2024-12-21 23:02:09,964 - openowl.gh_sentiment_analysis - INFO - {'toxicity_score': '4', 'toxicity_rationale': 'The comment is dismissive and contains a passive-aggressive tone. While not overtly aggressive, it includes a direct criticism of the recipient\\'s work quality, suggesting their answers are \"really poor\". The phrase \"Thanks but no thanks\" is a curt rejection, and the comment implies incompetence by pointing to a specific example of perceived low-quality work. The language is confrontational and lacks constructive feedback, making it moderately toxic.'}\n",
      "Analyzing comment toxicity:  19%|█▉        | 15/78 [00:53<04:42,  4.48s/it]2024-12-21 23:02:12,840 - openowl.gh_sentiment_analysis - INFO - {'toxicity_score': '1', 'toxicity_rationale': 'This is a purely technical comment providing a code solution/workaround. The comment contains a code snippet demonstrating a programming technique, uses professional language, and shows no signs of negativity, hostility, or personal attacks. It appears to be a constructive contribution to a technical discussion.'}\n",
      "Analyzing comment toxicity:  21%|██        | 16/78 [00:56<04:07,  4.00s/it]2024-12-21 23:02:15,984 - openowl.gh_sentiment_analysis - INFO - {'toxicity_score': '1', 'toxicity_rationale': 'This is a completely neutral, technical comment describing a specific version issue with software dependencies. The comment is professional, provides specific version details, and asks a constructive question about potential changes between library versions. There are no negative, hostile, or inflammatory elements present.'}\n",
      "Analyzing comment toxicity:  22%|██▏       | 17/78 [00:59<03:48,  3.74s/it]2024-12-21 23:02:19,032 - openowl.gh_sentiment_analysis - INFO - {'toxicity_score': '1', 'toxicity_rationale': 'The comment is entirely constructive and helpful. It provides specific, actionable suggestions for debugging, offers assistance by mentioning willingness to test on multiple platforms, and suggests concrete tools (py-spy) to help diagnose the issue. The language is professional, respectful, and aimed at problem-solving.'}\n",
      "Analyzing comment toxicity:  23%|██▎       | 18/78 [01:02<03:32,  3.53s/it]2024-12-21 23:02:22,554 - openowl.gh_sentiment_analysis - INFO - {'toxicity_score': '1', 'toxicity_rationale': 'The comment is a clear, professional, and constructive communication about a technical issue. The user provides specific details about a bug, shares a repository with instructions, describes their observations, and politely requests insight into the problem. The language is neutral, respectful, and focused on problem-solving without any hostile or negative undertones.'}\n",
      "Analyzing comment toxicity:  24%|██▍       | 19/78 [01:06<03:28,  3.53s/it]2024-12-21 23:02:24,684 - openowl.gh_sentiment_analysis - INFO - {'toxicity_score': '1', 'toxicity_rationale': 'The comment is polite, apologetic, and shows genuine concern by asking for confirmation about potential ongoing issues. It demonstrates a helpful and considerate tone with no negative language or hostile intent.'}\n",
      "Analyzing comment toxicity:  26%|██▌       | 20/78 [01:08<03:00,  3.11s/it]2024-12-21 23:02:27,637 - openowl.gh_sentiment_analysis - INFO - {'toxicity_score': '1', 'toxicity_rationale': 'This is a completely neutral, technical deployment status report from a CI/CD system. The comment contains only factual information about a successful website deployment, including commit hash, status, and preview URLs. There are no negative, hostile, or toxic elements present.'}\n",
      "Analyzing comment toxicity:  27%|██▋       | 21/78 [01:11<02:54,  3.06s/it]2024-12-21 23:02:30,658 - openowl.gh_sentiment_analysis - INFO - {'toxicity_score': '1', 'toxicity_rationale': 'This is a neutral, technical performance report comment containing benchmark information. It appears to be an objective, professional update about code performance with no negative language, personal attacks, or hostile content. The comment is purely informative and constructive.'}\n",
      "Analyzing comment toxicity:  28%|██▊       | 22/78 [01:14<02:50,  3.05s/it]2024-12-21 23:02:34,578 - openowl.gh_sentiment_analysis - INFO - {'toxicity_score': '1', 'toxicity_rationale': 'This is a completely neutral, technical comment providing a coverage report for a code repository. It contains objective information about code coverage, uses badges to display metrics, and includes an automated comment from a coverage reporting tool. There are no negative, hostile, or inflammatory elements in the text.'}\n",
      "Analyzing comment toxicity:  29%|██▉       | 23/78 [01:18<03:02,  3.31s/it]2024-12-21 23:02:37,596 - openowl.gh_sentiment_analysis - INFO - {'toxicity_score': '1', 'toxicity_rationale': 'This is a clean, professional code snippet demonstrating a FastAPI endpoint implementation. The comment contains only technical code with no negative language, personal attacks, or hostile content. It appears to be a straightforward, constructive code example shared for educational or collaborative purposes.'}\n",
      "Analyzing comment toxicity:  31%|███       | 24/78 [01:21<02:54,  3.22s/it]2024-12-21 23:02:40,561 - openowl.gh_sentiment_analysis - INFO - {'toxicity_score': '1', 'toxicity_rationale': 'This is a completely neutral, professional performance report comment containing technical details about a code branch comparison. The comment uses clear formatting, provides objective benchmark information, and shows no signs of negativity, hostility, or personal attacks. It appears to be a standard, factual GitHub performance report.'}\n",
      "Analyzing comment toxicity:  32%|███▏      | 25/78 [01:24<02:46,  3.15s/it]2024-12-21 23:02:43,870 - openowl.gh_sentiment_analysis - INFO - {'toxicity_score': '1', 'toxicity_rationale': 'This is a purely technical, automated coverage report comment containing detailed code coverage statistics. The comment is completely neutral, professional, and provides objective information about code coverage for a GitHub pull request. There are no negative, hostile, or inflammatory elements present.'}\n",
      "Analyzing comment toxicity:  33%|███▎      | 26/78 [01:27<02:46,  3.19s/it]2024-12-21 23:02:47,245 - openowl.gh_sentiment_analysis - INFO - {'toxicity_score': '1', 'toxicity_rationale': 'The comment is a neutral, constructive technical observation. It suggests a potential issue by referencing a specific code location and raising a potential problem with schema handling. The language is professional, speculative, and aimed at problem-solving without any negative or hostile tone.'}\n",
      "Analyzing comment toxicity:  35%|███▍      | 27/78 [01:30<02:45,  3.25s/it]2024-12-21 23:02:49,065 - openowl.gh_sentiment_analysis - INFO - {'toxicity_score': '1', 'toxicity_rationale': \"This is a neutral, standard GitHub mention/tagging comment with no negative language or hostile intent. It appears to be a simple way of drawing a specific user's attention to a discussion or issue.\"}\n",
      "Analyzing comment toxicity:  36%|███▌      | 28/78 [01:32<02:21,  2.82s/it]2024-12-21 23:02:52,565 - openowl.gh_sentiment_analysis - INFO - {'toxicity_score': '1', 'toxicity_rationale': 'This is a purely technical, neutral comment discussing code schema and implementation details. The language is professional, direct, and focused on explaining a technical concept about recursive schema resolution. There are no negative, hostile, or inflammatory elements present.'}\n",
      "Analyzing comment toxicity:  37%|███▋      | 29/78 [01:36<02:28,  3.02s/it]2024-12-21 23:02:55,719 - openowl.gh_sentiment_analysis - INFO - {'toxicity_score': '1', 'toxicity_rationale': 'The comment appears to be a lighthearted technical suggestion with a laughing emoji, indicating a playful and constructive tone. It seems to be proposing a technical solution with a hint of humor, without any negative or hostile language. The comment appears to be a genuine, friendly contribution to a technical discussion.'}\n",
      "Analyzing comment toxicity:  38%|███▊      | 30/78 [01:39<02:27,  3.06s/it]2024-12-21 23:02:59,066 - openowl.gh_sentiment_analysis - INFO - {'toxicity_score': '1', 'toxicity_rationale': 'The comment is a professional, technical discussion about a potential implementation approach. It contains specific technical suggestions, references to other contributors (@thejcannon, @sydney-runkle), and shows collaborative problem-solving. The language is neutral, respectful, and focused on finding a technical solution. There are no signs of hostility, personal attacks, or negative sentiment.'}\n",
      "Analyzing comment toxicity:  40%|███▉      | 31/78 [01:42<02:27,  3.15s/it]2024-12-21 23:03:02,727 - openowl.gh_sentiment_analysis - INFO - {'toxicity_score': '1', 'toxicity_rationale': 'The comment is entirely constructive, friendly, and collaborative. It shows active engagement with the discussion, uses a light-hearted emoji, offers to help with the task, and demonstrates a positive, professional tone of communication. There are no negative, hostile, or toxic elements present.'}\n",
      "Analyzing comment toxicity:  41%|████      | 32/78 [01:46<02:31,  3.30s/it]2024-12-21 23:03:05,770 - openowl.gh_sentiment_analysis - INFO - {'toxicity_score': '1', 'toxicity_rationale': 'This is a technical, constructive comment demonstrating a code example with a specific Pydantic type validation issue. The comment is purely informative, provides a clear code snippet, shows the error encountered, and appears to be aimed at helping other developers understand a potential programming challenge. There is no negativity, hostility, or harmful language present.'}\n",
      "Analyzing comment toxicity:  42%|████▏     | 33/78 [01:49<02:25,  3.22s/it]2024-12-21 23:03:08,933 - openowl.gh_sentiment_analysis - INFO - {'toxicity_score': '1', 'toxicity_rationale': 'The comment is professional, polite, and constructive. It acknowledges the user who reported an issue, expresses gratitude, and commits to addressing the problem in a future patch. There are no negative, hostile, or inappropriate elements in the communication.'}\n",
      "Analyzing comment toxicity:  44%|████▎     | 34/78 [01:52<02:21,  3.21s/it]2024-12-21 23:03:11,489 - openowl.gh_sentiment_analysis - INFO - {'toxicity_score': '1', 'toxicity_rationale': 'The comment appears to be a neutral, professional communication mentioning another user and suggesting a potential connection to a technical topic (mro). There are no negative, hostile, or inflammatory elements. It seems like a constructive attempt to collaborate or provide insight.'}\n",
      "Analyzing comment toxicity:  45%|████▍     | 35/78 [01:54<02:09,  3.01s/it]2024-12-21 23:03:14,643 - openowl.gh_sentiment_analysis - INFO - {'toxicity_score': '1', 'toxicity_rationale': 'This is a technical, professional bug report describing a specific software issue with code details. The comment is purely informative, provides clear technical context, and shows no signs of negativity, hostility, or personal attacks. It appears to be a constructive contribution to troubleshooting a software problem.'}\n",
      "Analyzing comment toxicity:  46%|████▌     | 36/78 [01:58<02:08,  3.05s/it]2024-12-21 23:03:17,639 - openowl.gh_sentiment_analysis - INFO - {'toxicity_score': '1', 'toxicity_rationale': \"The comment is polite, professional, and constructive. It's a courteous request for additional information, using respectful language and a clear, neutral tone. There are no negative or hostile elements present.\"}\n",
      "Analyzing comment toxicity:  47%|████▋     | 37/78 [02:01<02:04,  3.04s/it]2024-12-21 23:03:20,965 - openowl.gh_sentiment_analysis - INFO - {'toxicity_score': '1', 'toxicity_rationale': 'This is a technical GitHub comment sharing a code snippet demonstrating a potential bug or issue with Python type hinting and Pydantic generics. The comment is purely technical, professional, and constructive, providing a clear code example and explaining the specific test scenarios and expected/observed behaviors. There is no negativity, hostility, or personal criticism present.'}\n",
      "Analyzing comment toxicity:  49%|████▊     | 38/78 [02:04<02:04,  3.12s/it]2024-12-21 23:03:24,253 - openowl.gh_sentiment_analysis - INFO - {'toxicity_score': '2', 'toxicity_rationale': 'The comment is professional and matter-of-fact, acknowledging an issue while setting realistic expectations about its resolution. While slightly dismissive by calling the use case \"exotic\", the tone remains neutral and constructive, indicating a low level of toxicity.'}\n",
      "Analyzing comment toxicity:  50%|█████     | 39/78 [02:07<02:03,  3.17s/it]2024-12-21 23:03:27,477 - openowl.gh_sentiment_analysis - INFO - {'toxicity_score': '1', 'toxicity_rationale': 'This is a completely neutral, professional performance report comment from a CI/CD system. It contains technical information about benchmark results, uses a structured format, and shows no signs of negativity, hostility, or personal attacks. The comment appears to be an objective, factual update about code performance comparison.'}\n",
      "Analyzing comment toxicity:  51%|█████▏    | 40/78 [02:10<02:01,  3.19s/it]2024-12-21 23:03:30,903 - openowl.gh_sentiment_analysis - INFO - {'toxicity_score': '1', 'toxicity_rationale': \"This is an automated coverage report comment that provides technical details about code coverage for a GitHub pull request. The comment is purely informative, objective, and contains no negative language or personal attacks. It's a standard, neutral technical report generated by a coverage tracking tool, presenting metrics and statistics in a clear, professional manner.\"}\n",
      "Analyzing comment toxicity:  53%|█████▎    | 41/78 [02:14<02:00,  3.26s/it]2024-12-21 23:03:32,866 - openowl.gh_sentiment_analysis - INFO - {'toxicity_score': '1', 'toxicity_rationale': 'The comment is a polite, brief request for a review with a friendly \"thanks!\" added. It is completely non-toxic, respectful, and follows standard collaborative communication etiquette.'}\n",
      "Analyzing comment toxicity:  54%|█████▍    | 42/78 [02:16<01:43,  2.87s/it]2024-12-21 23:03:35,797 - openowl.gh_sentiment_analysis - INFO - {'toxicity_score': '1', 'toxicity_rationale': 'This is a highly constructive and professional code review comment. The reviewer provides detailed, specific technical suggestions with clear explanations, offers concrete recommendations for improvement, and maintains a respectful, collaborative tone. The comment demonstrates thoughtful feedback aimed at enhancing the code quality, with no negative or hostile language.'}\n",
      "Analyzing comment toxicity:  55%|█████▌    | 43/78 [02:19<01:41,  2.89s/it]2024-12-21 23:03:38,971 - openowl.gh_sentiment_analysis - INFO - {'toxicity_score': '1', 'toxicity_rationale': 'This is a completely neutral, professional performance report comment containing technical details about a GitHub benchmark comparison. The comment uses structured formatting, provides clear information, and shows no signs of negativity, hostility, or personal attacks. It appears to be a standard, objective technical update.'}\n",
      "Analyzing comment toxicity:  56%|█████▋    | 44/78 [02:22<01:41,  2.97s/it]2024-12-21 23:03:42,909 - openowl.gh_sentiment_analysis - INFO - {'toxicity_score': '1', 'toxicity_rationale': 'This is an automated coverage report comment containing technical details about code coverage for a GitHub pull request. The comment is purely informative, objective, and contains no negative language or personal attacks. It provides a neutral, factual summary of code coverage statistics using badges and a detailed table, which is a standard practice in software development for tracking code quality.'}\n",
      "Analyzing comment toxicity:  58%|█████▊    | 45/78 [02:26<01:47,  3.26s/it]2024-12-21 23:03:44,817 - openowl.gh_sentiment_analysis - INFO - {'toxicity_score': '1', 'toxicity_rationale': 'The comment is polite, respectful, and includes a thank you with a heart emoji, indicating a friendly and appreciative tone. There are no negative, hostile, or harmful elements in the text.'}\n",
      "Analyzing comment toxicity:  59%|█████▉    | 46/78 [02:28<01:31,  2.86s/it]2024-12-21 23:03:48,510 - openowl.gh_sentiment_analysis - INFO - {'toxicity_score': '1', 'toxicity_rationale': 'This is a highly technical, professional, and constructive comment discussing a specific implementation issue in Pydantic. The comment provides detailed code examples, explains the current behavior, identifies a potential problem, and even tags a specific person for further discussion. The language is neutral, precise, and focused on technical problem-solving without any personal attacks or negative sentiment.'}\n",
      "Analyzing comment toxicity:  60%|██████    | 47/78 [02:31<01:36,  3.11s/it]2024-12-21 23:03:51,966 - openowl.gh_sentiment_analysis - INFO - {'toxicity_score': '1', 'toxicity_rationale': 'The comment is a thoughtful, technical discussion about JSON schema generation, presenting a personal interpretation with clear caveats. The language is professional, respectful, and constructive. The author explicitly acknowledges that this is their own interpretation and uses moderate, explanatory language without any hostile or negative tone.'}\n",
      "Analyzing comment toxicity:  62%|██████▏   | 48/78 [02:35<01:36,  3.21s/it]2024-12-21 23:03:55,542 - openowl.gh_sentiment_analysis - INFO - {'toxicity_score': '1', 'toxicity_rationale': 'The comment is a professional, thoughtful technical discussion about code design and implementation. It provides a nuanced interpretation of JSON schema handling, offers a constructive observation about potential implementation challenges, and uses neutral, respectful language typical of technical discourse. There are no personal attacks, inflammatory remarks, or negative tone - just a balanced technical perspective.'}\n",
      "Analyzing comment toxicity:  63%|██████▎   | 49/78 [02:39<01:36,  3.32s/it]2024-12-21 23:03:59,034 - openowl.gh_sentiment_analysis - INFO - {'toxicity_score': '1', 'toxicity_rationale': 'The comment is a constructive technical discussion with a thoughtful suggestion. It uses polite language, raises a potential improvement, and offers an alternative approach without being confrontational or negative. The tone is collaborative and professional, focusing on technical problem-solving.'}\n",
      "Analyzing comment toxicity:  64%|██████▍   | 50/78 [02:42<01:34,  3.37s/it]2024-12-21 23:04:02,007 - openowl.gh_sentiment_analysis - INFO - {'toxicity_score': '1', 'toxicity_rationale': 'The comment is a constructive, technical observation about potential code design approaches. It suggests an idea for maintaining immutability through input types and linting, showing a thoughtful and professional tone without any negative or hostile language.'}\n",
      "Analyzing comment toxicity:  65%|██████▌   | 51/78 [02:45<01:27,  3.25s/it]2024-12-21 23:04:04,600 - openowl.gh_sentiment_analysis - INFO - {'toxicity_score': '1', 'toxicity_rationale': \"The comment is polite, constructive, and helpful. It acknowledges the user's report, shows willingness to understand their intent, and offers assistance in finding an alternative solution. The language is respectful and collaborative, with no negative or hostile undertones.\"}\n",
      "Analyzing comment toxicity:  67%|██████▋   | 52/78 [02:48<01:19,  3.05s/it]2024-12-21 23:04:09,444 - openowl.gh_sentiment_analysis - INFO - {'toxicity_score': '1', 'toxicity_rationale': 'This is a clear, technical, and constructive comment describing a programming challenge. The language is professional, neutral, and focused on explaining a specific technical problem. The author is self-reflective about their current approach (\"pretty hacky\"), seeking improvement, and providing detailed context about their code implementation. There are no negative, aggressive, or hostile elements in the text.'}\n",
      "Analyzing comment toxicity:  68%|██████▊   | 53/78 [02:52<01:29,  3.59s/it]2024-12-21 23:04:12,689 - openowl.gh_sentiment_analysis - INFO - {'toxicity_score': '1', 'toxicity_rationale': 'The comment is a technical, professional, and constructive response. It explains a specific technical issue, acknowledges the problem, and offers to help find alternative solutions. The language is respectful, neutral, and focused on problem-solving without any negative or hostile undertones.'}\n",
      "Analyzing comment toxicity:  69%|██████▉   | 54/78 [02:56<01:23,  3.49s/it]2024-12-21 23:04:16,389 - openowl.gh_sentiment_analysis - INFO - {'toxicity_score': '1', 'toxicity_rationale': 'This is a technical code snippet shared in a neutral, professional manner. The comment contains a Python code example demonstrating generic type usage with Pydantic, and shows no signs of negativity, hostility, or toxicity. It appears to be a constructive code sharing intended to help or demonstrate a programming concept.'}\n",
      "Analyzing comment toxicity:  71%|███████   | 55/78 [02:59<01:21,  3.55s/it]2024-12-21 23:04:19,750 - openowl.gh_sentiment_analysis - INFO - {'toxicity_score': '2', 'toxicity_rationale': 'The comment is professional and polite, showing openness to further discussion despite not fully addressing the issue. While it indicates a decision that might disappoint the original poster, the tone remains constructive and respectful, offering continued dialogue. The language is neutral and courteous, avoiding any hostile or negative language.'}\n",
      "Analyzing comment toxicity:  72%|███████▏  | 56/78 [03:03<01:16,  3.49s/it]2024-12-21 23:04:23,868 - openowl.gh_sentiment_analysis - INFO - {'toxicity_score': '1', 'toxicity_rationale': 'The comment is a constructive, technical critique that provides specific, thoughtful feedback about a potential implementation issue. The language is professional, neutral, and focuses on technical concerns. The author acknowledges potential limitations, provides a hypothetical scenario, and explains their perspective without using aggressive or negative language. This is a model example of a respectful, constructive code review comment.'}\n",
      "Analyzing comment toxicity:  73%|███████▎  | 57/78 [03:07<01:17,  3.68s/it]2024-12-21 23:04:25,694 - openowl.gh_sentiment_analysis - INFO - {'toxicity_score': '1', 'toxicity_rationale': 'The comment is a neutral, professional mention of another user for potential input or assistance. It appears collaborative and respectful, with no negative language or hostile intent.'}\n",
      "Analyzing comment toxicity:  74%|███████▍  | 58/78 [03:09<01:02,  3.12s/it]2024-12-21 23:04:28,718 - openowl.gh_sentiment_analysis - INFO - {'toxicity_score': '1', 'toxicity_rationale': 'The comment is a neutral, professional suggestion about technical implementation, using respectful language and showing constructive intent to reconsider a specific technical detail. There are no negative, hostile, or inflammatory elements present.'}\n",
      "Analyzing comment toxicity:  76%|███████▌  | 59/78 [03:12<00:58,  3.09s/it]2024-12-21 23:04:32,281 - openowl.gh_sentiment_analysis - INFO - {'toxicity_score': '1', 'toxicity_rationale': 'This is a technical, code-focused comment discussing a programming implementation. The language is professional, neutral, and appears to be a genuine technical inquiry or exploration of a coding approach. There are no signs of negativity, hostility, or personal attacks. The comment reads like a constructive code snippet sharing and problem-solving discussion typical of developer collaboration.'}\n",
      "Analyzing comment toxicity:  77%|███████▋  | 60/78 [03:15<00:58,  3.23s/it]2024-12-21 23:04:34,540 - openowl.gh_sentiment_analysis - INFO - {'toxicity_score': '1', 'toxicity_rationale': 'The comment is extremely short and appears to be an incomplete or partial word/fragment with no clear context or negative intent. Without additional context, this cannot be considered toxic.'}\n",
      "Analyzing comment toxicity:  78%|███████▊  | 61/78 [03:18<00:50,  2.94s/it]2024-12-21 23:04:36,662 - openowl.gh_sentiment_analysis - INFO - {'toxicity_score': '1', 'toxicity_rationale': 'The comment is a simple, polite expression of interest in contributing, with no negative language or hostile intent. It appears to be a constructive and positive statement seeking to participate in a project.'}\n",
      "Analyzing comment toxicity:  79%|███████▉  | 62/78 [03:20<00:43,  2.70s/it]2024-12-21 23:04:40,507 - openowl.gh_sentiment_analysis - INFO - {'toxicity_score': '1', 'toxicity_rationale': 'This is a technical, detailed, and constructive comment explaining a specific programming issue. The comment provides clear, objective analysis of potential causes for a type conversion problem, using precise technical language. There are no personal attacks, negative tone, or hostile language. It appears to be a helpful, professional explanation aimed at understanding and resolving a technical challenge.'}\n",
      "Analyzing comment toxicity:  81%|████████  | 63/78 [03:23<00:45,  3.04s/it]2024-12-21 23:04:43,136 - openowl.gh_sentiment_analysis - INFO - {'toxicity_score': '1', 'toxicity_rationale': 'The comment \"take\" is extremely short and lacks context, but does not appear to contain any inherently toxic language or hostile intent. It seems like an incomplete or fragment comment that cannot be definitively classified as toxic.'}\n",
      "Analyzing comment toxicity:  82%|████████▏ | 64/78 [03:26<00:40,  2.92s/it]2024-12-21 23:04:45,355 - openowl.gh_sentiment_analysis - INFO - {'toxicity_score': '1', 'toxicity_rationale': 'The comment is professional, concise, and constructive. It identifies a potential technical issue (float32 precision) and indicates an intent to resolve it. There are no negative, hostile, or inflammatory elements in the statement.'}\n",
      "Analyzing comment toxicity:  83%|████████▎ | 65/78 [03:28<00:35,  2.71s/it]2024-12-21 23:04:47,474 - openowl.gh_sentiment_analysis - INFO - {'toxicity_score': '1', 'toxicity_rationale': 'The comment \"take\" is extremely short and lacks context, but does not appear to contain any inherently toxic language or hostile intent. It seems like an incomplete or fragment comment that cannot be definitively classified as toxic.'}\n",
      "Analyzing comment toxicity:  85%|████████▍ | 66/78 [03:30<00:30,  2.53s/it]2024-12-21 23:04:50,933 - openowl.gh_sentiment_analysis - INFO - {'toxicity_score': '1', 'toxicity_rationale': 'The comment is a polite, professional inquiry about contributing to a project and seeking clarification on a technical implementation detail. It shows respect, asks for permission, and raises a constructive question about code behavior. There are no negative, hostile, or inappropriate elements in the text.'}\n",
      "Analyzing comment toxicity:  86%|████████▌ | 67/78 [03:34<00:30,  2.81s/it]2024-12-21 23:04:53,026 - openowl.gh_sentiment_analysis - INFO - {'toxicity_score': '1', 'toxicity_rationale': 'The comment is a brief, polite suggestion for improvement with a friendly \"Thanks!\" at the end. It appears constructive and respectful, suggesting a change without any negative language or hostile tone.'}\n",
      "Analyzing comment toxicity:  87%|████████▋ | 68/78 [03:36<00:25,  2.59s/it]2024-12-21 23:04:56,228 - openowl.gh_sentiment_analysis - INFO - {'toxicity_score': '1', 'toxicity_rationale': 'The comment is a neutral, professional, and straightforward technical question about naming conventions. It shows no signs of negativity, hostility, or aggression. The user is seeking clarification in a polite and direct manner, using appropriate technical language.'}\n",
      "Analyzing comment toxicity:  88%|████████▊ | 69/78 [03:39<00:24,  2.78s/it]2024-12-21 23:04:59,608 - openowl.gh_sentiment_analysis - INFO - {'toxicity_score': '1', 'toxicity_rationale': 'The comment is a technical, informative contribution that provides a clear code example and helpful information about existing functionality. It is purely constructive, neutral in tone, and offers a precise technical explanation without any negative language or hostility.'}\n",
      "Analyzing comment toxicity:  90%|████████▉ | 70/78 [03:43<00:23,  2.96s/it]2024-12-21 23:05:02,110 - openowl.gh_sentiment_analysis - INFO - {'toxicity_score': '1', 'toxicity_rationale': 'The comment appears to be a neutral, constructive question seeking clarification or suggesting an improvement. It is phrased politely, shows engagement with the topic, and does not contain any hostile or negative language. The comment seems to be a genuine attempt to understand or propose an alternative approach.'}\n",
      "Analyzing comment toxicity:  91%|█████████ | 71/78 [03:45<00:19,  2.82s/it]2024-12-21 23:05:04,798 - openowl.gh_sentiment_analysis - INFO - {'toxicity_score': '2', 'toxicity_rationale': 'The comment appears to be a neutral, technical question about potential parameter modification. It lacks any hostile language, personal attacks, or negative tone. While slightly abrupt, it seems to be a straightforward technical inquiry seeking clarification or suggesting an alternative approach.'}\n",
      "Analyzing comment toxicity:  92%|█████████▏| 72/78 [03:48<00:16,  2.78s/it]2024-12-21 23:05:08,299 - openowl.gh_sentiment_analysis - INFO - {'toxicity_score': '1', 'toxicity_rationale': 'The comment is a constructive suggestion offering alternative technical approaches. It provides helpful, professional advice without any negative language, personal attacks, or hostile tone. The comment appears to be a genuine attempt to provide useful guidance on improving code implementation.'}\n",
      "Analyzing comment toxicity:  94%|█████████▎| 73/78 [03:51<00:14,  3.00s/it]2024-12-21 23:05:10,671 - openowl.gh_sentiment_analysis - INFO - {'toxicity_score': '1', 'toxicity_rationale': 'This is a neutral, technical comment related to an automated CI (Continuous Integration) process for pre-commit checks. It appears to be a standard system-generated message with no negative or hostile language, making it completely non-toxic.'}\n",
      "Analyzing comment toxicity:  95%|█████████▍| 74/78 [03:54<00:11,  2.81s/it]2024-12-21 23:05:16,006 - openowl.gh_sentiment_analysis - INFO - {'toxicity_score': '1', 'toxicity_rationale': 'The comment is a professional, technical discussion about pandas and NumPy data types. It provides clear code example, explains a technical limitation, and politely asks a follow-up question to colleagues. The tone is constructive, respectful, and focused on technical problem-solving with no negative language or hostility.'}\n",
      "Analyzing comment toxicity:  96%|█████████▌| 75/78 [03:59<00:10,  3.57s/it]2024-12-21 23:05:19,548 - openowl.gh_sentiment_analysis - INFO - {'toxicity_score': '1', 'toxicity_rationale': 'This is a highly technical, professional GitHub comment discussing a specific NumPy and Pandas data type conversion issue. The comment is clear, informative, references specific technical details, includes code examples, and provides context for the discussion. There is no negativity, hostility, or personal attacks - it appears to be a constructive contribution to a technical problem-solving conversation.'}\n",
      "Analyzing comment toxicity:  97%|█████████▋| 76/78 [04:03<00:07,  3.56s/it]2024-12-21 23:05:22,651 - openowl.gh_sentiment_analysis - INFO - {'toxicity_score': '1', 'toxicity_rationale': 'The comment is professional, helpful, and constructive. It provides specific technical context, asks a clarifying question, and offers assistance in troubleshooting. There are no negative, hostile, or inflammatory elements in the language or tone.'}\n",
      "Analyzing comment toxicity:  99%|█████████▊| 77/78 [04:06<00:03,  3.42s/it]2024-12-21 23:05:25,200 - openowl.gh_sentiment_analysis - INFO - {'toxicity_score': '2', 'toxicity_rationale': 'The comment is brief and direct, with a slightly dismissive tone. While not overtly hostile, the abrupt \"Nope\" and terse response could be perceived as mildly negative. The mention of a technical issue suggests a matter-of-fact communication style that might come across as curt but not intentionally toxic.'}\n",
      "Analyzing comment toxicity: 100%|██████████| 78/78 [04:08<00:00,  3.19s/it]\n"
     ]
    }
   ],
   "source": [
    "comments_df_llm = get_toxicity_scores_llm(issues_table, \"claude-3-5-haiku-latest\")\n"
   ]
  },
  {
   "cell_type": "code",
   "execution_count": 17,
   "metadata": {},
   "outputs": [
    {
     "data": {
      "text/html": [
       "<div>\n",
       "<style scoped>\n",
       "    .dataframe tbody tr th:only-of-type {\n",
       "        vertical-align: middle;\n",
       "    }\n",
       "\n",
       "    .dataframe tbody tr th {\n",
       "        vertical-align: top;\n",
       "    }\n",
       "\n",
       "    .dataframe thead th {\n",
       "        text-align: right;\n",
       "    }\n",
       "</style>\n",
       "<table border=\"1\" class=\"dataframe\">\n",
       "  <thead>\n",
       "    <tr style=\"text-align: right;\">\n",
       "      <th></th>\n",
       "      <th>datetime</th>\n",
       "      <th>issue_id</th>\n",
       "      <th>comment_details</th>\n",
       "      <th>author_association</th>\n",
       "      <th>user</th>\n",
       "      <th>reactions_plus1</th>\n",
       "      <th>reactions_minus1</th>\n",
       "      <th>reactions_laugh</th>\n",
       "      <th>reactions_hooray</th>\n",
       "      <th>reactions_confused</th>\n",
       "      <th>reactions_heart</th>\n",
       "      <th>reactions_rocket</th>\n",
       "      <th>reactions_eyes</th>\n",
       "      <th>toxicity_llm_score</th>\n",
       "      <th>toxicity_llm_rationale</th>\n",
       "    </tr>\n",
       "  </thead>\n",
       "  <tbody>\n",
       "    <tr>\n",
       "      <th>43</th>\n",
       "      <td>2024-12-01T13:05:40Z</td>\n",
       "      <td>2709132946</td>\n",
       "      <td>## [CodSpeed Performance Report](https://codsp...</td>\n",
       "      <td>NONE</td>\n",
       "      <td>codspeed-hq[bot]</td>\n",
       "      <td>0</td>\n",
       "      <td>0</td>\n",
       "      <td>0</td>\n",
       "      <td>0</td>\n",
       "      <td>0</td>\n",
       "      <td>0</td>\n",
       "      <td>0</td>\n",
       "      <td>0</td>\n",
       "      <td>1</td>\n",
       "      <td>This is a completely neutral, professional per...</td>\n",
       "    </tr>\n",
       "    <tr>\n",
       "      <th>44</th>\n",
       "      <td>2024-12-01T13:08:37Z</td>\n",
       "      <td>2709132946</td>\n",
       "      <td>## Coverage report\\n\\n\\n&lt;img title=\"Coverage f...</td>\n",
       "      <td>CONTRIBUTOR</td>\n",
       "      <td>github-actions[bot]</td>\n",
       "      <td>0</td>\n",
       "      <td>0</td>\n",
       "      <td>0</td>\n",
       "      <td>0</td>\n",
       "      <td>0</td>\n",
       "      <td>0</td>\n",
       "      <td>0</td>\n",
       "      <td>0</td>\n",
       "      <td>1</td>\n",
       "      <td>This is an automated coverage report comment c...</td>\n",
       "    </tr>\n",
       "    <tr>\n",
       "      <th>45</th>\n",
       "      <td>2024-12-01T14:47:25Z</td>\n",
       "      <td>2709132946</td>\n",
       "      <td>please review (and thank you ❤️ )</td>\n",
       "      <td>NONE</td>\n",
       "      <td>thejcannon</td>\n",
       "      <td>1</td>\n",
       "      <td>0</td>\n",
       "      <td>0</td>\n",
       "      <td>0</td>\n",
       "      <td>0</td>\n",
       "      <td>0</td>\n",
       "      <td>0</td>\n",
       "      <td>0</td>\n",
       "      <td>1</td>\n",
       "      <td>The comment is polite, respectful, and include...</td>\n",
       "    </tr>\n",
       "    <tr>\n",
       "      <th>46</th>\n",
       "      <td>2024-12-01T19:04:06Z</td>\n",
       "      <td>2709128734</td>\n",
       "      <td>Thanks for the report. While we can accept the...</td>\n",
       "      <td>MEMBER</td>\n",
       "      <td>Viicos</td>\n",
       "      <td>0</td>\n",
       "      <td>0</td>\n",
       "      <td>0</td>\n",
       "      <td>0</td>\n",
       "      <td>0</td>\n",
       "      <td>0</td>\n",
       "      <td>0</td>\n",
       "      <td>0</td>\n",
       "      <td>1</td>\n",
       "      <td>This is a highly technical, professional, and ...</td>\n",
       "    </tr>\n",
       "    <tr>\n",
       "      <th>47</th>\n",
       "      <td>2024-12-01T19:14:37Z</td>\n",
       "      <td>2709128734</td>\n",
       "      <td>&gt; We first generate the JSON Schema for the in...</td>\n",
       "      <td>NONE</td>\n",
       "      <td>thejcannon</td>\n",
       "      <td>0</td>\n",
       "      <td>0</td>\n",
       "      <td>0</td>\n",
       "      <td>0</td>\n",
       "      <td>0</td>\n",
       "      <td>0</td>\n",
       "      <td>0</td>\n",
       "      <td>0</td>\n",
       "      <td>1</td>\n",
       "      <td>The comment is a thoughtful, technical discuss...</td>\n",
       "    </tr>\n",
       "    <tr>\n",
       "      <th>...</th>\n",
       "      <td>...</td>\n",
       "      <td>...</td>\n",
       "      <td>...</td>\n",
       "      <td>...</td>\n",
       "      <td>...</td>\n",
       "      <td>...</td>\n",
       "      <td>...</td>\n",
       "      <td>...</td>\n",
       "      <td>...</td>\n",
       "      <td>...</td>\n",
       "      <td>...</td>\n",
       "      <td>...</td>\n",
       "      <td>...</td>\n",
       "      <td>...</td>\n",
       "      <td>...</td>\n",
       "    </tr>\n",
       "    <tr>\n",
       "      <th>70</th>\n",
       "      <td>2024-12-07T17:10:35Z</td>\n",
       "      <td>2722132901</td>\n",
       "      <td>But isn't it good if the columns are updated b...</td>\n",
       "      <td>NONE</td>\n",
       "      <td>kevkle</td>\n",
       "      <td>0</td>\n",
       "      <td>0</td>\n",
       "      <td>0</td>\n",
       "      <td>0</td>\n",
       "      <td>0</td>\n",
       "      <td>0</td>\n",
       "      <td>0</td>\n",
       "      <td>0</td>\n",
       "      <td>1</td>\n",
       "      <td>The comment appears to be a neutral, construct...</td>\n",
       "    </tr>\n",
       "    <tr>\n",
       "      <th>71</th>\n",
       "      <td>2024-12-07T17:43:53Z</td>\n",
       "      <td>2722132901</td>\n",
       "      <td>Or that it should be fixed with another parame...</td>\n",
       "      <td>NONE</td>\n",
       "      <td>kevkle</td>\n",
       "      <td>0</td>\n",
       "      <td>0</td>\n",
       "      <td>0</td>\n",
       "      <td>0</td>\n",
       "      <td>0</td>\n",
       "      <td>0</td>\n",
       "      <td>0</td>\n",
       "      <td>0</td>\n",
       "      <td>2</td>\n",
       "      <td>The comment appears to be a neutral, technical...</td>\n",
       "    </tr>\n",
       "    <tr>\n",
       "      <th>72</th>\n",
       "      <td>2024-12-08T03:26:32Z</td>\n",
       "      <td>2722132901</td>\n",
       "      <td>Seems `join` is more suitable in this case, or...</td>\n",
       "      <td>CONTRIBUTOR</td>\n",
       "      <td>yuanx749</td>\n",
       "      <td>0</td>\n",
       "      <td>0</td>\n",
       "      <td>0</td>\n",
       "      <td>0</td>\n",
       "      <td>0</td>\n",
       "      <td>0</td>\n",
       "      <td>0</td>\n",
       "      <td>0</td>\n",
       "      <td>1</td>\n",
       "      <td>The comment is a constructive suggestion offer...</td>\n",
       "    </tr>\n",
       "    <tr>\n",
       "      <th>0</th>\n",
       "      <td>2024-12-08T04:25:51Z</td>\n",
       "      <td>2724919914</td>\n",
       "      <td>/preview</td>\n",
       "      <td>CONTRIBUTOR</td>\n",
       "      <td>yuanx749</td>\n",
       "      <td>0</td>\n",
       "      <td>0</td>\n",
       "      <td>0</td>\n",
       "      <td>0</td>\n",
       "      <td>0</td>\n",
       "      <td>0</td>\n",
       "      <td>0</td>\n",
       "      <td>0</td>\n",
       "      <td>1</td>\n",
       "      <td>The comment \"/preview\" appears to be a neutral...</td>\n",
       "    </tr>\n",
       "    <tr>\n",
       "      <th>73</th>\n",
       "      <td>2024-12-08T05:58:34Z</td>\n",
       "      <td>2721736266</td>\n",
       "      <td>pre-commit.ci autofix</td>\n",
       "      <td>NONE</td>\n",
       "      <td>knowltod</td>\n",
       "      <td>0</td>\n",
       "      <td>0</td>\n",
       "      <td>0</td>\n",
       "      <td>0</td>\n",
       "      <td>0</td>\n",
       "      <td>0</td>\n",
       "      <td>1</td>\n",
       "      <td>0</td>\n",
       "      <td>1</td>\n",
       "      <td>This is a neutral, technical comment related t...</td>\n",
       "    </tr>\n",
       "  </tbody>\n",
       "</table>\n",
       "<p>78 rows × 15 columns</p>\n",
       "</div>"
      ],
      "text/plain": [
       "                datetime    issue_id  \\\n",
       "43  2024-12-01T13:05:40Z  2709132946   \n",
       "44  2024-12-01T13:08:37Z  2709132946   \n",
       "45  2024-12-01T14:47:25Z  2709132946   \n",
       "46  2024-12-01T19:04:06Z  2709128734   \n",
       "47  2024-12-01T19:14:37Z  2709128734   \n",
       "..                   ...         ...   \n",
       "70  2024-12-07T17:10:35Z  2722132901   \n",
       "71  2024-12-07T17:43:53Z  2722132901   \n",
       "72  2024-12-08T03:26:32Z  2722132901   \n",
       "0   2024-12-08T04:25:51Z  2724919914   \n",
       "73  2024-12-08T05:58:34Z  2721736266   \n",
       "\n",
       "                                      comment_details author_association  \\\n",
       "43  ## [CodSpeed Performance Report](https://codsp...               NONE   \n",
       "44  ## Coverage report\\n\\n\\n<img title=\"Coverage f...        CONTRIBUTOR   \n",
       "45                  please review (and thank you ❤️ )               NONE   \n",
       "46  Thanks for the report. While we can accept the...             MEMBER   \n",
       "47  > We first generate the JSON Schema for the in...               NONE   \n",
       "..                                                ...                ...   \n",
       "70  But isn't it good if the columns are updated b...               NONE   \n",
       "71  Or that it should be fixed with another parame...               NONE   \n",
       "72  Seems `join` is more suitable in this case, or...        CONTRIBUTOR   \n",
       "0                                            /preview        CONTRIBUTOR   \n",
       "73                              pre-commit.ci autofix               NONE   \n",
       "\n",
       "                   user  reactions_plus1  reactions_minus1  reactions_laugh  \\\n",
       "43     codspeed-hq[bot]                0                 0                0   \n",
       "44  github-actions[bot]                0                 0                0   \n",
       "45           thejcannon                1                 0                0   \n",
       "46               Viicos                0                 0                0   \n",
       "47           thejcannon                0                 0                0   \n",
       "..                  ...              ...               ...              ...   \n",
       "70               kevkle                0                 0                0   \n",
       "71               kevkle                0                 0                0   \n",
       "72             yuanx749                0                 0                0   \n",
       "0              yuanx749                0                 0                0   \n",
       "73             knowltod                0                 0                0   \n",
       "\n",
       "    reactions_hooray  reactions_confused  reactions_heart  reactions_rocket  \\\n",
       "43                 0                   0                0                 0   \n",
       "44                 0                   0                0                 0   \n",
       "45                 0                   0                0                 0   \n",
       "46                 0                   0                0                 0   \n",
       "47                 0                   0                0                 0   \n",
       "..               ...                 ...              ...               ...   \n",
       "70                 0                   0                0                 0   \n",
       "71                 0                   0                0                 0   \n",
       "72                 0                   0                0                 0   \n",
       "0                  0                   0                0                 0   \n",
       "73                 0                   0                0                 1   \n",
       "\n",
       "    reactions_eyes toxicity_llm_score  \\\n",
       "43               0                  1   \n",
       "44               0                  1   \n",
       "45               0                  1   \n",
       "46               0                  1   \n",
       "47               0                  1   \n",
       "..             ...                ...   \n",
       "70               0                  1   \n",
       "71               0                  2   \n",
       "72               0                  1   \n",
       "0                0                  1   \n",
       "73               0                  1   \n",
       "\n",
       "                               toxicity_llm_rationale  \n",
       "43  This is a completely neutral, professional per...  \n",
       "44  This is an automated coverage report comment c...  \n",
       "45  The comment is polite, respectful, and include...  \n",
       "46  This is a highly technical, professional, and ...  \n",
       "47  The comment is a thoughtful, technical discuss...  \n",
       "..                                                ...  \n",
       "70  The comment appears to be a neutral, construct...  \n",
       "71  The comment appears to be a neutral, technical...  \n",
       "72  The comment is a constructive suggestion offer...  \n",
       "0   The comment \"/preview\" appears to be a neutral...  \n",
       "73  This is a neutral, technical comment related t...  \n",
       "\n",
       "[78 rows x 15 columns]"
      ]
     },
     "execution_count": 17,
     "metadata": {},
     "output_type": "execute_result"
    }
   ],
   "source": [
    "\n",
    "comments_df_llm\n"
   ]
  },
  {
   "cell_type": "code",
   "execution_count": 18,
   "metadata": {},
   "outputs": [],
   "source": [
    "comments_df_llm[\"toxicity_llm_score\"] = comments_df_llm[\"toxicity_llm_score\"].astype(float)"
   ]
  },
  {
   "cell_type": "code",
   "execution_count": 22,
   "metadata": {},
   "outputs": [
    {
     "data": {
      "application/vnd.plotly.v1+json": {
       "config": {
        "plotlyServerURL": "https://plot.ly"
       },
       "data": [
        {
         "customdata": [
          "## [CodSpeed Performance<br>Report](https://codspeed.io/pydantic/pydantic/branches/thejcannon%3Apatch-1)<br>### Merging #11014 will **not alter performance**<br><sub>Comparing <code>thejcannon:patch-1</code><br>(1da5638) with <code>main</code> (6f31f8f)</sub><br>### Summary `✅ 46` untouched benchmarks",
          "## Coverage report <img title=\"Coverage for the<br>whole project is 95.84%. Previous coverage rate is<br>not available, cannot report on evolution.\"<br>src=\"https://img.shields.io/badge/Coverage-95%25-orange.svg\"><br><img title=\"100% of the statement lines added by<br>this PR are covered\"<br>src=\"https://img.shields.io/badge/PR%20Coverage-100%25-brightgreen.svg\"><details><summary>Click<br>to see where and how coverage<br>changed</summary><table><thead><br><tr><th>File</th><th>Statements</th><th>Missing</th><th>Coverage</th><th>Coverage<br>(new<br>stmts)</th><th>Lines missing</th></tr> </thead><br><tbody><tr> <td<br>colspan=\"6\">&nbsp;&nbsp;<b>pydantic</b></td><tr><br><td>&nbsp;&nbsp;<a<br>href=\"https://github.com/pydantic/pydantic/pull/11014/files#diff-a85df49955cda137dd8914c5c2c662511c672ae6519fbee16e689997e9923c65\">json_schema.py</a></td><br><td align=\"center\"><a<br>href=\"https://github.com/pydantic/pydantic/pull/11014/files#diff-a85df49955cda137dd8914c5c2c662511c672ae6519fbee16e689997e9923c65\"><img<br>title=\"This PR adds 1061 statements to<br>pydantic/json_schema.py. The file did not seem to<br>exist on the base branch.\"<br>src=\"https://img.shields.io/badge/1.1k-%28%2B1061%29-007ec6.svg\"></a></td><td<br>align=\"center\"><a<br>href=\"https://github.com/pydantic/pydantic/pull/11014/files#diff-a85df49955cda137dd8914c5c2c662511c672ae6519fbee16e689997e9923c65\"><img<br>title=\"This PR adds 37 statements missing coverage<br>to pydantic/json_schema.py. The file did not seem<br>to exist on the base branch.\"<br>src=\"https://img.shields.io/badge/37-%28%2B37%29-red.svg\"></a></td><td<br>align=\"center\"><a<br>href=\"https://github.com/pydantic/pydantic/pull/11014/files#diff-a85df49955cda137dd8914c5c2c662511c672ae6519fbee16e689997e9923c65\"><img<br>title=\"The coverage rate of<br>pydantic/json_schema.py is 94.82% (1024/1061). The<br>file did not seem to exist on the base branch.\"<br>src=\"https://img.shields.io/badge/94%25-%281.0k/1.1k%29-orange.svg\"></a></td><td<br>align=\"center\"><a<br>href=\"https://github.com/pydantic/pydantic/pull/11014/files#diff-a85df49955cda137dd8914c5c2c662511c672ae6519fbee16e689997e9923c65\"><img<br>title=\"In this PR, 1 new statements are added to<br>pydantic/json_schema.py, 1 of which are covered<br>(100%).\"<br>src=\"https://img.shields.io/badge/100%25-%281/1%29-brightgreen.svg\"></a></td><td></td></tbody><br><tfoot> <tr> <td><b>Project Total</b></td> <td<br>align=\"center\"><a<br>href=\"https://github.com/pydantic/pydantic/pull/11014/files#diff-4b0bf2efa3367c0072ac2bf1e234e703dc46b47aaa4fe9d3b01737b1a15752b1\"><img<br>title=\"This PR adds 9942 statements to the whole<br>project. The file did not seem to exist on the<br>base branch.\"<br>src=\"https://img.shields.io/badge/9.9k-%28%2B9942%29-007ec6.svg\"></a></td><td<br>align=\"center\"><a<br>href=\"https://github.com/pydantic/pydantic/pull/11014/files#diff-4b0bf2efa3367c0072ac2bf1e234e703dc46b47aaa4fe9d3b01737b1a15752b1\"><img<br>title=\"This PR adds 305 statements missing<br>coverage to the whole project. The file did not<br>seem to exist on the base branch.\"<br>src=\"https://img.shields.io/badge/305-%28%2B305%29-red.svg\"></a></td><td<br>align=\"center\"><a<br>href=\"https://github.com/pydantic/pydantic/pull/11014/files#diff-4b0bf2efa3367c0072ac2bf1e234e703dc46b47aaa4fe9d3b01737b1a15752b1\"><img<br>title=\"The coverage rate of the whole project is<br>95.84% (9637/9942). The file did not seem to exist<br>on the base branch.\"<br>src=\"https://img.shields.io/badge/95%25-%289.6k/9.9k%29-orange.svg\"></a></td><td<br>align=\"center\"><a<br>href=\"https://github.com/pydantic/pydantic/pull/11014/files#diff-4b0bf2efa3367c0072ac2bf1e234e703dc46b47aaa4fe9d3b01737b1a15752b1\"><img<br>title=\"In this PR, 1 new statements are added to<br>the whole project, 1 of which are covered (100%).\"<br>src=\"https://img.shields.io/badge/100%25-%281/1%29-brightgreen.svg\"></a></td><td>&nbsp;</td><br></tr> </tfoot> </table> <sub> This report was<br>generated by<br>[python-coverage-comment-action](https://github.com/py-cov-action/python-coverage-comment-action)<br></sub> </details> <!-- This comment was produced<br>by python-coverage-comment-action -->",
          "please review (and thank you ❤️ )",
          "Thanks for the report. While we can accept the<br>added `.copy()` call as a quick fix (or perhaps<br>even we should deep copy?), I think the deeper<br>issue is the defined semantics of<br>`WithJsonSchema`. As per [the documentation<br>example](https://docs.pydantic.dev/latest/concepts/json_schema/#withjsonschema-annotation),<br>it is expected for the provided schema to<br>`WithJsonSchema` to \"override\" the whole JSON<br>Schema generation process (that's why you need to<br>specify `'type': 'integer'`). However, this is not<br>what is happening when using a default value:<br>```python class Model(BaseModel): a:<br>Annotated[int, WithJsonSchema({})] = 1<br>Model.model_json_schema() #> {'properties': {'a':<br>{'default': 1, 'title': 'A'}}, 'title': 'Model',<br>'type': 'object'} ``` (same for `'title'`). The<br>reason is that the JSON Schema generation uses the<br>core schema of the model. For fields with default<br>values, the core schema is of type `'default'`,<br>and the \"original\" schema is wrapped under the<br>`'schema'` key: ```python<br>Model.__pydantic_core_schema__['schema']['fields']['a']['schema']<br>#> {'type': 'default', 'schema': {'type': 'int',<br>'metadata': {'<stripped>'}, 'default': 1} ``` And<br>when generating the corresponding JSON Schema:<br>https://github.com/pydantic/pydantic/blob/6f31f8f68ef011f84357330186f603ff295312fd/pydantic/json_schema.py#L1096-L1109<br>We first generate the JSON Schema for the inner<br>schema (and because of the `WithJsonSchema`<br>metadata, this will result in the empty `{}`), and<br>then mutate it to provide a default value.<br>Instead, the `WithJsonSchema` annotation metadata<br>should probably be special cased, but this breaks<br>our current annotation application logic (cc<br>@sydney-runkle).",
          "> We first generate the JSON Schema for the inner<br>schema (and because of the WithJsonSchema<br>metadata, this will result in the empty {}), and<br>then mutate it to provide a default value. That<br>aligned with my understanding of the behavior. ><br>it is expected for the provided schema to<br>WithJsonSchema to \"override\" the whole JSON Schema<br>generation process Maybe this is just my<br>interpretation, but it feels, to me, like<br>`WithJsonSchema` and `json_schema_extra` are like<br>a \"before\" and \"after\" (respectively) and all the<br>type/default/examples goes in the middle. So just<br>as providing `type` in `json_schema_extra` doesn't<br>do anything, if `WithJsonSchema` had `type` it'd<br>be respected, but if it didn't it'd be filled in.<br>(But again, this is my interpretation)",
          "## [CodSpeed Performance<br>Report](https://codspeed.io/pydantic/pydantic/branches/KCui0327%3Adecimal_constraint)<br>### Merging #11016 will **not alter performance**<br><sub>Comparing<br><code>KCui0327:decimal_constraint</code> (c159bea)<br>with <code>main</code> (32f405b)</sub> ### Summary<br>`✅ 46` untouched benchmarks",
          "## Coverage report <img title=\"Coverage for the<br>whole project is 95.79%. Previous coverage rate is<br>not available, cannot report on evolution.\"<br>src=\"https://img.shields.io/badge/Coverage-95%25-orange.svg\"><br><img title=\"58.33% of the statement lines added by<br>this PR are covered\"<br>src=\"https://img.shields.io/badge/PR%20Coverage-58%25-red.svg\"><details><summary>Click<br>to see where and how coverage<br>changed</summary><table><thead><br><tr><th>File</th><th>Statements</th><th>Missing</th><th>Coverage</th><th>Coverage<br>(new<br>stmts)</th><th>Lines missing</th></tr> </thead><br><tbody><tr> <td<br>colspan=\"6\">&nbsp;&nbsp;<b>pydantic</b></td><tr><br><td>&nbsp;&nbsp;<a<br>href=\"https://github.com/pydantic/pydantic/pull/11016/files#diff-a85df49955cda137dd8914c5c2c662511c672ae6519fbee16e689997e9923c65\">json_schema.py</a></td><br><td align=\"center\"><a<br>href=\"https://github.com/pydantic/pydantic/pull/11016/files#diff-a85df49955cda137dd8914c5c2c662511c672ae6519fbee16e689997e9923c65\"><img<br>title=\"This PR adds 1074 statements to<br>pydantic/json_schema.py. The file did not seem to<br>exist on the base branch.\"<br>src=\"https://img.shields.io/badge/1.1k-%28%2B1074%29-007ec6.svg\"></a></td><td<br>align=\"center\"><a<br>href=\"https://github.com/pydantic/pydantic/pull/11016/files#diff-a85df49955cda137dd8914c5c2c662511c672ae6519fbee16e689997e9923c65\"><img<br>title=\"This PR adds 42 statements missing coverage<br>to pydantic/json_schema.py. The file did not seem<br>to exist on the base branch.\"<br>src=\"https://img.shields.io/badge/42-%28%2B42%29-red.svg\"></a></td><td<br>align=\"center\"><a<br>href=\"https://github.com/pydantic/pydantic/pull/11016/files#diff-a85df49955cda137dd8914c5c2c662511c672ae6519fbee16e689997e9923c65\"><img<br>title=\"The coverage rate of<br>pydantic/json_schema.py is 94.36% (1032/1074). The<br>file did not seem to exist on the base branch.\"<br>src=\"https://img.shields.io/badge/94%25-%281.0k/1.1k%29-orange.svg\"></a></td><td<br>align=\"center\"><a<br>href=\"https://github.com/pydantic/pydantic/pull/11016/files#diff-a85df49955cda137dd8914c5c2c662511c672ae6519fbee16e689997e9923c65\"><img<br>title=\"In this PR, 12 new statements are added to<br>pydantic/json_schema.py, 7 of which are covered<br>(58.33%).\"<br>src=\"https://img.shields.io/badge/58%25-%287/12%29-red.svg\"></a></td><td><a<br>href=\"https://github.com/pydantic/pydantic/pull/11016/files#diff-a85df49955cda137dd8914c5c2c662511c672ae6519fbee16e689997e9923c65R712-R720\">712-720</a></td></tbody><br><tfoot> <tr> <td><b>Project Total</b></td> <td<br>align=\"center\"><a<br>href=\"https://github.com/pydantic/pydantic/pull/11016/files#diff-4b0bf2efa3367c0072ac2bf1e234e703dc46b47aaa4fe9d3b01737b1a15752b1\"><img<br>title=\"This PR adds 9947 statements to the whole<br>project. The file did not seem to exist on the<br>base branch.\"<br>src=\"https://img.shields.io/badge/9.9k-%28%2B9947%29-007ec6.svg\"></a></td><td<br>align=\"center\"><a<br>href=\"https://github.com/pydantic/pydantic/pull/11016/files#diff-4b0bf2efa3367c0072ac2bf1e234e703dc46b47aaa4fe9d3b01737b1a15752b1\"><img<br>title=\"This PR adds 308 statements missing<br>coverage to the whole project. The file did not<br>seem to exist on the base branch.\"<br>src=\"https://img.shields.io/badge/308-%28%2B308%29-red.svg\"></a></td><td<br>align=\"center\"><a<br>href=\"https://github.com/pydantic/pydantic/pull/11016/files#diff-4b0bf2efa3367c0072ac2bf1e234e703dc46b47aaa4fe9d3b01737b1a15752b1\"><img<br>title=\"The coverage rate of the whole project is<br>95.79% (9639/9947). The file did not seem to exist<br>on the base branch.\"<br>src=\"https://img.shields.io/badge/95%25-%289.6k/9.9k%29-orange.svg\"></a></td><td<br>align=\"center\"><a<br>href=\"https://github.com/pydantic/pydantic/pull/11016/files#diff-4b0bf2efa3367c0072ac2bf1e234e703dc46b47aaa4fe9d3b01737b1a15752b1\"><img<br>title=\"In this PR, 12 new statements are added to<br>the whole project, 7 of which are covered<br>(58.33%).\"<br>src=\"https://img.shields.io/badge/58%25-%287/12%29-red.svg\"></a></td><td>&nbsp;</td><br></tr> </tfoot> </table> <sub> This report was<br>generated by<br>[python-coverage-comment-action](https://github.com/py-cov-action/python-coverage-comment-action)<br></sub> </details> <!-- This comment was produced<br>by python-coverage-comment-action -->",
          "please review (thanks!)",
          "> Maybe this is just my interpretation, but it<br>feels, to me, like `WithJsonSchema` and<br>`json_schema_extra` are like a \"before\" and<br>\"after\" (respectively) and all the<br>type/default/examples goes in the middle. So just<br>as providing `type` in `json_schema_extra` doesn't<br>do anything, if `WithJsonSchema` had `type` it'd<br>be respected, but if it didn't it'd be filled in.<br>We might be going this way indeed, as special<br>casing `WithJsonSchema` to override all the JSON<br>Schema gen process is going to be breaking/too<br>hard to implement considering our actual<br>annotation application logic.",
          "@kim-youngseop-developer, Thanks for the report.<br>This is definitely something we want to fix in a<br>v2.10.X patch.",
          "cc @kc0506, I feel this might be related to the<br>mro stuff...",
          "Hmm, I think the `copy` approach could make sense<br>here, as I think the maintenance burden of special<br>casing the `WithJsonSchema` might be annoyingly<br>high. Perhaps even more contained - can we just<br>avoid mutating the inner json schema when we do<br>schema gen for values with defaults?",
          "also happens when a regular dataclass is used as<br>an arbitrary type with a `BaseModel`: ```py from<br>__future__ import annotations from dataclasses<br>import dataclass from pydantic import BaseModel<br>@dataclass class Foo[T]: value: T class<br>Bar(BaseModel, arbitrary_types_allowed=True): bar:<br>Foo[int] print(Bar(bar=Foo(1))) ``` ```<br>pydantic.errors.PydanticUserError: `Bar` is not<br>fully defined; you should define `T`, then call<br>`Bar.model_rebuild()`. ```",
          "We are also having the same issue with 2.10.x<br>versions. But we are seeing a different regression<br>with the `mro()` where we are accessing the `mro`:<br>``` derived_from = some_generic_model.mro()<br>AttributeError: 'PydanticRecursiveRef' object has<br>no attribute 'mro' ```",
          "I suspect this may be related to<br>https://github.com/pydantic/pydantic/blob/aee6057378ccfec02126bf9c984a9b6d6b411777/pydantic/functional_validators.py#L130<br>(maybe it doesn't handle more complex schemas?)",
          "cc @Viicos",
          "@MarkusSintonen, Thanks for the report. Could you<br>provide a full MRO for your use case? Thank you!",
          "@sydney-runkle : ```python from typing import<br>Generic, TypeVar from pydantic import BaseModel<br>import pytest<br>@pytest.mark.parametrize(\"inner_mro_access\",<br>[True, False]) # Both fail but it used to work def<br>test_bug(inner_mro_access: bool): T = TypeVar(\"T\")<br>C = TypeVar(\"C\") class BaseInner(BaseModel,<br>Generic[T, C]): def __class_getitem__(cls,<br>params): klass = super().__class_getitem__(params)<br>if inner_mro_access: klass.mro() return klass<br>class BaseOuter(BaseModel, Generic[T, C]): field1:<br>BaseInner[T, C] class Inner(BaseInner[int, C],<br>BaseModel, Generic[C]): pass class<br>Outer(BaseOuter[int, C], BaseModel, Generic[C]):<br>field2: Inner[C] # inner_mro_access=False. Fails:<br>TypeError: mro() returned a non-class<br>('PydanticRecursiveRef') # inner_mro_access=True.<br>Fails: AttributeError: 'PydanticRecursiveRef'<br>object has no attribute 'mro' Outer[int] ```",
          "## [CodSpeed Performance<br>Report](https://codspeed.io/pydantic/pydantic/branches/kc0506%3Afix-11024)<br>### Merging #11037 will **not alter performance**<br><sub>Comparing <code>kc0506:fix-11024</code><br>(954e61d) with <code>main</code> (aee6057)</sub><br>### Summary `✅ 46` untouched benchmarks",
          "## Coverage report <img title=\"Coverage for the<br>whole project is 95.84%. Previous coverage rate is<br>not available, cannot report on evolution.\"<br>src=\"https://img.shields.io/badge/Coverage-95%25-orange.svg\"><br><img title=\"81.81% of the statement lines added by<br>this PR are covered\"<br>src=\"https://img.shields.io/badge/PR%20Coverage-81%25-orange.svg\"><details><summary>Click<br>to see where and how coverage<br>changed</summary><table><thead><br><tr><th>File</th><th>Statements</th><th>Missing</th><th>Coverage</th><th>Coverage<br>(new<br>stmts)</th><th>Lines missing</th></tr> </thead><br><tbody><tr> <td<br>colspan=\"6\">&nbsp;&nbsp;<b>pydantic/_internal</b></td><tr><br><td>&nbsp;&nbsp;<a<br>href=\"https://github.com/pydantic/pydantic/pull/11037/files#diff-106c17841815abb5e16d2ef6120bbaf9033249d900a633b6648ff37d34394933\">_generics.py</a></td><br><td align=\"center\"><a<br>href=\"https://github.com/pydantic/pydantic/pull/11037/files#diff-106c17841815abb5e16d2ef6120bbaf9033249d900a633b6648ff37d34394933\"><img<br>title=\"This PR adds 225 statements to<br>pydantic/_internal/_generics.py. The file did not<br>seem to exist on the base branch.\"<br>src=\"https://img.shields.io/badge/225-%28%2B225%29-007ec6.svg\"></a></td><td<br>align=\"center\"><a<br>href=\"https://github.com/pydantic/pydantic/pull/11037/files#diff-106c17841815abb5e16d2ef6120bbaf9033249d900a633b6648ff37d34394933\"><img<br>title=\"This PR adds 12 statements missing coverage<br>to pydantic/_internal/_generics.py. The file did<br>not seem to exist on the base branch.\"<br>src=\"https://img.shields.io/badge/12-%28%2B12%29-red.svg\"></a></td><td<br>align=\"center\"><a<br>href=\"https://github.com/pydantic/pydantic/pull/11037/files#diff-106c17841815abb5e16d2ef6120bbaf9033249d900a633b6648ff37d34394933\"><img<br>title=\"The coverage rate of<br>pydantic/_internal/_generics.py is 93% (213/225).<br>The file did not seem to exist on the base<br>branch.\"<br>src=\"https://img.shields.io/badge/93%25-%28213/225%29-orange.svg\"></a></td><td<br>align=\"center\"><a<br>href=\"https://github.com/pydantic/pydantic/pull/11037/files#diff-106c17841815abb5e16d2ef6120bbaf9033249d900a633b6648ff37d34394933\"><img<br>title=\"In this PR, 1 new statements are added to<br>pydantic/_internal/_generics.py, 1 of which are<br>covered (100%).\"<br>src=\"https://img.shields.io/badge/100%25-%281/1%29-brightgreen.svg\"></a></td><td></td><tr><br><td>&nbsp;&nbsp;<a<br>href=\"https://github.com/pydantic/pydantic/pull/11037/files#diff-ea75a1ef1da6bb38913477e979605f6a05e2ffe8c28fe47d9b798c89ba436c7c\">_model_construction.py</a></td><br><td align=\"center\"><a<br>href=\"https://github.com/pydantic/pydantic/pull/11037/files#diff-ea75a1ef1da6bb38913477e979605f6a05e2ffe8c28fe47d9b798c89ba436c7c\"><img<br>title=\"This PR adds 372 statements to<br>pydantic/_internal/_model_construction.py. The<br>file did not seem to exist on the base branch.\"<br>src=\"https://img.shields.io/badge/372-%28%2B372%29-007ec6.svg\"></a></td><td<br>align=\"center\"><a<br>href=\"https://github.com/pydantic/pydantic/pull/11037/files#diff-ea75a1ef1da6bb38913477e979605f6a05e2ffe8c28fe47d9b798c89ba436c7c\"><img<br>title=\"This PR adds 5 statements missing coverage<br>to pydantic/_internal/_model_construction.py. The<br>file did not seem to exist on the base branch.\"<br>src=\"https://img.shields.io/badge/5-%28%2B5%29-red.svg\"></a></td><td<br>align=\"center\"><a<br>href=\"https://github.com/pydantic/pydantic/pull/11037/files#diff-ea75a1ef1da6bb38913477e979605f6a05e2ffe8c28fe47d9b798c89ba436c7c\"><img<br>title=\"The coverage rate of<br>pydantic/_internal/_model_construction.py is<br>98.09% (367/372). The file did not seem to exist<br>on the base branch.\"<br>src=\"https://img.shields.io/badge/98%25-%28367/372%29-orange.svg\"></a></td><td<br>align=\"center\"><a<br>href=\"https://github.com/pydantic/pydantic/pull/11037/files#diff-ea75a1ef1da6bb38913477e979605f6a05e2ffe8c28fe47d9b798c89ba436c7c\"><img<br>title=\"In this PR, 10 new statements are added to<br>pydantic/_internal/_model_construction.py, 8 of<br>which are covered (80%).\"<br>src=\"https://img.shields.io/badge/80%25-%288/10%29-orange.svg\"></a></td><td><a<br>href=\"https://github.com/pydantic/pydantic/pull/11037/files#diff-ea75a1ef1da6bb38913477e979605f6a05e2ffe8c28fe47d9b798c89ba436c7cR329-R330\">329-330</a></td></tbody><br><tfoot> <tr> <td><b>Project Total</b></td> <td<br>align=\"center\"><a<br>href=\"https://github.com/pydantic/pydantic/pull/11037/files#diff-4b0bf2efa3367c0072ac2bf1e234e703dc46b47aaa4fe9d3b01737b1a15752b1\"><img<br>title=\"This PR adds 9943 statements to the whole<br>project. The file did not seem to exist on the<br>base branch.\"<br>src=\"https://img.shields.io/badge/9.9k-%28%2B9943%29-007ec6.svg\"></a></td><td<br>align=\"center\"><a<br>href=\"https://github.com/pydantic/pydantic/pull/11037/files#diff-4b0bf2efa3367c0072ac2bf1e234e703dc46b47aaa4fe9d3b01737b1a15752b1\"><img<br>title=\"This PR adds 304 statements missing<br>coverage to the whole project. The file did not<br>seem to exist on the base branch.\"<br>src=\"https://img.shields.io/badge/304-%28%2B304%29-red.svg\"></a></td><td<br>align=\"center\"><a<br>href=\"https://github.com/pydantic/pydantic/pull/11037/files#diff-4b0bf2efa3367c0072ac2bf1e234e703dc46b47aaa4fe9d3b01737b1a15752b1\"><img<br>title=\"The coverage rate of the whole project is<br>95.84% (9639/9943). The file did not seem to exist<br>on the base branch.\"<br>src=\"https://img.shields.io/badge/95%25-%289.6k/9.9k%29-orange.svg\"></a></td><td<br>align=\"center\"><a<br>href=\"https://github.com/pydantic/pydantic/pull/11037/files#diff-4b0bf2efa3367c0072ac2bf1e234e703dc46b47aaa4fe9d3b01737b1a15752b1\"><img<br>title=\"In this PR, 11 new statements are added to<br>the whole project, 9 of which are covered<br>(81.81%).\"<br>src=\"https://img.shields.io/badge/81%25-%289/11%29-orange.svg\"></a></td><td>&nbsp;</td><br></tr> </tfoot> </table> <sub> This report was<br>generated by<br>[python-coverage-comment-action](https://github.com/py-cov-action/python-coverage-comment-action)<br></sub> </details> <!-- This comment was produced<br>by python-coverage-comment-action -->",
          "@DenSinH, Thanks for the report. Honestly, I<br>don't think this was meant to be supported in<br>earlier versions. I don't exactly understand what<br>you're going for here - perhaps we could help you<br>figure out another way to get your desired<br>outcome?",
          "Another way would be perfectly fine, I think the<br>way I am doing it is pretty hacky anyway.<br>Basically, I have a generic model, and I am trying<br>to get the generic parameter at runtime (within<br>the constructor, it need not be stored as a field<br>though). It is supposed to be a type (or a<br>GenericAlias like `np.ndarray[1000, float]`). The<br>way I am currently getting the type parameter is<br>that I add a field to my model, of type<br>`type[_T]`, then at runtime, I read out the<br>annotation of this field and retrieve the type<br>from it, assigning it to the corresponding field.<br>It doesn't work in the later versions because<br>`np.ndarray[...]` is not a type, but a<br>GenericAlias, and the construction of the submodel<br>fails. In short, what I am trying to achieve is<br>this: I have a model inheriting from<br>`Generic[_T]`, and I want to determine the value<br>of `_T` at runtime (within the constructor, it<br>need not be a field necessarily though), for a<br>given instance of my model.",
          "> It doesn't work in the later versions because<br>np.ndarray[...] is not a type, but a GenericAlias,<br>and the construction of the submodel fails.<br>Indeed, this is what's happening now. Looking into<br>alternative solutions for you. Thanks for the<br>explanation!",
          "How about this? ```py from pydantic import<br>BaseModel from typing import Generic, TypeVar _T =<br>TypeVar(\"_T\") class BaseGeneric(BaseModel,<br>Generic[_T]): field: _T x =<br>BaseGeneric[str](field=\"x\")<br>print(x.__pydantic_generic_metadata__) #><br>{'origin': <class '__main__.BaseGeneric'>, 'args':<br>(<class 'str'>,), 'parameters': ()} ```",
          "Going to close this as resolved for now, as I<br>don't think we're going to change the<br>`inspect.isclass` check that you were running<br>into. Happy to continue discussing a solution to<br>your use case, though!",
          "Seems like this only shows up with pretty exotic<br>use cases of generics. We certainly want to fix,<br>but this will fall into the scope of v2.10.4",
          "This looks like it might work, though it may<br>break with inheritance. For example, I might<br>inherit from `BaseGeneric[bool]` explicitly, and<br>the metadata will not contain any generic<br>parameter. I'm not currently at my laptop so I<br>can't try it but I think that would break, and I<br>do need it for my use case.",
          "cc @dmontagu, you might have a better idea here",
          "##### FastAPI code using the specified models<br>```python # 3rd party from fastapi import FastAPI<br>from models.data_source import ValidationRequest #<br>Create FastAPI app app = FastAPI() @app.post(\"/\")<br>async def validate_account_access(req_body:<br>ValidationRequest): print(req_body) return {} ```",
          "Reopening, I think we might reconsider greater<br>support for `type[SomeGenericAlias]`",
          "## Deploying pydantic-docs with &nbsp;<a<br>href=\"https://pages.dev\"><img alt=\"Cloudflare<br>Pages\"<br>src=\"https://user-images.githubusercontent.com/23264/106598434-9e719e00-654f-11eb-9e59-6167043cfa01.png\"<br>width=\"16\"></a> &nbsp;Cloudflare Pages<br><table><tr><td><strong>Latest commit:</strong><br></td><td> <code>cee8e66</code> </td></tr><br><tr><td><strong>Status:</strong></td><td>&nbsp;✅&nbsp;<br>Deploy successful!</td></tr><br><tr><td><strong>Preview URL:</strong></td><td> <a<br>href='https://4d5ac918.pydantic-docs.pages.dev'>https://4d5ac918.pydantic-docs.pages.dev</a><br></td></tr> <tr><td><strong>Branch Preview<br>URL:</strong></td><td> <a<br>href='https://testing-expeirment.pydantic-docs.pages.dev'>https://testing-expeirment.pydantic-docs.pages.dev</a><br></td></tr> </table> [View<br>logs](https://dash.cloudflare.com/?to=/:account/pages/view/pydantic-docs/4d5ac918-b978-4341-808e-4517abe7598c)",
          "## [CodSpeed Performance<br>Report](https://codspeed.io/pydantic/pydantic/branches/testing-expeirment)<br>### Merging #11044 will **not alter performance**<br><sub>Comparing <code>testing-expeirment</code><br>(cee8e66) with <code>main</code> (3173cf5)</sub><br>### Summary `✅ 46` untouched benchmarks",
          "## Coverage report <img title=\"Coverage for the<br>whole project is 95.85%. Previous coverage rate is<br>not available, cannot report on evolution.\"<br>src=\"https://img.shields.io/badge/Coverage-95%25-orange.svg\"><br><img title=\"100% of the statement lines added by<br>this PR are covered\"<br>src=\"https://img.shields.io/badge/PR%20Coverage-100%25-brightgreen.svg\"><br>_This PR does not seem to contain any modification<br>to coverable code._ <!-- This comment was produced<br>by python-coverage-comment-action -->",
          "Oh yeah the `input_schema` is `{'type': 'union',<br>'choices': [{'type': 'definition-ref',<br>'schema_ref': '__main__.TypeA:5517702256'},<br>{'type': 'definition-ref', 'schema_ref':<br>'__main__.TypeB:5805303600'}]}` so the<br>`resolve_ref_schema` call should be recursive over<br>the input schema",
          "Which means the workaround is obviously to make<br>the input schema.... a `TypeAliasType`! 😂",
          "Sorry about this, please can you confirm if<br>you're still have issues?",
          "I was just messing around with it again,<br>something like this does what I want, but ideally,<br>I do not want to edit the `model_config` (or even<br>better: not have the `pytype` field at all)<br>```python from typing import Generic, TypeVar,<br>Annotated from pydantic import BaseModel, Field,<br>ConfigDict, SkipValidation import numpy as np _T =<br>TypeVar(\"_T\") class BaseGeneric(BaseModel,<br>Generic[_T]): model_config = ConfigDict(<br>arbitrary_types_allowed=True, ) pytype:<br>Annotated[_T, SkipValidation, Field(default=None,<br>validate_default=False, exclude=True, repr=False,<br>frozen=True)] def get_type(self) -> type[_T]:<br>return self.model_fields[\"pytype\"].annotation<br>class BoolDerived(BaseGeneric[bool]): pass test =<br>BoolDerived() x = BaseGeneric[np.ndarray[1000,<br>np.uint8]]() print(test.get_type())<br>print(x.get_type()) ```",
          "Thanks for the report. I see that the python<br>version you're trying to build against is 3.9<br>which has been removed in the main branch in<br>https://github.com/pandas-dev/pandas/pull/58238.<br>Are you able to build pandas with python 3.10+<br>with meson 1.2.1?",
          "Hi @asishm Nope. With 3.11 also, we hit the same<br>issue.",
          "I think the easiest here would be to just have<br>`json_schema_input_type` core schema as part of<br>the validator core schema (so that the definition<br>is not removed, because anything in the metadata<br>is ignored). Or else, as @thejcannon mentioned we<br>need to recursively inline references, but this<br>means we need to make use of the `WalkCoreSchema`<br>utils which presumably are going to be removed if<br>we go along with Markus' work. @sydney-runkle<br>wdyt?",
          "UPDATE: I just tried to rollback pydantic<br>version. With this version there is no issue with<br>apache: ``` pydantic==2.5.2 pydantic_core==2.14.5<br>``` What was introduced between 2.5.2 and 2.7.1<br>that can cause this?",
          "This workaround works: ```python class<br>MyParent(BaseModel): model_config =<br>ConfigDict(populate_by_name=True) class<br>MyModel(MyParent): my_field: int = Field(...,<br>alias=\"my.field\") my_model = MyModel(my_field=1) #<br>Works as expected ```",
          "It will be difficult for use to debug the issue,<br>unless you can provide a repo with clear<br>reproduction steps (I can test on both Linux and<br>Windows). I would suggest attaching a debugger or<br>try profiling with<br>[`py-spy`](https://github.com/benfred/py-spy), and<br>see where the code hangs.",
          "Thanks for the report. pandas does not have any<br>support for NumPy string dtype yet, so these are<br>treated purely as Python objects. That is why<br>without conversion, pandas results in object<br>dtype. ```python df_with_numpy_values =<br>pd.DataFrame( { \"col_int\": [np.int64(1),<br>np.int64(2)], \"col_float\": [np.float64(1.5),<br>np.float64(2.5)], \"col_bool\": [np.bool_(True),<br>np.bool_(False)], \"col_str\": [np.str_(\"a\"),<br>np.str_(\"b\")], } )<br>print(df_with_numpy_values.dtypes) # col_int int64<br># col_float float64 # col_bool bool # col_str<br>object # dtype: object ``` @jorisvandenbossche<br>@WillAyd - do we have any tracking issues for<br>NumPy string dtype support? I'm not seeing any.",
          "@rhshadrach note that this is not about the numpy<br>new string dtype, but about the older unicode<br>string dtype `\"U\"` and its scalars (but an issue<br>about the new numpy string dtype is<br>https://github.com/pandas-dev/pandas/issues/58503)<br>> Calling .astype(object) on a dataframe with<br>numpy values converts the types of the values to<br>the python equivalents, except for numy.str_. The<br>issue here is that this column is _already_ object<br>dtype (storing those `np.str_` scalars), as<br>@rhshadrach showed above, and therefore the<br>`astype(object)` step does nothing. With the<br>upcoming pandas 3.0 (or on main testing with<br>enabling the future option), we will start to<br>infer the numpy scalars as a proper string dtype<br>instead of object dtype, and at that point<br>`astype(object)` will also convert it to python<br>strings: ``` In [13]:<br>pd.options.future.infer_string = True In [14]:<br>df_with_numpy_values = pd.DataFrame( ...: { ...:<br>\"col_int\": [np.int64(1), np.int64(2)], ...:<br>\"col_float\": [np.float64(1.5), np.float64(2.5)],<br>...: \"col_bool\": [np.bool_(True),<br>np.bool_(False)], ...: \"col_str\": [np.str_(\"a\"),<br>np.str_(\"b\")], ...: } ...: ) In [15]:<br>print(df_with_numpy_values.dtypes) col_int int64<br>col_float float64 col_bool bool col_str str dtype:<br>object In [16]:<br>type(df_with_numpy_values[\"col_str\"].astype(object)[0])<br>Out[16]: str ```",
          "The issue you're facing with Pydantic 2.10.3 is<br>related to a change in behavior for fields marked<br>as Optional or Maybe types when the default value<br>is set to None. In Pydantic 2.x, a stricter<br>validation mechanism was introduced. By default,<br>when you use Field(None), it implies that the<br>field can be None, but the presence of a None<br>value can cause issues when validation is done.<br>The key difference here is that Field(None) now<br>treats the field as required, which is why you're<br>encountering the Field required error. Solution<br>example `from typing import Optional import<br>uvicorn from fastapi import FastAPI from pydantic<br>import BaseModel, Field app = FastAPI() class<br>Item(BaseModel): field: Optional[int] = None # Use<br>Optional[int] and set default to None<br>@app.post(\"/items/\") async def create_item(item:<br>Item): return item uvicorn.run(app) ` To solve the<br>issue and allow the field to be blank or None<br>without raising the validation error, you can make<br>the following adjustment: Use Field(default=None)<br>instead of Field(None) to explicitly mark the<br>field as optional without requiring a value. You<br>can also use Optional from typing instead of<br>relying on Maybe, since Optional explicitly means<br>the field can either have a value or be None",
          "> Thanks for the PR. A couple remarks on the<br>pattern implementation: > > * Can't we also set a<br>pattern if only `decimal_places` is set? > > * I'm<br>wondering if we should special case leading zeros<br>differently. What we could do is: > > * in<br>validation, allow arbitrary leading zeros to be<br>specified. Pydantic will not error during<br>validation. > * in serialization, only allow a<br>single 0 or `[1-9]` followed by the constrained<br>number of integers. > > * Taking into account what<br>was said above, let's define the pattern as a<br>private constant in this module, and explain it<br>with comments (and then compile with the<br>`re.VERBOSE` flag), e.g: > ```python ><br>_DECIMAL_PATTERN = r\"\"\" > ^-? # Possible minus<br>sign > ... > \"\"\" > ``` Hi @Viicos, thank you for<br>your feedback! I have address your feedback in the<br>latest commits, please let me know if there's any<br>other changes I should add.",
          "> The issue you're facing with Pydantic 2.10.3 is<br>related to a change in behavior for fields marked<br>as Optional or Maybe types when the default value<br>is set to None. > > In Pydantic 2.x, a stricter<br>validation mechanism was introduced. By default,<br>when you use Field(None), it implies that the<br>field can be None, but the presence of a None<br>value can cause issues when validation is done.<br>The key difference here is that Field(None) now<br>treats the field as required, which is why you're<br>encountering the Field required error. > ><br>Solution example `from typing import Optional<br>import uvicorn from fastapi import FastAPI from<br>pydantic import BaseModel, Field > > app =<br>FastAPI() > > class Item(BaseModel): field:<br>Optional[int] = None # Use Optional[int] and set<br>default to None > > @app.post(\"/items/\") async def<br>create_item(item: Item): return item > ><br>uvicorn.run(app) ` > > To solve the issue and<br>allow the field to be blank or None without<br>raising the validation error, you can make the<br>following adjustment: > > Use Field(default=None)<br>instead of Field(None) to explicitly mark the<br>field as optional without requiring a value. You<br>can also use Optional from typing instead of<br>relying on Maybe, since Optional explicitly means<br>the field can either have a value or be None This<br>has nothing to do with optional values, it's<br>related to a regex in the email validator which<br>explicitly excludes the period character in the<br>display name for NameEmail.",
          "You're absolutely correct — the issue lies in the<br>NameEmail regex validator's strict enforcement of<br>rules for the display name, which excludes the use<br>of a period (.) in certain contexts. Pydantic's<br>NameEmail relies on a strict interpretation of the<br>RFC 5322 standard for email addresses, and its<br>display name validation doesn't account for names<br>with periods used as abbreviations. To resolve<br>this, you need to override the default behavior of<br>NameEmail and adjust the regex used for validating<br>the display name.",
          "@Viicos There you go, I've created a repo with<br>instructions. Please see:<br>https://github.com/asaff1/pydantic_mod_wsgi_bug<br>I've tested the bug indeed happens on two Windows<br>machines. You can try different versions of<br>apache, mod-wsgi, I believe that bug will happen<br>anyway. From my experiments, it seems like the<br>issue is when str strip is on. This for some<br>reason cause apache to crash. I know it might not<br>strictly be an issue with pydantic, but I'd like<br>to get some insight what is going on there.",
          "Types are implemented in different styles within<br>Pydantic. The validation only really works in the<br>context of BaseModel, or TypeAdapter. I suspect<br>this is the source of the inconsistency in the two<br>(stylistically) different examples you provided.<br>This is perhaps creating some confusion. More info<br>on TypeAdapter.<br>https://docs.pydantic.dev/latest/api/type_adapter/<br>To demonstrate this in the REPL. (No validation is<br>occurring here, only assigning of values) ```bash<br>In [12]: from pydantic import NameEmail,<br>PositiveInt In [13]: PositiveInt(-7) Out[13]: -7<br>In [14]: NameEmail(1, 2) Out[14]:<br>NameEmail(name=1, email=2) In [15]:<br>NameEmail(PositiveInt(-7), NameEmail(\"a\", \"b\"))<br>Out[15]: NameEmail(name=-7,<br>email=NameEmail(name='a', email='b')) ``` I<br>believe the underlying issue can be resolved by<br>quoting the string. ```bash In [19]: name_email =<br>TypeAdapter(NameEmail).validate_python('\"Homer J.<br>Simpson\" <jsimpson@a.com>') In [20]: name_email<br>Out[20]: NameEmail(name='Homer J. Simpson',<br>email='jsimpson@a.com') ```",
          "Thanks for the responses, but perhaps my original<br>example wasn't clear. I don't have an issue with<br>creating a NameEmail with or without a<br>TypeAdapter, but the issue is when I want to<br>validate it from an input string. I don't control<br>the input, so quoting the display name as<br>suggested is not an option. To adapt my original<br>example, you can see there are two different<br>outcomes when I would expect them to behave the<br>same: ```py from pydantic import BaseModel,<br>NameEmail, ValidationError class User(BaseModel):<br>name_email: NameEmail # This works try: user =<br>User( name_email=NameEmail( name=\"Homer J.<br>Simpson\", email=\"homer@thesimpsons.com\", ), )<br>print(f\"{user}\") except ValidationError as e:<br>print(f\"{e}\") # This is a validation error try:<br>user = User.model_validate( { \"name_email\": \"Homer<br>J. Simpson <homer@thesimpsons.com>\", } )<br>print(f\"{user}\") except ValidationError as e:<br>print(f\"{e}\") ``` To respond to @sangameshbagewadi<br>, section 4.1 in the RFC document you cite<br>explicitly states that names with periods in them<br>must be interpreted properly:<br>https://datatracker.ietf.org/doc/html/rfc5322#section-4.1",
          "Try this `from pydantic import BaseModel,<br>ValidationError from pydantic.networks import<br>EmailStr from typing import Any class<br>CustomNameEmail: def __init__(self, name: str,<br>email: str): self.name = name self.email = email<br>@classmethod def validate(cls, value: Any) -><br>\"CustomNameEmail\": if isinstance(value, str): try:<br># Split the input into \"name\" and \"email\" parts<br>name, email = value.rsplit(\" <\", 1) email =<br>email.rstrip(\">\") if not email or \"@\" not in<br>email: raise ValueError(\"Invalid email format\") #<br>Return a validated CustomNameEmail instance return<br>cls(name=name.strip(), email=email.strip()) except<br>ValueError: raise ValueError(f\"Invalid NameEmail<br>format: {value}\") raise TypeError(\"Expected a<br>string for NameEmail\") def __repr__(self): return<br>f\"{self.name} <{self.email}>\" def __str__(self):<br>return self.__repr__() class User(BaseModel):<br>name_email: CustomNameEmail @classmethod def<br>model_validate(cls, value: dict): # Manually apply<br>validation using CustomNameEmail try:<br>value['name_email'] =<br>CustomNameEmail.validate(value['name_email'])<br>except (ValueError, TypeError) as e: raise<br>ValidationError(str(e)) return cls(**value) #<br>Example Usage # This works try: user = User(<br>name_email=CustomNameEmail( name=\"Homer J.<br>Simpson\", email=\"homer@thesimpsons.com\", ) )<br>print(f\"User (manual init): {user}\") except<br>ValidationError as e: print(f\"Validation Error:<br>{e}\") # This is now consistent try: user =<br>User.model_validate( { \"name_email\": \"Homer J.<br>Simpson <homer@thesimpsons.com>\", } ) print(f\"User<br>(string input): {user}\") except ValidationError as<br>e: print(f\"Validation Error: {e}\") `",
          "@Viicos, if I understand your point correctly,<br>we'd be migrating this info out of metadata and<br>onto the core schema directly? I'm in favor of<br>this approach for now, you know how I dislike our<br>current metadata pattern 😆 If you'd like, I'm<br>happy to take this task on.",
          "(mine is just mostly a passerby comment, but I<br>wonder if \"don't mutate\" would be feasible in a<br>maintainable fashion with a combo of \"input types<br>declared as immutable types like `Mapping`, and a<br>linter that enforces the requirement)",
          "## Deploying pydantic-docs with &nbsp;<a<br>href=\"https://pages.dev\"><img alt=\"Cloudflare<br>Pages\"<br>src=\"https://user-images.githubusercontent.com/23264/106598434-9e719e00-654f-11eb-9e59-6167043cfa01.png\"<br>width=\"16\"></a> &nbsp;Cloudflare Pages<br><table><tr><td><strong>Latest commit:</strong><br></td><td> <code>0ec2a4c</code> </td></tr><br><tr><td><strong>Status:</strong></td><td>&nbsp;✅&nbsp;<br>Deploy successful!</td></tr><br><tr><td><strong>Preview URL:</strong></td><td> <a<br>href='https://97ce1275.pydantic-docs.pages.dev'>https://97ce1275.pydantic-docs.pages.dev</a><br></td></tr> <tr><td><strong>Branch Preview<br>URL:</strong></td><td> <a<br>href='https://validators-docs.pydantic-docs.pages.dev'>https://validators-docs.pydantic-docs.pages.dev</a><br></td></tr> </table> [View<br>logs](https://dash.cloudflare.com/?to=/:account/pages/view/pydantic-docs/97ce1275-6154-4b39-8c4e-bdf0160d9bd3)",
          "## [CodSpeed Performance<br>Report](https://codspeed.io/pydantic/pydantic/branches/validators-docs)<br>### Merging #11060 will **not alter performance**<br><sub>Comparing <code>validators-docs</code><br>(0ec2a4c) with <code>main</code> (32f405b)</sub><br>### Summary `✅ 46` untouched benchmarks",
          "Seems like a float32 precision issue. Will work<br>on a fix.",
          "take",
          "i would like to contribute",
          "i would like to contribute if thats ok for you<br>The question is whether an error should be raised<br>or the columns should be renamed ?",
          "take",
          "take",
          "@sangameshbagewadi we appreciate the help but<br>your (AI generated?) answers are irrelevant and<br>poorly formatted. I marked them as off topic,<br>please avoid doing so again.",
          "The `NameEmail` type is a bit confusing, because<br>it is meant to be used as an annotation in a<br>Pydantic context (i.e. as a field type/with<br>`TypeAdapter`). However, it is instantiable even<br>though no validation is performed on<br>instantiation. Doing: ```python user = User(<br>name_email=NameEmail( name=\"Homer J. Simpson\",<br>email=\"homer@thesimpsons.com\", ), ) ``` will *not*<br>perform any validation, because the validation<br>function (which is **only called during Pydantic<br>validation**, not instantiation) is defined as:<br>https://github.com/pydantic/pydantic/blob/32f405bcf6171602ffe754f1fca1681c5ddee96e/pydantic/networks.py#L1008-L1013<br>which is arguably flawed: the `input_value` type<br>hint indicates that validating as a `NameInstance`<br>is supported (because we allow `Self`) but we<br>don't perform any validation here (probably it was<br>assumed here that if it is an instance, it was<br>already validated, perhaps on init or from another<br>model validation). cc @sydney-runkle, this is<br>similar to the URL types, we are missing<br>consistency here. Whether we should allow period<br>in names or not, from my understanding of<br>https://datatracker.ietf.org/doc/html/rfc5322#section-4<br>we should. It is an obsolete token, but: > they<br>MUST be accepted and parsed by a conformant<br>receiver.",
          "> @sangameshbagewadi we appreciate the help but<br>your (AI generated?) answers are irrelevant and<br>poorly formatted. I marked them as off topic,<br>please avoid doing so again. Thank you for<br>feedback but using AI in search for possible<br>solutions is not out of the question it is using<br>tools of tomorrow. It is not a response that<br>failed but the issue itself, for its subtlety<br>cannot be aptly conveyed in that media. Instead of<br>discarding an idea, it is better to offer<br>constructive suggestions.",
          "Thanks but no thanks. Please take time to assess<br>the really poor quality of your answers,<br>especially [this<br>one](https://github.com/pydantic/pydantic/issues/11056#issuecomment-2523096948).",
          "columns should be renamed , Thanks!",
          "1. The cause of the problem should be that the<br>type of the index was not correctly marked when<br>reading back with pyarrow, resulting in the<br>inability to convert the index that should have<br>been of bool type into bool type during subsequent<br>type conversion in pandas. 2. Another point is the<br>special aspect when converting the object type to<br>the bool type. Any non-zero and non-empty values<br>will be converted to True of the bool type, which<br>leads to all the indexes shown in the error<br>message being True.",
          "take",
          "Hi, in terms of renaming scheme, I assume we<br>would the usual _x and _y default suffixes that we<br>see in merges ?",
          "I am not sure if this functionality should be a<br>private method in the Index class. Let me know<br>what you think ?",
          "This already exists with the `verify_integrity`<br>param. `pd.concat([df1, df2], axis=1,<br>verify_integrity=True)` raises with `ValueError:<br>Indexes have overlapping values: Index(['a', 'b'],<br>dtype='object')`",
          "But isn't it good if the columns are updated by<br>themselves and not just raise an error",
          "Or that it should be fixed with another parameter<br>directly ?",
          "Seems `join` is more suitable in this case, or<br>you can `DataFrame.add_suffix` before `concat`.",
          "/preview",
          "pre-commit.ci autofix"
         ],
         "hovertemplate": "\n            <b>Time</b>: %{x}<br>\n            <b>Toxicity Score</b>: %{y}<br>\n            <b>Comment</b>: %{customdata}\n            <extra></extra>\n            ",
         "marker": {
          "cmax": 5,
          "cmin": 1,
          "color": [
           1,
           1,
           1,
           1,
           1,
           1,
           1,
           1,
           1,
           1,
           1,
           1,
           1,
           1,
           1,
           1,
           1,
           1,
           1,
           1,
           1,
           1,
           1,
           1,
           2,
           2,
           1,
           1,
           1,
           1,
           1,
           1,
           1,
           1,
           1,
           1,
           1,
           1,
           2,
           1,
           1,
           1,
           1,
           1,
           1,
           1,
           1,
           1,
           1,
           1,
           1,
           1,
           1,
           1,
           1,
           1,
           1,
           1,
           1,
           1,
           1,
           1,
           1,
           4,
           1,
           3,
           4,
           1,
           1,
           1,
           1,
           1,
           1,
           1,
           2,
           1,
           1,
           1
          ],
          "colorbar": {
           "title": {
            "text": "Toxicity Score"
           }
          },
          "colorscale": [
           [
            0,
            "green"
           ],
           [
            1,
            "red"
           ]
          ],
          "size": 10
         },
         "mode": "markers",
         "type": "scatter",
         "x": [
          "2024-12-01T13:05:40Z",
          "2024-12-01T13:08:37Z",
          "2024-12-01T14:47:25Z",
          "2024-12-01T19:04:06Z",
          "2024-12-01T19:14:37Z",
          "2024-12-01T21:50:56Z",
          "2024-12-01T21:52:14Z",
          "2024-12-01T21:58:35Z",
          "2024-12-02T08:45:41Z",
          "2024-12-02T16:16:23Z",
          "2024-12-02T18:36:55Z",
          "2024-12-02T19:16:22Z",
          "2024-12-03T04:49:04Z",
          "2024-12-03T08:36:32Z",
          "2024-12-03T13:00:24Z",
          "2024-12-03T13:12:51Z",
          "2024-12-03T13:13:43Z",
          "2024-12-03T13:41:53Z",
          "2024-12-03T14:13:12Z",
          "2024-12-03T14:14:46Z",
          "2024-12-03T14:50:57Z",
          "2024-12-03T14:56:23Z",
          "2024-12-03T14:58:48Z",
          "2024-12-03T15:01:02Z",
          "2024-12-03T15:02:49Z",
          "2024-12-03T15:03:31Z",
          "2024-12-03T15:20:58Z",
          "2024-12-03T15:38:05Z",
          "2024-12-03T15:45:33Z",
          "2024-12-03T16:31:33Z",
          "2024-12-03T20:48:34Z",
          "2024-12-03T20:50:25Z",
          "2024-12-03T20:51:46Z",
          "2024-12-04T01:51:07Z",
          "2024-12-04T01:51:49Z",
          "2024-12-04T15:42:41Z",
          "2024-12-05T08:10:41Z",
          "2024-12-05T11:30:08Z",
          "2024-12-05T12:14:23Z",
          "2024-12-05T17:59:10Z",
          "2024-12-05T18:14:26Z",
          "2024-12-05T18:24:49Z",
          "2024-12-05T20:12:39Z",
          "2024-12-05T21:31:18Z",
          "2024-12-05T21:47:36Z",
          "2024-12-06T08:22:46Z",
          "2024-12-06T08:48:43Z",
          "2024-12-06T09:11:30Z",
          "2024-12-06T10:22:24Z",
          "2024-12-06T10:32:25Z",
          "2024-12-06T11:01:19Z",
          "2024-12-06T11:30:45Z",
          "2024-12-06T12:18:30Z",
          "2024-12-06T14:10:51Z",
          "2024-12-06T19:05:16Z",
          "2024-12-06T20:50:20Z",
          "2024-12-06T20:51:53Z",
          "2024-12-06T22:19:33Z",
          "2024-12-06T22:19:37Z",
          "2024-12-06T22:22:13Z",
          "2024-12-06T22:23:29Z",
          "2024-12-07T06:39:29Z",
          "2024-12-07T07:58:37Z",
          "2024-12-07T08:46:25Z",
          "2024-12-07T09:08:03Z",
          "2024-12-07T09:52:56Z",
          "2024-12-07T10:18:17Z",
          "2024-12-07T11:36:52Z",
          "2024-12-07T12:45:51Z",
          "2024-12-07T12:48:47Z",
          "2024-12-07T15:15:37Z",
          "2024-12-07T16:11:39Z",
          "2024-12-07T16:33:03Z",
          "2024-12-07T17:10:35Z",
          "2024-12-07T17:43:53Z",
          "2024-12-08T03:26:32Z",
          "2024-12-08T04:25:51Z",
          "2024-12-08T05:58:34Z"
         ],
         "y": [
          1,
          1,
          1,
          1,
          1,
          1,
          1,
          1,
          1,
          1,
          1,
          1,
          1,
          1,
          1,
          1,
          1,
          1,
          1,
          1,
          1,
          1,
          1,
          1,
          2,
          2,
          1,
          1,
          1,
          1,
          1,
          1,
          1,
          1,
          1,
          1,
          1,
          1,
          2,
          1,
          1,
          1,
          1,
          1,
          1,
          1,
          1,
          1,
          1,
          1,
          1,
          1,
          1,
          1,
          1,
          1,
          1,
          1,
          1,
          1,
          1,
          1,
          1,
          4,
          1,
          3,
          4,
          1,
          1,
          1,
          1,
          1,
          1,
          1,
          2,
          1,
          1,
          1
         ]
        }
       ],
       "layout": {
        "height": 300,
        "hoverlabel": {
         "align": "left",
         "bgcolor": "white",
         "font": {
          "size": 12
         }
        },
        "showlegend": false,
        "template": {
         "data": {
          "bar": [
           {
            "error_x": {
             "color": "#2a3f5f"
            },
            "error_y": {
             "color": "#2a3f5f"
            },
            "marker": {
             "line": {
              "color": "#E5ECF6",
              "width": 0.5
             },
             "pattern": {
              "fillmode": "overlay",
              "size": 10,
              "solidity": 0.2
             }
            },
            "type": "bar"
           }
          ],
          "barpolar": [
           {
            "marker": {
             "line": {
              "color": "#E5ECF6",
              "width": 0.5
             },
             "pattern": {
              "fillmode": "overlay",
              "size": 10,
              "solidity": 0.2
             }
            },
            "type": "barpolar"
           }
          ],
          "carpet": [
           {
            "aaxis": {
             "endlinecolor": "#2a3f5f",
             "gridcolor": "white",
             "linecolor": "white",
             "minorgridcolor": "white",
             "startlinecolor": "#2a3f5f"
            },
            "baxis": {
             "endlinecolor": "#2a3f5f",
             "gridcolor": "white",
             "linecolor": "white",
             "minorgridcolor": "white",
             "startlinecolor": "#2a3f5f"
            },
            "type": "carpet"
           }
          ],
          "choropleth": [
           {
            "colorbar": {
             "outlinewidth": 0,
             "ticks": ""
            },
            "type": "choropleth"
           }
          ],
          "contour": [
           {
            "colorbar": {
             "outlinewidth": 0,
             "ticks": ""
            },
            "colorscale": [
             [
              0,
              "#0d0887"
             ],
             [
              0.1111111111111111,
              "#46039f"
             ],
             [
              0.2222222222222222,
              "#7201a8"
             ],
             [
              0.3333333333333333,
              "#9c179e"
             ],
             [
              0.4444444444444444,
              "#bd3786"
             ],
             [
              0.5555555555555556,
              "#d8576b"
             ],
             [
              0.6666666666666666,
              "#ed7953"
             ],
             [
              0.7777777777777778,
              "#fb9f3a"
             ],
             [
              0.8888888888888888,
              "#fdca26"
             ],
             [
              1,
              "#f0f921"
             ]
            ],
            "type": "contour"
           }
          ],
          "contourcarpet": [
           {
            "colorbar": {
             "outlinewidth": 0,
             "ticks": ""
            },
            "type": "contourcarpet"
           }
          ],
          "heatmap": [
           {
            "colorbar": {
             "outlinewidth": 0,
             "ticks": ""
            },
            "colorscale": [
             [
              0,
              "#0d0887"
             ],
             [
              0.1111111111111111,
              "#46039f"
             ],
             [
              0.2222222222222222,
              "#7201a8"
             ],
             [
              0.3333333333333333,
              "#9c179e"
             ],
             [
              0.4444444444444444,
              "#bd3786"
             ],
             [
              0.5555555555555556,
              "#d8576b"
             ],
             [
              0.6666666666666666,
              "#ed7953"
             ],
             [
              0.7777777777777778,
              "#fb9f3a"
             ],
             [
              0.8888888888888888,
              "#fdca26"
             ],
             [
              1,
              "#f0f921"
             ]
            ],
            "type": "heatmap"
           }
          ],
          "heatmapgl": [
           {
            "colorbar": {
             "outlinewidth": 0,
             "ticks": ""
            },
            "colorscale": [
             [
              0,
              "#0d0887"
             ],
             [
              0.1111111111111111,
              "#46039f"
             ],
             [
              0.2222222222222222,
              "#7201a8"
             ],
             [
              0.3333333333333333,
              "#9c179e"
             ],
             [
              0.4444444444444444,
              "#bd3786"
             ],
             [
              0.5555555555555556,
              "#d8576b"
             ],
             [
              0.6666666666666666,
              "#ed7953"
             ],
             [
              0.7777777777777778,
              "#fb9f3a"
             ],
             [
              0.8888888888888888,
              "#fdca26"
             ],
             [
              1,
              "#f0f921"
             ]
            ],
            "type": "heatmapgl"
           }
          ],
          "histogram": [
           {
            "marker": {
             "pattern": {
              "fillmode": "overlay",
              "size": 10,
              "solidity": 0.2
             }
            },
            "type": "histogram"
           }
          ],
          "histogram2d": [
           {
            "colorbar": {
             "outlinewidth": 0,
             "ticks": ""
            },
            "colorscale": [
             [
              0,
              "#0d0887"
             ],
             [
              0.1111111111111111,
              "#46039f"
             ],
             [
              0.2222222222222222,
              "#7201a8"
             ],
             [
              0.3333333333333333,
              "#9c179e"
             ],
             [
              0.4444444444444444,
              "#bd3786"
             ],
             [
              0.5555555555555556,
              "#d8576b"
             ],
             [
              0.6666666666666666,
              "#ed7953"
             ],
             [
              0.7777777777777778,
              "#fb9f3a"
             ],
             [
              0.8888888888888888,
              "#fdca26"
             ],
             [
              1,
              "#f0f921"
             ]
            ],
            "type": "histogram2d"
           }
          ],
          "histogram2dcontour": [
           {
            "colorbar": {
             "outlinewidth": 0,
             "ticks": ""
            },
            "colorscale": [
             [
              0,
              "#0d0887"
             ],
             [
              0.1111111111111111,
              "#46039f"
             ],
             [
              0.2222222222222222,
              "#7201a8"
             ],
             [
              0.3333333333333333,
              "#9c179e"
             ],
             [
              0.4444444444444444,
              "#bd3786"
             ],
             [
              0.5555555555555556,
              "#d8576b"
             ],
             [
              0.6666666666666666,
              "#ed7953"
             ],
             [
              0.7777777777777778,
              "#fb9f3a"
             ],
             [
              0.8888888888888888,
              "#fdca26"
             ],
             [
              1,
              "#f0f921"
             ]
            ],
            "type": "histogram2dcontour"
           }
          ],
          "mesh3d": [
           {
            "colorbar": {
             "outlinewidth": 0,
             "ticks": ""
            },
            "type": "mesh3d"
           }
          ],
          "parcoords": [
           {
            "line": {
             "colorbar": {
              "outlinewidth": 0,
              "ticks": ""
             }
            },
            "type": "parcoords"
           }
          ],
          "pie": [
           {
            "automargin": true,
            "type": "pie"
           }
          ],
          "scatter": [
           {
            "fillpattern": {
             "fillmode": "overlay",
             "size": 10,
             "solidity": 0.2
            },
            "type": "scatter"
           }
          ],
          "scatter3d": [
           {
            "line": {
             "colorbar": {
              "outlinewidth": 0,
              "ticks": ""
             }
            },
            "marker": {
             "colorbar": {
              "outlinewidth": 0,
              "ticks": ""
             }
            },
            "type": "scatter3d"
           }
          ],
          "scattercarpet": [
           {
            "marker": {
             "colorbar": {
              "outlinewidth": 0,
              "ticks": ""
             }
            },
            "type": "scattercarpet"
           }
          ],
          "scattergeo": [
           {
            "marker": {
             "colorbar": {
              "outlinewidth": 0,
              "ticks": ""
             }
            },
            "type": "scattergeo"
           }
          ],
          "scattergl": [
           {
            "marker": {
             "colorbar": {
              "outlinewidth": 0,
              "ticks": ""
             }
            },
            "type": "scattergl"
           }
          ],
          "scattermapbox": [
           {
            "marker": {
             "colorbar": {
              "outlinewidth": 0,
              "ticks": ""
             }
            },
            "type": "scattermapbox"
           }
          ],
          "scatterpolar": [
           {
            "marker": {
             "colorbar": {
              "outlinewidth": 0,
              "ticks": ""
             }
            },
            "type": "scatterpolar"
           }
          ],
          "scatterpolargl": [
           {
            "marker": {
             "colorbar": {
              "outlinewidth": 0,
              "ticks": ""
             }
            },
            "type": "scatterpolargl"
           }
          ],
          "scatterternary": [
           {
            "marker": {
             "colorbar": {
              "outlinewidth": 0,
              "ticks": ""
             }
            },
            "type": "scatterternary"
           }
          ],
          "surface": [
           {
            "colorbar": {
             "outlinewidth": 0,
             "ticks": ""
            },
            "colorscale": [
             [
              0,
              "#0d0887"
             ],
             [
              0.1111111111111111,
              "#46039f"
             ],
             [
              0.2222222222222222,
              "#7201a8"
             ],
             [
              0.3333333333333333,
              "#9c179e"
             ],
             [
              0.4444444444444444,
              "#bd3786"
             ],
             [
              0.5555555555555556,
              "#d8576b"
             ],
             [
              0.6666666666666666,
              "#ed7953"
             ],
             [
              0.7777777777777778,
              "#fb9f3a"
             ],
             [
              0.8888888888888888,
              "#fdca26"
             ],
             [
              1,
              "#f0f921"
             ]
            ],
            "type": "surface"
           }
          ],
          "table": [
           {
            "cells": {
             "fill": {
              "color": "#EBF0F8"
             },
             "line": {
              "color": "white"
             }
            },
            "header": {
             "fill": {
              "color": "#C8D4E3"
             },
             "line": {
              "color": "white"
             }
            },
            "type": "table"
           }
          ]
         },
         "layout": {
          "annotationdefaults": {
           "arrowcolor": "#2a3f5f",
           "arrowhead": 0,
           "arrowwidth": 1
          },
          "autotypenumbers": "strict",
          "coloraxis": {
           "colorbar": {
            "outlinewidth": 0,
            "ticks": ""
           }
          },
          "colorscale": {
           "diverging": [
            [
             0,
             "#8e0152"
            ],
            [
             0.1,
             "#c51b7d"
            ],
            [
             0.2,
             "#de77ae"
            ],
            [
             0.3,
             "#f1b6da"
            ],
            [
             0.4,
             "#fde0ef"
            ],
            [
             0.5,
             "#f7f7f7"
            ],
            [
             0.6,
             "#e6f5d0"
            ],
            [
             0.7,
             "#b8e186"
            ],
            [
             0.8,
             "#7fbc41"
            ],
            [
             0.9,
             "#4d9221"
            ],
            [
             1,
             "#276419"
            ]
           ],
           "sequential": [
            [
             0,
             "#0d0887"
            ],
            [
             0.1111111111111111,
             "#46039f"
            ],
            [
             0.2222222222222222,
             "#7201a8"
            ],
            [
             0.3333333333333333,
             "#9c179e"
            ],
            [
             0.4444444444444444,
             "#bd3786"
            ],
            [
             0.5555555555555556,
             "#d8576b"
            ],
            [
             0.6666666666666666,
             "#ed7953"
            ],
            [
             0.7777777777777778,
             "#fb9f3a"
            ],
            [
             0.8888888888888888,
             "#fdca26"
            ],
            [
             1,
             "#f0f921"
            ]
           ],
           "sequentialminus": [
            [
             0,
             "#0d0887"
            ],
            [
             0.1111111111111111,
             "#46039f"
            ],
            [
             0.2222222222222222,
             "#7201a8"
            ],
            [
             0.3333333333333333,
             "#9c179e"
            ],
            [
             0.4444444444444444,
             "#bd3786"
            ],
            [
             0.5555555555555556,
             "#d8576b"
            ],
            [
             0.6666666666666666,
             "#ed7953"
            ],
            [
             0.7777777777777778,
             "#fb9f3a"
            ],
            [
             0.8888888888888888,
             "#fdca26"
            ],
            [
             1,
             "#f0f921"
            ]
           ]
          },
          "colorway": [
           "#636efa",
           "#EF553B",
           "#00cc96",
           "#ab63fa",
           "#FFA15A",
           "#19d3f3",
           "#FF6692",
           "#B6E880",
           "#FF97FF",
           "#FECB52"
          ],
          "font": {
           "color": "#2a3f5f"
          },
          "geo": {
           "bgcolor": "white",
           "lakecolor": "white",
           "landcolor": "#E5ECF6",
           "showlakes": true,
           "showland": true,
           "subunitcolor": "white"
          },
          "hoverlabel": {
           "align": "left"
          },
          "hovermode": "closest",
          "mapbox": {
           "style": "light"
          },
          "paper_bgcolor": "white",
          "plot_bgcolor": "#E5ECF6",
          "polar": {
           "angularaxis": {
            "gridcolor": "white",
            "linecolor": "white",
            "ticks": ""
           },
           "bgcolor": "#E5ECF6",
           "radialaxis": {
            "gridcolor": "white",
            "linecolor": "white",
            "ticks": ""
           }
          },
          "scene": {
           "xaxis": {
            "backgroundcolor": "#E5ECF6",
            "gridcolor": "white",
            "gridwidth": 2,
            "linecolor": "white",
            "showbackground": true,
            "ticks": "",
            "zerolinecolor": "white"
           },
           "yaxis": {
            "backgroundcolor": "#E5ECF6",
            "gridcolor": "white",
            "gridwidth": 2,
            "linecolor": "white",
            "showbackground": true,
            "ticks": "",
            "zerolinecolor": "white"
           },
           "zaxis": {
            "backgroundcolor": "#E5ECF6",
            "gridcolor": "white",
            "gridwidth": 2,
            "linecolor": "white",
            "showbackground": true,
            "ticks": "",
            "zerolinecolor": "white"
           }
          },
          "shapedefaults": {
           "line": {
            "color": "#2a3f5f"
           }
          },
          "ternary": {
           "aaxis": {
            "gridcolor": "white",
            "linecolor": "white",
            "ticks": ""
           },
           "baxis": {
            "gridcolor": "white",
            "linecolor": "white",
            "ticks": ""
           },
           "bgcolor": "#E5ECF6",
           "caxis": {
            "gridcolor": "white",
            "linecolor": "white",
            "ticks": ""
           }
          },
          "title": {
           "x": 0.05
          },
          "xaxis": {
           "automargin": true,
           "gridcolor": "white",
           "linecolor": "white",
           "ticks": "",
           "title": {
            "standoff": 15
           },
           "zerolinecolor": "white",
           "zerolinewidth": 2
          },
          "yaxis": {
           "automargin": true,
           "gridcolor": "white",
           "linecolor": "white",
           "ticks": "",
           "title": {
            "standoff": 15
           },
           "zerolinecolor": "white",
           "zerolinewidth": 2
          }
         }
        },
        "title": {
         "text": "Raw Toxicity Scores"
        },
        "width": 1500,
        "xaxis": {
         "title": {
          "text": "Time"
         }
        },
        "yaxis": {
         "title": {
          "text": "Toxicity Score"
         }
        }
       }
      }
     },
     "metadata": {},
     "output_type": "display_data"
    }
   ],
   "source": [
    "def wrap_text(text, width=50):\n",
    "    \"\"\"Wrap text to specified width by inserting <br> tags.\n",
    "    \n",
    "    Args:\n",
    "        text (str): Text to wrap\n",
    "        width (int): Maximum width of each line\n",
    "    \n",
    "    Returns:\n",
    "        str: Text with <br> tags inserted for line breaks\n",
    "    \"\"\"\n",
    "    words = text.split()\n",
    "    lines = []\n",
    "    current_line = []\n",
    "    current_length = 0\n",
    "    \n",
    "    for word in words:\n",
    "        if current_length + len(word) + 1 <= width:\n",
    "            current_line.append(word)\n",
    "            current_length += len(word) + 1\n",
    "        else:\n",
    "            lines.append(' '.join(current_line))\n",
    "            current_line = [word]\n",
    "            current_length = len(word)\n",
    "    \n",
    "    if current_line:\n",
    "        lines.append(' '.join(current_line))\n",
    "    \n",
    "    return '<br>'.join(lines)\n",
    "\n",
    "def create_toxicity_scatter_plot(df, comment_column='comment_details', score_column='toxicity_llm_score'):\n",
    "    \"\"\"Create an interactive scatter plot of toxicity scores.\n",
    "    \n",
    "    Args:\n",
    "        df (pd.DataFrame): DataFrame containing the toxicity data\n",
    "        comment_column (str): Name of column containing comment text\n",
    "        score_column (str): Name of column containing toxicity scores\n",
    "    \n",
    "    Returns:\n",
    "        go.Figure: Plotly figure object\n",
    "    \"\"\"\n",
    "    wrapped_comments = [wrap_text(str(text)) for text in df[comment_column]]\n",
    "    \n",
    "    fig = go.Figure()\n",
    "    fig.add_trace(\n",
    "        go.Scatter(\n",
    "            x=df['datetime'],\n",
    "            y=df[score_column],\n",
    "            mode='markers',\n",
    "            marker=dict(\n",
    "                size=10,\n",
    "                color=df[score_column],\n",
    "                colorscale=[[0, 'green'], [1, 'red']],\n",
    "                colorbar=dict(title='Toxicity Score'),\n",
    "                cmin=1,\n",
    "                cmax=5\n",
    "            ),\n",
    "            hovertemplate=\"\"\"\n",
    "            <b>Time</b>: %{x}<br>\n",
    "            <b>Toxicity Score</b>: %{y}<br>\n",
    "            <b>Comment</b>: %{customdata}\n",
    "            <extra></extra>\n",
    "            \"\"\",\n",
    "            customdata=wrapped_comments\n",
    "        )\n",
    "    )\n",
    "    \n",
    "    fig.update_layout(\n",
    "        title='Raw Toxicity Scores',\n",
    "        xaxis_title='Time',\n",
    "        yaxis_title='Toxicity Score',\n",
    "        height=300,\n",
    "        width=1500,\n",
    "        showlegend=False,\n",
    "        hoverlabel=dict(\n",
    "            bgcolor='white',\n",
    "            font_size=12,\n",
    "            align='left'\n",
    "        )\n",
    "    )\n",
    "    \n",
    "    return fig\n",
    "\n",
    "# Create and display the plot\n",
    "fig = create_toxicity_scatter_plot(comments_df_llm)\n",
    "fig.show()"
   ]
  },
  {
   "attachments": {
    "image.png": {
     "image/png": "[encoded data removed]"
    }
   },
   "cell_type": "markdown",
   "metadata": {},
   "source": [
    "\n",
    "![image.png](attachment:image.png)\n",
    "\n",
    "This looks much better. In this sample, there are indeed a few toxic ones. \n"
   ]
  },
  {
   "cell_type": "code",
   "execution_count": null,
   "metadata": {},
   "outputs": [],
   "source": []
  }
 ],
 "metadata": {
  "kernelspec": {
   "display_name": ".venv",
   "language": "python",
   "name": "python3"
  },
  "language_info": {
   "codemirror_mode": {
    "name": "ipython",
    "version": 3
   },
   "file_extension": ".py",
   "mimetype": "text/x-python",
   "name": "python",
   "nbconvert_exporter": "python",
   "pygments_lexer": "ipython3",
   "version": "3.12.8"
  }
 },
 "nbformat": 4,
 "nbformat_minor": 2
}
